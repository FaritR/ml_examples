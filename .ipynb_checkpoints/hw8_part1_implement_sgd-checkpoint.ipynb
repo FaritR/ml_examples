{
 "cells": [
  {
   "cell_type": "markdown",
   "metadata": {},
   "source": [
    "<center>\n",
    "<img src=\"../../img/ods_stickers.jpg\">\n",
    "## Открытый курс по машинному обучению\n",
    "</center>\n",
    "<center>Автор материала: программист-исследователь Mail.ru Group, старший преподаватель <br>Факультета Компьютерных Наук ВШЭ Юрий Кашницкий"
   ]
  },
  {
   "cell_type": "markdown",
   "metadata": {},
   "source": [
    "# <center> Домашнее задание № 8. Часть 1\n",
    "## <center> Реализация алгоритмов онлайн-обучения"
   ]
  },
  {
   "cell_type": "markdown",
   "metadata": {},
   "source": [
    "В первой части задания вам предлагается реализовать два алгоритма – регрессор и классификатор, обучаемые стохастическим градиентным спуском (Stochastic Gradient Descent, SGD). [Веб-форма](https://goo.gl/forms/z8zENbMiaEAeB7nG3) для ответов."
   ]
  },
  {
   "cell_type": "markdown",
   "metadata": {},
   "source": [
    "## План 1 части домашнего задания\n",
    "    1.1. Линейная регрессия и SGD\n",
    "    1.2. Логистическая регрессия и SGD\n",
    "    1.3. Логистическая регрессия и SGDClassifier в задаче классификации отзывов к фильмам"
   ]
  },
  {
   "cell_type": "markdown",
   "metadata": {},
   "source": [
    "В [статье](https://habrahabr.ru/company/ods/blog/326418/) было описано, как таким образом обучать регрессор, т.е. минимизировать квадратичную функцию потерь. Реализуем этот алгоритм."
   ]
  },
  {
   "cell_type": "markdown",
   "metadata": {},
   "source": [
    "Вначале проверим версии библиотек с помощью расширения [watermark](https://github.com/rasbt/watermark). Заодно и Vowpal Wabbit, который понадобится во 2 части задания – версия должна быть последняя на момент написания, 8.3.2."
   ]
  },
  {
   "cell_type": "code",
   "execution_count": 1,
   "metadata": {
    "collapsed": true
   },
   "outputs": [],
   "source": [
    "#pip install watermark\n",
    "%load_ext watermark"
   ]
  },
  {
   "cell_type": "code",
   "execution_count": 2,
   "metadata": {},
   "outputs": [
    {
     "name": "stdout",
     "output_type": "stream",
     "text": [
      "CPython 3.5.2\n",
      "IPython 5.1.0\n",
      "\n",
      "numpy 1.12.1\n",
      "scipy 0.19.0\n",
      "pandas 0.19.2\n",
      "matplotlib 2.0.0\n",
      "sklearn 0.18.1\n",
      "\n",
      "compiler   : GCC 5.4.0 20160609\n",
      "system     : Linux\n",
      "release    : 4.4.0-75-generic\n",
      "machine    : x86_64\n",
      "processor  : x86_64\n",
      "CPU cores  : 4\n",
      "interpreter: 64bit\n"
     ]
    }
   ],
   "source": [
    "%watermark -v -m -p numpy,scipy,pandas,matplotlib,sklearn\n"
   ]
  },
  {
   "cell_type": "code",
   "execution_count": 3,
   "metadata": {},
   "outputs": [
    {
     "name": "stdout",
     "output_type": "stream",
     "text": [
      "8.3.2\r\n"
     ]
    }
   ],
   "source": [
    "!vw --version"
   ]
  },
  {
   "cell_type": "markdown",
   "metadata": {},
   "source": [
    "##  1.1. Линейная регрессия и SGD"
   ]
  },
  {
   "cell_type": "code",
   "execution_count": 4,
   "metadata": {
    "collapsed": true
   },
   "outputs": [],
   "source": [
    "import numpy as np\n",
    "import pandas as pd\n",
    "from tqdm import tqdm\n",
    "from sklearn.base import BaseEstimator\n",
    "from sklearn.metrics import mean_squared_error, log_loss, roc_auc_score\n",
    "from sklearn.model_selection import train_test_split\n",
    "%matplotlib inline\n",
    "from matplotlib import pyplot as plt\n",
    "import seaborn as sns\n",
    "from sklearn.preprocessing import StandardScaler"
   ]
  },
  {
   "cell_type": "markdown",
   "metadata": {},
   "source": [
    "Реализуйте класс `OnlineRegressor`. Спецификация:\n",
    "- класс наследуется от `sklearn.base.BaseEstimator`\n",
    "- конструктор принимает параметры `eta` – шаг градиентного спуска (по умолчанию $10^{-3}$) и `n_iter` – число проходов по выборке (по умолчанию 10)\n",
    "- также в конструкторе должны создаваться списки `mse_` и `weights_` для отслеживания значений среднеквадратичной ошибки и вектора весов по итерациям градиентного спуска\n",
    "- Класс имеет методы `fit` и `predict`\n",
    "- Метод `fit` принимает матрицу `X` и вектор `y` (объекты `numpy.array`), добавляет к матрице `X` слева столбец из единиц, инициализирует вектор весов `w` **нулями** и в цикле с числом итераций `n_iter` обновляет веса (см. [статью](https://habrahabr.ru/company/ods/blog/326418/)), а также записывает получившиеся на данной итерации значения среднеквадратичной ошибки (именно MSE, SE слишком большими будут) и вектор весов `w` в предназначенные для этого списки. \n",
    "- В конце метод `fit` создает переменную `w_`, в которой хранится тот вектор весов, при котором ошибка минимальна\n",
    "- Метод `fit` должен возвращать текущий экземпляр класса `OnlineRegressor`, т.е. `self`\n",
    "- Метод `predict` принимает матрицу `X`, добавляет к ней слева столбец из единиц и возвращает вектор прогнозов модели, используя созданный методом `fit` вектор весов `w_`."
   ]
  },
  {
   "cell_type": "code",
   "execution_count": 35,
   "metadata": {},
   "outputs": [],
   "source": [
    "class OnlineRegressor(BaseEstimator):\n",
    "    \n",
    "    def __init__(self, eta=0.001, n_iter=10):\n",
    "        self.eta = eta\n",
    "        self.n_iter = n_iter\n",
    "        self.mse_ = []\n",
    "        self.weights = []\n",
    "        \n",
    "    def fit(self, X_train, y_train):\n",
    "        a = np.ones((X_train.shape[0],1))\n",
    "        X_train = np.concatenate((a, X_train), axis=1)\n",
    "        w = np.zeros(X_train.shape[1])\n",
    "        for t in range(self.n_iter):\n",
    "            for i in range(X_train.shape[0]):\n",
    "                w += self.eta * (y_train[i] - sum(w * X_train[i])) * X_train[i]\n",
    "                if (t>0) | (i>0):\n",
    "                    self.weights = np.append(self.weights, np.array(w))\n",
    "                else:\n",
    "                    self.weights = [np.array(w)]\n",
    "                self.mse_.append(mean_squared_error(y_train, np.cumsum((w*X_train), axis=1)[:,X_train.shape[1]-1]))\n",
    "        low_mse_index = self.mse_.index(min(self.mse_))\n",
    "        self.w_ = [self.weights[low_mse_index*X_train.shape[1]+i] for i in range(X_train.shape[1])]\n",
    "        return self\n",
    "        \n",
    "    def predict(self, X_test):\n",
    "        a = np.ones((X_test.shape[0],1))\n",
    "        X_test = np.concatenate((a, X_test), axis=1)\n",
    "        return np.cumsum((self.w_*X_test), axis=1)[:,X_test.shape[1]-1]"
   ]
  },
  {
   "cell_type": "code",
   "execution_count": 33,
   "metadata": {},
   "outputs": [
    {
     "name": "stdout",
     "output_type": "stream",
     "text": [
      "[0.5, 0.5, 0.48524999999999996, 0.47574500999999997, 0.4759292437025, 0.47634168788447173, 0.46276049486049886, 0.45389493926649471, 0.45422317731968942, 0.45496528017060195, 0.44244516517226146, 0.43416588821203783, 0.43460417676848351, 0.4356054731668339, 0.42404953114392718, 0.41630828652285623, 0.41682808313428121, 0.41802877958007434, 0.40734977369717629, 0.40010273291798337]\n",
      "[ 0.          0.          0.          0.          0.          0.          0.01\n",
      "  0.          0.01        0.0199      0.          0.01        0.019701\n",
      " -0.000199    0.01        0.01940598 -0.00049402  0.00970498  0.02911487\n",
      " -0.00049402  0.01941387  0.03882372 -0.00049402  0.01941387  0.03844042\n",
      " -0.00087732  0.01941387  0.03787065 -0.00144709  0.0188441   0.04730351\n",
      " -0.00144709  0.02827695  0.05683047 -0.00144709  0.02827695  0.05627664\n",
      " -0.00200092  0.02827695  0.05545111 -0.00282645  0.02745143  0.06462209\n",
      " -0.00282645  0.0366224   0.07397587 -0.00282645  0.0366224   0.07326437\n",
      " -0.00353794  0.0366224   0.07220088 -0.00460143  0.03555891  0.08112329\n",
      " -0.00460143  0.04448131  0.09031205 -0.00460143  0.04448131]\n",
      "19\n"
     ]
    },
    {
     "data": {
      "text/plain": [
       "array([ 0.08110919,  0.11255271])"
      ]
     },
     "execution_count": 33,
     "metadata": {},
     "output_type": "execute_result"
    },
    {
     "data": {
      "image/png": "[encoded data removed]",
      "text/plain": [
       "<matplotlib.figure.Figure at 0x7f302d844048>"
      ]
     },
     "metadata": {},
     "output_type": "display_data"
    }
   ],
   "source": [
    "test = OnlineRegressor(0.01, 5)\n",
    "test.weights\n",
    "test.fit(X_train, y_train)\n",
    "test.weights, test.w_\n",
    "plt.plot(test.mse_)\n",
    "test.predict(X_test)"
   ]
  },
  {
   "cell_type": "code",
   "execution_count": 7,
   "metadata": {},
   "outputs": [
    {
     "name": "stdout",
     "output_type": "stream",
     "text": [
      "[[ 1.  0.]\n",
      " [ 1.  1.]\n",
      " [ 0.  1.]\n",
      " [ 0.  0.]]\n",
      "[ 0.  0.]\n"
     ]
    },
    {
     "data": {
      "text/plain": [
       "array([ 1.,  0.])"
      ]
     },
     "execution_count": 7,
     "metadata": {},
     "output_type": "execute_result"
    }
   ],
   "source": [
    "X_train = np.array([[1., 0.], [1., 1.], [0., 1.], [0., 0.]])\n",
    "X_test = np.array([[2, 0], [0., 0.5]])\n",
    "y_train = np.array([0, 0, 1, 1])\n",
    "print(X_train)\n",
    "w = np.zeros(X_train.shape[1])\n",
    "print(w)\n",
    "mse_ = np.array([])\n",
    "mse_\n",
    "a = np.ones((X_train.shape[0],1))\n",
    "#X_train = np.concatenate((a, X_train), 1)\n",
    "w[0] += 1\n",
    "w"
   ]
  },
  {
   "cell_type": "markdown",
   "metadata": {},
   "source": [
    "Проверим работу алгоритма на данных по росту и весу. Будем прогнозировать рост (в дюймах) по весу (в фунтах)."
   ]
  },
  {
   "cell_type": "code",
   "execution_count": 34,
   "metadata": {
    "collapsed": true
   },
   "outputs": [],
   "source": [
    "data_demo = pd.read_csv('weights_heights.csv')"
   ]
  },
  {
   "cell_type": "code",
   "execution_count": 36,
   "metadata": {},
   "outputs": [
    {
     "data": {
      "image/png": "[encoded data removed]",
      "text/plain": [
       "<matplotlib.figure.Figure at 0x7f302d844668>"
      ]
     },
     "metadata": {},
     "output_type": "display_data"
    }
   ],
   "source": [
    "plt.scatter(data_demo['Weight'], data_demo['Height']);\n",
    "plt.xlabel('Вес (фунты)')\n",
    "plt.ylabel('Рост (дюймы)');"
   ]
  },
  {
   "cell_type": "code",
   "execution_count": 37,
   "metadata": {
    "collapsed": true
   },
   "outputs": [],
   "source": [
    "X, y = data_demo['Weight'].values, data_demo['Height'].values"
   ]
  },
  {
   "cell_type": "markdown",
   "metadata": {},
   "source": [
    "Выделим 70% под обучение, 30% – под проверку и масштабируем выборку."
   ]
  },
  {
   "cell_type": "code",
   "execution_count": 38,
   "metadata": {
    "collapsed": true
   },
   "outputs": [],
   "source": [
    "X_train, X_valid, y_train, y_valid = train_test_split(X, y,\n",
    "                                                     test_size=0.3,\n",
    "                                                     random_state=17)"
   ]
  },
  {
   "cell_type": "code",
   "execution_count": 39,
   "metadata": {
    "collapsed": true
   },
   "outputs": [],
   "source": [
    "scaler = StandardScaler()\n",
    "X_train_scaled = scaler.fit_transform(X_train.reshape([X_train.shape[0], 1]))\n",
    "X_valid_scaled = scaler.transform(X_valid.reshape([X_valid.shape[0], 1]))"
   ]
  },
  {
   "cell_type": "markdown",
   "metadata": {},
   "source": [
    "Обучите созданный вами `OnlineRegressor` на выборке `(X_train_scaled, y_train)`. Параметры оставьте по умолчанию."
   ]
  },
  {
   "cell_type": "code",
   "execution_count": 40,
   "metadata": {},
   "outputs": [
    {
     "data": {
      "text/plain": [
       "OnlineRegressor(eta=0.001, n_iter=10)"
      ]
     },
     "execution_count": 40,
     "metadata": {},
     "output_type": "execute_result"
    }
   ],
   "source": [
    "clf = OnlineRegressor()\n",
    "clf.fit(X_train_scaled, y_train)"
   ]
  },
  {
   "cell_type": "markdown",
   "metadata": {},
   "source": [
    "Изобразите на графике процесс обучения – как среднеквадратичная ошибка зависит от номера итерации стохастического градиентного спуска."
   ]
  },
  {
   "cell_type": "code",
   "execution_count": 41,
   "metadata": {},
   "outputs": [
    {
     "data": {
      "text/plain": [
       "[<matplotlib.lines.Line2D at 0x7f302b256320>]"
      ]
     },
     "execution_count": 41,
     "metadata": {},
     "output_type": "execute_result"
    },
    {
     "data": {
      "image/png": "[encoded data removed]",
      "text/plain": [
       "<matplotlib.figure.Figure at 0x7f302b712630>"
      ]
     },
     "metadata": {},
     "output_type": "display_data"
    }
   ],
   "source": [
    "plt.plot(clf.mse_[:2000])"
   ]
  },
  {
   "cell_type": "markdown",
   "metadata": {},
   "source": [
    "Выведите наименьшее значение среднеквадратичной ошибки и лучший вектор весов модели."
   ]
  },
  {
   "cell_type": "code",
   "execution_count": 42,
   "metadata": {},
   "outputs": [
    {
     "name": "stdout",
     "output_type": "stream",
     "text": [
      "2.71513524066\n",
      "12626\n",
      "67.9898496959 0.944476053405\n"
     ]
    }
   ],
   "source": [
    "print(min(clf.mse_))\n",
    "print(clf.mse_.index(min(clf.mse_)))\n",
    "print(clf.weights[12626*2], clf.weights[12626*2+1])"
   ]
  },
  {
   "cell_type": "markdown",
   "metadata": {},
   "source": [
    "Постройте график того, как менялись значения весов модели ($w_0$ и $w_1$) по мере обучения."
   ]
  },
  {
   "cell_type": "code",
   "execution_count": 43,
   "metadata": {},
   "outputs": [
    {
     "data": {
      "text/plain": [
       "[<matplotlib.lines.Line2D at 0x7f302a9e5710>]"
      ]
     },
     "execution_count": 43,
     "metadata": {},
     "output_type": "execute_result"
    },
    {
     "data": {
      "image/png": "[encoded data removed]",
      "text/plain": [
       "<matplotlib.figure.Figure at 0x7f302b2a8400>"
      ]
     },
     "metadata": {},
     "output_type": "display_data"
    }
   ],
   "source": [
    "w0 = [clf.weights[i] for i in range(len(clf.weights)) if i % 2 == 0]\n",
    "w1 = [clf.weights[i] for i in range(len(clf.weights)) if i % 2 == 1]\n",
    "plt.plot(w0[:2000])"
   ]
  },
  {
   "cell_type": "code",
   "execution_count": 44,
   "metadata": {},
   "outputs": [
    {
     "data": {
      "text/plain": [
       "[<matplotlib.lines.Line2D at 0x7f302a955cc0>]"
      ]
     },
     "execution_count": 44,
     "metadata": {},
     "output_type": "execute_result"
    },
    {
     "data": {
      "image/png": "[encoded data removed]",
      "text/plain": [
       "<matplotlib.figure.Figure at 0x7f302b264198>"
      ]
     },
     "metadata": {},
     "output_type": "display_data"
    }
   ],
   "source": [
    "plt.plot(w1[:2000])"
   ]
  },
  {
   "cell_type": "markdown",
   "metadata": {},
   "source": [
    "Сделайте прогноз для отложенной выборки `(X_valid_scaled, y_valid)` и посмотрите на MSE."
   ]
  },
  {
   "cell_type": "code",
   "execution_count": 45,
   "metadata": {},
   "outputs": [
    {
     "data": {
      "text/plain": [
       "2.6708681207033784"
      ]
     },
     "execution_count": 45,
     "metadata": {},
     "output_type": "execute_result"
    }
   ],
   "source": [
    "pred = clf.predict(X_valid_scaled)\n",
    "mean_squared_error(y_valid, pred)"
   ]
  },
  {
   "cell_type": "markdown",
   "metadata": {},
   "source": [
    "Теперь следайте то же самое, но с `LinearRegression` из `sklearn.linear_model`. Посчитайте MSE для отложенной выборки."
   ]
  },
  {
   "cell_type": "code",
   "execution_count": 137,
   "metadata": {},
   "outputs": [
    {
     "data": {
      "text/plain": [
       "LinearRegression(copy_X=True, fit_intercept=True, n_jobs=1, normalize=False)"
      ]
     },
     "execution_count": 137,
     "metadata": {},
     "output_type": "execute_result"
    }
   ],
   "source": [
    "from sklearn.linear_model import LinearRegression\n",
    "lr = LinearRegression()\n",
    "lr.fit(X_train_scaled, y_train)"
   ]
  },
  {
   "cell_type": "code",
   "execution_count": 138,
   "metadata": {},
   "outputs": [
    {
     "data": {
      "text/plain": [
       "2.6708307676676339"
      ]
     },
     "execution_count": 138,
     "metadata": {},
     "output_type": "execute_result"
    }
   ],
   "source": [
    "pred = lr.predict(X_valid_scaled)\n",
    "mean_squared_error(y_valid, pred)"
   ]
  },
  {
   "cell_type": "markdown",
   "metadata": {
    "collapsed": true
   },
   "source": [
    "<font color='red'>Вопрос 1.</font> В каком знаке после разделителя отличаются MSE линейной регрессии и `OnlineRegressor` для отложенной выборки?\n",
    " - 2\n",
    " - 3\n",
    " - 4\n",
    " - 5"
   ]
  },
  {
   "cell_type": "markdown",
   "metadata": {},
   "source": [
    "## 1.2. Логистическая регрессия и SGD\n",
    "Теперь давайте разберемся, как при таком же стохастическом подходе обучать логистическую регрессию."
   ]
  },
  {
   "cell_type": "markdown",
   "metadata": {},
   "source": [
    "Задача классификации, $X$ – обучающая выборка размеров $\\ell \\times (d+1)$ (первый столбец – вектор из единиц), $y$ – вектор ответов, $y_i \\in \\{-1, 1\\}$.\n",
    "В [4 статье](https://habrahabr.ru/company/ods/blog/323890/) серии мы подробно разбирали, как логистическая регрессия с $L_2$-регуляризацией сводится к задаче минимизации:\n",
    "$$ C\\sum_{i=1}^\\ell \\log{(1 + e^{-y_iw^Tx_i})} + \\frac{1}{2}\\sum_{j=1}^d w_j^2 \\rightarrow min_w$$"
   ]
  },
  {
   "cell_type": "markdown",
   "metadata": {},
   "source": [
    "<font color='red'>Вопрос 2.</font> По какой формуле будут пересчитываться веса логистической регрессии при обучении стохастическим градиентным спуском?\n",
    " - $w_j^{(t+1)} = w_j^{(t)} + \\eta (Cy_i x_{ij} \\sigma(y_iw^Tx_i) +  \\delta_{j\\neq0} w_j)$\n",
    " - $w_j^{(t+1)} = w_j^{(t)} - \\eta (Cy_i x_{ij} \\sigma(-y_iw^Tx_i) +  \\delta_{j\\neq0}w_j)$\n",
    " - $w_j^{(t+1)} = w_j^{(t)} - \\eta (Cy_i x_{ij} \\sigma(y_iw^Tx_i) -  \\delta_{j\\neq0}w_j )$\n",
    " - $w_j^{(t+1)} = w_j^{(t)} + \\eta (Cy_i x_{ij} \\sigma(-y_iw^Tx_i) -  \\delta_{j\\neq0}w_j)$\n",
    " \n",
    "Здесь \n",
    "- $i \\in {0,\\ldots, \\ell-1}, j \\in {0,\\ldots, d}$\n",
    "- C – коэффициент регуляризации\n",
    "- $x_{ij} $ – элемент матрицы X в строке $i$ и столбце $j$ (нумерация с 0), \n",
    "- $x_i$ – $i$-ая строка матрицы $X$ (нумерация с 0), \n",
    "- $w_j^{(t)}$ – значение $j$-ого элемента вектора весов $w$ на шаге $t$ стохастического градиентного спуска\n",
    "- $\\eta$ – небольшая константа, шаг градиентного спуска\n",
    "- $\\delta_{j\\neq0}$ – символ Кронекера, то есть 1, когда $j\\neq0$ и $0$ – в противном случае"
   ]
  },
  {
   "cell_type": "markdown",
   "metadata": {},
   "source": [
    "возьмём производную и выкинем сумму. Получится --+ Но нам нужен шаг в сторону антиградиента +-- =>4"
   ]
  },
  {
   "cell_type": "markdown",
   "metadata": {},
   "source": [
    "Реализуйте класс `OnlineClassifier`. Спецификация:\n",
    "- класс наследуется от `sklearn.base.BaseEstimator`\n",
    "- конструктор принимает параметры `eta` – шаг градиентного спуска (по умолчанию $10^{-3}$), `n_iter` – число проходов по выборке (по умолчанию 10) и C – коэффициент регуляризации\n",
    "- также в конструкторе должны создаваться списки `loss_` и `weights_` для отслеживания значений логистических потерь и вектора весов по итерациям градиентного спуска\n",
    "- Класс имеет методы `fit`, `predict` и `predict_proba`\n",
    "- Метод `fit` принимает матрицу `X` и вектор `y` (объекты `numpy.array`, рассматриваем только случай бинарной классификации, и значения в векторе `y` могут быть -1 и 1), добавляет к матрице `X` слева столбец из единиц, инициализирует вектор весов `w` **нулями** и в цикле с числом итераций `n_iter` обновляет веса по выведенной вами формуле, а также записывает получившиеся на данной итерации значения log_loss и вектор весов `w` в предназначенные для этого списки. \n",
    "- В конце метод `fit` создает переменную `w_`, в которой хранится тот вектор весов, при котором ошибка минимальна\n",
    "- Метод `fit` должен возвращать текущий экземпляр класса `OnlineClassifier`, т.е. `self`\n",
    "- Метод `predict_proba` принимает матрицу `X`, добавляет к ней слева столбец из единиц и возвращает матрицу прогнозов модели (такую же, какую возвращают методы `predict_proba` моделей `sklearn`), используя созданный методом `fit` вектор весов `w_`\n",
    "- Метод `predict` вызывает метод  `predict_proba` и возвращает вектор ответов: -1, если предсказанная вероятность класса 1 меньше 0.5 и 1 – в противном случае\n",
    "- И еще **важный момент**: во избежание вычислительных проблем из-за слишком больших или малых значений под экспонентной (overflow & underflow) используйте написанную функцию `sigma`"
   ]
  },
  {
   "cell_type": "code",
   "execution_count": 7,
   "metadata": {
    "collapsed": true
   },
   "outputs": [],
   "source": [
    "def sigma(z):\n",
    "    z = z.flatten()\n",
    "    z[z > 100] = 100\n",
    "    z[z < -100] = -100\n",
    "    return 1. / (1 + np.exp(-z))"
   ]
  },
  {
   "cell_type": "code",
   "execution_count": 8,
   "metadata": {},
   "outputs": [],
   "source": [
    "class OnlineClassifier(BaseEstimator):\n",
    "    \n",
    "    def __init__(self, C, eta=0.001, n_iter=10):\n",
    "        self.eta = eta\n",
    "        self.n_iter = n_iter\n",
    "        self.loss_ = []\n",
    "        self.weights = []\n",
    "        self.C = C\n",
    "        \n",
    "    def fit(self, X_train, y_train):\n",
    "        a = np.ones((X_train.shape[0],1))\n",
    "        X_train = np.concatenate((a, X_train), axis=1)\n",
    "        w = np.zeros(X_train.shape[1])\n",
    "        for t in range(self.n_iter):\n",
    "            for i in range(X_train.shape[0]):\n",
    "                w_kroneker = [val if idx != 0 else 0 for idx,val in enumerate(w)]\n",
    "                w += self.eta * (self.C * y_train[i] * X_train[i] * float(sigma(-y_train[i]*np.dot(w,X_train[i]))) - w_kroneker)\n",
    "                if (t>0) | (i>0):\n",
    "                    self.weights = np.append(self.weights, np.array(w))\n",
    "                else:\n",
    "                    self.weights = [[w]]\n",
    "                res1 = []\n",
    "                for j in range(X_train.shape[0]):\n",
    "                    res1.append(float(sigma(np.dot(w.T,X_train[j]))))\n",
    "                self.loss_.append(log_loss(y_train,res1))\n",
    "        low_loss_index = self.loss_.index(min(self.loss_))\n",
    "        print(low_loss_index, X_train.shape[1], len(self.weights))\n",
    "        self.w_ = np.array([self.weights[X_train.shape[1]*low_loss_index+i] for i in range(X_train.shape[1])])\n",
    "        return self\n",
    "        \n",
    "    def predict(self, X_test):\n",
    "        prob = self.predict_proba(X_test)\n",
    "        res = []\n",
    "        for i in range(len(prob)):\n",
    "            if prob[i]>= 0.5:\n",
    "                res.append(1)\n",
    "            else:\n",
    "                res.append(-1)\n",
    "        return res\n",
    "        \n",
    "                                 \n",
    "    def predict_proba(self, X_test):\n",
    "        a = np.ones((X_test.shape[0], 1))\n",
    "        X_test = np.concatenate((a, X_test), axis=1)\n",
    "        res1 = []\n",
    "        for j in range(X_test.shape[0]):\n",
    "            res1.append(float(sigma(np.dot(np.array(self.w_),X_test[j]))))\n",
    "        return res1"
   ]
  },
  {
   "cell_type": "code",
   "execution_count": 9,
   "metadata": {},
   "outputs": [
    {
     "name": "stdout",
     "output_type": "stream",
     "text": [
      "16 3 120\n",
      "[ -5.75206787   9.81885873  10.69758197]\n",
      "[0.7390087855654772]\n"
     ]
    },
    {
     "data": {
      "text/plain": [
       "array([  5.00045398e+00,   4.95045398e+00,   4.53978687e-04,\n",
       "         5.00045398e+00,   4.95045398e+00,   4.53978687e-04,\n",
       "         5.06732215e+00,   4.90094944e+00,   6.73176137e-02,\n",
       "        -4.87007951e+00,   4.85193994e+00,   6.66444375e-02,\n",
       "         1.75268160e-01,   9.84876821e+00,   6.59779931e-02,\n",
       "         1.75683061e-01,   9.75069543e+00,   6.57331141e-02,\n",
       "         4.57505692e+00,   9.65318848e+00,   4.46444965e+00,\n",
       "        -5.32293719e+00,   9.55665659e+00,   4.41980515e+00,\n",
       "        -5.18002553e+00,   9.60400169e+00,   4.37560710e+00,\n",
       "        -5.17851780e+00,   9.50946941e+00,   4.33335876e+00,\n",
       "         1.81698876e+00,   9.41437471e+00,   1.12855317e+01,\n",
       "        -6.78505534e+00,   9.32023097e+00,   1.11726764e+01,\n",
       "        -6.05076799e+00,   9.96131600e+00,   1.10609496e+01,\n",
       "        -6.05076485e+00,   9.86170599e+00,   1.09503433e+01,\n",
       "        -5.97681850e+00,   9.76308893e+00,   1.09147862e+01,\n",
       "        -6.00212315e+00,   9.66545804e+00,   1.08056384e+01,\n",
       "        -5.75206787e+00,   9.81885873e+00,   1.06975820e+01,\n",
       "        -5.75206400e+00,   9.72067402e+00,   1.05906100e+01,\n",
       "        -5.67350052e+00,   9.62346728e+00,   1.05632674e+01,\n",
       "        -5.70774104e+00,   9.52723261e+00,   1.04576347e+01,\n",
       "        -5.49306136e+00,   9.64663996e+00,   1.03530584e+01,\n",
       "        -5.49305635e+00,   9.55017857e+00,   1.02495328e+01,\n",
       "        -5.40783050e+00,   9.45467678e+00,   1.02322633e+01,\n",
       "        -5.45244409e+00,   9.36013002e+00,   1.01299407e+01,\n",
       "        -5.25553019e+00,   9.46344262e+00,   1.00286413e+01,\n",
       "        -5.25552363e+00,   9.36881476e+00,   9.92836144e+00,\n",
       "        -5.16293186e+00,   9.27512661e+00,   9.92166960e+00,\n",
       "        -5.21985488e+00,   9.18237534e+00,   9.82245290e+00,\n",
       "        -5.03325189e+00,   9.27715458e+00,   9.72422837e+00,\n",
       "        -5.03324331e+00,   9.18439162e+00,   9.62699467e+00,\n",
       "        -4.93310774e+00,   9.09254770e+00,   9.63086030e+00,\n",
       "        -5.00463326e+00,   9.00162223e+00,   9.53455169e+00,\n",
       "        -4.82423856e+00,   9.09200071e+00,   9.43920618e+00,\n",
       "        -4.82422741e+00,   9.00109185e+00,   9.34482526e+00,\n",
       "        -4.71657380e+00,   8.91108093e+00,   9.35903062e+00,\n",
       "        -4.80523839e+00,   8.82197012e+00,   9.26544032e+00,\n",
       "        -4.62830785e+00,   8.91068095e+00,   9.17278591e+00,\n",
       "        -4.62829351e+00,   8.82158848e+00,   9.08107239e+00,\n",
       "        -4.51317264e+00,   8.73337260e+00,   9.10538254e+00,\n",
       "        -4.62161988e+00,   8.64603887e+00,   9.01432871e+00])"
      ]
     },
     "execution_count": 9,
     "metadata": {},
     "output_type": "execute_result"
    },
    {
     "data": {
      "image/png": "[encoded data removed]",
      "text/plain": [
       "<matplotlib.figure.Figure at 0x7fd1d383c898>"
      ]
     },
     "metadata": {},
     "output_type": "display_data"
    }
   ],
   "source": [
    "X = np.array([[1., 0.], [1., 1.], [0., 1.], [0., 0.]])\n",
    "y = np.array([1, 1, 1, -1])\n",
    "clf = OnlineClassifier(C=1000, n_iter=10, eta = 0.01)\n",
    "clf.fit(X, y)\n",
    "plt.plot(clf.loss_)\n",
    "print(clf.w_)\n",
    "x1 = np.array([[0.331095, 0.331095]])\n",
    "print(clf.predict_proba(x1))\n",
    "clf.weights"
   ]
  },
  {
   "cell_type": "markdown",
   "metadata": {},
   "source": [
    "Проверим `OnlineClassifier` на данных UCI по раку молочной железы."
   ]
  },
  {
   "cell_type": "code",
   "execution_count": 10,
   "metadata": {
    "collapsed": true
   },
   "outputs": [],
   "source": [
    "from sklearn.datasets import load_breast_cancer"
   ]
  },
  {
   "cell_type": "code",
   "execution_count": 11,
   "metadata": {
    "collapsed": true
   },
   "outputs": [],
   "source": [
    "cancer = load_breast_cancer()\n",
    "# поменяем метки в y с 0 на -1\n",
    "X, y = cancer.data, [-1 if i == 0 else 1 for i in cancer.target]"
   ]
  },
  {
   "cell_type": "markdown",
   "metadata": {},
   "source": [
    "Выделим 70% под обучение, 30% – под проверку и масштабируем выборку."
   ]
  },
  {
   "cell_type": "code",
   "execution_count": 12,
   "metadata": {},
   "outputs": [],
   "source": [
    "X_train, X_valid, y_train, y_valid = train_test_split(X, y,\n",
    "                                                     test_size=0.3,\n",
    "                                                     random_state=17)"
   ]
  },
  {
   "cell_type": "code",
   "execution_count": 13,
   "metadata": {
    "collapsed": true
   },
   "outputs": [],
   "source": [
    "scaler = StandardScaler()\n",
    "X_train_scaled = scaler.fit_transform(X_train)\n",
    "X_valid_scaled = scaler.transform(X_valid)"
   ]
  },
  {
   "cell_type": "markdown",
   "metadata": {},
   "source": [
    "Обучите на масштибированной выборке `OnlineClassifier` с параметрами `C`=1, `eta`=$10^{-3}$ и `n_iter`=3."
   ]
  },
  {
   "cell_type": "code",
   "execution_count": 14,
   "metadata": {},
   "outputs": [
    {
     "name": "stdout",
     "output_type": "stream",
     "text": [
      "1193 31 37014\n"
     ]
    },
    {
     "data": {
      "text/plain": [
       "OnlineClassifier(C=1, eta=0.001, n_iter=3)"
      ]
     },
     "execution_count": 14,
     "metadata": {},
     "output_type": "execute_result"
    }
   ],
   "source": [
    "clf = OnlineClassifier(C=1, n_iter=3)\n",
    "clf.fit(X_train_scaled, y_train)"
   ]
  },
  {
   "cell_type": "markdown",
   "metadata": {},
   "source": [
    "Постройте график изменения log_loss."
   ]
  },
  {
   "cell_type": "code",
   "execution_count": 15,
   "metadata": {},
   "outputs": [
    {
     "data": {
      "text/plain": [
       "[<matplotlib.lines.Line2D at 0x7fd193c89dd8>]"
      ]
     },
     "execution_count": 15,
     "metadata": {},
     "output_type": "execute_result"
    },
    {
     "data": {
      "image/png": "[encoded data removed]",
      "text/plain": [
       "<matplotlib.figure.Figure at 0x7fd196ab2ef0>"
      ]
     },
     "metadata": {},
     "output_type": "display_data"
    }
   ],
   "source": [
    "plt.plot(clf.loss_)"
   ]
  },
  {
   "cell_type": "markdown",
   "metadata": {},
   "source": [
    "Теперь обучите `OnlineClassifier` с параметром `C`=1000, число проходов по выборке увеличьте до 10."
   ]
  },
  {
   "cell_type": "code",
   "execution_count": 16,
   "metadata": {},
   "outputs": [
    {
     "name": "stdout",
     "output_type": "stream",
     "text": [
      "3946 31 123380\n"
     ]
    },
    {
     "data": {
      "text/plain": [
       "OnlineClassifier(C=1000, eta=0.001, n_iter=10)"
      ]
     },
     "execution_count": 16,
     "metadata": {},
     "output_type": "execute_result"
    }
   ],
   "source": [
    "long_clf = OnlineClassifier(C=1000, n_iter=10)\n",
    "long_clf.fit(X_train_scaled, y_train)"
   ]
  },
  {
   "cell_type": "code",
   "execution_count": 17,
   "metadata": {},
   "outputs": [
    {
     "data": {
      "text/plain": [
       "0.048786010364350596"
      ]
     },
     "execution_count": 17,
     "metadata": {},
     "output_type": "execute_result"
    },
    {
     "data": {
      "image/png": "[encoded data removed]",
      "text/plain": [
       "<matplotlib.figure.Figure at 0x7fd193c2c128>"
      ]
     },
     "metadata": {},
     "output_type": "display_data"
    }
   ],
   "source": [
    "plt.plot(long_clf.loss_)\n",
    "min(long_clf.loss_)"
   ]
  },
  {
   "cell_type": "markdown",
   "metadata": {},
   "source": [
    "Посмотрите на веса модели, при которых ошибка на обучении была минимальна."
   ]
  },
  {
   "cell_type": "markdown",
   "metadata": {},
   "source": [
    "<font color='red'>Вопрос 3.</font> Какой признак сильнее остальных влияет на вероятность того, что опухоль доброкачественна, согласно обученной модели `OnlineClassifier`? (будьте внимательны – проверьте длину вектора весов, полученного после обучения, сравните с числом признаков в исходной задаче)\n",
    " - worst compactness\n",
    " - worst smoothness\n",
    " - worst concavity\n",
    " - concave points error\n",
    " - concavity error\n",
    " - compactness error\n",
    " - worst fractal dimension"
   ]
  },
  {
   "cell_type": "code",
   "execution_count": 18,
   "metadata": {},
   "outputs": [
    {
     "name": "stdout",
     "output_type": "stream",
     "text": [
      "['mean radius' 'mean texture' 'mean perimeter' 'mean area'\n",
      " 'mean smoothness' 'mean compactness' 'mean concavity'\n",
      " 'mean concave points' 'mean symmetry' 'mean fractal dimension'\n",
      " 'radius error' 'texture error' 'perimeter error' 'area error'\n",
      " 'smoothness error' 'compactness error' 'concavity error'\n",
      " 'concave points error' 'symmetry error' 'fractal dimension error'\n",
      " 'worst radius' 'worst texture' 'worst perimeter' 'worst area'\n",
      " 'worst smoothness' 'worst compactness' 'worst concavity'\n",
      " 'worst concave points' 'worst symmetry' 'worst fractal dimension']\n"
     ]
    },
    {
     "data": {
      "text/plain": [
       "array([ 3.09122261, -1.6575532 , -3.41387355, -1.40982226, -1.66493135,\n",
       "       -0.17720257,  1.97826991, -3.56690964, -3.54327573,  0.4185013 ,\n",
       "        2.86034954, -4.5318188 ,  2.7917743 , -2.57528861, -3.15458401,\n",
       "        0.60303196,  4.53505884,  0.29303788,  0.07966677, -0.52020555,\n",
       "        4.6606677 , -2.92418606, -4.05156371, -1.63955219, -2.51138523,\n",
       "       -1.8587154 , -0.72097361, -5.10734277, -1.97909982, -1.59910147,\n",
       "       -2.29297817])"
      ]
     },
     "execution_count": 18,
     "metadata": {},
     "output_type": "execute_result"
    }
   ],
   "source": [
    "print(cancer.feature_names)\n",
    "long_clf.w_"
   ]
  },
  {
   "cell_type": "markdown",
   "metadata": {},
   "source": [
    "Посчитайте log_loss и ROC AUC на отложенной выборке, проделайте все то же с `sklearn.linear_model.LogisticRegression` (параметры по умолчанию, только random_state=17) и сравните результаты."
   ]
  },
  {
   "cell_type": "code",
   "execution_count": 23,
   "metadata": {},
   "outputs": [
    {
     "name": "stdout",
     "output_type": "stream",
     "text": [
      "0.434411079396 0.105692134779\n",
      "0.976304023845 0.989269746647\n"
     ]
    }
   ],
   "source": [
    "from sklearn.linear_model import LogisticRegression\n",
    "lr = LogisticRegression(random_state = 17)\n",
    "lr.fit(X_train_scaled, y_train)\n",
    "my_pred = long_clf.predict_proba(X_valid_scaled)\n",
    "lr_pred = lr.predict_proba(X_valid_scaled)[:,1]\n",
    "print(log_loss(y_valid,my_pred), log_loss(y_valid, lr_pred))\n",
    "print(roc_auc_score(y_valid,my_pred), roc_auc_score(y_valid, lr_pred))"
   ]
  },
  {
   "cell_type": "markdown",
   "metadata": {},
   "source": [
    "## 1.3. Логистическая регрессия и SGDClassifier в задаче классификации отзывов к фильмам"
   ]
  },
  {
   "cell_type": "markdown",
   "metadata": {},
   "source": [
    "Теперь посмотрим на логистическую регрессию и ее же версию, но обучаемую стохастическим градиентным спуском, в задаче классификации отзывов IMDB. С этой задачей мы знакомы по 4 и 8 темам курса. Данные можно скачать [отсюда](https://yadi.sk/d/SBnn8s9a3GvYWP).\n",
    "\n",
    "Импортируем файлы, и обучим на имеющихся данных `CountVectorizer`"
   ]
  },
  {
   "cell_type": "code",
   "execution_count": 1,
   "metadata": {
    "collapsed": true
   },
   "outputs": [],
   "source": [
    "from sklearn.datasets import load_files\n",
    "from sklearn.feature_extraction.text import CountVectorizer\n",
    "from sklearn.linear_model import SGDClassifier"
   ]
  },
  {
   "cell_type": "code",
   "execution_count": 27,
   "metadata": {},
   "outputs": [],
   "source": [
    "# поменяйте путь к файлу\n",
    "reviews_train = load_files(\"imdb_reviews/train\")\n",
    "text_train, y_train = reviews_train.data, reviews_train.target"
   ]
  },
  {
   "cell_type": "code",
   "execution_count": 28,
   "metadata": {
    "collapsed": true
   },
   "outputs": [],
   "source": [
    "reviews_test = load_files(\"imdb_reviews/test\")\n",
    "text_test, y_test = reviews_test.data, reviews_test.target"
   ]
  },
  {
   "cell_type": "markdown",
   "metadata": {},
   "source": [
    "Обучим на имеющихся данных `CountVectorizer`, считая биграммы, то есть перейдем к разреженному представлению данных, где каждому уникальному слову и паре подряд идущих слов в обучающей выборке соответсвует признак. Всего таких признаков получается более 1.5 млн."
   ]
  },
  {
   "cell_type": "code",
   "execution_count": 29,
   "metadata": {},
   "outputs": [
    {
     "name": "stdout",
     "output_type": "stream",
     "text": [
      "CPU times: user 39.5 s, sys: 1.21 s, total: 40.7 s\n",
      "Wall time: 43.6 s\n"
     ]
    }
   ],
   "source": [
    "%%time\n",
    "cv = CountVectorizer(ngram_range=(1, 2))\n",
    "X_train = cv.fit_transform(text_train)\n",
    "X_test = cv.transform(text_test)"
   ]
  },
  {
   "cell_type": "code",
   "execution_count": 30,
   "metadata": {},
   "outputs": [
    {
     "data": {
      "text/plain": [
       "((25000, 1513832), (25000, 1513832))"
      ]
     },
     "execution_count": 30,
     "metadata": {},
     "output_type": "execute_result"
    }
   ],
   "source": [
    "X_train.shape, X_test.shape"
   ]
  },
  {
   "cell_type": "markdown",
   "metadata": {},
   "source": [
    "Обучите на выборке `(X_train, y_train)` логистическую регрессию с параметрами по умолчанию (только укажите `random_state`=17) и посчитайте ROC AUC на тестовой выборке. Замерьте время обучения модели. Данные можно не масштабировать, так как признаки – по сути, счетчики, и они уже все измеряются примерно в одном диапазоне."
   ]
  },
  {
   "cell_type": "code",
   "execution_count": 32,
   "metadata": {},
   "outputs": [
    {
     "name": "stdout",
     "output_type": "stream",
     "text": [
      "CPU times: user 1min 11s, sys: 288 ms, total: 1min 11s\n",
      "Wall time: 1min 12s\n"
     ]
    },
    {
     "data": {
      "text/plain": [
       "LogisticRegression(C=1.0, class_weight=None, dual=False, fit_intercept=True,\n",
       "          intercept_scaling=1, max_iter=100, multi_class='ovr', n_jobs=1,\n",
       "          penalty='l2', random_state=17, solver='liblinear', tol=0.0001,\n",
       "          verbose=0, warm_start=False)"
      ]
     },
     "execution_count": 32,
     "metadata": {},
     "output_type": "execute_result"
    }
   ],
   "source": [
    "%%time\n",
    "lr.fit(X_train, y_train)"
   ]
  },
  {
   "cell_type": "code",
   "execution_count": 35,
   "metadata": {},
   "outputs": [
    {
     "data": {
      "text/plain": [
       "0.95824855040000001"
      ]
     },
     "execution_count": 35,
     "metadata": {},
     "output_type": "execute_result"
    }
   ],
   "source": [
    "pred = lr.predict_proba(X_test)[:,1]\n",
    "roc_auc_score(y_test, pred)"
   ]
  },
  {
   "cell_type": "markdown",
   "metadata": {},
   "source": [
    "Теперь перейдем к онлайн-алгоритму. Мы написали свой `OnlineClassifier` и принцип его работы поняли, надо еще немного постараться, чтобы сделать его эффективным, например, сделать поддержку разреженных данных. Но мы теперь перейдем к `sklearn`-реализации SGD-алгоритма. Прочитайте документацию [SGDClassifier](http://scikit-learn.org/stable/modules/generated/sklearn.linear_model.SGDClassifier.html), сделайте выводы, чем `SGDClassifier` более продвинут, чем наша реализация онлайн-классификатора. "
   ]
  },
  {
   "cell_type": "markdown",
   "metadata": {},
   "source": [
    "<font color='red'>Вопрос 4.</font> Чем `sklearn`-реализация стохастического классификатора более продвинута, чем `OnlineClassifier`, который мы реализовали? Отметьте все подходящие варианты.\n",
    " - Изменяемый шаг градиентного спуска\n",
    " - Реализован линейный SVM\n",
    " - Реализована ранняя остановка во избежание переобучения\n",
    " - Есть распараллеливание по процессорам\n",
    " - Можно обучать LASSO\n",
    " - Поддерживается онлайн-обучение деревьев решений\n",
    " - Поддерживается mini-batch подход (обновление весов по нескольким объектом сразу, а не по одному)\n"
   ]
  },
  {
   "cell_type": "raw",
   "metadata": {},
   "source": [
    "1)да - уменьшается\n",
    "2)да\n",
    "3)да\n",
    "4)да\n",
    "5)да\n",
    "6)нет\n",
    "7)да"
   ]
  },
  {
   "cell_type": "markdown",
   "metadata": {},
   "source": [
    "Проведите 100 итераций SGD-логрегрессии (опять `random_state`=17) на той же выборке. Опять замерьте время обучения модели и обратите внимание, насколько оно меньше, чем время обучения логистической регрессии."
   ]
  },
  {
   "cell_type": "code",
   "execution_count": 36,
   "metadata": {},
   "outputs": [
    {
     "name": "stdout",
     "output_type": "stream",
     "text": [
      "CPU times: user 10.4 s, sys: 32 ms, total: 10.4 s\n",
      "Wall time: 11.4 s\n"
     ]
    }
   ],
   "source": [
    "%%time\n",
    "from sklearn.linear_model import SGDClassifier\n",
    "sgd = SGDClassifier(loss = 'log', penalty = 'l2', n_iter = 100, random_state = 17)\n",
    "sgd.fit(X_train, y_train)"
   ]
  },
  {
   "cell_type": "code",
   "execution_count": 38,
   "metadata": {},
   "outputs": [
    {
     "name": "stdout",
     "output_type": "stream",
     "text": [
      "0.9582485504\n"
     ]
    },
    {
     "data": {
      "text/plain": [
       "0.95728946560000006"
      ]
     },
     "execution_count": 38,
     "metadata": {},
     "output_type": "execute_result"
    }
   ],
   "source": [
    "pred1 = sgd.predict_proba(X_test)[:,1]\n",
    "print(roc_auc_score(y_test, pred))\n",
    "roc_auc_score(y_test, pred1)"
   ]
  },
  {
   "cell_type": "markdown",
   "metadata": {},
   "source": [
    "<font color='red'>Вопрос 5.</font> В каком знаке после разделителя отличаются ROC AUC на тестовой выборке логистической регрессии и SGD-классификатора с логистической функцией потерь?\n",
    " - 2\n",
    " - 3\n",
    " - 4\n",
    " - 5"
   ]
  }
 ],
 "metadata": {
  "kernelspec": {
   "display_name": "Python 3 (ipykernel)",
   "language": "python",
   "name": "python3"
  },
  "language_info": {
   "codemirror_mode": {
    "name": "ipython",
    "version": 3
   },
   "file_extension": ".py",
   "mimetype": "text/x-python",
   "name": "python",
   "nbconvert_exporter": "python",
   "pygments_lexer": "ipython3",
   "version": "3.9.10"
  }
 },
 "nbformat": 4,
 "nbformat_minor": 2
}
