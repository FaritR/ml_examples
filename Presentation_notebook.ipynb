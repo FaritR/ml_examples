{
 "cells": [
  {
   "cell_type": "markdown",
   "metadata": {},
   "source": [
    "<h1>Lapses example</h1>"
   ]
  },
  {
   "cell_type": "code",
   "execution_count": 21,
   "metadata": {},
   "outputs": [],
   "source": [
    "import pandas as pd\n",
    "import numpy as np\n",
    "import statsmodels.api as sm\n",
    "import seaborn\n",
    "import matplotlib.pyplot as plt\n",
    "%matplotlib inline"
   ]
  },
  {
   "cell_type": "code",
   "execution_count": 2,
   "metadata": {},
   "outputs": [],
   "source": [
    "data = pd.read_excel('data/Lapse_statistics.xlsx')"
   ]
  },
  {
   "cell_type": "code",
   "execution_count": 3,
   "metadata": {},
   "outputs": [
    {
     "data": {
      "text/html": [
       "<div>\n",
       "<style scoped>\n",
       "    .dataframe tbody tr th:only-of-type {\n",
       "        vertical-align: middle;\n",
       "    }\n",
       "\n",
       "    .dataframe tbody tr th {\n",
       "        vertical-align: top;\n",
       "    }\n",
       "\n",
       "    .dataframe thead th {\n",
       "        text-align: right;\n",
       "    }\n",
       "</style>\n",
       "<table border=\"1\" class=\"dataframe\">\n",
       "  <thead>\n",
       "    <tr style=\"text-align: right;\">\n",
       "      <th></th>\n",
       "      <th>Age</th>\n",
       "      <th>Area</th>\n",
       "      <th>Tenure</th>\n",
       "      <th>Premium_category</th>\n",
       "      <th>Lapses</th>\n",
       "    </tr>\n",
       "  </thead>\n",
       "  <tbody>\n",
       "    <tr>\n",
       "      <th>0</th>\n",
       "      <td>31</td>\n",
       "      <td>2</td>\n",
       "      <td>114</td>\n",
       "      <td>4</td>\n",
       "      <td>0</td>\n",
       "    </tr>\n",
       "    <tr>\n",
       "      <th>1</th>\n",
       "      <td>18</td>\n",
       "      <td>2</td>\n",
       "      <td>10</td>\n",
       "      <td>6</td>\n",
       "      <td>1</td>\n",
       "    </tr>\n",
       "    <tr>\n",
       "      <th>2</th>\n",
       "      <td>62</td>\n",
       "      <td>2</td>\n",
       "      <td>136</td>\n",
       "      <td>1</td>\n",
       "      <td>0</td>\n",
       "    </tr>\n",
       "    <tr>\n",
       "      <th>3</th>\n",
       "      <td>45</td>\n",
       "      <td>2</td>\n",
       "      <td>48</td>\n",
       "      <td>5</td>\n",
       "      <td>0</td>\n",
       "    </tr>\n",
       "    <tr>\n",
       "      <th>4</th>\n",
       "      <td>22</td>\n",
       "      <td>2</td>\n",
       "      <td>58</td>\n",
       "      <td>6</td>\n",
       "      <td>1</td>\n",
       "    </tr>\n",
       "  </tbody>\n",
       "</table>\n",
       "</div>"
      ],
      "text/plain": [
       "   Age  Area  Tenure  Premium_category  Lapses\n",
       "0   31     2     114                 4       0\n",
       "1   18     2      10                 6       1\n",
       "2   62     2     136                 1       0\n",
       "3   45     2      48                 5       0\n",
       "4   22     2      58                 6       1"
      ]
     },
     "execution_count": 3,
     "metadata": {},
     "output_type": "execute_result"
    }
   ],
   "source": [
    "data.head()"
   ]
  },
  {
   "cell_type": "code",
   "execution_count": 4,
   "metadata": {},
   "outputs": [
    {
     "data": {
      "text/html": [
       "<div>\n",
       "<style scoped>\n",
       "    .dataframe tbody tr th:only-of-type {\n",
       "        vertical-align: middle;\n",
       "    }\n",
       "\n",
       "    .dataframe tbody tr th {\n",
       "        vertical-align: top;\n",
       "    }\n",
       "\n",
       "    .dataframe thead th {\n",
       "        text-align: right;\n",
       "    }\n",
       "</style>\n",
       "<table border=\"1\" class=\"dataframe\">\n",
       "  <thead>\n",
       "    <tr style=\"text-align: right;\">\n",
       "      <th></th>\n",
       "      <th>Age</th>\n",
       "      <th>Area</th>\n",
       "      <th>Tenure</th>\n",
       "      <th>Premium_category</th>\n",
       "      <th>Lapses</th>\n",
       "    </tr>\n",
       "  </thead>\n",
       "  <tbody>\n",
       "    <tr>\n",
       "      <th>count</th>\n",
       "      <td>5000.000000</td>\n",
       "      <td>5000.000000</td>\n",
       "      <td>5000.000000</td>\n",
       "      <td>5000.000000</td>\n",
       "      <td>5000.000000</td>\n",
       "    </tr>\n",
       "    <tr>\n",
       "      <th>mean</th>\n",
       "      <td>43.673800</td>\n",
       "      <td>1.518000</td>\n",
       "      <td>70.710600</td>\n",
       "      <td>5.551600</td>\n",
       "      <td>0.357000</td>\n",
       "    </tr>\n",
       "    <tr>\n",
       "      <th>std</th>\n",
       "      <td>14.919394</td>\n",
       "      <td>0.523575</td>\n",
       "      <td>41.388228</td>\n",
       "      <td>2.896449</td>\n",
       "      <td>0.479163</td>\n",
       "    </tr>\n",
       "    <tr>\n",
       "      <th>min</th>\n",
       "      <td>18.000000</td>\n",
       "      <td>1.000000</td>\n",
       "      <td>0.000000</td>\n",
       "      <td>1.000000</td>\n",
       "      <td>0.000000</td>\n",
       "    </tr>\n",
       "    <tr>\n",
       "      <th>25%</th>\n",
       "      <td>31.000000</td>\n",
       "      <td>1.000000</td>\n",
       "      <td>35.000000</td>\n",
       "      <td>3.000000</td>\n",
       "      <td>0.000000</td>\n",
       "    </tr>\n",
       "    <tr>\n",
       "      <th>50%</th>\n",
       "      <td>44.000000</td>\n",
       "      <td>2.000000</td>\n",
       "      <td>70.000000</td>\n",
       "      <td>6.000000</td>\n",
       "      <td>0.000000</td>\n",
       "    </tr>\n",
       "    <tr>\n",
       "      <th>75%</th>\n",
       "      <td>56.000000</td>\n",
       "      <td>2.000000</td>\n",
       "      <td>106.000000</td>\n",
       "      <td>8.000000</td>\n",
       "      <td>1.000000</td>\n",
       "    </tr>\n",
       "    <tr>\n",
       "      <th>max</th>\n",
       "      <td>70.000000</td>\n",
       "      <td>3.000000</td>\n",
       "      <td>143.000000</td>\n",
       "      <td>10.000000</td>\n",
       "      <td>1.000000</td>\n",
       "    </tr>\n",
       "  </tbody>\n",
       "</table>\n",
       "</div>"
      ],
      "text/plain": [
       "               Age         Area       Tenure  Premium_category       Lapses\n",
       "count  5000.000000  5000.000000  5000.000000       5000.000000  5000.000000\n",
       "mean     43.673800     1.518000    70.710600          5.551600     0.357000\n",
       "std      14.919394     0.523575    41.388228          2.896449     0.479163\n",
       "min      18.000000     1.000000     0.000000          1.000000     0.000000\n",
       "25%      31.000000     1.000000    35.000000          3.000000     0.000000\n",
       "50%      44.000000     2.000000    70.000000          6.000000     0.000000\n",
       "75%      56.000000     2.000000   106.000000          8.000000     1.000000\n",
       "max      70.000000     3.000000   143.000000         10.000000     1.000000"
      ]
     },
     "execution_count": 4,
     "metadata": {},
     "output_type": "execute_result"
    }
   ],
   "source": [
    "data.describe()"
   ]
  },
  {
   "cell_type": "code",
   "execution_count": 5,
   "metadata": {},
   "outputs": [
    {
     "name": "stdout",
     "output_type": "stream",
     "text": [
      "<class 'pandas.core.frame.DataFrame'>\n",
      "RangeIndex: 5000 entries, 0 to 4999\n",
      "Data columns (total 5 columns):\n",
      "Age                 5000 non-null int64\n",
      "Area                5000 non-null int64\n",
      "Tenure              5000 non-null int64\n",
      "Premium_category    5000 non-null int64\n",
      "Lapses              5000 non-null int64\n",
      "dtypes: int64(5)\n",
      "memory usage: 195.4 KB\n"
     ]
    }
   ],
   "source": [
    "data.info()"
   ]
  },
  {
   "cell_type": "code",
   "execution_count": 6,
   "metadata": {},
   "outputs": [],
   "source": [
    "y = data.Lapses\n",
    "X = data.drop(['Lapses'], axis = 1)"
   ]
  },
  {
   "cell_type": "code",
   "execution_count": 7,
   "metadata": {},
   "outputs": [],
   "source": [
    "X.drop(['Age', 'Area'], axis = 1, inplace=True)\n",
    "X['Tenure*Category'] = X.Tenure * X.Premium_category"
   ]
  },
  {
   "cell_type": "code",
   "execution_count": 11,
   "metadata": {},
   "outputs": [
    {
     "data": {
      "text/html": [
       "<table class=\"simpletable\">\n",
       "<tr>\n",
       "        <td>Model:</td>               <td>GLM</td>            <td>AIC:</td>        <td>5819.4353</td> \n",
       "</tr>\n",
       "<tr>\n",
       "    <td>Link Function:</td>          <td>logit</td>           <td>BIC:</td>       <td>-36740.4619</td>\n",
       "</tr>\n",
       "<tr>\n",
       "  <td>Dependent Variable:</td>      <td>Lapses</td>      <td>Log-Likelihood:</td>   <td>-2905.7</td>  \n",
       "</tr>\n",
       "<tr>\n",
       "         <td>Date:</td>        <td>2019-06-24 16:56</td>    <td>LL-Null:</td>       <td>-3258.4</td>  \n",
       "</tr>\n",
       "<tr>\n",
       "   <td>No. Observations:</td>        <td>5000</td>          <td>Deviance:</td>      <td>5811.4</td>   \n",
       "</tr>\n",
       "<tr>\n",
       "       <td>Df Model:</td>              <td>3</td>         <td>Pearson chi2:</td>   <td>4.72e+03</td>  \n",
       "</tr>\n",
       "<tr>\n",
       "     <td>Df Residuals:</td>          <td>4996</td>           <td>Scale:</td>        <td>1.0000</td>   \n",
       "</tr>\n",
       "<tr>\n",
       "        <td>Method:</td>             <td>IRLS</td>              <td></td>              <td></td>      \n",
       "</tr>\n",
       "</table>\n",
       "<table class=\"simpletable\">\n",
       "<tr>\n",
       "          <td></td>          <th>Coef.</th>  <th>Std.Err.</th>     <th>z</th>     <th>P>|z|</th> <th>[0.025</th>  <th>0.975]</th> \n",
       "</tr>\n",
       "<tr>\n",
       "  <th>const</th>            <td>-0.1776</td>  <td>0.1337</td>   <td>-1.3282</td> <td>0.1841</td> <td>-0.4396</td> <td>0.0845</td> \n",
       "</tr>\n",
       "<tr>\n",
       "  <th>Tenure</th>           <td>-0.0242</td>  <td>0.0020</td>  <td>-12.3363</td> <td>0.0000</td> <td>-0.0281</td> <td>-0.0204</td>\n",
       "</tr>\n",
       "<tr>\n",
       "  <th>Premium_category</th> <td>0.1019</td>   <td>0.0209</td>   <td>4.8795</td>  <td>0.0000</td> <td>0.0610</td>  <td>0.1429</td> \n",
       "</tr>\n",
       "<tr>\n",
       "  <th>Tenure*Category</th>  <td>0.0015</td>   <td>0.0003</td>   <td>5.4036</td>  <td>0.0000</td> <td>0.0010</td>  <td>0.0021</td> \n",
       "</tr>\n",
       "</table>"
      ],
      "text/plain": [
       "<class 'statsmodels.iolib.summary2.Summary'>\n",
       "\"\"\"\n",
       "                Results: Generalized linear model\n",
       "=================================================================\n",
       "Model:               GLM              AIC:            5819.4353  \n",
       "Link Function:       logit            BIC:            -36740.4619\n",
       "Dependent Variable:  Lapses           Log-Likelihood: -2905.7    \n",
       "Date:                2019-06-24 16:56 LL-Null:        -3258.4    \n",
       "No. Observations:    5000             Deviance:       5811.4     \n",
       "Df Model:            3                Pearson chi2:   4.72e+03   \n",
       "Df Residuals:        4996             Scale:          1.0000     \n",
       "Method:              IRLS                                        \n",
       "-----------------------------------------------------------------\n",
       "                  Coef.  Std.Err.    z     P>|z|   [0.025  0.975]\n",
       "-----------------------------------------------------------------\n",
       "const            -0.1776   0.1337  -1.3282 0.1841 -0.4396  0.0845\n",
       "Tenure           -0.0242   0.0020 -12.3363 0.0000 -0.0281 -0.0204\n",
       "Premium_category  0.1019   0.0209   4.8795 0.0000  0.0610  0.1429\n",
       "Tenure*Category   0.0015   0.0003   5.4036 0.0000  0.0010  0.0021\n",
       "=================================================================\n",
       "\n",
       "\"\"\""
      ]
     },
     "execution_count": 11,
     "metadata": {},
     "output_type": "execute_result"
    }
   ],
   "source": [
    "X_sm = sm.add_constant(X)\n",
    "\n",
    "binom_model = sm.GLM(y, X_sm, family=sm.families.Binomial())\n",
    "binom_results = binom_model.fit()\n",
    "binom_results.summary2()"
   ]
  },
  {
   "cell_type": "code",
   "execution_count": 16,
   "metadata": {},
   "outputs": [],
   "source": [
    "pred =  binom_results.predict(X_sm)"
   ]
  },
  {
   "cell_type": "code",
   "execution_count": 17,
   "metadata": {},
   "outputs": [
    {
     "data": {
      "text/plain": [
       "(0    0\n",
       " 1    1\n",
       " 2    0\n",
       " 3    0\n",
       " 4    1\n",
       " 5    1\n",
       " 6    1\n",
       " 7    1\n",
       " 8    0\n",
       " 9    0\n",
       " Name: Lapses, dtype: int64, 0    0.138875\n",
       " 1    0.570694\n",
       " 2    0.040782\n",
       " 3    0.387250\n",
       " 4    0.393636\n",
       " 5    0.576489\n",
       " 6    0.380627\n",
       " 7    0.271665\n",
       " 8    0.483018\n",
       " 9    0.620542\n",
       " dtype: float64)"
      ]
     },
     "execution_count": 17,
     "metadata": {},
     "output_type": "execute_result"
    }
   ],
   "source": [
    "y[:10], pred[:10]"
   ]
  },
  {
   "cell_type": "code",
   "execution_count": 18,
   "metadata": {},
   "outputs": [
    {
     "data": {
      "text/plain": [
       "<matplotlib.axes._subplots.AxesSubplot at 0x7fe6f4a2c0f0>"
      ]
     },
     "execution_count": 18,
     "metadata": {},
     "output_type": "execute_result"
    },
    {
     "data": {
      "image/png": "[encoded data removed]",
      "text/plain": [
       "<Figure size 432x288 with 1 Axes>"
      ]
     },
     "metadata": {
      "needs_background": "light"
     },
     "output_type": "display_data"
    }
   ],
   "source": [
    "seaborn.residplot(y, pred)"
   ]
  },
  {
   "cell_type": "markdown",
   "metadata": {},
   "source": [
    "<h1>frequency</h1>"
   ]
  },
  {
   "cell_type": "code",
   "execution_count": 23,
   "metadata": {},
   "outputs": [],
   "source": [
    "data = pd.read_excel('data/Freq_statistics.xlsx')"
   ]
  },
  {
   "cell_type": "code",
   "execution_count": 24,
   "metadata": {},
   "outputs": [
    {
     "data": {
      "text/html": [
       "<div>\n",
       "<style scoped>\n",
       "    .dataframe tbody tr th:only-of-type {\n",
       "        vertical-align: middle;\n",
       "    }\n",
       "\n",
       "    .dataframe tbody tr th {\n",
       "        vertical-align: top;\n",
       "    }\n",
       "\n",
       "    .dataframe thead th {\n",
       "        text-align: right;\n",
       "    }\n",
       "</style>\n",
       "<table border=\"1\" class=\"dataframe\">\n",
       "  <thead>\n",
       "    <tr style=\"text-align: right;\">\n",
       "      <th></th>\n",
       "      <th>Age</th>\n",
       "      <th>Experience</th>\n",
       "      <th>Horse_power</th>\n",
       "      <th>Weight</th>\n",
       "      <th>Area</th>\n",
       "      <th>Exposed</th>\n",
       "      <th>Claims</th>\n",
       "    </tr>\n",
       "  </thead>\n",
       "  <tbody>\n",
       "    <tr>\n",
       "      <th>0</th>\n",
       "      <td>18</td>\n",
       "      <td>0</td>\n",
       "      <td>78</td>\n",
       "      <td>0.74</td>\n",
       "      <td>2</td>\n",
       "      <td>0.827397</td>\n",
       "      <td>1</td>\n",
       "    </tr>\n",
       "    <tr>\n",
       "      <th>1</th>\n",
       "      <td>18</td>\n",
       "      <td>0</td>\n",
       "      <td>79</td>\n",
       "      <td>0.82</td>\n",
       "      <td>2</td>\n",
       "      <td>0.594521</td>\n",
       "      <td>1</td>\n",
       "    </tr>\n",
       "    <tr>\n",
       "      <th>2</th>\n",
       "      <td>18</td>\n",
       "      <td>0</td>\n",
       "      <td>80</td>\n",
       "      <td>0.74</td>\n",
       "      <td>2</td>\n",
       "      <td>0.816438</td>\n",
       "      <td>1</td>\n",
       "    </tr>\n",
       "    <tr>\n",
       "      <th>3</th>\n",
       "      <td>18</td>\n",
       "      <td>0</td>\n",
       "      <td>80</td>\n",
       "      <td>0.83</td>\n",
       "      <td>2</td>\n",
       "      <td>0.621918</td>\n",
       "      <td>1</td>\n",
       "    </tr>\n",
       "    <tr>\n",
       "      <th>4</th>\n",
       "      <td>18</td>\n",
       "      <td>0</td>\n",
       "      <td>86</td>\n",
       "      <td>0.84</td>\n",
       "      <td>2</td>\n",
       "      <td>0.904110</td>\n",
       "      <td>1</td>\n",
       "    </tr>\n",
       "  </tbody>\n",
       "</table>\n",
       "</div>"
      ],
      "text/plain": [
       "   Age  Experience  Horse_power  Weight  Area   Exposed  Claims\n",
       "0   18           0           78    0.74     2  0.827397       1\n",
       "1   18           0           79    0.82     2  0.594521       1\n",
       "2   18           0           80    0.74     2  0.816438       1\n",
       "3   18           0           80    0.83     2  0.621918       1\n",
       "4   18           0           86    0.84     2  0.904110       1"
      ]
     },
     "execution_count": 24,
     "metadata": {},
     "output_type": "execute_result"
    }
   ],
   "source": [
    "data.head()"
   ]
  },
  {
   "cell_type": "code",
   "execution_count": 27,
   "metadata": {},
   "outputs": [
    {
     "data": {
      "text/plain": [
       "<matplotlib.axes._subplots.AxesSubplot at 0x7fe6cfb39240>"
      ]
     },
     "execution_count": 27,
     "metadata": {},
     "output_type": "execute_result"
    },
    {
     "data": {
      "image/png": "[encoded data removed]",
      "text/plain": [
       "<Figure size 432x288 with 2 Axes>"
      ]
     },
     "metadata": {
      "needs_background": "light"
     },
     "output_type": "display_data"
    }
   ],
   "source": [
    "seaborn.heatmap(data.corr())"
   ]
  },
  {
   "cell_type": "code",
   "execution_count": 28,
   "metadata": {},
   "outputs": [
    {
     "name": "stdout",
     "output_type": "stream",
     "text": [
      "<class 'pandas.core.frame.DataFrame'>\n",
      "RangeIndex: 4982 entries, 0 to 4981\n",
      "Data columns (total 7 columns):\n",
      "Age            4982 non-null int64\n",
      "Experience     4982 non-null int64\n",
      "Horse_power    4982 non-null int64\n",
      "Weight         4982 non-null float64\n",
      "Area           4982 non-null int64\n",
      "Exposed        4982 non-null float64\n",
      "Claims         4982 non-null int64\n",
      "dtypes: float64(2), int64(5)\n",
      "memory usage: 272.5 KB\n"
     ]
    }
   ],
   "source": [
    "data.info()"
   ]
  },
  {
   "cell_type": "code",
   "execution_count": 29,
   "metadata": {},
   "outputs": [],
   "source": [
    "y = data.Claims\n",
    "offset = np.log(data.Exposed)\n",
    "X = data.drop(['Claims', 'Exposed', 'Horse_power', 'Weight'], axis = 1)"
   ]
  },
  {
   "cell_type": "code",
   "execution_count": 30,
   "metadata": {},
   "outputs": [
    {
     "name": "stderr",
     "output_type": "stream",
     "text": [
      "/home/justm/anaconda3/envs/uw_env/lib/python3.7/site-packages/numpy/core/fromnumeric.py:2389: FutureWarning: Method .ptp is deprecated and will be removed in a future version. Use numpy.ptp instead.\n",
      "  return ptp(axis=axis, out=out, **kwargs)\n"
     ]
    }
   ],
   "source": [
    "X['Age*Exp'] = X.Age*X.Experience\n",
    "X['Age*Area'] = X.Age*X.Area\n",
    "X['Exp*Area'] = X.Experience*X.Area\n",
    "X['Age*Exp*Area'] = X.Age*X.Experience*X.Area\n",
    "X_sm = sm.add_constant(X)"
   ]
  },
  {
   "cell_type": "code",
   "execution_count": 31,
   "metadata": {},
   "outputs": [
    {
     "data": {
      "text/html": [
       "<table class=\"simpletable\">\n",
       "<tr>\n",
       "        <td>Model:</td>               <td>GLM</td>            <td>AIC:</td>        <td>4693.8465</td> \n",
       "</tr>\n",
       "<tr>\n",
       "    <td>Link Function:</td>           <td>log</td>            <td>BIC:</td>       <td>-40416.5809</td>\n",
       "</tr>\n",
       "<tr>\n",
       "  <td>Dependent Variable:</td>      <td>Claims</td>      <td>Log-Likelihood:</td>   <td>-2338.9</td>  \n",
       "</tr>\n",
       "<tr>\n",
       "         <td>Date:</td>        <td>2019-06-24 17:07</td>    <td>LL-Null:</td>       <td>-3286.7</td>  \n",
       "</tr>\n",
       "<tr>\n",
       "   <td>No. Observations:</td>        <td>4982</td>          <td>Deviance:</td>      <td>1930.0</td>   \n",
       "</tr>\n",
       "<tr>\n",
       "       <td>Df Model:</td>              <td>7</td>         <td>Pearson chi2:</td>   <td>1.74e+03</td>  \n",
       "</tr>\n",
       "<tr>\n",
       "     <td>Df Residuals:</td>          <td>4974</td>           <td>Scale:</td>        <td>1.0000</td>   \n",
       "</tr>\n",
       "<tr>\n",
       "        <td>Method:</td>             <td>IRLS</td>              <td></td>              <td></td>      \n",
       "</tr>\n",
       "</table>\n",
       "<table class=\"simpletable\">\n",
       "<tr>\n",
       "        <td></td>        <th>Coef.</th>  <th>Std.Err.</th>    <th>z</th>     <th>P>|z|</th> <th>[0.025</th>  <th>0.975]</th> \n",
       "</tr>\n",
       "<tr>\n",
       "  <th>const</th>        <td>-2.4278</td>  <td>0.3990</td>  <td>-6.0844</td> <td>0.0000</td> <td>-3.2099</td> <td>-1.6458</td>\n",
       "</tr>\n",
       "<tr>\n",
       "  <th>Age</th>          <td>-0.0529</td>  <td>0.0098</td>  <td>-5.4163</td> <td>0.0000</td> <td>-0.0721</td> <td>-0.0338</td>\n",
       "</tr>\n",
       "<tr>\n",
       "  <th>Experience</th>   <td>-0.7046</td>  <td>0.1068</td>  <td>-6.5993</td> <td>0.0000</td> <td>-0.9139</td> <td>-0.4954</td>\n",
       "</tr>\n",
       "<tr>\n",
       "  <th>Area</th>         <td>1.2248</td>   <td>0.1857</td>  <td>6.5943</td>  <td>0.0000</td> <td>0.8607</td>  <td>1.5888</td> \n",
       "</tr>\n",
       "<tr>\n",
       "  <th>Age*Exp</th>      <td>0.0114</td>   <td>0.0016</td>  <td>7.0524</td>  <td>0.0000</td> <td>0.0082</td>  <td>0.0146</td> \n",
       "</tr>\n",
       "<tr>\n",
       "  <th>Age*Area</th>     <td>0.0188</td>   <td>0.0046</td>  <td>4.1114</td>  <td>0.0000</td> <td>0.0098</td>  <td>0.0277</td> \n",
       "</tr>\n",
       "<tr>\n",
       "  <th>Exp*Area</th>     <td>0.2299</td>   <td>0.0490</td>  <td>4.6883</td>  <td>0.0000</td> <td>0.1338</td>  <td>0.3260</td> \n",
       "</tr>\n",
       "<tr>\n",
       "  <th>Age*Exp*Area</th> <td>-0.0038</td>  <td>0.0007</td>  <td>-5.0546</td> <td>0.0000</td> <td>-0.0052</td> <td>-0.0023</td>\n",
       "</tr>\n",
       "</table>"
      ],
      "text/plain": [
       "<class 'statsmodels.iolib.summary2.Summary'>\n",
       "\"\"\"\n",
       "               Results: Generalized linear model\n",
       "================================================================\n",
       "Model:              GLM              AIC:            4693.8465  \n",
       "Link Function:      log              BIC:            -40416.5809\n",
       "Dependent Variable: Claims           Log-Likelihood: -2338.9    \n",
       "Date:               2019-06-24 17:07 LL-Null:        -3286.7    \n",
       "No. Observations:   4982             Deviance:       1930.0     \n",
       "Df Model:           7                Pearson chi2:   1.74e+03   \n",
       "Df Residuals:       4974             Scale:          1.0000     \n",
       "Method:             IRLS                                        \n",
       "----------------------------------------------------------------\n",
       "                  Coef.  Std.Err.    z    P>|z|   [0.025  0.975]\n",
       "----------------------------------------------------------------\n",
       "const            -2.4278   0.3990 -6.0844 0.0000 -3.2099 -1.6458\n",
       "Age              -0.0529   0.0098 -5.4163 0.0000 -0.0721 -0.0338\n",
       "Experience       -0.7046   0.1068 -6.5993 0.0000 -0.9139 -0.4954\n",
       "Area              1.2248   0.1857  6.5943 0.0000  0.8607  1.5888\n",
       "Age*Exp           0.0114   0.0016  7.0524 0.0000  0.0082  0.0146\n",
       "Age*Area          0.0188   0.0046  4.1114 0.0000  0.0098  0.0277\n",
       "Exp*Area          0.2299   0.0490  4.6883 0.0000  0.1338  0.3260\n",
       "Age*Exp*Area     -0.0038   0.0007 -5.0546 0.0000 -0.0052 -0.0023\n",
       "================================================================\n",
       "\n",
       "\"\"\""
      ]
     },
     "execution_count": 31,
     "metadata": {},
     "output_type": "execute_result"
    }
   ],
   "source": [
    "model = sm.GLM(y, X_sm, family=sm.families.Poisson())\n",
    "model_results = model.fit()\n",
    "model_results.summary2()"
   ]
  },
  {
   "cell_type": "code",
   "execution_count": 34,
   "metadata": {},
   "outputs": [
    {
     "data": {
      "text/plain": [
       "(0    1\n",
       " 1    1\n",
       " 2    1\n",
       " 3    1\n",
       " 4    1\n",
       " 5    1\n",
       " 6    1\n",
       " 7    1\n",
       " 8    1\n",
       " 9    1\n",
       " Name: Claims, dtype: int64, 0    0.640984\n",
       " 1    0.460574\n",
       " 2    0.632494\n",
       " 3    0.481799\n",
       " 4    0.700413\n",
       " 5    0.331104\n",
       " 6    0.422370\n",
       " 7    0.702535\n",
       " 8    0.734372\n",
       " 9    0.759842\n",
       " dtype: float64, 0    0.774699\n",
       " 1    0.774699\n",
       " 2    0.774699\n",
       " 3    0.774699\n",
       " 4    0.774699\n",
       " 5    0.774699\n",
       " 6    0.774699\n",
       " 7    0.774699\n",
       " 8    0.774699\n",
       " 9    0.774699\n",
       " dtype: float64)"
      ]
     },
     "execution_count": 34,
     "metadata": {},
     "output_type": "execute_result"
    }
   ],
   "source": [
    "frequency = model_results.predict(X_sm)\n",
    "pred = frequency * np.exp(offset)\n",
    "y[:10], pred[:10], frequency[:10]"
   ]
  },
  {
   "cell_type": "code",
   "execution_count": 35,
   "metadata": {},
   "outputs": [
    {
     "data": {
      "text/plain": [
       "<matplotlib.axes._subplots.AxesSubplot at 0x7fe6cfb01dd8>"
      ]
     },
     "execution_count": 35,
     "metadata": {},
     "output_type": "execute_result"
    },
    {
     "data": {
      "image/png": "[encoded data removed]",
      "text/plain": [
       "<Figure size 432x288 with 1 Axes>"
      ]
     },
     "metadata": {
      "needs_background": "light"
     },
     "output_type": "display_data"
    }
   ],
   "source": [
    "seaborn.residplot(y, pred)"
   ]
  },
  {
   "cell_type": "markdown",
   "metadata": {},
   "source": [
    "<h1>Sev</h1>"
   ]
  },
  {
   "cell_type": "code",
   "execution_count": 37,
   "metadata": {},
   "outputs": [],
   "source": [
    "data = pd.read_excel('data/Sev_statistics.xlsx')"
   ]
  },
  {
   "cell_type": "code",
   "execution_count": 38,
   "metadata": {},
   "outputs": [
    {
     "data": {
      "text/html": [
       "<div>\n",
       "<style scoped>\n",
       "    .dataframe tbody tr th:only-of-type {\n",
       "        vertical-align: middle;\n",
       "    }\n",
       "\n",
       "    .dataframe tbody tr th {\n",
       "        vertical-align: top;\n",
       "    }\n",
       "\n",
       "    .dataframe thead th {\n",
       "        text-align: right;\n",
       "    }\n",
       "</style>\n",
       "<table border=\"1\" class=\"dataframe\">\n",
       "  <thead>\n",
       "    <tr style=\"text-align: right;\">\n",
       "      <th></th>\n",
       "      <th>Age</th>\n",
       "      <th>Experience</th>\n",
       "      <th>Horse_power</th>\n",
       "      <th>Weight</th>\n",
       "      <th>Area</th>\n",
       "      <th>Exposed</th>\n",
       "      <th>Claims</th>\n",
       "      <th>Cost</th>\n",
       "    </tr>\n",
       "  </thead>\n",
       "  <tbody>\n",
       "    <tr>\n",
       "      <th>0</th>\n",
       "      <td>18</td>\n",
       "      <td>0</td>\n",
       "      <td>78</td>\n",
       "      <td>0.74</td>\n",
       "      <td>2</td>\n",
       "      <td>0.827397</td>\n",
       "      <td>1</td>\n",
       "      <td>2043</td>\n",
       "    </tr>\n",
       "    <tr>\n",
       "      <th>1</th>\n",
       "      <td>18</td>\n",
       "      <td>0</td>\n",
       "      <td>79</td>\n",
       "      <td>0.82</td>\n",
       "      <td>2</td>\n",
       "      <td>0.594521</td>\n",
       "      <td>1</td>\n",
       "      <td>2162</td>\n",
       "    </tr>\n",
       "    <tr>\n",
       "      <th>2</th>\n",
       "      <td>18</td>\n",
       "      <td>0</td>\n",
       "      <td>80</td>\n",
       "      <td>0.74</td>\n",
       "      <td>2</td>\n",
       "      <td>0.816438</td>\n",
       "      <td>1</td>\n",
       "      <td>2153</td>\n",
       "    </tr>\n",
       "    <tr>\n",
       "      <th>3</th>\n",
       "      <td>18</td>\n",
       "      <td>0</td>\n",
       "      <td>80</td>\n",
       "      <td>0.83</td>\n",
       "      <td>2</td>\n",
       "      <td>0.621918</td>\n",
       "      <td>1</td>\n",
       "      <td>2209</td>\n",
       "    </tr>\n",
       "    <tr>\n",
       "      <th>4</th>\n",
       "      <td>18</td>\n",
       "      <td>0</td>\n",
       "      <td>86</td>\n",
       "      <td>0.84</td>\n",
       "      <td>2</td>\n",
       "      <td>0.904110</td>\n",
       "      <td>1</td>\n",
       "      <td>1634</td>\n",
       "    </tr>\n",
       "  </tbody>\n",
       "</table>\n",
       "</div>"
      ],
      "text/plain": [
       "   Age  Experience  Horse_power  Weight  Area   Exposed  Claims  Cost\n",
       "0   18           0           78    0.74     2  0.827397       1  2043\n",
       "1   18           0           79    0.82     2  0.594521       1  2162\n",
       "2   18           0           80    0.74     2  0.816438       1  2153\n",
       "3   18           0           80    0.83     2  0.621918       1  2209\n",
       "4   18           0           86    0.84     2  0.904110       1  1634"
      ]
     },
     "execution_count": 38,
     "metadata": {},
     "output_type": "execute_result"
    }
   ],
   "source": [
    "data.head()"
   ]
  },
  {
   "cell_type": "code",
   "execution_count": 39,
   "metadata": {},
   "outputs": [
    {
     "data": {
      "text/html": [
       "<div>\n",
       "<style scoped>\n",
       "    .dataframe tbody tr th:only-of-type {\n",
       "        vertical-align: middle;\n",
       "    }\n",
       "\n",
       "    .dataframe tbody tr th {\n",
       "        vertical-align: top;\n",
       "    }\n",
       "\n",
       "    .dataframe thead th {\n",
       "        text-align: right;\n",
       "    }\n",
       "</style>\n",
       "<table border=\"1\" class=\"dataframe\">\n",
       "  <thead>\n",
       "    <tr style=\"text-align: right;\">\n",
       "      <th></th>\n",
       "      <th>Age</th>\n",
       "      <th>Experience</th>\n",
       "      <th>Horse_power</th>\n",
       "      <th>Weight</th>\n",
       "      <th>Area</th>\n",
       "      <th>Exposed</th>\n",
       "      <th>Claims</th>\n",
       "      <th>Cost</th>\n",
       "    </tr>\n",
       "  </thead>\n",
       "  <tbody>\n",
       "    <tr>\n",
       "      <th>count</th>\n",
       "      <td>1346.000000</td>\n",
       "      <td>1346.000000</td>\n",
       "      <td>1346.000000</td>\n",
       "      <td>1346.000000</td>\n",
       "      <td>1346.000000</td>\n",
       "      <td>1346.000000</td>\n",
       "      <td>1346.000000</td>\n",
       "      <td>1346.000000</td>\n",
       "    </tr>\n",
       "    <tr>\n",
       "      <th>mean</th>\n",
       "      <td>40.823180</td>\n",
       "      <td>6.738484</td>\n",
       "      <td>151.245914</td>\n",
       "      <td>1.310208</td>\n",
       "      <td>2.045319</td>\n",
       "      <td>0.697903</td>\n",
       "      <td>1.067608</td>\n",
       "      <td>1767.109212</td>\n",
       "    </tr>\n",
       "    <tr>\n",
       "      <th>std</th>\n",
       "      <td>18.290711</td>\n",
       "      <td>9.166853</td>\n",
       "      <td>40.233571</td>\n",
       "      <td>0.327301</td>\n",
       "      <td>0.208081</td>\n",
       "      <td>0.233190</td>\n",
       "      <td>0.251165</td>\n",
       "      <td>464.660260</td>\n",
       "    </tr>\n",
       "    <tr>\n",
       "      <th>min</th>\n",
       "      <td>18.000000</td>\n",
       "      <td>0.000000</td>\n",
       "      <td>75.000000</td>\n",
       "      <td>0.610000</td>\n",
       "      <td>2.000000</td>\n",
       "      <td>0.219178</td>\n",
       "      <td>1.000000</td>\n",
       "      <td>1001.000000</td>\n",
       "    </tr>\n",
       "    <tr>\n",
       "      <th>25%</th>\n",
       "      <td>23.000000</td>\n",
       "      <td>1.000000</td>\n",
       "      <td>116.000000</td>\n",
       "      <td>1.030000</td>\n",
       "      <td>2.000000</td>\n",
       "      <td>0.493836</td>\n",
       "      <td>1.000000</td>\n",
       "      <td>1438.250000</td>\n",
       "    </tr>\n",
       "    <tr>\n",
       "      <th>50%</th>\n",
       "      <td>38.000000</td>\n",
       "      <td>3.000000</td>\n",
       "      <td>159.000000</td>\n",
       "      <td>1.380000</td>\n",
       "      <td>2.000000</td>\n",
       "      <td>0.746575</td>\n",
       "      <td>1.000000</td>\n",
       "      <td>1737.000000</td>\n",
       "    </tr>\n",
       "    <tr>\n",
       "      <th>75%</th>\n",
       "      <td>58.000000</td>\n",
       "      <td>7.000000</td>\n",
       "      <td>190.000000</td>\n",
       "      <td>1.610000</td>\n",
       "      <td>2.000000</td>\n",
       "      <td>0.904110</td>\n",
       "      <td>1.000000</td>\n",
       "      <td>1992.000000</td>\n",
       "    </tr>\n",
       "    <tr>\n",
       "      <th>max</th>\n",
       "      <td>70.000000</td>\n",
       "      <td>48.000000</td>\n",
       "      <td>199.000000</td>\n",
       "      <td>1.790000</td>\n",
       "      <td>3.000000</td>\n",
       "      <td>1.775342</td>\n",
       "      <td>2.000000</td>\n",
       "      <td>4445.000000</td>\n",
       "    </tr>\n",
       "  </tbody>\n",
       "</table>\n",
       "</div>"
      ],
      "text/plain": [
       "               Age   Experience  Horse_power       Weight         Area  \\\n",
       "count  1346.000000  1346.000000  1346.000000  1346.000000  1346.000000   \n",
       "mean     40.823180     6.738484   151.245914     1.310208     2.045319   \n",
       "std      18.290711     9.166853    40.233571     0.327301     0.208081   \n",
       "min      18.000000     0.000000    75.000000     0.610000     2.000000   \n",
       "25%      23.000000     1.000000   116.000000     1.030000     2.000000   \n",
       "50%      38.000000     3.000000   159.000000     1.380000     2.000000   \n",
       "75%      58.000000     7.000000   190.000000     1.610000     2.000000   \n",
       "max      70.000000    48.000000   199.000000     1.790000     3.000000   \n",
       "\n",
       "           Exposed       Claims         Cost  \n",
       "count  1346.000000  1346.000000  1346.000000  \n",
       "mean      0.697903     1.067608  1767.109212  \n",
       "std       0.233190     0.251165   464.660260  \n",
       "min       0.219178     1.000000  1001.000000  \n",
       "25%       0.493836     1.000000  1438.250000  \n",
       "50%       0.746575     1.000000  1737.000000  \n",
       "75%       0.904110     1.000000  1992.000000  \n",
       "max       1.775342     2.000000  4445.000000  "
      ]
     },
     "execution_count": 39,
     "metadata": {},
     "output_type": "execute_result"
    }
   ],
   "source": [
    "data.describe()"
   ]
  },
  {
   "cell_type": "code",
   "execution_count": 40,
   "metadata": {},
   "outputs": [],
   "source": [
    "y = data.Cost\n",
    "X = data.drop(['Claims', 'Cost', 'Exposed'], axis = 1)"
   ]
  },
  {
   "cell_type": "code",
   "execution_count": 41,
   "metadata": {},
   "outputs": [
    {
     "data": {
      "text/html": [
       "<table class=\"simpletable\">\n",
       "<tr>\n",
       "        <td>Model:</td>               <td>GLM</td>            <td>AIC:</td>       <td>19484.8668</td>\n",
       "</tr>\n",
       "<tr>\n",
       "    <td>Link Function:</td>           <td>log</td>            <td>BIC:</td>       <td>-9603.2308</td>\n",
       "</tr>\n",
       "<tr>\n",
       "  <td>Dependent Variable:</td>       <td>Cost</td>       <td>Log-Likelihood:</td>   <td>-9736.4</td> \n",
       "</tr>\n",
       "<tr>\n",
       "         <td>Date:</td>        <td>2019-06-24 17:12</td>    <td>LL-Null:</td>       <td>-10257.</td> \n",
       "</tr>\n",
       "<tr>\n",
       "   <td>No. Observations:</td>        <td>1346</td>          <td>Deviance:</td>      <td>51.325</td>  \n",
       "</tr>\n",
       "<tr>\n",
       "       <td>Df Model:</td>              <td>5</td>         <td>Pearson chi2:</td>     <td>48.2</td>   \n",
       "</tr>\n",
       "<tr>\n",
       "     <td>Df Residuals:</td>          <td>1340</td>           <td>Scale:</td>       <td>0.035939</td> \n",
       "</tr>\n",
       "<tr>\n",
       "        <td>Method:</td>             <td>IRLS</td>              <td></td>              <td></td>     \n",
       "</tr>\n",
       "</table>\n",
       "<table class=\"simpletable\">\n",
       "<tr>\n",
       "       <td></td>        <th>Coef.</th>  <th>Std.Err.</th>     <th>z</th>     <th>P>|z|</th> <th>[0.025</th>  <th>0.975]</th> \n",
       "</tr>\n",
       "<tr>\n",
       "  <th>const</th>       <td>8.3613</td>   <td>0.0573</td>  <td>146.0400</td> <td>0.0000</td> <td>8.2491</td>  <td>8.4735</td> \n",
       "</tr>\n",
       "<tr>\n",
       "  <th>Age</th>         <td>0.0001</td>   <td>0.0004</td>   <td>0.2991</td>  <td>0.7649</td> <td>-0.0006</td> <td>0.0008</td> \n",
       "</tr>\n",
       "<tr>\n",
       "  <th>Experience</th>  <td>-0.0010</td>  <td>0.0007</td>   <td>-1.3724</td> <td>0.1700</td> <td>-0.0025</td> <td>0.0004</td> \n",
       "</tr>\n",
       "<tr>\n",
       "  <th>Horse_power</th> <td>-0.0012</td>  <td>0.0007</td>   <td>-1.6591</td> <td>0.0971</td> <td>-0.0026</td> <td>0.0002</td> \n",
       "</tr>\n",
       "<tr>\n",
       "  <th>Weight</th>      <td>-0.2302</td>  <td>0.0889</td>   <td>-2.5893</td> <td>0.0096</td> <td>-0.4045</td> <td>-0.0560</td>\n",
       "</tr>\n",
       "<tr>\n",
       "  <th>Area</th>        <td>-0.2246</td>  <td>0.0250</td>   <td>-8.9907</td> <td>0.0000</td> <td>-0.2736</td> <td>-0.1756</td>\n",
       "</tr>\n",
       "</table>"
      ],
      "text/plain": [
       "<class 'statsmodels.iolib.summary2.Summary'>\n",
       "\"\"\"\n",
       "               Results: Generalized linear model\n",
       "===============================================================\n",
       "Model:              GLM              AIC:            19484.8668\n",
       "Link Function:      log              BIC:            -9603.2308\n",
       "Dependent Variable: Cost             Log-Likelihood: -9736.4   \n",
       "Date:               2019-06-24 17:12 LL-Null:        -10257.   \n",
       "No. Observations:   1346             Deviance:       51.325    \n",
       "Df Model:           5                Pearson chi2:   48.2      \n",
       "Df Residuals:       1340             Scale:          0.035939  \n",
       "Method:             IRLS                                       \n",
       "---------------------------------------------------------------\n",
       "                Coef.  Std.Err.    z     P>|z|   [0.025  0.975]\n",
       "---------------------------------------------------------------\n",
       "const           8.3613   0.0573 146.0400 0.0000  8.2491  8.4735\n",
       "Age             0.0001   0.0004   0.2991 0.7649 -0.0006  0.0008\n",
       "Experience     -0.0010   0.0007  -1.3724 0.1700 -0.0025  0.0004\n",
       "Horse_power    -0.0012   0.0007  -1.6591 0.0971 -0.0026  0.0002\n",
       "Weight         -0.2302   0.0889  -2.5893 0.0096 -0.4045 -0.0560\n",
       "Area           -0.2246   0.0250  -8.9907 0.0000 -0.2736 -0.1756\n",
       "===============================================================\n",
       "\n",
       "\"\"\""
      ]
     },
     "execution_count": 41,
     "metadata": {},
     "output_type": "execute_result"
    }
   ],
   "source": [
    "import statsmodels.api as sm\n",
    "offset = np.log(data.Claims.values)\n",
    "\n",
    "\n",
    "X_sm = sm.add_constant(X)\n",
    "\n",
    "binom_model = sm.GLM(y, X_sm, family=sm.families.Gamma(link=sm.genmod.families.links.log),\n",
    "                    offset = offset)\n",
    "binom_results = binom_model.fit()\n",
    "binom_results.summary2()"
   ]
  },
  {
   "cell_type": "code",
   "execution_count": 42,
   "metadata": {},
   "outputs": [
    {
     "data": {
      "text/plain": [
       "(0    2043\n",
       " 1    2162\n",
       " 2    2153\n",
       " 3    2209\n",
       " 4    1634\n",
       " 5    1766\n",
       " 6    1949\n",
       " 7    1972\n",
       " 8    2348\n",
       " 9    2141\n",
       " Name: Cost, dtype: int64, 0    2100.828305\n",
       " 1    2060.017555\n",
       " 2    2095.788492\n",
       " 3    2052.814025\n",
       " 4    2033.389230\n",
       " 5    2019.394817\n",
       " 6    2028.511200\n",
       " 7    2044.615031\n",
       " 8    2023.442896\n",
       " 9    2022.837087\n",
       " dtype: float64)"
      ]
     },
     "execution_count": 42,
     "metadata": {},
     "output_type": "execute_result"
    }
   ],
   "source": [
    "pred = binom_results.predict(X_sm)*np.exp(offset)\n",
    "y[:10], pred[:10]"
   ]
  },
  {
   "cell_type": "code",
   "execution_count": 43,
   "metadata": {},
   "outputs": [
    {
     "data": {
      "text/plain": [
       "<matplotlib.axes._subplots.AxesSubplot at 0x7fe6f45ca3c8>"
      ]
     },
     "execution_count": 43,
     "metadata": {},
     "output_type": "execute_result"
    },
    {
     "data": {
      "image/png": "[encoded data removed]",
      "text/plain": [
       "<Figure size 432x288 with 1 Axes>"
      ]
     },
     "metadata": {
      "needs_background": "light"
     },
     "output_type": "display_data"
    }
   ],
   "source": [
    "seaborn.residplot(y, pred, lowess=True)"
   ]
  },
  {
   "cell_type": "code",
   "execution_count": null,
   "metadata": {},
   "outputs": [],
   "source": []
  }
 ],
 "metadata": {
  "kernelspec": {
   "display_name": "Python 3",
   "language": "python",
   "name": "python3"
  },
  "language_info": {
   "codemirror_mode": {
    "name": "ipython",
    "version": 3
   },
   "file_extension": ".py",
   "mimetype": "text/x-python",
   "name": "python",
   "nbconvert_exporter": "python",
   "pygments_lexer": "ipython3",
   "version": "3.7.2"
  }
 },
 "nbformat": 4,
 "nbformat_minor": 2
}
