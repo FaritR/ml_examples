{
 "cells": [
  {
   "cell_type": "code",
   "execution_count": 2,
   "metadata": {
    "collapsed": true
   },
   "outputs": [
    {
     "name": "stdout",
     "output_type": "stream",
     "text": [
      "       Sex  Length  Diameter  Height  WholeWeight  ShuckedWeight  \\\nRings                                                              \n15       1   0.455     0.365   0.095       0.5140         0.2245   \n7        1   0.350     0.265   0.090       0.2255         0.0995   \n9       -1   0.530     0.420   0.135       0.6770         0.2565   \n\n       VisceraWeight  ShellWeight  \nRings                              \n15            0.1010         0.15  \n7             0.0485         0.07  \n9             0.1415         0.21  \n"
     ]
    }
   ],
   "source": [
    "import pandas as pd\n",
    "data = pd.read_csv('abalone.csv', delim_whitespace=False, index_col='Rings')\n",
    "data['Sex'] = data['Sex'].map(lambda x: 1 if x == 'M' else (-1 if x == 'F' else 0))\n",
    "print(data[:3])"
   ]
  },
  {
   "cell_type": "code",
   "execution_count": 13,
   "metadata": {},
   "outputs": [
    {
     "name": "stdout",
     "output_type": "stream",
     "text": [
      "21\n"
     ]
    }
   ],
   "source": [
    "from sklearn.ensemble import RandomForestRegressor\n",
    "from sklearn.cross_validation import KFold\n",
    "from sklearn.metrics import r2_score\n",
    "kf = KFold(n=len(data), n_folds=5, random_state=1, shuffle=True)\n",
    "for train_index, test_index in kf:\n",
    "    X_train, X_test = data.values[train_index], data.values[test_index]\n",
    "    y_train, y_test = data.index[train_index], data.index[test_index]\n",
    "good_n = 0\n",
    "ns = {}\n",
    "for n in range(1, 51):\n",
    "    clf = RandomForestRegressor(n_estimators=n, random_state=1)\n",
    "    clf.fit(X_train, y_train)\n",
    "    prediction = clf.predict(X_test)\n",
    "    score = r2_score(y_test, prediction)\n",
    "    if good_n == 0 and score > 0.52:\n",
    "        good_n = n\n",
    "    ns[n] = score\n",
    "print(good_n)"
   ]
  },
  {
   "cell_type": "code",
   "execution_count": 16,
   "metadata": {},
   "outputs": [
    {
     "name": "stdout",
     "output_type": "stream",
     "text": [
      "{1: -0.047971387730337156, 2: 0.3323981874194748, 3: 0.4025962006032141, 4: 0.44436539848711676, 5: 0.46980964819366311, 6: 0.47687299742759892, 7: 0.48822499645691098, 8: 0.4888314237123671, 9: 0.49623898491660035, 10: 0.50551525884878068, 11: 0.49519799679290954, 12: 0.49830961220061498, 13: 0.50401976412570226, 14: 0.5102993710166106, 15: 0.50733963709539853, 16: 0.50955214295447093, 17: 0.51166060639235211, 18: 0.51402654030703587, 19: 0.51750622182843009, 20: 0.51505623913781218, 21: 0.52033482132915299, 22: 0.51683154283348176, 23: 0.51823314010209232, 24: 0.52172641339231951, 25: 0.52039000010283731, 26: 0.52158845732108994, 27: 0.52612844201421194, 28: 0.5278437108991596, 29: 0.52752112454087818, 30: 0.52758198947044188, 31: 0.53022055025582615, 32: 0.53211123783535974, 33: 0.53186939803509126, 34: 0.53269684520792726, 35: 0.5323741461320155, 36: 0.53271102677003146, 37: 0.53065903470318032, 38: 0.53259032200997747, 39: 0.53205857130879264, 40: 0.5326276697292589, 41: 0.53209935538696274, 42: 0.5324906438645467, 43: 0.53178263345582555, 44: 0.53120537103332666, 45: 0.52983050366671125, 46: 0.53048833214407654, 47: 0.53205750444454014, 48: 0.53424047598235314, 49: 0.53448488872550093, 50: 0.53597819115099887}\n24\n"
     ]
    }
   ],
   "source": [
    "#однако ответ задачи вовсе не 1, по моим вычислениям получился объект,начиная\n",
    "#с которого качество на кросс валидации превосходит 0.52, а не когда в первый\n",
    "#раз оно превзошло\n",
    "print(ns)\n",
    "n = 50\n",
    "while ns[n] > 0.52:\n",
    "    n -= 1\n",
    "good_n = n + 1\n",
    "print(good_n)"
   ]
  },
  {
   "cell_type": "code",
   "execution_count": null,
   "metadata": {},
   "outputs": [],
   "source": [
    ""
   ]
  }
 ],
 "metadata": {
  "kernelspec": {
   "display_name": "Python 2",
   "language": "python",
   "name": "python2"
  },
  "language_info": {
   "codemirror_mode": {
    "name": "ipython",
    "version": 2.0
   },
   "file_extension": ".py",
   "mimetype": "text/x-python",
   "name": "python",
   "nbconvert_exporter": "python",
   "pygments_lexer": "ipython2",
   "version": "2.7.6"
  }
 },
 "nbformat": 4,
 "nbformat_minor": 0
}