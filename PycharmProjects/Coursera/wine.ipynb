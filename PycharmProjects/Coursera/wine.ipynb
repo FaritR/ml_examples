{
 "cells": [
  {
   "cell_type": "code",
   "execution_count": 10,
   "metadata": {
    "collapsed": false
   },
   "outputs": [
    {
     "name": "stdout",
     "output_type": "stream",
     "text": [
      "      1     2     3     4    5     6     7     8     9     10    11    12  \\\n0                                                                           \n1  14.23  1.71  2.43  15.6  127  2.80  3.06  0.28  2.29  5.64  1.04  3.92   \n1  13.20  1.78  2.14  11.2  100  2.65  2.76  0.26  1.28  4.38  1.05  3.40   \n1  13.16  2.36  2.67  18.6  101  2.80  3.24  0.30  2.81  5.68  1.03  3.17   \n\n     13  \n0        \n1  1065  \n1  1050  \n1  1185  \n"
     ]
    }
   ],
   "source": [
    "import pandas as pd\n",
    "data = pd.read_csv('wine.data.txt', delim_whitespace=False, header=None, index_col=0)\n",
    "print(data[:3])\n",
    "new_data = data.values"
   ]
  },
  {
   "cell_type": "code",
   "execution_count": 11,
   "metadata": {},
   "outputs": [
    {
     "name": "stdout",
     "output_type": "stream",
     "text": [
      "1 0.73\n"
     ]
    }
   ],
   "source": [
    "from sklearn.neighbors import KNeighborsClassifier as KClass\n",
    "from sklearn.model_selection import cross_val_score\n",
    "from sklearn.model_selection import KFold\n",
    "import numpy as np\n",
    "num, res = 0, 0\n",
    "kf = KFold(n_splits=5, random_state=42, shuffle=True)\n",
    "for n in range(1, 51):\n",
    "    clf = KClass(n_neighbors=n)\n",
    "    score = np.mean(cross_val_score(clf, new_data, data.index, \n",
    "                                    cv=kf, scoring='accuracy'))\n",
    "    if score > res:\n",
    "        res, num = score, n\n",
    "print(num, round(res, 2))"
   ]
  },
  {
   "cell_type": "code",
   "execution_count": 12,
   "metadata": {},
   "outputs": [
    {
     "name": "stdout",
     "output_type": "stream",
     "text": [
      "29 0.98\n"
     ]
    }
   ],
   "source": [
    "from sklearn.preprocessing import scale\n",
    "scaled_data = scale(new_data)\n",
    "num, res = 0, 0\n",
    "for n in range(1, 51):\n",
    "    clf = KClass(n_neighbors=n)\n",
    "    score = np.mean(cross_val_score(clf, scaled_data, data.index, \n",
    "                                    cv=kf, scoring='accuracy'))\n",
    "    if score > res:\n",
    "        res, num = score, n\n",
    "print(num, round(res, 2))"
   ]
  },
  {
   "cell_type": "code",
   "execution_count": null,
   "metadata": {},
   "outputs": [],
   "source": [
    ""
   ]
  }
 ],
 "metadata": {
  "kernelspec": {
   "display_name": "Python 2",
   "language": "python",
   "name": "python2"
  },
  "language_info": {
   "codemirror_mode": {
    "name": "ipython",
    "version": 2.0
   },
   "file_extension": ".py",
   "mimetype": "text/x-python",
   "name": "python",
   "nbconvert_exporter": "python",
   "pygments_lexer": "ipython2",
   "version": "2.7.6"
  }
 },
 "nbformat": 4,
 "nbformat_minor": 0
}