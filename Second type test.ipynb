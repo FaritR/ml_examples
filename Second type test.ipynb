{
 "cells": [
  {
   "cell_type": "code",
   "execution_count": 47,
   "metadata": {},
   "outputs": [],
   "source": [
    "import pandas as pd\n",
    "from sklearn.linear_model import Lasso, LassoCV\n",
    "import numpy as np\n",
    "from sklearn.preprocessing import MinMaxScaler"
   ]
  },
  {
   "cell_type": "code",
   "execution_count": 225,
   "metadata": {},
   "outputs": [],
   "source": [
    "data = pd.read_excel('data/Freq_statistics.xlsx')"
   ]
  },
  {
   "cell_type": "code",
   "execution_count": 226,
   "metadata": {},
   "outputs": [
    {
     "name": "stdout",
     "output_type": "stream",
     "text": [
      "Freq_statistics.xlsx\n",
      "Lapse_statistics.xlsx\n",
      "Sev_statistics.xlsx\n"
     ]
    }
   ],
   "source": [
    "%%bash\n",
    "ls data"
   ]
  },
  {
   "cell_type": "code",
   "execution_count": 227,
   "metadata": {},
   "outputs": [
    {
     "data": {
      "text/html": [
       "<div>\n",
       "<style scoped>\n",
       "    .dataframe tbody tr th:only-of-type {\n",
       "        vertical-align: middle;\n",
       "    }\n",
       "\n",
       "    .dataframe tbody tr th {\n",
       "        vertical-align: top;\n",
       "    }\n",
       "\n",
       "    .dataframe thead th {\n",
       "        text-align: right;\n",
       "    }\n",
       "</style>\n",
       "<table border=\"1\" class=\"dataframe\">\n",
       "  <thead>\n",
       "    <tr style=\"text-align: right;\">\n",
       "      <th></th>\n",
       "      <th>Age</th>\n",
       "      <th>Experience</th>\n",
       "      <th>Horse_power</th>\n",
       "      <th>Weight</th>\n",
       "      <th>Area</th>\n",
       "      <th>Exposed</th>\n",
       "      <th>Claims</th>\n",
       "    </tr>\n",
       "  </thead>\n",
       "  <tbody>\n",
       "    <tr>\n",
       "      <th>0</th>\n",
       "      <td>18</td>\n",
       "      <td>0</td>\n",
       "      <td>78</td>\n",
       "      <td>0.74</td>\n",
       "      <td>2</td>\n",
       "      <td>0.827397</td>\n",
       "      <td>1</td>\n",
       "    </tr>\n",
       "    <tr>\n",
       "      <th>1</th>\n",
       "      <td>18</td>\n",
       "      <td>0</td>\n",
       "      <td>79</td>\n",
       "      <td>0.82</td>\n",
       "      <td>2</td>\n",
       "      <td>0.594521</td>\n",
       "      <td>1</td>\n",
       "    </tr>\n",
       "    <tr>\n",
       "      <th>2</th>\n",
       "      <td>18</td>\n",
       "      <td>0</td>\n",
       "      <td>80</td>\n",
       "      <td>0.74</td>\n",
       "      <td>2</td>\n",
       "      <td>0.816438</td>\n",
       "      <td>1</td>\n",
       "    </tr>\n",
       "    <tr>\n",
       "      <th>3</th>\n",
       "      <td>18</td>\n",
       "      <td>0</td>\n",
       "      <td>80</td>\n",
       "      <td>0.83</td>\n",
       "      <td>2</td>\n",
       "      <td>0.621918</td>\n",
       "      <td>1</td>\n",
       "    </tr>\n",
       "    <tr>\n",
       "      <th>4</th>\n",
       "      <td>18</td>\n",
       "      <td>0</td>\n",
       "      <td>86</td>\n",
       "      <td>0.84</td>\n",
       "      <td>2</td>\n",
       "      <td>0.904110</td>\n",
       "      <td>1</td>\n",
       "    </tr>\n",
       "  </tbody>\n",
       "</table>\n",
       "</div>"
      ],
      "text/plain": [
       "   Age  Experience  Horse_power  Weight  Area   Exposed  Claims\n",
       "0   18           0           78    0.74     2  0.827397       1\n",
       "1   18           0           79    0.82     2  0.594521       1\n",
       "2   18           0           80    0.74     2  0.816438       1\n",
       "3   18           0           80    0.83     2  0.621918       1\n",
       "4   18           0           86    0.84     2  0.904110       1"
      ]
     },
     "execution_count": 227,
     "metadata": {},
     "output_type": "execute_result"
    }
   ],
   "source": [
    "data.head()"
   ]
  },
  {
   "cell_type": "code",
   "execution_count": 249,
   "metadata": {},
   "outputs": [
    {
     "data": {
      "text/html": [
       "<div>\n",
       "<style scoped>\n",
       "    .dataframe tbody tr th:only-of-type {\n",
       "        vertical-align: middle;\n",
       "    }\n",
       "\n",
       "    .dataframe tbody tr th {\n",
       "        vertical-align: top;\n",
       "    }\n",
       "\n",
       "    .dataframe thead th {\n",
       "        text-align: right;\n",
       "    }\n",
       "</style>\n",
       "<table border=\"1\" class=\"dataframe\">\n",
       "  <thead>\n",
       "    <tr style=\"text-align: right;\">\n",
       "      <th></th>\n",
       "      <th>count</th>\n",
       "      <th>mean</th>\n",
       "      <th>std</th>\n",
       "      <th>min</th>\n",
       "      <th>25%</th>\n",
       "      <th>50%</th>\n",
       "      <th>75%</th>\n",
       "      <th>max</th>\n",
       "    </tr>\n",
       "    <tr>\n",
       "      <th>Claims</th>\n",
       "      <th></th>\n",
       "      <th></th>\n",
       "      <th></th>\n",
       "      <th></th>\n",
       "      <th></th>\n",
       "      <th></th>\n",
       "      <th></th>\n",
       "      <th></th>\n",
       "    </tr>\n",
       "  </thead>\n",
       "  <tbody>\n",
       "    <tr>\n",
       "      <th>0</th>\n",
       "      <td>3636.0</td>\n",
       "      <td>0.700818</td>\n",
       "      <td>0.230364</td>\n",
       "      <td>0.197260</td>\n",
       "      <td>0.506849</td>\n",
       "      <td>0.745205</td>\n",
       "      <td>0.909589</td>\n",
       "      <td>1.857534</td>\n",
       "    </tr>\n",
       "    <tr>\n",
       "      <th>1</th>\n",
       "      <td>1255.0</td>\n",
       "      <td>0.695683</td>\n",
       "      <td>0.227729</td>\n",
       "      <td>0.219178</td>\n",
       "      <td>0.495890</td>\n",
       "      <td>0.742466</td>\n",
       "      <td>0.904110</td>\n",
       "      <td>0.997260</td>\n",
       "    </tr>\n",
       "    <tr>\n",
       "      <th>2</th>\n",
       "      <td>91.0</td>\n",
       "      <td>0.728526</td>\n",
       "      <td>0.298381</td>\n",
       "      <td>0.252055</td>\n",
       "      <td>0.489041</td>\n",
       "      <td>0.802740</td>\n",
       "      <td>0.909589</td>\n",
       "      <td>1.775342</td>\n",
       "    </tr>\n",
       "  </tbody>\n",
       "</table>\n",
       "</div>"
      ],
      "text/plain": [
       "         count      mean       std       min       25%       50%       75%  \\\n",
       "Claims                                                                       \n",
       "0       3636.0  0.700818  0.230364  0.197260  0.506849  0.745205  0.909589   \n",
       "1       1255.0  0.695683  0.227729  0.219178  0.495890  0.742466  0.904110   \n",
       "2         91.0  0.728526  0.298381  0.252055  0.489041  0.802740  0.909589   \n",
       "\n",
       "             max  \n",
       "Claims            \n",
       "0       1.857534  \n",
       "1       0.997260  \n",
       "2       1.775342  "
      ]
     },
     "execution_count": 249,
     "metadata": {},
     "output_type": "execute_result"
    }
   ],
   "source": [
    "data.groupby(['Claims']).Exposed.describe()"
   ]
  },
  {
   "cell_type": "code",
   "execution_count": 250,
   "metadata": {},
   "outputs": [
    {
     "data": {
      "text/plain": [
       "(-0.0004774525232424959, 0.9731229876316662)"
      ]
     },
     "execution_count": 250,
     "metadata": {},
     "output_type": "execute_result"
    }
   ],
   "source": [
    "from scipy.stats import pearsonr\n",
    "pearsonr(data.Exposed, data.Claims)"
   ]
  },
  {
   "cell_type": "code",
   "execution_count": 228,
   "metadata": {},
   "outputs": [
    {
     "data": {
      "text/html": [
       "<div>\n",
       "<style scoped>\n",
       "    .dataframe tbody tr th:only-of-type {\n",
       "        vertical-align: middle;\n",
       "    }\n",
       "\n",
       "    .dataframe tbody tr th {\n",
       "        vertical-align: top;\n",
       "    }\n",
       "\n",
       "    .dataframe thead th {\n",
       "        text-align: right;\n",
       "    }\n",
       "</style>\n",
       "<table border=\"1\" class=\"dataframe\">\n",
       "  <thead>\n",
       "    <tr style=\"text-align: right;\">\n",
       "      <th></th>\n",
       "      <th>Age</th>\n",
       "      <th>Experience</th>\n",
       "      <th>Horse_power</th>\n",
       "      <th>Weight</th>\n",
       "      <th>Area</th>\n",
       "      <th>Exposed</th>\n",
       "      <th>Claims</th>\n",
       "    </tr>\n",
       "  </thead>\n",
       "  <tbody>\n",
       "    <tr>\n",
       "      <th>count</th>\n",
       "      <td>4982.000000</td>\n",
       "      <td>4982.000000</td>\n",
       "      <td>4982.000000</td>\n",
       "      <td>4982.000000</td>\n",
       "      <td>4982.000000</td>\n",
       "      <td>4982.000000</td>\n",
       "      <td>4982.000000</td>\n",
       "    </tr>\n",
       "    <tr>\n",
       "      <th>mean</th>\n",
       "      <td>43.712365</td>\n",
       "      <td>7.233641</td>\n",
       "      <td>136.434163</td>\n",
       "      <td>1.190974</td>\n",
       "      <td>1.518065</td>\n",
       "      <td>0.700031</td>\n",
       "      <td>0.288438</td>\n",
       "    </tr>\n",
       "    <tr>\n",
       "      <th>std</th>\n",
       "      <td>14.904075</td>\n",
       "      <td>8.365713</td>\n",
       "      <td>36.077912</td>\n",
       "      <td>0.294707</td>\n",
       "      <td>0.523657</td>\n",
       "      <td>0.231111</td>\n",
       "      <td>0.491754</td>\n",
       "    </tr>\n",
       "    <tr>\n",
       "      <th>min</th>\n",
       "      <td>18.000000</td>\n",
       "      <td>0.000000</td>\n",
       "      <td>75.000000</td>\n",
       "      <td>0.610000</td>\n",
       "      <td>1.000000</td>\n",
       "      <td>0.197260</td>\n",
       "      <td>0.000000</td>\n",
       "    </tr>\n",
       "    <tr>\n",
       "      <th>25%</th>\n",
       "      <td>31.000000</td>\n",
       "      <td>3.000000</td>\n",
       "      <td>106.000000</td>\n",
       "      <td>0.940000</td>\n",
       "      <td>1.000000</td>\n",
       "      <td>0.504110</td>\n",
       "      <td>0.000000</td>\n",
       "    </tr>\n",
       "    <tr>\n",
       "      <th>50%</th>\n",
       "      <td>44.000000</td>\n",
       "      <td>5.000000</td>\n",
       "      <td>135.000000</td>\n",
       "      <td>1.180000</td>\n",
       "      <td>2.000000</td>\n",
       "      <td>0.745205</td>\n",
       "      <td>0.000000</td>\n",
       "    </tr>\n",
       "    <tr>\n",
       "      <th>75%</th>\n",
       "      <td>56.000000</td>\n",
       "      <td>8.000000</td>\n",
       "      <td>168.000000</td>\n",
       "      <td>1.440000</td>\n",
       "      <td>2.000000</td>\n",
       "      <td>0.906849</td>\n",
       "      <td>1.000000</td>\n",
       "    </tr>\n",
       "    <tr>\n",
       "      <th>max</th>\n",
       "      <td>70.000000</td>\n",
       "      <td>50.000000</td>\n",
       "      <td>199.000000</td>\n",
       "      <td>1.790000</td>\n",
       "      <td>3.000000</td>\n",
       "      <td>1.857534</td>\n",
       "      <td>2.000000</td>\n",
       "    </tr>\n",
       "  </tbody>\n",
       "</table>\n",
       "</div>"
      ],
      "text/plain": [
       "               Age   Experience  Horse_power       Weight         Area  \\\n",
       "count  4982.000000  4982.000000  4982.000000  4982.000000  4982.000000   \n",
       "mean     43.712365     7.233641   136.434163     1.190974     1.518065   \n",
       "std      14.904075     8.365713    36.077912     0.294707     0.523657   \n",
       "min      18.000000     0.000000    75.000000     0.610000     1.000000   \n",
       "25%      31.000000     3.000000   106.000000     0.940000     1.000000   \n",
       "50%      44.000000     5.000000   135.000000     1.180000     2.000000   \n",
       "75%      56.000000     8.000000   168.000000     1.440000     2.000000   \n",
       "max      70.000000    50.000000   199.000000     1.790000     3.000000   \n",
       "\n",
       "           Exposed       Claims  \n",
       "count  4982.000000  4982.000000  \n",
       "mean      0.700031     0.288438  \n",
       "std       0.231111     0.491754  \n",
       "min       0.197260     0.000000  \n",
       "25%       0.504110     0.000000  \n",
       "50%       0.745205     0.000000  \n",
       "75%       0.906849     1.000000  \n",
       "max       1.857534     2.000000  "
      ]
     },
     "execution_count": 228,
     "metadata": {},
     "output_type": "execute_result"
    }
   ],
   "source": [
    "data.describe()"
   ]
  },
  {
   "cell_type": "code",
   "execution_count": 251,
   "metadata": {},
   "outputs": [],
   "source": [
    "y = data.Claims/data.Exposed\n",
    "X = data.drop(['Claims'], axis = 1)"
   ]
  },
  {
   "cell_type": "code",
   "execution_count": 252,
   "metadata": {},
   "outputs": [
    {
     "data": {
      "text/html": [
       "<div>\n",
       "<style scoped>\n",
       "    .dataframe tbody tr th:only-of-type {\n",
       "        vertical-align: middle;\n",
       "    }\n",
       "\n",
       "    .dataframe tbody tr th {\n",
       "        vertical-align: top;\n",
       "    }\n",
       "\n",
       "    .dataframe thead th {\n",
       "        text-align: right;\n",
       "    }\n",
       "</style>\n",
       "<table border=\"1\" class=\"dataframe\">\n",
       "  <thead>\n",
       "    <tr style=\"text-align: right;\">\n",
       "      <th></th>\n",
       "      <th>Age</th>\n",
       "      <th>Experience</th>\n",
       "      <th>Horse_power</th>\n",
       "      <th>Weight</th>\n",
       "      <th>Area</th>\n",
       "      <th>Exposed</th>\n",
       "    </tr>\n",
       "  </thead>\n",
       "  <tbody>\n",
       "    <tr>\n",
       "      <th>0</th>\n",
       "      <td>18</td>\n",
       "      <td>0</td>\n",
       "      <td>78</td>\n",
       "      <td>0.74</td>\n",
       "      <td>2</td>\n",
       "      <td>0.827397</td>\n",
       "    </tr>\n",
       "    <tr>\n",
       "      <th>1</th>\n",
       "      <td>18</td>\n",
       "      <td>0</td>\n",
       "      <td>79</td>\n",
       "      <td>0.82</td>\n",
       "      <td>2</td>\n",
       "      <td>0.594521</td>\n",
       "    </tr>\n",
       "    <tr>\n",
       "      <th>2</th>\n",
       "      <td>18</td>\n",
       "      <td>0</td>\n",
       "      <td>80</td>\n",
       "      <td>0.74</td>\n",
       "      <td>2</td>\n",
       "      <td>0.816438</td>\n",
       "    </tr>\n",
       "    <tr>\n",
       "      <th>3</th>\n",
       "      <td>18</td>\n",
       "      <td>0</td>\n",
       "      <td>80</td>\n",
       "      <td>0.83</td>\n",
       "      <td>2</td>\n",
       "      <td>0.621918</td>\n",
       "    </tr>\n",
       "    <tr>\n",
       "      <th>4</th>\n",
       "      <td>18</td>\n",
       "      <td>0</td>\n",
       "      <td>86</td>\n",
       "      <td>0.84</td>\n",
       "      <td>2</td>\n",
       "      <td>0.904110</td>\n",
       "    </tr>\n",
       "  </tbody>\n",
       "</table>\n",
       "</div>"
      ],
      "text/plain": [
       "   Age  Experience  Horse_power  Weight  Area   Exposed\n",
       "0   18           0           78    0.74     2  0.827397\n",
       "1   18           0           79    0.82     2  0.594521\n",
       "2   18           0           80    0.74     2  0.816438\n",
       "3   18           0           80    0.83     2  0.621918\n",
       "4   18           0           86    0.84     2  0.904110"
      ]
     },
     "execution_count": 252,
     "metadata": {},
     "output_type": "execute_result"
    }
   ],
   "source": [
    "X.head()"
   ]
  },
  {
   "cell_type": "code",
   "execution_count": 253,
   "metadata": {},
   "outputs": [],
   "source": [
    "X.drop(['Horse_power', 'Weight', 'Exposed'], axis = 1, inplace = True)"
   ]
  },
  {
   "cell_type": "code",
   "execution_count": 254,
   "metadata": {},
   "outputs": [
    {
     "data": {
      "text/html": [
       "<div>\n",
       "<style scoped>\n",
       "    .dataframe tbody tr th:only-of-type {\n",
       "        vertical-align: middle;\n",
       "    }\n",
       "\n",
       "    .dataframe tbody tr th {\n",
       "        vertical-align: top;\n",
       "    }\n",
       "\n",
       "    .dataframe thead th {\n",
       "        text-align: right;\n",
       "    }\n",
       "</style>\n",
       "<table border=\"1\" class=\"dataframe\">\n",
       "  <thead>\n",
       "    <tr style=\"text-align: right;\">\n",
       "      <th></th>\n",
       "      <th>Age</th>\n",
       "      <th>Experience</th>\n",
       "      <th>Area</th>\n",
       "    </tr>\n",
       "  </thead>\n",
       "  <tbody>\n",
       "    <tr>\n",
       "      <th>0</th>\n",
       "      <td>18</td>\n",
       "      <td>0</td>\n",
       "      <td>2</td>\n",
       "    </tr>\n",
       "    <tr>\n",
       "      <th>1</th>\n",
       "      <td>18</td>\n",
       "      <td>0</td>\n",
       "      <td>2</td>\n",
       "    </tr>\n",
       "    <tr>\n",
       "      <th>2</th>\n",
       "      <td>18</td>\n",
       "      <td>0</td>\n",
       "      <td>2</td>\n",
       "    </tr>\n",
       "    <tr>\n",
       "      <th>3</th>\n",
       "      <td>18</td>\n",
       "      <td>0</td>\n",
       "      <td>2</td>\n",
       "    </tr>\n",
       "    <tr>\n",
       "      <th>4</th>\n",
       "      <td>18</td>\n",
       "      <td>0</td>\n",
       "      <td>2</td>\n",
       "    </tr>\n",
       "  </tbody>\n",
       "</table>\n",
       "</div>"
      ],
      "text/plain": [
       "   Age  Experience  Area\n",
       "0   18           0     2\n",
       "1   18           0     2\n",
       "2   18           0     2\n",
       "3   18           0     2\n",
       "4   18           0     2"
      ]
     },
     "execution_count": 254,
     "metadata": {},
     "output_type": "execute_result"
    }
   ],
   "source": [
    "X.head()"
   ]
  },
  {
   "cell_type": "code",
   "execution_count": 255,
   "metadata": {},
   "outputs": [],
   "source": [
    "X['Age*Exp'] = X.Age*X.Experience\n",
    "X['Age*Area'] = X.Age*X.Area\n",
    "X['Exp*Area'] = X.Experience*X.Area\n",
    "X['Age*Exp*Area'] = X.Age*X.Experience*X.Area"
   ]
  },
  {
   "cell_type": "code",
   "execution_count": 256,
   "metadata": {},
   "outputs": [
    {
     "data": {
      "text/html": [
       "<div>\n",
       "<style scoped>\n",
       "    .dataframe tbody tr th:only-of-type {\n",
       "        vertical-align: middle;\n",
       "    }\n",
       "\n",
       "    .dataframe tbody tr th {\n",
       "        vertical-align: top;\n",
       "    }\n",
       "\n",
       "    .dataframe thead th {\n",
       "        text-align: right;\n",
       "    }\n",
       "</style>\n",
       "<table border=\"1\" class=\"dataframe\">\n",
       "  <thead>\n",
       "    <tr style=\"text-align: right;\">\n",
       "      <th></th>\n",
       "      <th>Age</th>\n",
       "      <th>Experience</th>\n",
       "      <th>Area</th>\n",
       "      <th>Age*Exp</th>\n",
       "      <th>Age*Area</th>\n",
       "      <th>Exp*Area</th>\n",
       "      <th>Age*Exp*Area</th>\n",
       "    </tr>\n",
       "  </thead>\n",
       "  <tbody>\n",
       "    <tr>\n",
       "      <th>0</th>\n",
       "      <td>18</td>\n",
       "      <td>0</td>\n",
       "      <td>2</td>\n",
       "      <td>0</td>\n",
       "      <td>36</td>\n",
       "      <td>0</td>\n",
       "      <td>0</td>\n",
       "    </tr>\n",
       "    <tr>\n",
       "      <th>1</th>\n",
       "      <td>18</td>\n",
       "      <td>0</td>\n",
       "      <td>2</td>\n",
       "      <td>0</td>\n",
       "      <td>36</td>\n",
       "      <td>0</td>\n",
       "      <td>0</td>\n",
       "    </tr>\n",
       "    <tr>\n",
       "      <th>2</th>\n",
       "      <td>18</td>\n",
       "      <td>0</td>\n",
       "      <td>2</td>\n",
       "      <td>0</td>\n",
       "      <td>36</td>\n",
       "      <td>0</td>\n",
       "      <td>0</td>\n",
       "    </tr>\n",
       "    <tr>\n",
       "      <th>3</th>\n",
       "      <td>18</td>\n",
       "      <td>0</td>\n",
       "      <td>2</td>\n",
       "      <td>0</td>\n",
       "      <td>36</td>\n",
       "      <td>0</td>\n",
       "      <td>0</td>\n",
       "    </tr>\n",
       "    <tr>\n",
       "      <th>4</th>\n",
       "      <td>18</td>\n",
       "      <td>0</td>\n",
       "      <td>2</td>\n",
       "      <td>0</td>\n",
       "      <td>36</td>\n",
       "      <td>0</td>\n",
       "      <td>0</td>\n",
       "    </tr>\n",
       "  </tbody>\n",
       "</table>\n",
       "</div>"
      ],
      "text/plain": [
       "   Age  Experience  Area  Age*Exp  Age*Area  Exp*Area  Age*Exp*Area\n",
       "0   18           0     2        0        36         0             0\n",
       "1   18           0     2        0        36         0             0\n",
       "2   18           0     2        0        36         0             0\n",
       "3   18           0     2        0        36         0             0\n",
       "4   18           0     2        0        36         0             0"
      ]
     },
     "execution_count": 256,
     "metadata": {},
     "output_type": "execute_result"
    }
   ],
   "source": [
    "X.head()"
   ]
  },
  {
   "cell_type": "code",
   "execution_count": 501,
   "metadata": {},
   "outputs": [
    {
     "data": {
      "text/html": [
       "<table class=\"simpletable\">\n",
       "<tr>\n",
       "        <td>Model:</td>               <td>GLM</td>            <td>AIC:</td>       <td>98317.8010</td>\n",
       "</tr>\n",
       "<tr>\n",
       "    <td>Link Function:</td>           <td>log</td>            <td>BIC:</td>       <td>76157.5225</td>\n",
       "</tr>\n",
       "<tr>\n",
       "  <td>Dependent Variable:</td>       <td>Cost</td>       <td>Log-Likelihood:</td>   <td>-49153.</td> \n",
       "</tr>\n",
       "<tr>\n",
       "         <td>Date:</td>        <td>2019-06-24 15:44</td>    <td>LL-Null:</td>       <td>-85044.</td> \n",
       "</tr>\n",
       "<tr>\n",
       "   <td>No. Observations:</td>        <td>1346</td>          <td>Deviance:</td>      <td>85812.</td>  \n",
       "</tr>\n",
       "<tr>\n",
       "       <td>Df Model:</td>              <td>5</td>         <td>Pearson chi2:</td>   <td>8.69e+04</td> \n",
       "</tr>\n",
       "<tr>\n",
       "     <td>Df Residuals:</td>          <td>1340</td>           <td>Scale:</td>        <td>1.0000</td>  \n",
       "</tr>\n",
       "<tr>\n",
       "        <td>Method:</td>             <td>IRLS</td>              <td></td>              <td></td>     \n",
       "</tr>\n",
       "</table>\n",
       "<table class=\"simpletable\">\n",
       "<tr>\n",
       "       <td></td>        <th>Coef.</th>  <th>Std.Err.</th>     <th>z</th>      <th>P>|z|</th> <th>[0.025</th>  <th>0.975]</th> \n",
       "</tr>\n",
       "<tr>\n",
       "  <th>const</th>       <td>7.0666</td>   <td>0.0061</td>  <td>1158.4983</td> <td>0.0000</td> <td>7.0546</td>  <td>7.0785</td> \n",
       "</tr>\n",
       "<tr>\n",
       "  <th>Age</th>         <td>-0.0004</td>  <td>0.0000</td>   <td>-7.6673</td>  <td>0.0000</td> <td>-0.0005</td> <td>-0.0003</td>\n",
       "</tr>\n",
       "<tr>\n",
       "  <th>Experience</th>  <td>-0.0007</td>  <td>0.0001</td>   <td>-7.3690</td>  <td>0.0000</td> <td>-0.0009</td> <td>-0.0005</td>\n",
       "</tr>\n",
       "<tr>\n",
       "  <th>Horse_power</th> <td>-0.0009</td>  <td>0.0001</td>   <td>-9.3601</td>  <td>0.0000</td> <td>-0.0010</td> <td>-0.0007</td>\n",
       "</tr>\n",
       "<tr>\n",
       "  <th>Weight</th>      <td>-0.2826</td>  <td>0.0112</td>  <td>-25.2799</td>  <td>0.0000</td> <td>-0.3045</td> <td>-0.2607</td>\n",
       "</tr>\n",
       "<tr>\n",
       "  <th>Area</th>        <td>0.4473</td>   <td>0.0025</td>  <td>176.1924</td>  <td>0.0000</td> <td>0.4423</td>  <td>0.4522</td> \n",
       "</tr>\n",
       "</table>"
      ],
      "text/plain": [
       "<class 'statsmodels.iolib.summary2.Summary'>\n",
       "\"\"\"\n",
       "               Results: Generalized linear model\n",
       "===============================================================\n",
       "Model:              GLM              AIC:            98317.8010\n",
       "Link Function:      log              BIC:            76157.5225\n",
       "Dependent Variable: Cost             Log-Likelihood: -49153.   \n",
       "Date:               2019-06-24 15:44 LL-Null:        -85044.   \n",
       "No. Observations:   1346             Deviance:       85812.    \n",
       "Df Model:           5                Pearson chi2:   8.69e+04  \n",
       "Df Residuals:       1340             Scale:          1.0000    \n",
       "Method:             IRLS                                       \n",
       "---------------------------------------------------------------\n",
       "               Coef.  Std.Err.     z     P>|z|   [0.025  0.975]\n",
       "---------------------------------------------------------------\n",
       "const          7.0666   0.0061 1158.4983 0.0000  7.0546  7.0785\n",
       "Age           -0.0004   0.0000   -7.6673 0.0000 -0.0005 -0.0003\n",
       "Experience    -0.0007   0.0001   -7.3690 0.0000 -0.0009 -0.0005\n",
       "Horse_power   -0.0009   0.0001   -9.3601 0.0000 -0.0010 -0.0007\n",
       "Weight        -0.2826   0.0112  -25.2799 0.0000 -0.3045 -0.2607\n",
       "Area           0.4473   0.0025  176.1924 0.0000  0.4423  0.4522\n",
       "===============================================================\n",
       "\n",
       "\"\"\""
      ]
     },
     "execution_count": 501,
     "metadata": {},
     "output_type": "execute_result"
    }
   ],
   "source": [
    "import statsmodels.api as sm\n",
    "\n",
    "\n",
    "X_sm = sm.add_constant(X)\n",
    "\n",
    "binom_model = sm.GLM(y, X_sm, family=sm.families.Poisson())\n",
    "binom_results = binom_model.fit()\n",
    "binom_results.summary2()"
   ]
  },
  {
   "cell_type": "code",
   "execution_count": 502,
   "metadata": {},
   "outputs": [
    {
     "data": {
      "text/plain": [
       "(98317.80097471544, 76157.52249780388)"
      ]
     },
     "execution_count": 502,
     "metadata": {},
     "output_type": "execute_result"
    }
   ],
   "source": [
    "binom_results.aic, binom_results.bic"
   ]
  },
  {
   "cell_type": "code",
   "execution_count": 259,
   "metadata": {},
   "outputs": [],
   "source": [
    "residuals = data.Claims - binom_results.predict(X_sm)*data.Exposed"
   ]
  },
  {
   "cell_type": "code",
   "execution_count": 260,
   "metadata": {},
   "outputs": [
    {
     "data": {
      "text/plain": [
       "count    4982.000000\n",
       "mean       -0.044159\n",
       "std         0.480966\n",
       "min        -5.052779\n",
       "25%        -0.163809\n",
       "50%        -0.042634\n",
       "75%        -0.009531\n",
       "max         1.687435\n",
       "dtype: float64"
      ]
     },
     "execution_count": 260,
     "metadata": {},
     "output_type": "execute_result"
    }
   ],
   "source": [
    "residuals.describe()"
   ]
  },
  {
   "cell_type": "code",
   "execution_count": 248,
   "metadata": {},
   "outputs": [
    {
     "data": {
      "text/plain": [
       "count    4982.000000\n",
       "mean        0.148791\n",
       "std         0.401535\n",
       "min        -1.003124\n",
       "25%        -0.062062\n",
       "50%        -0.018052\n",
       "75%         0.527490\n",
       "max         1.867542\n",
       "dtype: float64"
      ]
     },
     "execution_count": 248,
     "metadata": {},
     "output_type": "execute_result"
    }
   ],
   "source": [
    "residuals.describe()"
   ]
  },
  {
   "cell_type": "code",
   "execution_count": 263,
   "metadata": {},
   "outputs": [
    {
     "data": {
      "text/plain": [
       "array([1.05687787, 0.75941225, 1.04287949, 0.7944082 , 1.15486655,\n",
       "       0.54593691, 0.69641952, 1.15836614, 1.21086008, 1.25285523,\n",
       "       1.19686169, 0.90289566, 0.069943  , 0.68942033, 0.76991103,\n",
       "       0.88189809, 1.22835806, 1.25635482, 0.72791589, 5.05694966,\n",
       "       1.09187383, 0.64392559, 1.23185765, 0.33946077, 0.57393368,\n",
       "       0.43744945, 0.76291184, 0.50394177, 1.15836614, 1.08487464,\n",
       "       0.34645996, 1.06737666, 0.68592074, 1.08137504, 1.25635482,\n",
       "       1.23885684, 0.70691831, 0.85390133, 1.23885684, 0.65092478,\n",
       "       1.25285523, 0.46194662, 0.93789162, 0.74541386, 1.12686978,\n",
       "       0.42345107, 1.24585603, 0.41295228, 0.37580169, 0.94122809])"
      ]
     },
     "execution_count": 263,
     "metadata": {},
     "output_type": "execute_result"
    }
   ],
   "source": [
    "pred = np.array(binom_results.predict(X_sm)*data.Exposed)\n",
    "pred[:50]"
   ]
  },
  {
   "cell_type": "code",
   "execution_count": 264,
   "metadata": {},
   "outputs": [
    {
     "data": {
      "text/plain": [
       "array([1, 1, 1, 1, 1, 1, 1, 1, 1, 1, 1, 1, 0, 1, 1, 1, 1, 1, 1, 2, 1, 1,\n",
       "       1, 1, 1, 1, 1, 1, 1, 1, 0, 1, 1, 1, 1, 0, 1, 1, 1, 1, 0, 1, 1, 1,\n",
       "       1, 1, 2, 2, 1, 1])"
      ]
     },
     "execution_count": 264,
     "metadata": {},
     "output_type": "execute_result"
    }
   ],
   "source": [
    "np.array(data.Claims)[:50]"
   ]
  },
  {
   "cell_type": "markdown",
   "metadata": {},
   "source": [
    "<h1>Sev</h1>"
   ]
  },
  {
   "cell_type": "code",
   "execution_count": 467,
   "metadata": {},
   "outputs": [],
   "source": [
    "data = pd.read_excel('data/Sev_statistics.xlsx')"
   ]
  },
  {
   "cell_type": "code",
   "execution_count": 468,
   "metadata": {},
   "outputs": [
    {
     "data": {
      "text/html": [
       "<div>\n",
       "<style scoped>\n",
       "    .dataframe tbody tr th:only-of-type {\n",
       "        vertical-align: middle;\n",
       "    }\n",
       "\n",
       "    .dataframe tbody tr th {\n",
       "        vertical-align: top;\n",
       "    }\n",
       "\n",
       "    .dataframe thead th {\n",
       "        text-align: right;\n",
       "    }\n",
       "</style>\n",
       "<table border=\"1\" class=\"dataframe\">\n",
       "  <thead>\n",
       "    <tr style=\"text-align: right;\">\n",
       "      <th></th>\n",
       "      <th>Age</th>\n",
       "      <th>Experience</th>\n",
       "      <th>Horse_power</th>\n",
       "      <th>Weight</th>\n",
       "      <th>Area</th>\n",
       "      <th>Exposed</th>\n",
       "      <th>Claims</th>\n",
       "      <th>Cost</th>\n",
       "    </tr>\n",
       "  </thead>\n",
       "  <tbody>\n",
       "    <tr>\n",
       "      <th>0</th>\n",
       "      <td>18</td>\n",
       "      <td>0</td>\n",
       "      <td>78</td>\n",
       "      <td>0.74</td>\n",
       "      <td>2</td>\n",
       "      <td>0.827397</td>\n",
       "      <td>1</td>\n",
       "      <td>2043.0</td>\n",
       "    </tr>\n",
       "    <tr>\n",
       "      <th>1</th>\n",
       "      <td>18</td>\n",
       "      <td>0</td>\n",
       "      <td>79</td>\n",
       "      <td>0.82</td>\n",
       "      <td>2</td>\n",
       "      <td>0.594521</td>\n",
       "      <td>1</td>\n",
       "      <td>2162.0</td>\n",
       "    </tr>\n",
       "    <tr>\n",
       "      <th>2</th>\n",
       "      <td>18</td>\n",
       "      <td>0</td>\n",
       "      <td>80</td>\n",
       "      <td>0.74</td>\n",
       "      <td>2</td>\n",
       "      <td>0.816438</td>\n",
       "      <td>1</td>\n",
       "      <td>2153.0</td>\n",
       "    </tr>\n",
       "    <tr>\n",
       "      <th>3</th>\n",
       "      <td>18</td>\n",
       "      <td>0</td>\n",
       "      <td>80</td>\n",
       "      <td>0.83</td>\n",
       "      <td>2</td>\n",
       "      <td>0.621918</td>\n",
       "      <td>1</td>\n",
       "      <td>2209.0</td>\n",
       "    </tr>\n",
       "    <tr>\n",
       "      <th>4</th>\n",
       "      <td>18</td>\n",
       "      <td>0</td>\n",
       "      <td>86</td>\n",
       "      <td>0.84</td>\n",
       "      <td>2</td>\n",
       "      <td>0.904110</td>\n",
       "      <td>1</td>\n",
       "      <td>1634.0</td>\n",
       "    </tr>\n",
       "  </tbody>\n",
       "</table>\n",
       "</div>"
      ],
      "text/plain": [
       "   Age  Experience  Horse_power  Weight  Area   Exposed  Claims    Cost\n",
       "0   18           0           78    0.74     2  0.827397       1  2043.0\n",
       "1   18           0           79    0.82     2  0.594521       1  2162.0\n",
       "2   18           0           80    0.74     2  0.816438       1  2153.0\n",
       "3   18           0           80    0.83     2  0.621918       1  2209.0\n",
       "4   18           0           86    0.84     2  0.904110       1  1634.0"
      ]
     },
     "execution_count": 468,
     "metadata": {},
     "output_type": "execute_result"
    }
   ],
   "source": [
    "data.head()"
   ]
  },
  {
   "cell_type": "code",
   "execution_count": 469,
   "metadata": {},
   "outputs": [
    {
     "data": {
      "text/html": [
       "<div>\n",
       "<style scoped>\n",
       "    .dataframe tbody tr th:only-of-type {\n",
       "        vertical-align: middle;\n",
       "    }\n",
       "\n",
       "    .dataframe tbody tr th {\n",
       "        vertical-align: top;\n",
       "    }\n",
       "\n",
       "    .dataframe thead th {\n",
       "        text-align: right;\n",
       "    }\n",
       "</style>\n",
       "<table border=\"1\" class=\"dataframe\">\n",
       "  <thead>\n",
       "    <tr style=\"text-align: right;\">\n",
       "      <th></th>\n",
       "      <th>Age</th>\n",
       "      <th>Experience</th>\n",
       "      <th>Horse_power</th>\n",
       "      <th>Weight</th>\n",
       "      <th>Area</th>\n",
       "      <th>Exposed</th>\n",
       "      <th>Claims</th>\n",
       "      <th>Cost</th>\n",
       "    </tr>\n",
       "  </thead>\n",
       "  <tbody>\n",
       "    <tr>\n",
       "      <th>count</th>\n",
       "      <td>1346.000000</td>\n",
       "      <td>1346.000000</td>\n",
       "      <td>1346.000000</td>\n",
       "      <td>1346.000000</td>\n",
       "      <td>1346.000000</td>\n",
       "      <td>1346.000000</td>\n",
       "      <td>1346.000000</td>\n",
       "      <td>1346.000000</td>\n",
       "    </tr>\n",
       "    <tr>\n",
       "      <th>mean</th>\n",
       "      <td>40.823180</td>\n",
       "      <td>6.738484</td>\n",
       "      <td>151.245914</td>\n",
       "      <td>1.310208</td>\n",
       "      <td>2.045319</td>\n",
       "      <td>0.697903</td>\n",
       "      <td>1.067608</td>\n",
       "      <td>1767.109212</td>\n",
       "    </tr>\n",
       "    <tr>\n",
       "      <th>std</th>\n",
       "      <td>18.290711</td>\n",
       "      <td>9.166853</td>\n",
       "      <td>40.233571</td>\n",
       "      <td>0.327301</td>\n",
       "      <td>0.208081</td>\n",
       "      <td>0.233190</td>\n",
       "      <td>0.251165</td>\n",
       "      <td>464.660260</td>\n",
       "    </tr>\n",
       "    <tr>\n",
       "      <th>min</th>\n",
       "      <td>18.000000</td>\n",
       "      <td>0.000000</td>\n",
       "      <td>75.000000</td>\n",
       "      <td>0.610000</td>\n",
       "      <td>2.000000</td>\n",
       "      <td>0.219178</td>\n",
       "      <td>1.000000</td>\n",
       "      <td>1001.000000</td>\n",
       "    </tr>\n",
       "    <tr>\n",
       "      <th>25%</th>\n",
       "      <td>23.000000</td>\n",
       "      <td>1.000000</td>\n",
       "      <td>116.000000</td>\n",
       "      <td>1.030000</td>\n",
       "      <td>2.000000</td>\n",
       "      <td>0.493836</td>\n",
       "      <td>1.000000</td>\n",
       "      <td>1438.250000</td>\n",
       "    </tr>\n",
       "    <tr>\n",
       "      <th>50%</th>\n",
       "      <td>38.000000</td>\n",
       "      <td>3.000000</td>\n",
       "      <td>159.000000</td>\n",
       "      <td>1.380000</td>\n",
       "      <td>2.000000</td>\n",
       "      <td>0.746575</td>\n",
       "      <td>1.000000</td>\n",
       "      <td>1737.000000</td>\n",
       "    </tr>\n",
       "    <tr>\n",
       "      <th>75%</th>\n",
       "      <td>58.000000</td>\n",
       "      <td>7.000000</td>\n",
       "      <td>190.000000</td>\n",
       "      <td>1.610000</td>\n",
       "      <td>2.000000</td>\n",
       "      <td>0.904110</td>\n",
       "      <td>1.000000</td>\n",
       "      <td>1992.000000</td>\n",
       "    </tr>\n",
       "    <tr>\n",
       "      <th>max</th>\n",
       "      <td>70.000000</td>\n",
       "      <td>48.000000</td>\n",
       "      <td>199.000000</td>\n",
       "      <td>1.790000</td>\n",
       "      <td>3.000000</td>\n",
       "      <td>1.775342</td>\n",
       "      <td>2.000000</td>\n",
       "      <td>4445.000000</td>\n",
       "    </tr>\n",
       "  </tbody>\n",
       "</table>\n",
       "</div>"
      ],
      "text/plain": [
       "               Age   Experience  Horse_power       Weight         Area  \\\n",
       "count  1346.000000  1346.000000  1346.000000  1346.000000  1346.000000   \n",
       "mean     40.823180     6.738484   151.245914     1.310208     2.045319   \n",
       "std      18.290711     9.166853    40.233571     0.327301     0.208081   \n",
       "min      18.000000     0.000000    75.000000     0.610000     2.000000   \n",
       "25%      23.000000     1.000000   116.000000     1.030000     2.000000   \n",
       "50%      38.000000     3.000000   159.000000     1.380000     2.000000   \n",
       "75%      58.000000     7.000000   190.000000     1.610000     2.000000   \n",
       "max      70.000000    48.000000   199.000000     1.790000     3.000000   \n",
       "\n",
       "           Exposed       Claims         Cost  \n",
       "count  1346.000000  1346.000000  1346.000000  \n",
       "mean      0.697903     1.067608  1767.109212  \n",
       "std       0.233190     0.251165   464.660260  \n",
       "min       0.219178     1.000000  1001.000000  \n",
       "25%       0.493836     1.000000  1438.250000  \n",
       "50%       0.746575     1.000000  1737.000000  \n",
       "75%       0.904110     1.000000  1992.000000  \n",
       "max       1.775342     2.000000  4445.000000  "
      ]
     },
     "execution_count": 469,
     "metadata": {},
     "output_type": "execute_result"
    }
   ],
   "source": [
    "data.describe()"
   ]
  },
  {
   "cell_type": "code",
   "execution_count": 504,
   "metadata": {},
   "outputs": [],
   "source": [
    "y = data.Cost\n",
    "X = data.drop(['Claims', 'Cost', 'Exposed'], axis = 1)"
   ]
  },
  {
   "cell_type": "code",
   "execution_count": 507,
   "metadata": {},
   "outputs": [
    {
     "data": {
      "text/html": [
       "<table class=\"simpletable\">\n",
       "<tr>\n",
       "        <td>Model:</td>               <td>GLM</td>            <td>AIC:</td>       <td>19484.8668</td>\n",
       "</tr>\n",
       "<tr>\n",
       "    <td>Link Function:</td>           <td>log</td>            <td>BIC:</td>       <td>-9603.2308</td>\n",
       "</tr>\n",
       "<tr>\n",
       "  <td>Dependent Variable:</td>       <td>Cost</td>       <td>Log-Likelihood:</td>   <td>-9736.4</td> \n",
       "</tr>\n",
       "<tr>\n",
       "         <td>Date:</td>        <td>2019-06-24 15:48</td>    <td>LL-Null:</td>       <td>-10257.</td> \n",
       "</tr>\n",
       "<tr>\n",
       "   <td>No. Observations:</td>        <td>1346</td>          <td>Deviance:</td>      <td>51.325</td>  \n",
       "</tr>\n",
       "<tr>\n",
       "       <td>Df Model:</td>              <td>5</td>         <td>Pearson chi2:</td>     <td>48.2</td>   \n",
       "</tr>\n",
       "<tr>\n",
       "     <td>Df Residuals:</td>          <td>1340</td>           <td>Scale:</td>       <td>0.035939</td> \n",
       "</tr>\n",
       "<tr>\n",
       "        <td>Method:</td>             <td>IRLS</td>              <td></td>              <td></td>     \n",
       "</tr>\n",
       "</table>\n",
       "<table class=\"simpletable\">\n",
       "<tr>\n",
       "       <td></td>        <th>Coef.</th>  <th>Std.Err.</th>     <th>z</th>     <th>P>|z|</th> <th>[0.025</th>  <th>0.975]</th> \n",
       "</tr>\n",
       "<tr>\n",
       "  <th>const</th>       <td>8.3613</td>   <td>0.0573</td>  <td>146.0400</td> <td>0.0000</td> <td>8.2491</td>  <td>8.4735</td> \n",
       "</tr>\n",
       "<tr>\n",
       "  <th>Age</th>         <td>0.0001</td>   <td>0.0004</td>   <td>0.2991</td>  <td>0.7649</td> <td>-0.0006</td> <td>0.0008</td> \n",
       "</tr>\n",
       "<tr>\n",
       "  <th>Experience</th>  <td>-0.0010</td>  <td>0.0007</td>   <td>-1.3724</td> <td>0.1700</td> <td>-0.0025</td> <td>0.0004</td> \n",
       "</tr>\n",
       "<tr>\n",
       "  <th>Horse_power</th> <td>-0.0012</td>  <td>0.0007</td>   <td>-1.6591</td> <td>0.0971</td> <td>-0.0026</td> <td>0.0002</td> \n",
       "</tr>\n",
       "<tr>\n",
       "  <th>Weight</th>      <td>-0.2302</td>  <td>0.0889</td>   <td>-2.5893</td> <td>0.0096</td> <td>-0.4045</td> <td>-0.0560</td>\n",
       "</tr>\n",
       "<tr>\n",
       "  <th>Area</th>        <td>-0.2246</td>  <td>0.0250</td>   <td>-8.9907</td> <td>0.0000</td> <td>-0.2736</td> <td>-0.1756</td>\n",
       "</tr>\n",
       "</table>"
      ],
      "text/plain": [
       "<class 'statsmodels.iolib.summary2.Summary'>\n",
       "\"\"\"\n",
       "               Results: Generalized linear model\n",
       "===============================================================\n",
       "Model:              GLM              AIC:            19484.8668\n",
       "Link Function:      log              BIC:            -9603.2308\n",
       "Dependent Variable: Cost             Log-Likelihood: -9736.4   \n",
       "Date:               2019-06-24 15:48 LL-Null:        -10257.   \n",
       "No. Observations:   1346             Deviance:       51.325    \n",
       "Df Model:           5                Pearson chi2:   48.2      \n",
       "Df Residuals:       1340             Scale:          0.035939  \n",
       "Method:             IRLS                                       \n",
       "---------------------------------------------------------------\n",
       "                Coef.  Std.Err.    z     P>|z|   [0.025  0.975]\n",
       "---------------------------------------------------------------\n",
       "const           8.3613   0.0573 146.0400 0.0000  8.2491  8.4735\n",
       "Age             0.0001   0.0004   0.2991 0.7649 -0.0006  0.0008\n",
       "Experience     -0.0010   0.0007  -1.3724 0.1700 -0.0025  0.0004\n",
       "Horse_power    -0.0012   0.0007  -1.6591 0.0971 -0.0026  0.0002\n",
       "Weight         -0.2302   0.0889  -2.5893 0.0096 -0.4045 -0.0560\n",
       "Area           -0.2246   0.0250  -8.9907 0.0000 -0.2736 -0.1756\n",
       "===============================================================\n",
       "\n",
       "\"\"\""
      ]
     },
     "execution_count": 507,
     "metadata": {},
     "output_type": "execute_result"
    }
   ],
   "source": [
    "import statsmodels.api as sm\n",
    "offset = np.log(data.Claims.values)\n",
    "\n",
    "\n",
    "X_sm = sm.add_constant(X)\n",
    "\n",
    "binom_model = sm.GLM(y, X_sm, family=sm.families.Gamma(link=sm.genmod.families.links.log),\n",
    "                    offset = offset)\n",
    "binom_results = binom_model.fit()\n",
    "binom_results.summary2()"
   ]
  },
  {
   "cell_type": "code",
   "execution_count": 499,
   "metadata": {},
   "outputs": [
    {
     "data": {
      "text/plain": [
       "(19484.86675522325, -9603.230802597307)"
      ]
     },
     "execution_count": 499,
     "metadata": {},
     "output_type": "execute_result"
    }
   ],
   "source": [
    "binom_results.aic, binom_results.bic"
   ]
  },
  {
   "cell_type": "code",
   "execution_count": 500,
   "metadata": {},
   "outputs": [
    {
     "data": {
      "text/plain": [
       "0    2100.828305\n",
       "1    2060.017555\n",
       "2    2095.788492\n",
       "3    2052.814025\n",
       "4    2033.389230\n",
       "5    2019.394817\n",
       "6    2028.511200\n",
       "7    2044.615031\n",
       "8    2023.442896\n",
       "9    2022.837087\n",
       "dtype: float64"
      ]
     },
     "execution_count": 500,
     "metadata": {},
     "output_type": "execute_result"
    }
   ],
   "source": [
    "pred = binom_results.predict(X_sm)*np.exp(offset)\n",
    "pred[:10]"
   ]
  },
  {
   "cell_type": "code",
   "execution_count": 488,
   "metadata": {},
   "outputs": [
    {
     "data": {
      "text/plain": [
       "<matplotlib.axes._subplots.AxesSubplot at 0x7fa7cbd17b00>"
      ]
     },
     "execution_count": 488,
     "metadata": {},
     "output_type": "execute_result"
    },
    {
     "data": {
      "image/png": "[encoded data removed]",
      "text/plain": [
       "<Figure size 432x288 with 1 Axes>"
      ]
     },
     "metadata": {
      "needs_background": "light"
     },
     "output_type": "display_data"
    }
   ],
   "source": [
    "seaborn.residplot(y, pred, lowess=True)"
   ]
  },
  {
   "cell_type": "code",
   "execution_count": 192,
   "metadata": {},
   "outputs": [],
   "source": [
    "residuals = data.Cost - binom_results.predict(X_sm)*data.Claims"
   ]
  },
  {
   "cell_type": "code",
   "execution_count": 172,
   "metadata": {},
   "outputs": [
    {
     "data": {
      "text/plain": [
       "count    1346.000000\n",
       "mean      -12.136119\n",
       "std       358.908099\n",
       "min     -1951.547273\n",
       "25%      -259.831222\n",
       "50%        13.634735\n",
       "75%       255.522518\n",
       "max       702.938371\n",
       "dtype: float64"
      ]
     },
     "execution_count": 172,
     "metadata": {},
     "output_type": "execute_result"
    }
   ],
   "source": [
    "residuals.describe()"
   ]
  },
  {
   "cell_type": "code",
   "execution_count": 193,
   "metadata": {},
   "outputs": [
    {
     "data": {
      "text/plain": [
       "count     1346.000000\n",
       "mean      -476.330331\n",
       "std       1792.345200\n",
       "min     -10919.776069\n",
       "25%       -371.977337\n",
       "50%        -98.700374\n",
       "75%        163.357091\n",
       "max        634.062292\n",
       "dtype: float64"
      ]
     },
     "execution_count": 193,
     "metadata": {},
     "output_type": "execute_result"
    }
   ],
   "source": [
    "residuals.describe()"
   ]
  },
  {
   "cell_type": "code",
   "execution_count": 197,
   "metadata": {},
   "outputs": [
    {
     "data": {
      "text/html": [
       "<div>\n",
       "<style scoped>\n",
       "    .dataframe tbody tr th:only-of-type {\n",
       "        vertical-align: middle;\n",
       "    }\n",
       "\n",
       "    .dataframe tbody tr th {\n",
       "        vertical-align: top;\n",
       "    }\n",
       "\n",
       "    .dataframe thead th {\n",
       "        text-align: right;\n",
       "    }\n",
       "</style>\n",
       "<table border=\"1\" class=\"dataframe\">\n",
       "  <thead>\n",
       "    <tr style=\"text-align: right;\">\n",
       "      <th></th>\n",
       "      <th>count</th>\n",
       "      <th>mean</th>\n",
       "      <th>std</th>\n",
       "      <th>min</th>\n",
       "      <th>25%</th>\n",
       "      <th>50%</th>\n",
       "      <th>75%</th>\n",
       "      <th>max</th>\n",
       "    </tr>\n",
       "    <tr>\n",
       "      <th>Claims</th>\n",
       "      <th></th>\n",
       "      <th></th>\n",
       "      <th></th>\n",
       "      <th></th>\n",
       "      <th></th>\n",
       "      <th></th>\n",
       "      <th></th>\n",
       "      <th></th>\n",
       "    </tr>\n",
       "  </thead>\n",
       "  <tbody>\n",
       "    <tr>\n",
       "      <th>1</th>\n",
       "      <td>1255.0</td>\n",
       "      <td>1702.274900</td>\n",
       "      <td>377.897499</td>\n",
       "      <td>1001.0</td>\n",
       "      <td>1414.0</td>\n",
       "      <td>1709.0</td>\n",
       "      <td>1942.5</td>\n",
       "      <td>2500.0</td>\n",
       "    </tr>\n",
       "    <tr>\n",
       "      <th>2</th>\n",
       "      <td>91.0</td>\n",
       "      <td>2661.252747</td>\n",
       "      <td>608.177891</td>\n",
       "      <td>1501.0</td>\n",
       "      <td>2230.0</td>\n",
       "      <td>2651.0</td>\n",
       "      <td>3013.0</td>\n",
       "      <td>4445.0</td>\n",
       "    </tr>\n",
       "  </tbody>\n",
       "</table>\n",
       "</div>"
      ],
      "text/plain": [
       "         count         mean         std     min     25%     50%     75%  \\\n",
       "Claims                                                                    \n",
       "1       1255.0  1702.274900  377.897499  1001.0  1414.0  1709.0  1942.5   \n",
       "2         91.0  2661.252747  608.177891  1501.0  2230.0  2651.0  3013.0   \n",
       "\n",
       "           max  \n",
       "Claims          \n",
       "1       2500.0  \n",
       "2       4445.0  "
      ]
     },
     "execution_count": 197,
     "metadata": {},
     "output_type": "execute_result"
    }
   ],
   "source": [
    "data.groupby(['Claims']).Cost.describe()"
   ]
  },
  {
   "cell_type": "code",
   "execution_count": 411,
   "metadata": {},
   "outputs": [],
   "source": [
    "pearson_res = residuals / (binom_results.predict(X_sm)*data.Claims)"
   ]
  },
  {
   "cell_type": "code",
   "execution_count": 412,
   "metadata": {},
   "outputs": [
    {
     "data": {
      "text/plain": [
       "count    1346.000000\n",
       "mean       -0.000025\n",
       "std         0.000299\n",
       "min        -0.002467\n",
       "25%        -0.000094\n",
       "50%        -0.000029\n",
       "75%         0.000125\n",
       "max         0.001002\n",
       "dtype: float64"
      ]
     },
     "execution_count": 412,
     "metadata": {},
     "output_type": "execute_result"
    }
   ],
   "source": [
    "pearson_res.describe()"
   ]
  },
  {
   "cell_type": "code",
   "execution_count": 413,
   "metadata": {},
   "outputs": [
    {
     "data": {
      "text/plain": [
       "count    1346.000000\n",
       "mean       -0.000025\n",
       "std         0.000299\n",
       "min        -0.002467\n",
       "25%        -0.000094\n",
       "50%        -0.000029\n",
       "75%         0.000125\n",
       "max         0.001002\n",
       "dtype: float64"
      ]
     },
     "execution_count": 413,
     "metadata": {},
     "output_type": "execute_result"
    }
   ],
   "source": [
    "pearson_res.describe()"
   ]
  },
  {
   "cell_type": "code",
   "execution_count": 414,
   "metadata": {},
   "outputs": [
    {
     "data": {
      "text/plain": [
       "40    1504.638426\n",
       "41    1513.247190\n",
       "42    2994.855871\n",
       "43    2869.846593\n",
       "44    2142.901780\n",
       "dtype: float64"
      ]
     },
     "execution_count": 414,
     "metadata": {},
     "output_type": "execute_result"
    }
   ],
   "source": [
    "(binom_results.predict(X_sm)*data.Claims)[40:45]"
   ]
  },
  {
   "cell_type": "code",
   "execution_count": 196,
   "metadata": {},
   "outputs": [
    {
     "data": {
      "text/plain": [
       "40    1606.924674\n",
       "41    1625.376458\n",
       "42     802.764947\n",
       "43     748.475796\n",
       "44    2353.355496\n",
       "dtype: float64"
      ]
     },
     "execution_count": 196,
     "metadata": {},
     "output_type": "execute_result"
    }
   ],
   "source": [
    "(binom_results.predict(X_sm)/data.Claims)[40:45]"
   ]
  },
  {
   "cell_type": "code",
   "execution_count": 180,
   "metadata": {},
   "outputs": [
    {
     "data": {
      "text/plain": [
       "40    1919.0\n",
       "41    1545.0\n",
       "42    1915.0\n",
       "43    1646.0\n",
       "44    2220.0\n",
       "Name: Cost, dtype: float64"
      ]
     },
     "execution_count": 180,
     "metadata": {},
     "output_type": "execute_result"
    }
   ],
   "source": [
    "data.Cost[40:45]"
   ]
  },
  {
   "cell_type": "markdown",
   "metadata": {},
   "source": [
    "<h1>Without offset</h1>"
   ]
  },
  {
   "cell_type": "code",
   "execution_count": 530,
   "metadata": {},
   "outputs": [],
   "source": [
    "data = pd.read_excel('data/Freq_statistics.xlsx')\n",
    "y = data.Claims\n",
    "offset = - np.log(data.Exposed)\n",
    "X = data.drop(['Claims', 'Exposed', 'Horse_power', 'Weight'], axis = 1)"
   ]
  },
  {
   "cell_type": "code",
   "execution_count": 531,
   "metadata": {},
   "outputs": [
    {
     "data": {
      "text/html": [
       "<div>\n",
       "<style scoped>\n",
       "    .dataframe tbody tr th:only-of-type {\n",
       "        vertical-align: middle;\n",
       "    }\n",
       "\n",
       "    .dataframe tbody tr th {\n",
       "        vertical-align: top;\n",
       "    }\n",
       "\n",
       "    .dataframe thead th {\n",
       "        text-align: right;\n",
       "    }\n",
       "</style>\n",
       "<table border=\"1\" class=\"dataframe\">\n",
       "  <thead>\n",
       "    <tr style=\"text-align: right;\">\n",
       "      <th></th>\n",
       "      <th>Age</th>\n",
       "      <th>Experience</th>\n",
       "      <th>Area</th>\n",
       "    </tr>\n",
       "  </thead>\n",
       "  <tbody>\n",
       "    <tr>\n",
       "      <th>0</th>\n",
       "      <td>18</td>\n",
       "      <td>0</td>\n",
       "      <td>2</td>\n",
       "    </tr>\n",
       "    <tr>\n",
       "      <th>1</th>\n",
       "      <td>18</td>\n",
       "      <td>0</td>\n",
       "      <td>2</td>\n",
       "    </tr>\n",
       "    <tr>\n",
       "      <th>2</th>\n",
       "      <td>18</td>\n",
       "      <td>0</td>\n",
       "      <td>2</td>\n",
       "    </tr>\n",
       "    <tr>\n",
       "      <th>3</th>\n",
       "      <td>18</td>\n",
       "      <td>0</td>\n",
       "      <td>2</td>\n",
       "    </tr>\n",
       "    <tr>\n",
       "      <th>4</th>\n",
       "      <td>18</td>\n",
       "      <td>0</td>\n",
       "      <td>2</td>\n",
       "    </tr>\n",
       "  </tbody>\n",
       "</table>\n",
       "</div>"
      ],
      "text/plain": [
       "   Age  Experience  Area\n",
       "0   18           0     2\n",
       "1   18           0     2\n",
       "2   18           0     2\n",
       "3   18           0     2\n",
       "4   18           0     2"
      ]
     },
     "execution_count": 531,
     "metadata": {},
     "output_type": "execute_result"
    }
   ],
   "source": [
    "X.head()"
   ]
  },
  {
   "cell_type": "code",
   "execution_count": 532,
   "metadata": {},
   "outputs": [],
   "source": [
    "X['Age*Exp'] = X.Age*X.Experience\n",
    "X['Age*Area'] = X.Age*X.Area\n",
    "X['Exp*Area'] = X.Experience*X.Area\n",
    "X['Age*Exp*Area'] = X.Age*X.Experience*X.Area\n",
    "X_sm = sm.add_constant(X)"
   ]
  },
  {
   "cell_type": "code",
   "execution_count": 533,
   "metadata": {},
   "outputs": [
    {
     "data": {
      "text/html": [
       "<table class=\"simpletable\">\n",
       "<tr>\n",
       "        <td>Model:</td>               <td>GLM</td>            <td>AIC:</td>        <td>4693.8465</td> \n",
       "</tr>\n",
       "<tr>\n",
       "    <td>Link Function:</td>           <td>log</td>            <td>BIC:</td>       <td>-40416.5809</td>\n",
       "</tr>\n",
       "<tr>\n",
       "  <td>Dependent Variable:</td>      <td>Claims</td>      <td>Log-Likelihood:</td>   <td>-2338.9</td>  \n",
       "</tr>\n",
       "<tr>\n",
       "         <td>Date:</td>        <td>2019-06-24 16:03</td>    <td>LL-Null:</td>       <td>-3286.7</td>  \n",
       "</tr>\n",
       "<tr>\n",
       "   <td>No. Observations:</td>        <td>4982</td>          <td>Deviance:</td>      <td>1930.0</td>   \n",
       "</tr>\n",
       "<tr>\n",
       "       <td>Df Model:</td>              <td>7</td>         <td>Pearson chi2:</td>   <td>1.74e+03</td>  \n",
       "</tr>\n",
       "<tr>\n",
       "     <td>Df Residuals:</td>          <td>4974</td>           <td>Scale:</td>        <td>1.0000</td>   \n",
       "</tr>\n",
       "<tr>\n",
       "        <td>Method:</td>             <td>IRLS</td>              <td></td>              <td></td>      \n",
       "</tr>\n",
       "</table>\n",
       "<table class=\"simpletable\">\n",
       "<tr>\n",
       "        <td></td>        <th>Coef.</th>  <th>Std.Err.</th>    <th>z</th>     <th>P>|z|</th> <th>[0.025</th>  <th>0.975]</th> \n",
       "</tr>\n",
       "<tr>\n",
       "  <th>const</th>        <td>-2.4278</td>  <td>0.3990</td>  <td>-6.0844</td> <td>0.0000</td> <td>-3.2099</td> <td>-1.6458</td>\n",
       "</tr>\n",
       "<tr>\n",
       "  <th>Age</th>          <td>-0.0529</td>  <td>0.0098</td>  <td>-5.4163</td> <td>0.0000</td> <td>-0.0721</td> <td>-0.0338</td>\n",
       "</tr>\n",
       "<tr>\n",
       "  <th>Experience</th>   <td>-0.7046</td>  <td>0.1068</td>  <td>-6.5993</td> <td>0.0000</td> <td>-0.9139</td> <td>-0.4954</td>\n",
       "</tr>\n",
       "<tr>\n",
       "  <th>Area</th>         <td>1.2248</td>   <td>0.1857</td>  <td>6.5943</td>  <td>0.0000</td> <td>0.8607</td>  <td>1.5888</td> \n",
       "</tr>\n",
       "<tr>\n",
       "  <th>Age*Exp</th>      <td>0.0114</td>   <td>0.0016</td>  <td>7.0524</td>  <td>0.0000</td> <td>0.0082</td>  <td>0.0146</td> \n",
       "</tr>\n",
       "<tr>\n",
       "  <th>Age*Area</th>     <td>0.0188</td>   <td>0.0046</td>  <td>4.1114</td>  <td>0.0000</td> <td>0.0098</td>  <td>0.0277</td> \n",
       "</tr>\n",
       "<tr>\n",
       "  <th>Exp*Area</th>     <td>0.2299</td>   <td>0.0490</td>  <td>4.6883</td>  <td>0.0000</td> <td>0.1338</td>  <td>0.3260</td> \n",
       "</tr>\n",
       "<tr>\n",
       "  <th>Age*Exp*Area</th> <td>-0.0038</td>  <td>0.0007</td>  <td>-5.0546</td> <td>0.0000</td> <td>-0.0052</td> <td>-0.0023</td>\n",
       "</tr>\n",
       "</table>"
      ],
      "text/plain": [
       "<class 'statsmodels.iolib.summary2.Summary'>\n",
       "\"\"\"\n",
       "               Results: Generalized linear model\n",
       "================================================================\n",
       "Model:              GLM              AIC:            4693.8465  \n",
       "Link Function:      log              BIC:            -40416.5809\n",
       "Dependent Variable: Claims           Log-Likelihood: -2338.9    \n",
       "Date:               2019-06-24 16:03 LL-Null:        -3286.7    \n",
       "No. Observations:   4982             Deviance:       1930.0     \n",
       "Df Model:           7                Pearson chi2:   1.74e+03   \n",
       "Df Residuals:       4974             Scale:          1.0000     \n",
       "Method:             IRLS                                        \n",
       "----------------------------------------------------------------\n",
       "                  Coef.  Std.Err.    z    P>|z|   [0.025  0.975]\n",
       "----------------------------------------------------------------\n",
       "const            -2.4278   0.3990 -6.0844 0.0000 -3.2099 -1.6458\n",
       "Age              -0.0529   0.0098 -5.4163 0.0000 -0.0721 -0.0338\n",
       "Experience       -0.7046   0.1068 -6.5993 0.0000 -0.9139 -0.4954\n",
       "Area              1.2248   0.1857  6.5943 0.0000  0.8607  1.5888\n",
       "Age*Exp           0.0114   0.0016  7.0524 0.0000  0.0082  0.0146\n",
       "Age*Area          0.0188   0.0046  4.1114 0.0000  0.0098  0.0277\n",
       "Exp*Area          0.2299   0.0490  4.6883 0.0000  0.1338  0.3260\n",
       "Age*Exp*Area     -0.0038   0.0007 -5.0546 0.0000 -0.0052 -0.0023\n",
       "================================================================\n",
       "\n",
       "\"\"\""
      ]
     },
     "execution_count": 533,
     "metadata": {},
     "output_type": "execute_result"
    }
   ],
   "source": [
    "model = sm.GLM(y, X_sm, family=sm.families.Poisson())\n",
    "model_results = model.fit()\n",
    "model_results.summary2()"
   ]
  },
  {
   "cell_type": "code",
   "execution_count": 534,
   "metadata": {},
   "outputs": [
    {
     "data": {
      "text/plain": [
       "(0    0.774699\n",
       " 1    0.774699\n",
       " 2    0.774699\n",
       " 3    0.774699\n",
       " 4    0.774699\n",
       " dtype: float64, 0    0.936308\n",
       " 1    1.303065\n",
       " 2    0.948876\n",
       " 3    1.245661\n",
       " 4    0.856864\n",
       " dtype: float64)"
      ]
     },
     "execution_count": 534,
     "metadata": {},
     "output_type": "execute_result"
    }
   ],
   "source": [
    "frequency = model_results.predict(X_sm)\n",
    "frequency[:5], (frequency * np.exp(offset))[:5]"
   ]
  },
  {
   "cell_type": "code",
   "execution_count": 535,
   "metadata": {},
   "outputs": [
    {
     "data": {
      "text/plain": [
       "(4693.846490630964, -40416.580947526374)"
      ]
     },
     "execution_count": 535,
     "metadata": {},
     "output_type": "execute_result"
    },
    {
     "data": {
      "image/png": "[encoded data removed]",
      "text/plain": [
       "<Figure size 432x288 with 1 Axes>"
      ]
     },
     "metadata": {
      "needs_background": "light"
     },
     "output_type": "display_data"
    }
   ],
   "source": [
    "seaborn.residplot(y, frequency*np.exp(offset))\n",
    "model_results.aic, model_results.bic"
   ]
  },
  {
   "cell_type": "code",
   "execution_count": 542,
   "metadata": {},
   "outputs": [
    {
     "data": {
      "text/html": [
       "<table class=\"simpletable\">\n",
       "<tr>\n",
       "        <td>Model:</td>               <td>GLM</td>            <td>AIC:</td>        <td>4986.8226</td> \n",
       "</tr>\n",
       "<tr>\n",
       "    <td>Link Function:</td>           <td>log</td>            <td>BIC:</td>       <td>-40123.6048</td>\n",
       "</tr>\n",
       "<tr>\n",
       "  <td>Dependent Variable:</td>      <td>Claims</td>      <td>Log-Likelihood:</td>   <td>-2485.4</td>  \n",
       "</tr>\n",
       "<tr>\n",
       "         <td>Date:</td>        <td>2019-06-24 16:04</td>    <td>LL-Null:</td>       <td>-3286.7</td>  \n",
       "</tr>\n",
       "<tr>\n",
       "   <td>No. Observations:</td>        <td>4982</td>          <td>Deviance:</td>      <td>2223.0</td>   \n",
       "</tr>\n",
       "<tr>\n",
       "       <td>Df Model:</td>              <td>7</td>         <td>Pearson chi2:</td>   <td>2.39e+03</td>  \n",
       "</tr>\n",
       "<tr>\n",
       "     <td>Df Residuals:</td>          <td>4974</td>           <td>Scale:</td>        <td>1.0000</td>   \n",
       "</tr>\n",
       "<tr>\n",
       "        <td>Method:</td>             <td>IRLS</td>              <td></td>              <td></td>      \n",
       "</tr>\n",
       "</table>\n",
       "<table class=\"simpletable\">\n",
       "<tr>\n",
       "        <td></td>        <th>Coef.</th>  <th>Std.Err.</th>    <th>z</th>     <th>P>|z|</th> <th>[0.025</th>  <th>0.975]</th> \n",
       "</tr>\n",
       "<tr>\n",
       "  <th>const</th>        <td>-2.9914</td>  <td>0.3964</td>  <td>-7.5465</td> <td>0.0000</td> <td>-3.7684</td> <td>-2.2145</td>\n",
       "</tr>\n",
       "<tr>\n",
       "  <th>Age</th>          <td>-0.0510</td>  <td>0.0097</td>  <td>-5.2508</td> <td>0.0000</td> <td>-0.0701</td> <td>-0.0320</td>\n",
       "</tr>\n",
       "<tr>\n",
       "  <th>Experience</th>   <td>-0.6372</td>  <td>0.1068</td>  <td>-5.9673</td> <td>0.0000</td> <td>-0.8464</td> <td>-0.4279</td>\n",
       "</tr>\n",
       "<tr>\n",
       "  <th>Area</th>         <td>1.2536</td>   <td>0.1846</td>  <td>6.7906</td>  <td>0.0000</td> <td>0.8918</td>  <td>1.6154</td> \n",
       "</tr>\n",
       "<tr>\n",
       "  <th>Age*Exp</th>      <td>0.0105</td>   <td>0.0016</td>  <td>6.5080</td>  <td>0.0000</td> <td>0.0073</td>  <td>0.0136</td> \n",
       "</tr>\n",
       "<tr>\n",
       "  <th>Age*Area</th>     <td>0.0179</td>   <td>0.0046</td>  <td>3.9317</td>  <td>0.0001</td> <td>0.0090</td>  <td>0.0268</td> \n",
       "</tr>\n",
       "<tr>\n",
       "  <th>Exp*Area</th>     <td>0.1892</td>   <td>0.0493</td>  <td>3.8356</td>  <td>0.0001</td> <td>0.0925</td>  <td>0.2858</td> \n",
       "</tr>\n",
       "<tr>\n",
       "  <th>Age*Exp*Area</th> <td>-0.0032</td>  <td>0.0007</td>  <td>-4.3110</td> <td>0.0000</td> <td>-0.0047</td> <td>-0.0017</td>\n",
       "</tr>\n",
       "</table>"
      ],
      "text/plain": [
       "<class 'statsmodels.iolib.summary2.Summary'>\n",
       "\"\"\"\n",
       "               Results: Generalized linear model\n",
       "================================================================\n",
       "Model:              GLM              AIC:            4986.8226  \n",
       "Link Function:      log              BIC:            -40123.6048\n",
       "Dependent Variable: Claims           Log-Likelihood: -2485.4    \n",
       "Date:               2019-06-24 16:04 LL-Null:        -3286.7    \n",
       "No. Observations:   4982             Deviance:       2223.0     \n",
       "Df Model:           7                Pearson chi2:   2.39e+03   \n",
       "Df Residuals:       4974             Scale:          1.0000     \n",
       "Method:             IRLS                                        \n",
       "----------------------------------------------------------------\n",
       "                  Coef.  Std.Err.    z    P>|z|   [0.025  0.975]\n",
       "----------------------------------------------------------------\n",
       "const            -2.9914   0.3964 -7.5465 0.0000 -3.7684 -2.2145\n",
       "Age              -0.0510   0.0097 -5.2508 0.0000 -0.0701 -0.0320\n",
       "Experience       -0.6372   0.1068 -5.9673 0.0000 -0.8464 -0.4279\n",
       "Area              1.2536   0.1846  6.7906 0.0000  0.8918  1.6154\n",
       "Age*Exp           0.0105   0.0016  6.5080 0.0000  0.0073  0.0136\n",
       "Age*Area          0.0179   0.0046  3.9317 0.0001  0.0090  0.0268\n",
       "Exp*Area          0.1892   0.0493  3.8356 0.0001  0.0925  0.2858\n",
       "Age*Exp*Area     -0.0032   0.0007 -4.3110 0.0000 -0.0047 -0.0017\n",
       "================================================================\n",
       "\n",
       "\"\"\""
      ]
     },
     "execution_count": 542,
     "metadata": {},
     "output_type": "execute_result"
    }
   ],
   "source": [
    "model_off = sm.GLM(y, X_sm, family=sm.families.Poisson(), offset=offset)\n",
    "model_off_results = model_off.fit()\n",
    "model_off_results.summary2()"
   ]
  },
  {
   "cell_type": "code",
   "execution_count": 543,
   "metadata": {},
   "outputs": [
    {
     "data": {
      "text/plain": [
       "(0    0.468414\n",
       " 1    0.468414\n",
       " 2    0.468414\n",
       " 3    0.468414\n",
       " 4    0.468414\n",
       " dtype: float64, 0    0.566129\n",
       " 1    0.787885\n",
       " 2    0.573728\n",
       " 3    0.753176\n",
       " 4    0.518094\n",
       " dtype: float64)"
      ]
     },
     "execution_count": 543,
     "metadata": {},
     "output_type": "execute_result"
    }
   ],
   "source": [
    "frequency_off = model_off_results.predict(X_sm)\n",
    "frequency_off[:5], (frequency_off * np.exp(offset))[:5]"
   ]
  },
  {
   "cell_type": "code",
   "execution_count": 544,
   "metadata": {},
   "outputs": [
    {
     "data": {
      "text/plain": [
       "(4986.8226392935485, -40123.604798863795)"
      ]
     },
     "execution_count": 544,
     "metadata": {},
     "output_type": "execute_result"
    },
    {
     "data": {
      "image/png": "[encoded data removed]",
      "text/plain": [
       "<Figure size 432x288 with 1 Axes>"
      ]
     },
     "metadata": {
      "needs_background": "light"
     },
     "output_type": "display_data"
    }
   ],
   "source": [
    "seaborn.residplot(y, frequency_off*np.exp(offset))\n",
    "model_off_results.aic, model_off_results.bic"
   ]
  },
  {
   "cell_type": "code",
   "execution_count": 545,
   "metadata": {
    "scrolled": false
   },
   "outputs": [
    {
     "data": {
      "text/html": [
       "<table class=\"simpletable\">\n",
       "<tr>\n",
       "        <td>Model:</td>               <td>GLM</td>            <td>AIC:</td>        <td>4856.9889</td> \n",
       "</tr>\n",
       "<tr>\n",
       "    <td>Link Function:</td>           <td>log</td>            <td>BIC:</td>       <td>-40253.4385</td>\n",
       "</tr>\n",
       "<tr>\n",
       "  <td>Dependent Variable:</td>      <td>Claims</td>      <td>Log-Likelihood:</td>   <td>-2420.5</td>  \n",
       "</tr>\n",
       "<tr>\n",
       "         <td>Date:</td>        <td>2019-06-24 16:04</td>    <td>LL-Null:</td>       <td>-3286.7</td>  \n",
       "</tr>\n",
       "<tr>\n",
       "   <td>No. Observations:</td>        <td>4982</td>          <td>Deviance:</td>      <td>2093.1</td>   \n",
       "</tr>\n",
       "<tr>\n",
       "       <td>Df Model:</td>              <td>7</td>         <td>Pearson chi2:</td>   <td>2.16e+03</td>  \n",
       "</tr>\n",
       "<tr>\n",
       "     <td>Df Residuals:</td>          <td>4974</td>           <td>Scale:</td>        <td>1.0000</td>   \n",
       "</tr>\n",
       "<tr>\n",
       "        <td>Method:</td>             <td>IRLS</td>              <td></td>              <td></td>      \n",
       "</tr>\n",
       "</table>\n",
       "<table class=\"simpletable\">\n",
       "<tr>\n",
       "        <td></td>        <th>Coef.</th>  <th>Std.Err.</th>    <th>z</th>     <th>P>|z|</th> <th>[0.025</th>  <th>0.975]</th> \n",
       "</tr>\n",
       "<tr>\n",
       "  <th>const</th>        <td>-2.1315</td>  <td>0.4020</td>  <td>-5.3029</td> <td>0.0000</td> <td>-2.9193</td> <td>-1.3437</td>\n",
       "</tr>\n",
       "<tr>\n",
       "  <th>Age</th>          <td>-0.0507</td>  <td>0.0098</td>  <td>-5.1834</td> <td>0.0000</td> <td>-0.0699</td> <td>-0.0316</td>\n",
       "</tr>\n",
       "<tr>\n",
       "  <th>Experience</th>   <td>-0.7665</td>  <td>0.1068</td>  <td>-7.1790</td> <td>0.0000</td> <td>-0.9757</td> <td>-0.5572</td>\n",
       "</tr>\n",
       "<tr>\n",
       "  <th>Area</th>         <td>1.2571</td>   <td>0.1871</td>  <td>6.7184</td>  <td>0.0000</td> <td>0.8904</td>  <td>1.6238</td> \n",
       "</tr>\n",
       "<tr>\n",
       "  <th>Age*Exp</th>      <td>0.0122</td>   <td>0.0016</td>  <td>7.5157</td>  <td>0.0000</td> <td>0.0090</td>  <td>0.0153</td> \n",
       "</tr>\n",
       "<tr>\n",
       "  <th>Age*Area</th>     <td>0.0175</td>   <td>0.0046</td>  <td>3.8269</td>  <td>0.0001</td> <td>0.0085</td>  <td>0.0264</td> \n",
       "</tr>\n",
       "<tr>\n",
       "  <th>Exp*Area</th>     <td>0.2668</td>   <td>0.0488</td>  <td>5.4632</td>  <td>0.0000</td> <td>0.1711</td>  <td>0.3626</td> \n",
       "</tr>\n",
       "<tr>\n",
       "  <th>Age*Exp*Area</th> <td>-0.0042</td>  <td>0.0007</td>  <td>-5.6858</td> <td>0.0000</td> <td>-0.0057</td> <td>-0.0028</td>\n",
       "</tr>\n",
       "</table>"
      ],
      "text/plain": [
       "<class 'statsmodels.iolib.summary2.Summary'>\n",
       "\"\"\"\n",
       "               Results: Generalized linear model\n",
       "================================================================\n",
       "Model:              GLM              AIC:            4856.9889  \n",
       "Link Function:      log              BIC:            -40253.4385\n",
       "Dependent Variable: Claims           Log-Likelihood: -2420.5    \n",
       "Date:               2019-06-24 16:04 LL-Null:        -3286.7    \n",
       "No. Observations:   4982             Deviance:       2093.1     \n",
       "Df Model:           7                Pearson chi2:   2.16e+03   \n",
       "Df Residuals:       4974             Scale:          1.0000     \n",
       "Method:             IRLS                                        \n",
       "----------------------------------------------------------------\n",
       "                  Coef.  Std.Err.    z    P>|z|   [0.025  0.975]\n",
       "----------------------------------------------------------------\n",
       "const            -2.1315   0.4020 -5.3029 0.0000 -2.9193 -1.3437\n",
       "Age              -0.0507   0.0098 -5.1834 0.0000 -0.0699 -0.0316\n",
       "Experience       -0.7665   0.1068 -7.1790 0.0000 -0.9757 -0.5572\n",
       "Area              1.2571   0.1871  6.7184 0.0000  0.8904  1.6238\n",
       "Age*Exp           0.0122   0.0016  7.5157 0.0000  0.0090  0.0153\n",
       "Age*Area          0.0175   0.0046  3.8269 0.0001  0.0085  0.0264\n",
       "Exp*Area          0.2668   0.0488  5.4632 0.0000  0.1711  0.3626\n",
       "Age*Exp*Area     -0.0042   0.0007 -5.6858 0.0000 -0.0057 -0.0028\n",
       "================================================================\n",
       "\n",
       "\"\"\""
      ]
     },
     "execution_count": 545,
     "metadata": {},
     "output_type": "execute_result"
    }
   ],
   "source": [
    "model_off = sm.GLM(y, X_sm, family=sm.families.Poisson(), offset=-offset)\n",
    "model_off_results = model_off.fit()\n",
    "model_off_results.summary2()"
   ]
  },
  {
   "cell_type": "code",
   "execution_count": 546,
   "metadata": {},
   "outputs": [
    {
     "data": {
      "text/plain": [
       "(0    1.103246\n",
       " 1    1.103246\n",
       " 2    1.103246\n",
       " 3    1.103246\n",
       " 4    1.103246\n",
       " dtype: float64, 0    0.912823\n",
       " 1    0.655903\n",
       " 2    0.900733\n",
       " 3    0.686129\n",
       " 4    0.997456\n",
       " dtype: float64)"
      ]
     },
     "execution_count": 546,
     "metadata": {},
     "output_type": "execute_result"
    }
   ],
   "source": [
    "frequency_off = model_off_results.predict(X_sm)\n",
    "frequency_off[:5], (frequency_off * np.exp(-offset))[:5]"
   ]
  },
  {
   "cell_type": "code",
   "execution_count": 547,
   "metadata": {},
   "outputs": [
    {
     "data": {
      "text/plain": [
       "(4856.98891532077, -40253.43852283657)"
      ]
     },
     "execution_count": 547,
     "metadata": {},
     "output_type": "execute_result"
    },
    {
     "data": {
      "image/png": "[encoded data removed]",
      "text/plain": [
       "<Figure size 432x288 with 1 Axes>"
      ]
     },
     "metadata": {
      "needs_background": "light"
     },
     "output_type": "display_data"
    }
   ],
   "source": [
    "seaborn.residplot(y, frequency_off*np.exp(-offset))\n",
    "model_off_results.aic, model_off_results.bic"
   ]
  },
  {
   "cell_type": "code",
   "execution_count": 342,
   "metadata": {},
   "outputs": [
    {
     "data": {
      "text/plain": [
       "<matplotlib.axes._subplots.AxesSubplot at 0x7fa7b7584dd8>"
      ]
     },
     "execution_count": 342,
     "metadata": {},
     "output_type": "execute_result"
    },
    {
     "data": {
      "image/png": "[encoded data removed]",
      "text/plain": [
       "<Figure size 280x210 with 1 Axes>"
      ]
     },
     "metadata": {
      "needs_background": "light"
     },
     "output_type": "display_data"
    }
   ],
   "source": [
    "import seaborn\n",
    "import matplotlib.pyplot as plt\n",
    "import numpy\n",
    "w = 4\n",
    "h = 3\n",
    "d = 70\n",
    "plt.figure(figsize=(w, h), dpi=d)\n",
    "x = numpy.array([1, 2, 3, 4, 5, 6])\n",
    "y = numpy.array([2, 1, 6, 13, 10, 13])\n",
    "\n",
    "seaborn.residplot(x, y)"
   ]
  },
  {
   "cell_type": "code",
   "execution_count": 347,
   "metadata": {},
   "outputs": [
    {
     "data": {
      "text/plain": [
       "<matplotlib.axes._subplots.AxesSubplot at 0x7fa7b65e9ba8>"
      ]
     },
     "execution_count": 347,
     "metadata": {},
     "output_type": "execute_result"
    },
    {
     "data": {
      "image/png": "[encoded data removed]",
      "text/plain": [
       "<Figure size 432x288 with 1 Axes>"
      ]
     },
     "metadata": {
      "needs_background": "light"
     },
     "output_type": "display_data"
    }
   ],
   "source": [
    "seaborn.residplot(y, frequency_off)"
   ]
  },
  {
   "cell_type": "code",
   "execution_count": 344,
   "metadata": {},
   "outputs": [
    {
     "data": {
      "text/plain": [
       "array([ 2,  1,  6, 13, 10, 13])"
      ]
     },
     "execution_count": 344,
     "metadata": {},
     "output_type": "execute_result"
    }
   ],
   "source": [
    "y"
   ]
  },
  {
   "cell_type": "code",
   "execution_count": null,
   "metadata": {},
   "outputs": [],
   "source": []
  }
 ],
 "metadata": {
  "kernelspec": {
   "display_name": "Python 3",
   "language": "python",
   "name": "python3"
  },
  "language_info": {
   "codemirror_mode": {
    "name": "ipython",
    "version": 3
   },
   "file_extension": ".py",
   "mimetype": "text/x-python",
   "name": "python",
   "nbconvert_exporter": "python",
   "pygments_lexer": "ipython3",
   "version": "3.7.2"
  }
 },
 "nbformat": 4,
 "nbformat_minor": 2
}
