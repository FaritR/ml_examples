{
 "cells": [
  {
   "cell_type": "code",
   "execution_count": 3,
   "metadata": {
    "collapsed": true
   },
   "outputs": [],
   "source": [
    "import tensorflow as tf"
   ]
  },
  {
   "cell_type": "code",
   "execution_count": 4,
   "metadata": {
    "collapsed": false
   },
   "outputs": [
    {
     "name": "stdout",
     "output_type": "stream",
     "text": [
      "Tensor(\"Const:0\", shape=(), dtype=float32) Tensor(\"Const_1:0\", shape=(), dtype=float32)\n"
     ]
    }
   ],
   "source": [
    "node1 = tf.constant(3.0, tf.float32)\n",
    "node2 = tf.constant(4.0)\n",
    "print(node1, node2)"
   ]
  },
  {
   "cell_type": "code",
   "execution_count": 5,
   "metadata": {
    "collapsed": false
   },
   "outputs": [
    {
     "name": "stdout",
     "output_type": "stream",
     "text": [
      "[3.0, 4.0]\n"
     ]
    }
   ],
   "source": [
    "sess = tf.Session()\n",
    "print(sess.run([node1, node2]))"
   ]
  },
  {
   "cell_type": "code",
   "execution_count": 6,
   "metadata": {
    "collapsed": false
   },
   "outputs": [
    {
     "name": "stdout",
     "output_type": "stream",
     "text": [
      "Tensor(\"Add:0\", shape=(), dtype=float32)\n",
      "7.0\n"
     ]
    }
   ],
   "source": [
    "node3 = tf.add(node1, node2)\n",
    "print(node3)\n",
    "print(sess.run(node3))"
   ]
  },
  {
   "cell_type": "code",
   "execution_count": 7,
   "metadata": {
    "collapsed": true
   },
   "outputs": [],
   "source": [
    "a = tf.placeholder(tf.float32)\n",
    "b = tf.placeholder(tf.float32)\n",
    "adder_node = tf.add(a, b)"
   ]
  },
  {
   "cell_type": "code",
   "execution_count": 8,
   "metadata": {
    "collapsed": false
   },
   "outputs": [
    {
     "name": "stdout",
     "output_type": "stream",
     "text": [
      "7.5\n",
      "[ 3.  5.]\n"
     ]
    }
   ],
   "source": [
    "print(sess.run(adder_node, {a:3, b:4.5}))\n",
    "print(sess.run(adder_node, {a:[1, 2], b:[2, 3]}))"
   ]
  },
  {
   "cell_type": "code",
   "execution_count": 9,
   "metadata": {
    "collapsed": false
   },
   "outputs": [
    {
     "name": "stdout",
     "output_type": "stream",
     "text": [
      "[  6.  12.]\n"
     ]
    }
   ],
   "source": [
    "add_and_triple = adder_node * 3\n",
    "print(sess.run(add_and_triple, {a:[1, 2], b:[1, 2]}))"
   ]
  },
  {
   "cell_type": "code",
   "execution_count": 12,
   "metadata": {
    "collapsed": false
   },
   "outputs": [
    {
     "name": "stdout",
     "output_type": "stream",
     "text": [
      "[-0.30000001  0.          0.30000001  0.60000002  0.90000004]\n"
     ]
    }
   ],
   "source": [
    "a = tf.Variable([.3], tf.float32)\n",
    "b = tf.Variable([-.3], tf.float32)\n",
    "x = tf.placeholder(tf.float32)\n",
    "linear_model = a * x + b\n",
    "init = tf.global_variables_initializer()\n",
    "sess.run(init)\n",
    "print(sess.run(linear_model, {x:[0, 1, 2, 3, 4]}))"
   ]
  },
  {
   "cell_type": "code",
   "execution_count": 13,
   "metadata": {
    "collapsed": false
   },
   "outputs": [
    {
     "name": "stdout",
     "output_type": "stream",
     "text": [
      "23.66\n"
     ]
    }
   ],
   "source": [
    "y = tf.placeholder(tf.float32)\n",
    "squared_deltas = tf.square(linear_model - y)\n",
    "loss = tf.reduce_sum(squared_deltas)\n",
    "print(sess.run(loss, {x:[1, 2, 3, 4], y:[0, -1, -2, -3]}))"
   ]
  },
  {
   "cell_type": "code",
   "execution_count": 17,
   "metadata": {
    "collapsed": false
   },
   "outputs": [
    {
     "name": "stdout",
     "output_type": "stream",
     "text": [
      "0.0\n"
     ]
    }
   ],
   "source": [
    "fix_a = tf.assign(a, [-1.])\n",
    "fix_b = tf.assign(b, [1.])\n",
    "sess.run([fix_a, fix_b])\n",
    "print(sess.run(loss, {x:[1, 2, 3, 4], y:[0, -1, -2, -3]}))"
   ]
  },
  {
   "cell_type": "code",
   "execution_count": 18,
   "metadata": {
    "collapsed": false
   },
   "outputs": [
    {
     "name": "stdout",
     "output_type": "stream",
     "text": [
      "[array([-0.9999969], dtype=float32), array([ 0.99999082], dtype=float32)]\n"
     ]
    }
   ],
   "source": [
    "optimizer = tf.train.GradientDescentOptimizer(0.01)\n",
    "train = optimizer.minimize(loss)\n",
    "sess.run(init)\n",
    "for i in range(1000):\n",
    "    sess.run(train, {x:[1, 2, 3, 4], y:[0, -1, -2, -3]})\n",
    "print(sess.run([a, b]))"
   ]
  },
  {
   "cell_type": "code",
   "execution_count": 21,
   "metadata": {
    "collapsed": false
   },
   "outputs": [
    {
     "name": "stdout",
     "output_type": "stream",
     "text": [
      "[5.6999738e-11]\n"
     ]
    }
   ],
   "source": [
    "print(sess.run([loss], {x:[1, 2, 3, 4], y:[0, -1, -2, -3]}))"
   ]
  },
  {
   "cell_type": "code",
   "execution_count": 24,
   "metadata": {
    "collapsed": false
   },
   "outputs": [
    {
     "name": "stdout",
     "output_type": "stream",
     "text": [
      "WARNING:tensorflow:Using temporary folder as model directory: /tmp/tmp8b0uv6mw\n",
      "INFO:tensorflow:Using default config.\n",
      "INFO:tensorflow:Using config: {'_task_type': None, '_keep_checkpoint_max': 5, '_save_summary_steps': 100, '_is_chief': True, '_num_ps_replicas': 0, '_evaluation_master': '', '_save_checkpoints_secs': 600, '_environment': 'local', '_tf_config': gpu_options {\n",
      "  per_process_gpu_memory_fraction: 1.0\n",
      "}\n",
      ", '_master': '', '_task_id': 0, '_cluster_spec': <tensorflow.python.training.server_lib.ClusterSpec object at 0x7f2585f9aa58>, '_save_checkpoints_steps': None, '_keep_checkpoint_every_n_hours': 10000, '_tf_random_seed': None}\n",
      "WARNING:tensorflow:Rank of input Tensor (1) should be the same as output_rank (2) for column. Will attempt to expand dims. It is highly recommended that you resize your input, as this behavior may change.\n",
      "WARNING:tensorflow:From /usr/local/lib/python3.5/dist-packages/tensorflow/contrib/learn/python/learn/estimators/head.py:1362: scalar_summary (from tensorflow.python.ops.logging_ops) is deprecated and will be removed after 2016-11-30.\n",
      "Instructions for updating:\n",
      "Please switch to tf.summary.scalar. Note that tf.summary.scalar uses the node name instead of the tag. This means that TensorFlow will automatically de-duplicate summary names based on the scope they are created in. Also, passing a tensor or list of tags to a scalar summary op is no longer supported.\n",
      "INFO:tensorflow:Create CheckpointSaverHook.\n",
      "INFO:tensorflow:Saving checkpoints for 1 into /tmp/tmp8b0uv6mw/model.ckpt.\n",
      "INFO:tensorflow:loss = 1.0, step = 1\n",
      "INFO:tensorflow:global_step/sec: 1268.44\n",
      "INFO:tensorflow:loss = 0.0236798, step = 101\n",
      "INFO:tensorflow:global_step/sec: 1177.42\n",
      "INFO:tensorflow:loss = 0.00260667, step = 201\n",
      "INFO:tensorflow:global_step/sec: 1177.13\n",
      "INFO:tensorflow:loss = 0.000111067, step = 301\n",
      "INFO:tensorflow:global_step/sec: 1184.67\n",
      "INFO:tensorflow:loss = 4.58586e-05, step = 401\n",
      "INFO:tensorflow:global_step/sec: 1290.85\n",
      "INFO:tensorflow:loss = 9.51866e-07, step = 501\n",
      "INFO:tensorflow:global_step/sec: 1266.69\n",
      "INFO:tensorflow:loss = 8.16225e-07, step = 601\n",
      "INFO:tensorflow:global_step/sec: 1111.8\n",
      "INFO:tensorflow:loss = 9.75378e-08, step = 701\n",
      "INFO:tensorflow:global_step/sec: 1324.95\n",
      "INFO:tensorflow:loss = 7.93072e-09, step = 801\n",
      "INFO:tensorflow:global_step/sec: 1403.36\n",
      "INFO:tensorflow:loss = 8.35812e-10, step = 901\n",
      "INFO:tensorflow:Saving checkpoints for 1000 into /tmp/tmp8b0uv6mw/model.ckpt.\n",
      "INFO:tensorflow:Loss for final step: 5.64171e-11.\n",
      "WARNING:tensorflow:Rank of input Tensor (1) should be the same as output_rank (2) for column. Will attempt to expand dims. It is highly recommended that you resize your input, as this behavior may change.\n",
      "WARNING:tensorflow:From /usr/local/lib/python3.5/dist-packages/tensorflow/contrib/learn/python/learn/estimators/head.py:1362: scalar_summary (from tensorflow.python.ops.logging_ops) is deprecated and will be removed after 2016-11-30.\n",
      "Instructions for updating:\n",
      "Please switch to tf.summary.scalar. Note that tf.summary.scalar uses the node name instead of the tag. This means that TensorFlow will automatically de-duplicate summary names based on the scope they are created in. Also, passing a tensor or list of tags to a scalar summary op is no longer supported.\n",
      "INFO:tensorflow:Starting evaluation at 2017-04-09-09:29:48\n",
      "INFO:tensorflow:Finished evaluation at 2017-04-09-09:29:48\n",
      "INFO:tensorflow:Saving dict for global step 1000: global_step = 1000, loss = 8.29937e-11\n",
      "WARNING:tensorflow:Skipping summary for global_step, must be a float or np.float32.\n"
     ]
    },
    {
     "data": {
      "text/plain": [
       "{'global_step': 1000, 'loss': 8.2993661e-11}"
      ]
     },
     "execution_count": 24,
     "metadata": {},
     "output_type": "execute_result"
    }
   ],
   "source": [
    "import numpy as np\n",
    "features = [tf.contrib.layers.real_valued_column(\"x\", dimension = 1)]\n",
    "estimator = tf.contrib.learn.LinearRegressor(feature_columns = features)\n",
    "x = np.array([1., 2., 3., 4.])\n",
    "y = np.array([0., -1., -2., -3.])\n",
    "input_fn = tf.contrib.learn.io.numpy_input_fn({\"x\":x}, y, batch_size = 4, num_epochs = 1000)\n",
    "estimator.fit(input_fn = input_fn, steps = 1000)\n",
    "estimator.evaluate(input_fn = input_fn)"
   ]
  },
  {
   "cell_type": "code",
   "execution_count": 35,
   "metadata": {
    "collapsed": false
   },
   "outputs": [
    {
     "name": "stdout",
     "output_type": "stream",
     "text": [
      "WARNING:tensorflow:Using temporary folder as model directory: /tmp/tmpvfxmccnn\n",
      "INFO:tensorflow:Using default config.\n",
      "INFO:tensorflow:Using config: {'_task_type': None, '_keep_checkpoint_max': 5, '_save_summary_steps': 100, '_is_chief': True, '_num_ps_replicas': 0, '_evaluation_master': '', '_save_checkpoints_secs': 600, '_environment': 'local', '_tf_config': gpu_options {\n",
      "  per_process_gpu_memory_fraction: 1.0\n",
      "}\n",
      ", '_master': '', '_task_id': 0, '_cluster_spec': <tensorflow.python.training.server_lib.ClusterSpec object at 0x7f25869f5ef0>, '_save_checkpoints_steps': None, '_keep_checkpoint_every_n_hours': 10000, '_tf_random_seed': None}\n",
      "INFO:tensorflow:Create CheckpointSaverHook.\n",
      "INFO:tensorflow:Saving checkpoints for 1 into /tmp/tmpvfxmccnn/model.ckpt.\n",
      "INFO:tensorflow:loss = 5.88955272672, step = 1\n",
      "INFO:tensorflow:global_step/sec: 1085.82\n",
      "INFO:tensorflow:loss = 0.00666280672168, step = 101\n",
      "INFO:tensorflow:global_step/sec: 1010.83\n",
      "INFO:tensorflow:loss = 0.000364787346446, step = 201\n",
      "INFO:tensorflow:global_step/sec: 1108.06\n",
      "INFO:tensorflow:loss = 8.17048081548e-06, step = 301\n",
      "INFO:tensorflow:global_step/sec: 1166.6\n",
      "INFO:tensorflow:loss = 2.16965437254e-06, step = 401\n",
      "INFO:tensorflow:global_step/sec: 1347.3\n",
      "INFO:tensorflow:loss = 3.47704001715e-07, step = 501\n",
      "INFO:tensorflow:global_step/sec: 1178.75\n",
      "INFO:tensorflow:loss = 2.75600431508e-08, step = 601\n",
      "INFO:tensorflow:global_step/sec: 1053.91\n",
      "INFO:tensorflow:loss = 3.55933369732e-09, step = 701\n",
      "INFO:tensorflow:global_step/sec: 1371.04\n",
      "INFO:tensorflow:loss = 2.1874044016e-10, step = 801\n",
      "INFO:tensorflow:global_step/sec: 1793.07\n",
      "INFO:tensorflow:loss = 8.48575346365e-12, step = 901\n",
      "INFO:tensorflow:Saving checkpoints for 1000 into /tmp/tmpvfxmccnn/model.ckpt.\n",
      "INFO:tensorflow:Loss for final step: 1.89257355562e-12.\n",
      "INFO:tensorflow:Starting evaluation at 2017-04-09-09:54:32\n",
      "INFO:tensorflow:Evaluation [1/10]\n",
      "INFO:tensorflow:Evaluation [2/10]\n",
      "INFO:tensorflow:Evaluation [3/10]\n",
      "INFO:tensorflow:Evaluation [4/10]\n",
      "INFO:tensorflow:Evaluation [5/10]\n",
      "INFO:tensorflow:Evaluation [6/10]\n",
      "INFO:tensorflow:Evaluation [7/10]\n",
      "INFO:tensorflow:Evaluation [8/10]\n",
      "INFO:tensorflow:Evaluation [9/10]\n",
      "INFO:tensorflow:Evaluation [10/10]\n",
      "INFO:tensorflow:Finished evaluation at 2017-04-09-09:54:32\n",
      "INFO:tensorflow:Saving dict for global step 1000: global_step = 1000, loss = 1.76519e-12\n",
      "WARNING:tensorflow:Skipping summary for global_step, must be a float or np.float32.\n",
      "{'loss': 1.7651873e-12, 'global_step': 1000}\n"
     ]
    }
   ],
   "source": [
    "def model(features, labels, mode):\n",
    "    A = tf.get_variable(\"A\", [1], dtype = tf.float64)\n",
    "    b = tf.get_variable(\"b\", [1], dtype = tf.float64)\n",
    "    y = A * features['x'] + b\n",
    "    loss = tf.reduce_sum(tf.square(y - labels))\n",
    "    global_step = tf.train.get_global_step()\n",
    "    optimizer = tf.train.GradientDescentOptimizer(0.01)\n",
    "    train = tf.group(optimizer.minimize(loss), tf.assign_add(global_step, 1))\n",
    "    return tf.contrib.learn.ModelFnOps(mode = mode, predictions = y, loss = loss, train_op = train)\n",
    "estimator = tf.contrib.learn.Estimator(model_fn = model)\n",
    "x = np.array([1., 2., 3., 4.])\n",
    "y = np.array([0., -1., -2., -3.])\n",
    "input_fn = tf.contrib.learn.io.numpy_input_fn({\"x\": x}, y, 4, num_epochs = 1000)\n",
    "estimator.fit(input_fn = input_fn, steps = 1000)\n",
    "print(estimator.evaluate(input_fn = input_fn, steps = 10))"
   ]
  },
  {
   "cell_type": "code",
   "execution_count": null,
   "metadata": {
    "collapsed": false
   },
   "outputs": [],
   "source": []
  },
  {
   "cell_type": "code",
   "execution_count": null,
   "metadata": {
    "collapsed": true
   },
   "outputs": [],
   "source": []
  }
 ],
 "metadata": {
  "kernelspec": {
   "display_name": "Python 3",
   "language": "python",
   "name": "python3"
  },
  "language_info": {
   "codemirror_mode": {
    "name": "ipython",
    "version": 3
   },
   "file_extension": ".py",
   "mimetype": "text/x-python",
   "name": "python",
   "nbconvert_exporter": "python",
   "pygments_lexer": "ipython3",
   "version": "3.5.2"
  }
 },
 "nbformat": 4,
 "nbformat_minor": 2
}
