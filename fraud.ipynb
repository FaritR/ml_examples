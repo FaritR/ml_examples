{
 "cells": [
  {
   "cell_type": "code",
   "execution_count": 1,
   "metadata": {},
   "outputs": [],
   "source": [
    "import pandas as pd"
   ]
  },
  {
   "cell_type": "code",
   "execution_count": 2,
   "metadata": {},
   "outputs": [
    {
     "data": {
      "text/html": [
       "<div>\n",
       "<style>\n",
       "    .dataframe thead tr:only-child th {\n",
       "        text-align: right;\n",
       "    }\n",
       "\n",
       "    .dataframe thead th {\n",
       "        text-align: left;\n",
       "    }\n",
       "\n",
       "    .dataframe tbody tr th {\n",
       "        vertical-align: top;\n",
       "    }\n",
       "</style>\n",
       "<table border=\"1\" class=\"dataframe\">\n",
       "  <thead>\n",
       "    <tr style=\"text-align: right;\">\n",
       "      <th></th>\n",
       "      <th>Участник 1</th>\n",
       "      <th>Участник 2</th>\n",
       "    </tr>\n",
       "    <tr>\n",
       "      <th>№ страхового события</th>\n",
       "      <th></th>\n",
       "      <th></th>\n",
       "    </tr>\n",
       "  </thead>\n",
       "  <tbody>\n",
       "    <tr>\n",
       "      <th>1</th>\n",
       "      <td>Беляев Владислав Аркадьевич</td>\n",
       "      <td>Ефимов Малик Константинович</td>\n",
       "    </tr>\n",
       "    <tr>\n",
       "      <th>2</th>\n",
       "      <td>Давыдова Ануш Оскаровна</td>\n",
       "      <td>Никифорова Божена Львовна</td>\n",
       "    </tr>\n",
       "    <tr>\n",
       "      <th>3</th>\n",
       "      <td>Белов Сергей Михайлович</td>\n",
       "      <td>Третьяков Никита Харитонович</td>\n",
       "    </tr>\n",
       "    <tr>\n",
       "      <th>4</th>\n",
       "      <td>Власов Артём Михайлович</td>\n",
       "      <td>Аксенова Вероника Кузьминична</td>\n",
       "    </tr>\n",
       "    <tr>\n",
       "      <th>5</th>\n",
       "      <td>Яковлев Алан Макарович</td>\n",
       "      <td>Сысоев Елисей Тимофеевич</td>\n",
       "    </tr>\n",
       "  </tbody>\n",
       "</table>\n",
       "</div>"
      ],
      "text/plain": [
       "                                       Участник 1  \\\n",
       "№ страхового события                                \n",
       "1                     Беляев Владислав Аркадьевич   \n",
       "2                         Давыдова Ануш Оскаровна   \n",
       "3                         Белов Сергей Михайлович   \n",
       "4                         Власов Артём Михайлович   \n",
       "5                          Яковлев Алан Макарович   \n",
       "\n",
       "                                         Участник 2  \n",
       "№ страхового события                                 \n",
       "1                       Ефимов Малик Константинович  \n",
       "2                         Никифорова Божена Львовна  \n",
       "3                      Третьяков Никита Харитонович  \n",
       "4                     Аксенова Вероника Кузьминична  \n",
       "5                          Сысоев Елисей Тимофеевич  "
      ]
     },
     "execution_count": 2,
     "metadata": {},
     "output_type": "execute_result"
    }
   ],
   "source": [
    "data = pd.read_csv('data.csv', encoding='cp1251', delimiter = \";\", index_col=\"№ страхового события\")\n",
    "data = data[[\"Участник 1\", \"Участник 2\"]]\n",
    "data.head()"
   ]
  },
  {
   "cell_type": "markdown",
   "metadata": {},
   "source": [
    "Собственно говоря у нас имеются только имена участников. Как понять, кто из них мошенник - не знаю. Единственная моя догадка, это то, что мошенники часто попадают в ДТП"
   ]
  },
  {
   "cell_type": "code",
   "execution_count": 3,
   "metadata": {},
   "outputs": [
    {
     "data": {
      "text/plain": [
       "(261, 2)"
      ]
     },
     "execution_count": 3,
     "metadata": {},
     "output_type": "execute_result"
    }
   ],
   "source": [
    "data.shape"
   ]
  },
  {
   "cell_type": "code",
   "execution_count": 4,
   "metadata": {},
   "outputs": [
    {
     "data": {
      "text/plain": [
       "256"
      ]
     },
     "execution_count": 4,
     "metadata": {},
     "output_type": "execute_result"
    }
   ],
   "source": [
    "data['Участник 1'].nunique()"
   ]
  },
  {
   "cell_type": "code",
   "execution_count": 5,
   "metadata": {},
   "outputs": [
    {
     "data": {
      "text/plain": [
       "258"
      ]
     },
     "execution_count": 5,
     "metadata": {},
     "output_type": "execute_result"
    }
   ],
   "source": [
    "data['Участник 2'].nunique()"
   ]
  },
  {
   "cell_type": "code",
   "execution_count": 6,
   "metadata": {},
   "outputs": [
    {
     "data": {
      "text/plain": [
       "Дорофеева Гулия Николаевна         3\n",
       "Стрелков Евгений Егорович          2\n",
       "Мухамадеев Александр Валерьевич    2\n",
       "Котова Виктория Архиповна          2\n",
       "Name: Участник 1, dtype: int64"
      ]
     },
     "execution_count": 6,
     "metadata": {},
     "output_type": "execute_result"
    }
   ],
   "source": [
    "data['Участник 1'].value_counts()[:4]"
   ]
  },
  {
   "cell_type": "code",
   "execution_count": 7,
   "metadata": {},
   "outputs": [
    {
     "data": {
      "text/plain": [
       "Сенчукова Екатерина Семеновна    2\n",
       "Дорофеева Гулия Николаевна       2\n",
       "Мамонтов Мстислав Георгиевич     2\n",
       "Name: Участник 2, dtype: int64"
      ]
     },
     "execution_count": 7,
     "metadata": {},
     "output_type": "execute_result"
    }
   ],
   "source": [
    "data['Участник 2'].value_counts()[:3]"
   ]
  },
  {
   "cell_type": "markdown",
   "metadata": {},
   "source": [
    "Дорофеева точно ведёт себя крайне странно. Возможно ещё следует в целом посмотреть на пересечения двух массивов"
   ]
  },
  {
   "cell_type": "code",
   "execution_count": 8,
   "metadata": {},
   "outputs": [],
   "source": [
    "all_people = pd.concat([data['Участник 1'], data['Участник 2']])"
   ]
  },
  {
   "cell_type": "code",
   "execution_count": 9,
   "metadata": {},
   "outputs": [
    {
     "data": {
      "text/plain": [
       "Дорофеева Гулия Николаевна         5\n",
       "Котова Виктория Архиповна          3\n",
       "Мамонтов Мстислав Георгиевич       3\n",
       "Павлова Мария Геннадиевна          2\n",
       "Мухамадеев Александр Валерьевич    2\n",
       "Стрелков Евгений Егорович          2\n",
       "Рогачев Антон Владимирович         2\n",
       "Сенчукова Екатерина Семеновна      2\n",
       "Комин Сергей Николаевич            2\n",
       "Коробов Вадим Александрович        2\n",
       "Воробьев Иван Александрович        2\n",
       "dtype: int64"
      ]
     },
     "execution_count": 9,
     "metadata": {},
     "output_type": "execute_result"
    }
   ],
   "source": [
    "all_people.value_counts()[:11]"
   ]
  },
  {
   "cell_type": "markdown",
   "metadata": {},
   "source": [
    "Котова и Мамонтов тоже могут быть жуликами. И последнее предположение которое у меня есть: друзья жуликов - жулики"
   ]
  },
  {
   "cell_type": "code",
   "execution_count": 10,
   "metadata": {},
   "outputs": [],
   "source": [
    "cheater = set([\"Дорофеева Гулия Николаевна\", \"Котова Виктория Архиповна\", \"Мамонтов Мстислав Георгиевич\"])"
   ]
  },
  {
   "cell_type": "code",
   "execution_count": 11,
   "metadata": {},
   "outputs": [
    {
     "name": "stdout",
     "output_type": "stream",
     "text": [
      "{'Котова Виктория Архиповна', 'Мамонтов Мстислав Георгиевич', 'Суворов Илья Макарович', 'Королева Радмила Олеговна', 'Цветков Валерий Ростиславович', 'Архипова Анна Игоревна', 'Галкина Елена Тарасовна', 'Петухова Медина Максимовна', 'Шубин Всеволод Валерьевич', 'Федотов Ростислав Богуславович', 'Дорофеева Гулия Николаевна', 'Миронов Пётр Александрович', 'Елисеева Сати Вячеславовна', 'Пахомов Анатолий Васильевич'}\n"
     ]
    }
   ],
   "source": [
    "num = 0\n",
    "while len(cheater) > num:\n",
    "    num = len(cheater)\n",
    "    for person in data.values:\n",
    "        if person[0] in cheater:\n",
    "            cheater.add(person[1])\n",
    "        if person[1] in cheater:\n",
    "            cheater.add(person[0])\n",
    "print(cheater)"
   ]
  },
  {
   "cell_type": "markdown",
   "metadata": {},
   "source": [
    "В итоге можно сказать, что у нас есть 3 почти 100% мошенников  и всего 14 людей, которые могли жульничать. Какой из этого всего можно сделать вывод. Нам важны люди, у которых большое число связей и все их связи(а ещё связи связи связей и т.д.) По сути мы занимаемся кластеризацией.\n",
    "А говоря математическим языком мы ищем компоненты связности в графе. К сожалению я не пользовался алгоритмами связанными с этим ранее.\n",
    "Если бы выборка была большой, то наверное пришлось бы строить бы строить матрицу смежности. И работать с ней.\n",
    "<a href=\"https://habrahabr.ru/post/112421/\">Статья про графы в питоне</a>"
   ]
  }
 ],
 "metadata": {
  "kernelspec": {
   "display_name": "Python 3",
   "language": "python",
   "name": "python3"
  },
  "language_info": {
   "codemirror_mode": {
    "name": "ipython",
    "version": 3
   },
   "file_extension": ".py",
   "mimetype": "text/x-python",
   "name": "python",
   "nbconvert_exporter": "python",
   "pygments_lexer": "ipython3",
   "version": "3.5.2"
  }
 },
 "nbformat": 4,
 "nbformat_minor": 2
}
