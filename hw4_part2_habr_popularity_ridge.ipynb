{
 "cells": [
  {
   "cell_type": "markdown",
   "metadata": {},
   "source": [
    "<center>\n",
    "<img src=\"../../img/ods_stickers.jpg\">\n",
    "## Открытый курс по машинному обучению\n",
    "</center>\n",
    "<center>Автор материала: Ольга Дайховская"
   ]
  },
  {
   "cell_type": "markdown",
   "metadata": {},
   "source": [
    "# <center> Домашнее задание № 4. Часть 2\n",
    "## <center>  Прогнозирование популярности статей на TechMedia с помощью линейных моделей\n",
    "\n",
    "**В задании Вам предлагается разобраться с тем, как работает TfidfVectorizer и DictVectorizer, затем обучить и настроить модель линейной регрессии Ridge на данных о публикациях на Хабрахабре. Пройдя все шаги, вы сможете получить бейзлайн для [соревнования](https://inclass.kaggle.com/c/howpop-habrahabr-favs-lognorm). \n",
    "Ответьте на все вопросы в этой тетрадке и заполните ответы в [гугл-форме](https://docs.google.com/forms/d/e/1FAIpQLSd8E7naU38ikc9-rd31KeVfez3emCo4Ok1WrpQTr-XCDelRiw/viewform).**"
   ]
  },
  {
   "cell_type": "markdown",
   "metadata": {},
   "source": [
    "**Описание соревнования**\n",
    "\n",
    "Предскажите, как много звездочек наберет статья, зная только ее текст и время публикации\n",
    "\n",
    "Необходимо предсказать популярность поста на Хабре по содержанию и времени публикации. Как известно, пользователи Хабра могут добавлять статьи к себе в избранное. Общее количество пользователей, которое это сделали отображается у статьи количеством звездочек. Будем считать, что число звездочек, поставленных статье, наиболее хорошо отражает ее популярность.\n",
    "\n",
    "Более формально, в качестве метрики популярности статьи будем использовать долю статей за последний месяц, у которых количество звездочек меньше чем у текущей статьи. А точнее, доле числа звездочек можно поставить в соответствие квантили стандартного распределения, таким образом получаем числовую характеристику популярности статьи. Популярность статьи 0 означает, что статья получила ровно столько звездочек, сколько в среднем получают статьи. И соответственно чем больше звездочек получила статья по сравнению со средним, тем выше это число."
   ]
  },
  {
   "cell_type": "markdown",
   "metadata": {},
   "source": [
    "**Приступим:** импортируем необходимые библиотеки и скачаем данные"
   ]
  },
  {
   "cell_type": "code",
   "execution_count": 53,
   "metadata": {
    "collapsed": false
   },
   "outputs": [],
   "source": [
    "import pandas as pd\n",
    "\n",
    "from sklearn.feature_extraction.text import TfidfVectorizer\n",
    "from sklearn.feature_extraction import DictVectorizer\n",
    "\n",
    "#В зависимости от версии sklearn\n",
    "from sklearn.model_selection import train_test_split\n",
    "#from sklearn.cross_validation import train_test_split\n",
    "\n",
    "from sklearn.linear_model import Ridge\n",
    "from sklearn.metrics import mean_squared_error\n",
    "\n",
    "import numpy as np\n",
    "import scipy\n",
    "\n",
    "%matplotlib inline\n",
    "from matplotlib import pyplot as plt"
   ]
  },
  {
   "cell_type": "code",
   "execution_count": 54,
   "metadata": {
    "collapsed": false,
    "scrolled": true
   },
   "outputs": [],
   "source": [
    "train_df = pd.read_csv('../../data/howpop_train.csv')\n",
    "test_df  = pd.read_csv('../../data/howpop_test.csv')"
   ]
  },
  {
   "cell_type": "code",
   "execution_count": 55,
   "metadata": {
    "collapsed": false
   },
   "outputs": [
    {
     "data": {
      "text/html": [
       "<div>\n",
       "<table border=\"1\" class=\"dataframe\">\n",
       "  <thead>\n",
       "    <tr style=\"text-align: right;\">\n",
       "      <th></th>\n",
       "      <th>0</th>\n",
       "    </tr>\n",
       "  </thead>\n",
       "  <tbody>\n",
       "    <tr>\n",
       "      <th>url</th>\n",
       "      <td>https://habrahabr.ru/post/18284/</td>\n",
       "    </tr>\n",
       "    <tr>\n",
       "      <th>domain</th>\n",
       "      <td>habrahabr.ru</td>\n",
       "    </tr>\n",
       "    <tr>\n",
       "      <th>post_id</th>\n",
       "      <td>18284</td>\n",
       "    </tr>\n",
       "    <tr>\n",
       "      <th>published</th>\n",
       "      <td>2008-01-01 18:19:00</td>\n",
       "    </tr>\n",
       "    <tr>\n",
       "      <th>author</th>\n",
       "      <td>@Tapac</td>\n",
       "    </tr>\n",
       "    <tr>\n",
       "      <th>flow</th>\n",
       "      <td>develop</td>\n",
       "    </tr>\n",
       "    <tr>\n",
       "      <th>polling</th>\n",
       "      <td>False</td>\n",
       "    </tr>\n",
       "    <tr>\n",
       "      <th>content_len</th>\n",
       "      <td>4305</td>\n",
       "    </tr>\n",
       "    <tr>\n",
       "      <th>title</th>\n",
       "      <td>Новогодний подарок блоггерам — WordPress 2.3.2</td>\n",
       "    </tr>\n",
       "    <tr>\n",
       "      <th>comments</th>\n",
       "      <td>0</td>\n",
       "    </tr>\n",
       "    <tr>\n",
       "      <th>favs</th>\n",
       "      <td>0</td>\n",
       "    </tr>\n",
       "    <tr>\n",
       "      <th>views</th>\n",
       "      <td>236</td>\n",
       "    </tr>\n",
       "    <tr>\n",
       "      <th>votes_plus</th>\n",
       "      <td>0</td>\n",
       "    </tr>\n",
       "    <tr>\n",
       "      <th>votes_minus</th>\n",
       "      <td>0</td>\n",
       "    </tr>\n",
       "    <tr>\n",
       "      <th>views_lognorm</th>\n",
       "      <td>-0.792687</td>\n",
       "    </tr>\n",
       "    <tr>\n",
       "      <th>favs_lognorm</th>\n",
       "      <td>-1.34407</td>\n",
       "    </tr>\n",
       "    <tr>\n",
       "      <th>comments_lognorm</th>\n",
       "      <td>-2.43687</td>\n",
       "    </tr>\n",
       "  </tbody>\n",
       "</table>\n",
       "</div>"
      ],
      "text/plain": [
       "                                                               0\n",
       "url                             https://habrahabr.ru/post/18284/\n",
       "domain                                              habrahabr.ru\n",
       "post_id                                                    18284\n",
       "published                                    2008-01-01 18:19:00\n",
       "author                                                    @Tapac\n",
       "flow                                                     develop\n",
       "polling                                                    False\n",
       "content_len                                                 4305\n",
       "title             Новогодний подарок блоггерам — WordPress 2.3.2\n",
       "comments                                                       0\n",
       "favs                                                           0\n",
       "views                                                        236\n",
       "votes_plus                                                     0\n",
       "votes_minus                                                    0\n",
       "views_lognorm                                          -0.792687\n",
       "favs_lognorm                                            -1.34407\n",
       "comments_lognorm                                        -2.43687"
      ]
     },
     "execution_count": 55,
     "metadata": {},
     "output_type": "execute_result"
    }
   ],
   "source": [
    "train_df.head(1).T"
   ]
  },
  {
   "cell_type": "code",
   "execution_count": 56,
   "metadata": {
    "collapsed": false
   },
   "outputs": [
    {
     "data": {
      "text/plain": [
       "((134137, 17), (3990, 9))"
      ]
     },
     "execution_count": 56,
     "metadata": {},
     "output_type": "execute_result"
    }
   ],
   "source": [
    "train_df.shape, test_df.shape"
   ]
  },
  {
   "cell_type": "markdown",
   "metadata": {},
   "source": [
    "Убедимся, что данные отсортированы по признаку `published`"
   ]
  },
  {
   "cell_type": "code",
   "execution_count": 57,
   "metadata": {
    "collapsed": false
   },
   "outputs": [
    {
     "data": {
      "image/png": "[encoded data removed]",
      "text/plain": [
       "<matplotlib.figure.Figure at 0x7fd63649c9e8>"
      ]
     },
     "metadata": {},
     "output_type": "display_data"
    }
   ],
   "source": [
    "train_df['published'].apply(lambda ts: pd.to_datetime(ts).value).plot();"
   ]
  },
  {
   "cell_type": "markdown",
   "metadata": {},
   "source": [
    "**Чтобы ответить на вопросы 1 и 2, можно использовать [pandas.DataFrame.corr()](http://pandas.pydata.org/pandas-docs/stable/generated/pandas.DataFrame.corr.html), [pandas.to_datetime()](http://pandas.pydata.org/pandas-docs/stable/generated/pandas.to_datetime.html) и [pandas.Series.value_counts()](http://pandas.pydata.org/pandas-docs/stable/generated/pandas.Series.value_counts.html)**"
   ]
  },
  {
   "cell_type": "markdown",
   "metadata": {},
   "source": [
    "<font color='red'>Вопрос 1.</font> Есть ли в train_df признаки, корреляция между которыми больше 0.9? Обратите внимание, именно различные признаки - корреляция признака с самим собой естественно больше 0.9 :)\n",
    "- да\n",
    "- нет\n",
    "- не знаю"
   ]
  },
  {
   "cell_type": "code",
   "execution_count": 58,
   "metadata": {
    "collapsed": false
   },
   "outputs": [
    {
     "data": {
      "text/html": [
       "<div>\n",
       "<table border=\"1\" class=\"dataframe\">\n",
       "  <thead>\n",
       "    <tr style=\"text-align: right;\">\n",
       "      <th></th>\n",
       "      <th>post_id</th>\n",
       "      <th>polling</th>\n",
       "      <th>content_len</th>\n",
       "      <th>comments</th>\n",
       "      <th>favs</th>\n",
       "      <th>views</th>\n",
       "      <th>votes_plus</th>\n",
       "      <th>votes_minus</th>\n",
       "      <th>views_lognorm</th>\n",
       "      <th>favs_lognorm</th>\n",
       "      <th>comments_lognorm</th>\n",
       "    </tr>\n",
       "  </thead>\n",
       "  <tbody>\n",
       "    <tr>\n",
       "      <th>post_id</th>\n",
       "      <td>1.000000</td>\n",
       "      <td>0.081628</td>\n",
       "      <td>0.241384</td>\n",
       "      <td>-0.147763</td>\n",
       "      <td>0.089313</td>\n",
       "      <td>0.132385</td>\n",
       "      <td>-0.187885</td>\n",
       "      <td>-0.235594</td>\n",
       "      <td>-0.010376</td>\n",
       "      <td>-0.005845</td>\n",
       "      <td>-0.001605</td>\n",
       "    </tr>\n",
       "    <tr>\n",
       "      <th>polling</th>\n",
       "      <td>0.081628</td>\n",
       "      <td>1.000000</td>\n",
       "      <td>-0.003337</td>\n",
       "      <td>0.042605</td>\n",
       "      <td>0.006882</td>\n",
       "      <td>0.025660</td>\n",
       "      <td>-0.033505</td>\n",
       "      <td>0.027116</td>\n",
       "      <td>-0.003523</td>\n",
       "      <td>-0.036385</td>\n",
       "      <td>0.071417</td>\n",
       "    </tr>\n",
       "    <tr>\n",
       "      <th>content_len</th>\n",
       "      <td>0.241384</td>\n",
       "      <td>-0.003337</td>\n",
       "      <td>1.000000</td>\n",
       "      <td>-0.023544</td>\n",
       "      <td>0.308194</td>\n",
       "      <td>0.204101</td>\n",
       "      <td>0.068779</td>\n",
       "      <td>-0.078686</td>\n",
       "      <td>0.246063</td>\n",
       "      <td>0.356481</td>\n",
       "      <td>0.073132</td>\n",
       "    </tr>\n",
       "    <tr>\n",
       "      <th>comments</th>\n",
       "      <td>-0.147763</td>\n",
       "      <td>0.042605</td>\n",
       "      <td>-0.023544</td>\n",
       "      <td>1.000000</td>\n",
       "      <td>0.164166</td>\n",
       "      <td>0.290035</td>\n",
       "      <td>0.613961</td>\n",
       "      <td>0.457638</td>\n",
       "      <td>0.349568</td>\n",
       "      <td>0.278942</td>\n",
       "      <td>0.662740</td>\n",
       "    </tr>\n",
       "    <tr>\n",
       "      <th>favs</th>\n",
       "      <td>0.089313</td>\n",
       "      <td>0.006882</td>\n",
       "      <td>0.308194</td>\n",
       "      <td>0.164166</td>\n",
       "      <td>1.000000</td>\n",
       "      <td>0.634304</td>\n",
       "      <td>0.416241</td>\n",
       "      <td>0.062877</td>\n",
       "      <td>0.456097</td>\n",
       "      <td>0.587982</td>\n",
       "      <td>0.263239</td>\n",
       "    </tr>\n",
       "    <tr>\n",
       "      <th>views</th>\n",
       "      <td>0.132385</td>\n",
       "      <td>0.025660</td>\n",
       "      <td>0.204101</td>\n",
       "      <td>0.290035</td>\n",
       "      <td>0.634304</td>\n",
       "      <td>1.000000</td>\n",
       "      <td>0.396849</td>\n",
       "      <td>0.128654</td>\n",
       "      <td>0.585105</td>\n",
       "      <td>0.406782</td>\n",
       "      <td>0.326427</td>\n",
       "    </tr>\n",
       "    <tr>\n",
       "      <th>votes_plus</th>\n",
       "      <td>-0.187885</td>\n",
       "      <td>-0.033505</td>\n",
       "      <td>0.068779</td>\n",
       "      <td>0.613961</td>\n",
       "      <td>0.416241</td>\n",
       "      <td>0.396849</td>\n",
       "      <td>1.000000</td>\n",
       "      <td>0.464168</td>\n",
       "      <td>0.414232</td>\n",
       "      <td>0.449712</td>\n",
       "      <td>0.525081</td>\n",
       "    </tr>\n",
       "    <tr>\n",
       "      <th>votes_minus</th>\n",
       "      <td>-0.235594</td>\n",
       "      <td>0.027116</td>\n",
       "      <td>-0.078686</td>\n",
       "      <td>0.457638</td>\n",
       "      <td>0.062877</td>\n",
       "      <td>0.128654</td>\n",
       "      <td>0.464168</td>\n",
       "      <td>1.000000</td>\n",
       "      <td>0.146609</td>\n",
       "      <td>0.088226</td>\n",
       "      <td>0.355458</td>\n",
       "    </tr>\n",
       "    <tr>\n",
       "      <th>views_lognorm</th>\n",
       "      <td>-0.010376</td>\n",
       "      <td>-0.003523</td>\n",
       "      <td>0.246063</td>\n",
       "      <td>0.349568</td>\n",
       "      <td>0.456097</td>\n",
       "      <td>0.585105</td>\n",
       "      <td>0.414232</td>\n",
       "      <td>0.146609</td>\n",
       "      <td>1.000000</td>\n",
       "      <td>0.688811</td>\n",
       "      <td>0.546530</td>\n",
       "    </tr>\n",
       "    <tr>\n",
       "      <th>favs_lognorm</th>\n",
       "      <td>-0.005845</td>\n",
       "      <td>-0.036385</td>\n",
       "      <td>0.356481</td>\n",
       "      <td>0.278942</td>\n",
       "      <td>0.587982</td>\n",
       "      <td>0.406782</td>\n",
       "      <td>0.449712</td>\n",
       "      <td>0.088226</td>\n",
       "      <td>0.688811</td>\n",
       "      <td>1.000000</td>\n",
       "      <td>0.479476</td>\n",
       "    </tr>\n",
       "    <tr>\n",
       "      <th>comments_lognorm</th>\n",
       "      <td>-0.001605</td>\n",
       "      <td>0.071417</td>\n",
       "      <td>0.073132</td>\n",
       "      <td>0.662740</td>\n",
       "      <td>0.263239</td>\n",
       "      <td>0.326427</td>\n",
       "      <td>0.525081</td>\n",
       "      <td>0.355458</td>\n",
       "      <td>0.546530</td>\n",
       "      <td>0.479476</td>\n",
       "      <td>1.000000</td>\n",
       "    </tr>\n",
       "  </tbody>\n",
       "</table>\n",
       "</div>"
      ],
      "text/plain": [
       "                   post_id   polling  content_len  comments      favs  \\\n",
       "post_id           1.000000  0.081628     0.241384 -0.147763  0.089313   \n",
       "polling           0.081628  1.000000    -0.003337  0.042605  0.006882   \n",
       "content_len       0.241384 -0.003337     1.000000 -0.023544  0.308194   \n",
       "comments         -0.147763  0.042605    -0.023544  1.000000  0.164166   \n",
       "favs              0.089313  0.006882     0.308194  0.164166  1.000000   \n",
       "views             0.132385  0.025660     0.204101  0.290035  0.634304   \n",
       "votes_plus       -0.187885 -0.033505     0.068779  0.613961  0.416241   \n",
       "votes_minus      -0.235594  0.027116    -0.078686  0.457638  0.062877   \n",
       "views_lognorm    -0.010376 -0.003523     0.246063  0.349568  0.456097   \n",
       "favs_lognorm     -0.005845 -0.036385     0.356481  0.278942  0.587982   \n",
       "comments_lognorm -0.001605  0.071417     0.073132  0.662740  0.263239   \n",
       "\n",
       "                     views  votes_plus  votes_minus  views_lognorm  \\\n",
       "post_id           0.132385   -0.187885    -0.235594      -0.010376   \n",
       "polling           0.025660   -0.033505     0.027116      -0.003523   \n",
       "content_len       0.204101    0.068779    -0.078686       0.246063   \n",
       "comments          0.290035    0.613961     0.457638       0.349568   \n",
       "favs              0.634304    0.416241     0.062877       0.456097   \n",
       "views             1.000000    0.396849     0.128654       0.585105   \n",
       "votes_plus        0.396849    1.000000     0.464168       0.414232   \n",
       "votes_minus       0.128654    0.464168     1.000000       0.146609   \n",
       "views_lognorm     0.585105    0.414232     0.146609       1.000000   \n",
       "favs_lognorm      0.406782    0.449712     0.088226       0.688811   \n",
       "comments_lognorm  0.326427    0.525081     0.355458       0.546530   \n",
       "\n",
       "                  favs_lognorm  comments_lognorm  \n",
       "post_id              -0.005845         -0.001605  \n",
       "polling              -0.036385          0.071417  \n",
       "content_len           0.356481          0.073132  \n",
       "comments              0.278942          0.662740  \n",
       "favs                  0.587982          0.263239  \n",
       "views                 0.406782          0.326427  \n",
       "votes_plus            0.449712          0.525081  \n",
       "votes_minus           0.088226          0.355458  \n",
       "views_lognorm         0.688811          0.546530  \n",
       "favs_lognorm          1.000000          0.479476  \n",
       "comments_lognorm      0.479476          1.000000  "
      ]
     },
     "execution_count": 58,
     "metadata": {},
     "output_type": "execute_result"
    },
    {
     "data": {
      "image/png": "[encoded data removed]",
      "text/plain": [
       "<matplotlib.figure.Figure at 0x7fd6329189e8>"
      ]
     },
     "metadata": {},
     "output_type": "display_data"
    }
   ],
   "source": [
    "import seaborn as sns\n",
    "corr_matrix = train_df.corr()\n",
    "sns.heatmap(corr_matrix)\n",
    "corr_matrix"
   ]
  },
  {
   "cell_type": "markdown",
   "metadata": {},
   "source": [
    "<font color='red'>Вопрос 2.</font> В каком году было больше всего публикаций? (Рассматриваем train_df)\n",
    "- 2014\n",
    "- 2015\n",
    "- 2016\n",
    "- 2017"
   ]
  },
  {
   "cell_type": "code",
   "execution_count": 59,
   "metadata": {
    "collapsed": false
   },
   "outputs": [
    {
     "name": "stdout",
     "output_type": "stream",
     "text": [
      "2015    23452\n",
      "2016    16316\n",
      "2014    16180\n",
      "2012    15972\n",
      "2013    15537\n",
      "2011    15063\n",
      "2010    13091\n",
      "2009    10783\n",
      "2008     7743\n",
      "Name: year, dtype: int64\n",
      "2015\n"
     ]
    }
   ],
   "source": [
    "train_df['published'] = pd.to_datetime(train_df.published, yearfirst = True)\n",
    "train_df['year'] = [d.year for d in train_df.published]\n",
    "print(train_df.year.value_counts())\n",
    "popyear = train_df.year.value_counts().index[0]\n",
    "print(popyear)"
   ]
  },
  {
   "cell_type": "markdown",
   "metadata": {},
   "source": [
    "## Разбиение на train/valid\n",
    "Используем только признаки 'author', 'flow', 'domain' и 'title'"
   ]
  },
  {
   "cell_type": "code",
   "execution_count": 60,
   "metadata": {
    "collapsed": true
   },
   "outputs": [],
   "source": [
    "features = ['author', 'flow', 'domain','title']\n",
    "train_size = int(0.7 * train_df.shape[0])"
   ]
  },
  {
   "cell_type": "code",
   "execution_count": 61,
   "metadata": {
    "collapsed": false
   },
   "outputs": [
    {
     "data": {
      "text/plain": [
       "(134137, 93895)"
      ]
     },
     "execution_count": 61,
     "metadata": {},
     "output_type": "execute_result"
    }
   ],
   "source": [
    "len(train_df),train_size"
   ]
  },
  {
   "cell_type": "code",
   "execution_count": 62,
   "metadata": {
    "collapsed": true
   },
   "outputs": [],
   "source": [
    "X, y = train_df.ix[:, features],  train_df['favs_lognorm'] #отделяем признаки от целевой переменной\n",
    "\n",
    "X_test = test_df.ix[:, features]"
   ]
  },
  {
   "cell_type": "code",
   "execution_count": 63,
   "metadata": {
    "collapsed": false
   },
   "outputs": [],
   "source": [
    "X_train, X_valid = X.iloc[:train_size, :], X.iloc[train_size:,:]\n",
    "\n",
    "y_train, y_valid = y.iloc[:train_size], y.iloc[train_size:]"
   ]
  },
  {
   "cell_type": "markdown",
   "metadata": {},
   "source": [
    "## Применение TfidfVectorizer\n",
    "\n",
    "**TF-IDF** (от англ. TF — term frequency, IDF — inverse document frequency) — статистическая мера, используемая для оценки важности слова в контексте документа, являющегося частью коллекции документов или корпуса. Вес некоторого слова пропорционален количеству употребления этого слова в документе, и обратно пропорционален частоте употребления слова в других документах коллекции. [Подробнее в источнике](https://ru.wikipedia.org/wiki/TF-IDF)\n",
    "\n",
    "TfidfVectorizer преобразует тексты в матрицу TF-IDF признаков.\n",
    "\n",
    "**Основные параметры TfidfVectorizer в sklearn:**\n",
    "- **min_df** - при построении словаря слова, которые встречаются *реже*, чем указанное значение, игнорируются\n",
    "- **max_df** - при построении словаря слова, которые встречаются *чаще*, чем указанное значение, игнорируются\n",
    "- **analyzer** - определяет, строятся ли признаки по словам или по символам (буквам)\n",
    "- **ngram_range** - определяет, формируются ли признаки только из отдельных слов или из нескольких слов (в случае с analyzer='char' задает количество символов). Например, если указать analyzer='word' и ngram_range=(1,3),то признаки будут формироваться из отдельных слов, из пар слов и из троек слов.\n",
    "- **stop_words** - слова, которые игнорируются при построении матрицы\n",
    "\n",
    "Более подробно с параметрами можно ознакомиться в [документации](http://scikit-learn.org/stable/modules/generated/sklearn.feature_extraction.text.TfidfVectorizer.html)"
   ]
  },
  {
   "cell_type": "markdown",
   "metadata": {},
   "source": [
    "**Инициализируйте TfidfVectorizer с параметрами min_df=3, max_df=0.3 и ngram_range=(1, 3).<br />\n",
    "Примените метод fit_transform к X_train['title'] и метод transform к X_valid['title'] и X_test['title']**"
   ]
  },
  {
   "cell_type": "markdown",
   "metadata": {},
   "source": [
    "<font color='red'>Вопрос 3.</font> Какой размер у полученного словаря?\n",
    "- 43789\n",
    "- 50624\n",
    "- 93895\n",
    "- 74378"
   ]
  },
  {
   "cell_type": "code",
   "execution_count": 64,
   "metadata": {
    "collapsed": true
   },
   "outputs": [],
   "source": [
    "vectorizer_title = TfidfVectorizer(min_df=3, max_df=0.3, ngram_range=(1,3))\n",
    "\n",
    "X_train_title = vectorizer_title.fit_transform(X_train['title'])\n",
    "X_valid_title = vectorizer_title.transform(X_valid['title'])\n",
    "X_test_title = vectorizer_title.transform(X_test['title'])"
   ]
  },
  {
   "cell_type": "code",
   "execution_count": 65,
   "metadata": {
    "collapsed": false
   },
   "outputs": [
    {
     "data": {
      "text/plain": [
       "{'смартфона nokia': 43595,\n",
       " 'версия пакетного менеджера': 15333,\n",
       " 'методологии': 27887,\n",
       " 'tweet': 11176,\n",
       " 'московский номер': 28716,\n",
       " 'на nokia 5800': 29269,\n",
       " 'блога на': 14234,\n",
       " 'oneiric ocelot': 8104,\n",
       " 'обзор apple': 32102,\n",
       " 'школа системного': 49788,\n",
       " 'мобильной разработке': 28339,\n",
       " 'unimrcp voicenavigator': 11315,\n",
       " 'создание чистого css': 44100,\n",
       " 'дизайн привычных': 18641,\n",
       " 'гениальное просто': 17369,\n",
       " 'собственный движок': 43843,\n",
       " 'ni': 7823,\n",
       " 'нуля часть': 31981,\n",
       " 'аккаунта google': 12855,\n",
       " 'аккумуляторов tesla': 12878,\n",
       " 'макеты': 27283,\n",
       " 'кикстартере': 24875,\n",
       " 'почему нельзя': 37675,\n",
       " 'хватит всем': 48530,\n",
       " 'прародитель': 37942,\n",
       " 'нагрузки': 30216,\n",
       " 'nights mobile': 7829,\n",
       " 'vss': 11696,\n",
       " 'rake': 9237,\n",
       " '21 27': 688,\n",
       " 'программируем для psp': 39092,\n",
       " 'радиоволн': 40232,\n",
       " 'moz': 7450,\n",
       " 'wired': 12145,\n",
       " 'программиста часть': 39107,\n",
       " 'простой плагин': 39600,\n",
       " 'debug toolbar': 3291,\n",
       " 'фрилансеров на': 48324,\n",
       " 'роста конверсии сайтов': 41714,\n",
       " 'project anarchy': 8951,\n",
       " 'как вы оцениваете': 24025,\n",
       " '4k intro': 1023,\n",
       " 'для верстки': 19152,\n",
       " 'sencha touch tutorial': 9884,\n",
       " 'общественный': 32663,\n",
       " 'qa': 9092,\n",
       " 'стабильной': 44761,\n",
       " 'прайс': 37899,\n",
       " 'миграции бд для': 27950,\n",
       " 'любителя': 27165,\n",
       " 'определение доминирующих': 33207,\n",
       " 'защищенности': 21786,\n",
       " 'слева': 43400,\n",
       " 'мкс': 28209,\n",
       " 'вместе веселее': 15929,\n",
       " 'прошлого века': 39827,\n",
       " 'из всех': 22348,\n",
       " 'bittorrent dht': 2250,\n",
       " 'азбука n516': 12821,\n",
       " 'на тропу': 30062,\n",
       " 'проектирование веб': 39341,\n",
       " 'егэ по информатике': 20500,\n",
       " 'персонализации': 35068,\n",
       " 'проектов от': 39375,\n",
       " 'конкурента': 25604,\n",
       " 'каким браузером': 24490,\n",
       " 'брагиным': 14471,\n",
       " 'графа': 17831,\n",
       " 'успешный стартап': 47532,\n",
       " 'приема заявок': 38401,\n",
       " 'wizee': 12156,\n",
       " 'sandy': 9751,\n",
       " 'perl воркшоп': 8527,\n",
       " 'keep': 6369,\n",
       " 'газет': 17246,\n",
       " 'уж': 47046,\n",
       " 'соберутся': 43784,\n",
       " 'модель oracle': 28456,\n",
       " 'xe 2013': 12286,\n",
       " 'dribbble': 3652,\n",
       " 'новые проблемы': 31633,\n",
       " 'гаджеты от': 17243,\n",
       " 'delivery': 3318,\n",
       " 'выходит на': 17098,\n",
       " 'от стива': 33813,\n",
       " 'на основе raspberry': 29782,\n",
       " '10 августа': 99,\n",
       " 'презентовать': 38138,\n",
       " 'css рецептов': 3112,\n",
       " 'под hyper': 36169,\n",
       " 'новый мировой рекорд': 31715,\n",
       " 'обвиняет': 32067,\n",
       " 'opera turbo': 8212,\n",
       " 'по крупному': 35830,\n",
       " 'из под': 22415,\n",
       " 'наш взгляд': 30714,\n",
       " 'изображением': 22573,\n",
       " 'slidebar': 10126,\n",
       " 's2': 9654,\n",
       " 'полный экран': 36901,\n",
       " 'сервис вопросов ответов': 42750,\n",
       " 'отправляется': 34202,\n",
       " 'не хотят': 30932,\n",
       " 'как заработать': 24078,\n",
       " 'растения': 40885,\n",
       " 'открывается': 33997,\n",
       " 'pdf': 8485,\n",
       " 'перешли на': 35048,\n",
       " 'июля 2009': 23884,\n",
       " 'по установке': 36000,\n",
       " 'координат': 25921,\n",
       " 'библиотеках': 14060,\n",
       " 'fail': 4137,\n",
       " 'границы': 17820,\n",
       " 'скидок': 43272,\n",
       " 'сервисах из мира': 42790,\n",
       " 'ruby программистов': 9600,\n",
       " 'на маркетинг': 29697,\n",
       " 'новых доменных зон': 31785,\n",
       " 'instead': 5765,\n",
       " 'эффект на': 50341,\n",
       " 'сделано': 42491,\n",
       " 'новый дизайн сайта': 31692,\n",
       " 'на свою': 29972,\n",
       " 'крупные компании': 26412,\n",
       " 'поединок': 36538,\n",
       " 'поставки': 37487,\n",
       " 'комплектация': 25475,\n",
       " 'рекорд по скорости': 41291,\n",
       " 'три одном': 46711,\n",
       " 'бесплатный антивирус': 13964,\n",
       " 'ошибкой': 34442,\n",
       " 'моментов': 28631,\n",
       " 'verizon': 11512,\n",
       " 'неизбежность': 31059,\n",
       " 'google научился': 4961,\n",
       " 'iphone из': 5971,\n",
       " 'сервера помощью': 42710,\n",
       " 'виноват что': 15748,\n",
       " 'forward': 4417,\n",
       " 'hp 3par': 5359,\n",
       " 'открылся для всех': 34019,\n",
       " 'ос на': 33441,\n",
       " 'машинами': 27600,\n",
       " 'формулы': 48197,\n",
       " 'разработке на': 40531,\n",
       " 'шаблонизаторов': 49671,\n",
       " 'заочная': 21465,\n",
       " 'наблюдаем': 30143,\n",
       " 'комитета': 25342,\n",
       " 'голосовое управление': 17659,\n",
       " 'часть заключительная': 49035,\n",
       " 'появятся': 37786,\n",
       " 'флешки от': 48115,\n",
       " 'будильником на': 14611,\n",
       " 'semantic': 9879,\n",
       " 'грозят': 17878,\n",
       " 'выходит продажу': 17100,\n",
       " 'стэнфорд': 45399,\n",
       " 'мода': 28433,\n",
       " 'сайтов по': 42014,\n",
       " 'интеллектуальных': 23178,\n",
       " '125': 297,\n",
       " 'самом': 42079,\n",
       " 'аркады': 13328,\n",
       " 'по разгону': 35923,\n",
       " 'hue': 5465,\n",
       " 'вам не нужен': 14863,\n",
       " 'мультиплатформенный': 28830,\n",
       " 'преимуществ': 38146,\n",
       " 'первой конференции': 34767,\n",
       " 'дыре': 20421,\n",
       " 'учебное': 47718,\n",
       " 'хабр на': 48413,\n",
       " 'этого получилось': 50323,\n",
       " 'курс создание': 26529,\n",
       " 'отследить': 34221,\n",
       " 'фокуса': 48126,\n",
       " 'сети по': 42941,\n",
       " 'культуру': 26493,\n",
       " 'домены на': 20129,\n",
       " 'эриком': 50234,\n",
       " 'столом': 45179,\n",
       " 'как запретить': 24072,\n",
       " 'класса': 24957,\n",
       " 'формат для': 48172,\n",
       " 'платежей на сайте': 35493,\n",
       " 'их решения': 23864,\n",
       " 'по дилетантски или': 35784,\n",
       " 'или карта': 22752,\n",
       " 'touch tutorial': 11073,\n",
       " 'отрезков': 34213,\n",
       " 'gui': 5129,\n",
       " 'создания стартапа': 44131,\n",
       " 'евангелистов или просто': 20453,\n",
       " 'распознавание речи': 40777,\n",
       " 'удобной': 47023,\n",
       " 'создание своей': 44091,\n",
       " 'прицелом': 38811,\n",
       " 'mobile для': 7342,\n",
       " 'читайте': 49416,\n",
       " 'investor day': 5862,\n",
       " 'ru api': 9546,\n",
       " 'добрая': 19869,\n",
       " 'награждение': 30211,\n",
       " 'ли мы': 26805,\n",
       " 'automation': 2010,\n",
       " 'mailto': 6915,\n",
       " 'экран': 49977,\n",
       " 'использовать google': 23634,\n",
       " 'dropbox для': 3676,\n",
       " 'хаоса': 48508,\n",
       " 'файлов средствами': 47866,\n",
       " 'hex': 5280,\n",
       " 'foss news': 4421,\n",
       " 'алгоритмом': 12958,\n",
       " 'microsoft часть': 7240,\n",
       " 'ручка': 41892,\n",
       " 'перспективах': 35091,\n",
       " 'the rope': 10887,\n",
       " 'право ru': 37867,\n",
       " 'выйдет': 16865,\n",
       " 'вёрстке': 17231,\n",
       " 'что вам нужно': 49465,\n",
       " 'хочу работать google': 48707,\n",
       " 'локальный': 27057,\n",
       " 'будет нами': 14590,\n",
       " 'животных': 20756,\n",
       " 'nosql база данных': 7930,\n",
       " 'множественное': 28292,\n",
       " 'objective': 7997,\n",
       " '15 лет назад': 356,\n",
       " 'яндекса для тех': 50578,\n",
       " 'по лицензиям': 35831,\n",
       " 'visual for beginners': 11588,\n",
       " 'дополненная': 20153,\n",
       " 'апдейты': 13268,\n",
       " 'актуальные': 12925,\n",
       " 'парсим': 34624,\n",
       " 'создания сайтов': 44130,\n",
       " 'нии': 31335,\n",
       " 'внешняя': 15980,\n",
       " 'dependency': 3349,\n",
       " 'мессенджера': 27817,\n",
       " 'от xbox': 33716,\n",
       " 'иконки на': 22656,\n",
       " 'строим мультикоптер часть': 45304,\n",
       " 'покупки': 36770,\n",
       " 'социальные': 44401,\n",
       " 'летней давности': 26752,\n",
       " 'котором вы': 26101,\n",
       " 'новая порция': 31425,\n",
       " 'собственный фреймворк на': 43846,\n",
       " 'личности': 26957,\n",
       " 'декабрь январь': 18287,\n",
       " 'из нескольких': 22404,\n",
       " 'планировании': 35407,\n",
       " 'места на': 27823,\n",
       " 'весело': 15382,\n",
       " 'математиков': 27528,\n",
       " 'изобретателей': 22596,\n",
       " 'нулевая': 31972,\n",
       " 'какой то': 24515,\n",
       " 'виды поисковых': 15699,\n",
       " 'открытом виде': 34058,\n",
       " 'google купил': 4953,\n",
       " 'htpc': 5448,\n",
       " 'кибер безопасность еженедельный': 24845,\n",
       " 'искусственного интеллекта': 23516,\n",
       " 'пользуетесь ли вы': 37051,\n",
       " 'приложения инструменты': 38581,\n",
       " 'bender': 2179,\n",
       " '3g 4g': 969,\n",
       " 'game engine': 4594,\n",
       " 'уведомления от': 46887,\n",
       " 'сетевое программирование': 42897,\n",
       " 'родительном падеже': 41593,\n",
       " 'практический курс': 37925,\n",
       " 'организуем': 33397,\n",
       " 'бесплатный вебинар про': 13969,\n",
       " 'app catalog': 1702,\n",
       " 'css без': 3107,\n",
       " 'для центров': 19700,\n",
       " 'стэнфордские': 45402,\n",
       " 'на встречу': 29519,\n",
       " 'обычно': 32765,\n",
       " 'векторной': 15200,\n",
       " 'интеллектуальный': 23177,\n",
       " 'опен сорс': 33130,\n",
       " '77': 1130,\n",
       " 'тот прав записки': 46520,\n",
       " 'di': 3451,\n",
       " 'springsource': 10346,\n",
       " 'конфиг': 25868,\n",
       " 'favicon': 4170,\n",
       " 'youtube для': 12440,\n",
       " 'не 30 строк': 30757,\n",
       " 'panasonic toughbook cf': 8393,\n",
       " 'отладка приложений': 34100,\n",
       " 'бесплатный редактор': 13975,\n",
       " 'usb хаб': 11403,\n",
       " 'под net': 36176,\n",
       " '10 лет': 116,\n",
       " 'поездки': 36543,\n",
       " 'битрикс управление': 14196,\n",
       " 'впечатления': 16295,\n",
       " 'mobile professional': 7330,\n",
       " 'академии': 12845,\n",
       " '2800': 818,\n",
       " 'отношения': 34166,\n",
       " 'учитывается': 47773,\n",
       " 'обновлениями': 32460,\n",
       " 'rescue disk': 9396,\n",
       " 'xhtml': 12309,\n",
       " 'не забывайте': 30803,\n",
       " 'store windows phone': 10522,\n",
       " 'июня 2012': 23900,\n",
       " 'спор': 44540,\n",
       " 'взламывается': 15473,\n",
       " 'rbac': 9272,\n",
       " 'полугодие': 36923,\n",
       " 'времен народов': 16333,\n",
       " 'подобный': 36413,\n",
       " 'google sites': 4884,\n",
       " 'смотри': 43655,\n",
       " 'последний': 37418,\n",
       " 'visual studio online': 11599,\n",
       " 'из twitter': 22324,\n",
       " 'startup weekend': 10467,\n",
       " 'прошивок для android': 39822,\n",
       " 'первой': 34764,\n",
       " 'по шкале ремонтируемости': 36013,\n",
       " 'теперь opensource': 46010,\n",
       " 'прекратит': 38153,\n",
       " 'создания нодового': 44123,\n",
       " 'зачем мне': 21715,\n",
       " 'инжектор': 23015,\n",
       " 'ado net': 1310,\n",
       " 'базе sinatra': 13585,\n",
       " 'мобильный wimax': 28370,\n",
       " 'co working': 2794,\n",
       " 'на wp7': 29402,\n",
       " 'конкурса лучший': 25660,\n",
       " 'одессе': 32824,\n",
       " 'плохие': 35631,\n",
       " 'ввод вывод': 15001,\n",
       " 'никто не видел': 31350,\n",
       " 'твой личный': 45776,\n",
       " 'книг по': 25083,\n",
       " 'приложений игр для': 38527,\n",
       " 'second': 9847,\n",
       " 'включен': 15852,\n",
       " '1970': 458,\n",
       " 'небольшая': 30944,\n",
       " 'разбираемся разработкой windows': 40270,\n",
       " 'домены верхнего': 20125,\n",
       " 'вышла вторая': 17198,\n",
       " 'создания': 44111,\n",
       " 'spamhaus': 10296,\n",
       " 'emc xtremio': 3869,\n",
       " 'мы запускали': 28868,\n",
       " 'слежения за': 43440,\n",
       " 'samsung smarttv': 9721,\n",
       " 'geany': 4635,\n",
       " 'chrome apps': 2628,\n",
       " 'по типу': 35988,\n",
       " 'способа': 44575,\n",
       " 'бег': 13723,\n",
       " 'скоростной': 43315,\n",
       " 'эксперту': 50027,\n",
       " 'продающий дизайн': 39208,\n",
       " 'паролей на': 34601,\n",
       " 'patch': 8445,\n",
       " 'новые функции': 31649,\n",
       " 'быстрее чем': 14734,\n",
       " 'mbr': 7038,\n",
       " 'эксперимент по': 50003,\n",
       " 'miss': 7297,\n",
       " 'книга про': 25091,\n",
       " 'переводов': 34887,\n",
       " 'верхнего': 15367,\n",
       " 'от идеи до': 33742,\n",
       " 'для цифровых': 19702,\n",
       " 'выполнение кода': 16905,\n",
       " 'проекта': 39310,\n",
       " 'высокой емкости': 17030,\n",
       " 'samsung gear': 9713,\n",
       " 'плееров': 35613,\n",
       " 'stp': 10538,\n",
       " 'еле': 20555,\n",
       " 'превращаем': 37952,\n",
       " 'acronis true': 1259,\n",
       " 'верчу': 15374,\n",
       " 'sql server 2014': 10371,\n",
       " 'будет показывать': 14594,\n",
       " 'клавиатуру': 24939,\n",
       " 'оценивает': 34360,\n",
       " 'совещаний': 43912,\n",
       " 'angularjs на': 1614,\n",
       " 'промышленного': 39502,\n",
       " 'слабые': 43390,\n",
       " '29': 821,\n",
       " 'acer iconia': 1243,\n",
       " 'лондонском': 27072,\n",
       " 'популярнее': 37259,\n",
       " 'битву': 14180,\n",
       " 'оптимизации веб': 33249,\n",
       " 'geek week игровой': 4646,\n",
       " 'чурюмова герасименко': 49644,\n",
       " 'yoga': 12415,\n",
       " 'nukem': 7970,\n",
       " 'как почему': 24300,\n",
       " 'цитат': 48892,\n",
       " 'исполнился год': 23560,\n",
       " 'тим бернерс': 46310,\n",
       " 'consumer': 2970,\n",
       " 'не слышали': 30896,\n",
       " 'design challenge': 3361,\n",
       " 'разработчиков на платформе': 40635,\n",
       " 'flexunit': 4337,\n",
       " 'втором': 16641,\n",
       " 'единую': 20518,\n",
       " 'купила': 26502,\n",
       " 'сайт на': 41958,\n",
       " 'робот космонавт': 41552,\n",
       " 'vivotab': 11606,\n",
       " 'дизассемблер': 18684,\n",
       " 'выживание': 16836,\n",
       " 'r2 sp1': 9183,\n",
       " 'на сегодняшний день': 29978,\n",
       " 'продать': 39203,\n",
       " 'секрет': 42568,\n",
       " 'привлечения клиентов': 38327,\n",
       " '12 13': 272,\n",
       " 'системы для': 43184,\n",
       " 'opera поиск по': 8220,\n",
       " 'потенциал': 37563,\n",
       " 'игрового рынка китае': 22119,\n",
       " '22 ноября': 713,\n",
       " 'and drop': 1494,\n",
       " 'lda': 6519,\n",
       " 'официальное': 34311,\n",
       " 'big': 2212,\n",
       " 'двух более': 18221,\n",
       " 'виртуальные путешествия': 15797,\n",
       " 'реальных значений стратегия': 41047,\n",
       " 'все знают': 16386,\n",
       " 'ирландии': 23492,\n",
       " 'вы': 16674,\n",
       " 'windows 95': 11978,\n",
       " 'лебедева': 26641,\n",
       " 'icfpc': 5539,\n",
       " 'рублях': 41764,\n",
       " 'параллельная': 34565,\n",
       " 'операционной системе': 33154,\n",
       " 'ленте': 26706,\n",
       " 'лишние': 26979,\n",
       " 'бросить': 14565,\n",
       " '1700': 418,\n",
       " 'standards': 10436,\n",
       " 'centos часть': 2566,\n",
       " 'доступ данным': 20233,\n",
       " 'talk iphone': 10741,\n",
       " 'my': 7583,\n",
       " 'новые возможности для': 31606,\n",
       " 'для системных': 19591,\n",
       " 'работы со': 40178,\n",
       " 'достояние': 20224,\n",
       " 'намекает': 30374,\n",
       " 'видеообзор ноутбука msi': 15629,\n",
       " 'оригинальный подарок при': 33411,\n",
       " 'предпринимателям': 38042,\n",
       " 'замечание': 21424,\n",
       " 'dell venue': 3330,\n",
       " 'отдыхает': 33911,\n",
       " 'компьютерное': 25522,\n",
       " 'очень полезная': 34389,\n",
       " 'killer': 6405,\n",
       " 'пожертвования': 36557,\n",
       " 'электронной книги pocketbook': 50114,\n",
       " 'симпатичный': 43028,\n",
       " 'пациент': 34710,\n",
       " 'форматы': 48183,\n",
       " 'без ооп': 13771,\n",
       " 'раскрась': 40742,\n",
       " 'под лицензией': 36207,\n",
       " 'из skype': 22321,\n",
       " 'источники данных': 23771,\n",
       " '5d mark': 1068,\n",
       " 'превращение': 37955,\n",
       " '2013 что': 650,\n",
       " 'над дорогой': 30232,\n",
       " 'виртуализацией': 15762,\n",
       " 'видеоаналитики': 15573,\n",
       " 'трафик на': 46612,\n",
       " 'иконок для': 22659,\n",
       " 'куче': 26562,\n",
       " 'федеральных': 47955,\n",
       " 'четвёртая': 49340,\n",
       " 'рукописного': 41814,\n",
       " 'свойства': 42405,\n",
       " 'биндинги': 14151,\n",
       " 'net': 7696,\n",
       " 'сравниваем': 44667,\n",
       " 'на личном опыте': 29678,\n",
       " 'дня': 19764,\n",
       " 'на базе оборудования': 29452,\n",
       " 'грамотная': 17810,\n",
       " 'дайджест интересных': 17973,\n",
       " 'проектирования при разработке': 39361,\n",
       " 'помощью плагина': 37189,\n",
       " 'весь мир': 15400,\n",
       " 'продление': 39242,\n",
       " 'апрельские тезисы': 13293,\n",
       " 'размышления том как': 40420,\n",
       " 'на основе arduino': 29781,\n",
       " 'sony': 10241,\n",
       " 'htc one m8': 5399,\n",
       " 'их на': 23860,\n",
       " 'всеми': 16447,\n",
       " 'flex sdk': 4332,\n",
       " 'репозиториев': 41376,\n",
       " 'google chromecast': 4807,\n",
       " 'ed russia 2011': 3779,\n",
       " 'электронных книг монитора': 50138,\n",
       " 'клиенты': 25038,\n",
       " 'осрв qnx': 33565,\n",
       " 'накопитель от': 30338,\n",
       " 'привлекает': 38323,\n",
       " 'для начинающих менеджеров': 19357,\n",
       " 'выгрузка': 16805,\n",
       " 'встреча microsoft net': 16527,\n",
       " 'начались': 30646,\n",
       " 'для дома': 19207,\n",
       " 'приглашаю на': 38364,\n",
       " 'фотографий на': 48244,\n",
       " 'самых популярных': 42145,\n",
       " 'инсталлятор': 23092,\n",
       " 'частные': 48985,\n",
       " 'каптча': 24611,\n",
       " 'рядом': 41938,\n",
       " 'progress': 8944,\n",
       " 'трёхмерных': 46766,\n",
       " 'software network': 10214,\n",
       " 'наш новый': 30716,\n",
       " 'blackbox': 2273,\n",
       " 'панель для': 34526,\n",
       " 'простейших примеров': 39559,\n",
       " 'капитал': 24602,\n",
       " 'сравнение эффективности': 44663,\n",
       " 'сломать': 43506,\n",
       " 'принимать': 38697,\n",
       " 'работы jquery': 40157,\n",
       " 'прямую трансляцию': 39872,\n",
       " 'локализация': 27042,\n",
       " 'скриптовый язык': 43361,\n",
       " 'версии skype для': 15277,\n",
       " 'parrot ar': 8423,\n",
       " 'на шаг ближе': 30111,\n",
       " 'россию': 41705,\n",
       " 'должна ли': 20002,\n",
       " 'чтения хабра': 49449,\n",
       " 'разработка простого': 40517,\n",
       " 'расширений': 40933,\n",
       " 'тройка': 46727,\n",
       " 'марса от': 27413,\n",
       " 'речи на': 41429,\n",
       " 'тестирование различных': 46147,\n",
       " 'библиотека для работы': 14055,\n",
       " 'кроссбраузерный': 26347,\n",
       " 'день знаний': 18414,\n",
       " 'открытые': 34066,\n",
       " 'вы должны': 16691,\n",
       " 'сотовую сеть': 44326,\n",
       " 'для разработчиков игр': 19525,\n",
       " 'две': 18151,\n",
       " 'задача по': 21252,\n",
       " 'ситуациях': 43207,\n",
       " 'планшетов': 35466,\n",
       " 'robotic': 9472,\n",
       " 'galaxy iii': 4574,\n",
       " 'сеньоритами': 42677,\n",
       " 'прямого': 39862,\n",
       " 'милнера': 28046,\n",
       " 'автоматические': 12626,\n",
       " 'процессоров intel': 39784,\n",
       " 'обращать внимание': 32585,\n",
       " 'стартап': 44884,\n",
       " 'как этим': 24462,\n",
       " 'частоты': 49005,\n",
       " 'казус nokia': 23963,\n",
       " 'погружение': 36145,\n",
       " 'открыла api': 34009,\n",
       " 'способ монетизации': 44554,\n",
       " 'veeam': 11494,\n",
       " 'sslv3': 10420,\n",
       " 'претендентов на': 38214,\n",
       " 'или возвращение': 22680,\n",
       " 'коллективное': 25266,\n",
       " 'условиям': 47484,\n",
       " 'для автоматизации': 19086,\n",
       " 'ui': 11282,\n",
       " 'значков': 21991,\n",
       " 'от skype': 33701,\n",
       " 'core xeon': 3012,\n",
       " 'вакансия': 14842,\n",
       " 'spring': 10338,\n",
       " 'история проекта': 23758,\n",
       " 'приложение на qt': 38478,\n",
       " 'кнопок android': 25129,\n",
       " 'такого докатился': 45708,\n",
       " 'native': 7662,\n",
       " 'храните': 48744,\n",
       " 'googlereader': 5034,\n",
       " 'для парсинга': 19418,\n",
       " 'нужен ли': 31940,\n",
       " 'forum': 4413,\n",
       " 'inspection': 5750,\n",
       " 'переезда на ssd': 34937,\n",
       " 'os для': 8314,\n",
       " 'июня 2011': 23898,\n",
       " 'реверс инжиниринга': 41058,\n",
       " 'на xaml реализуя': 29408,\n",
       " 'сша часть': 45596,\n",
       " 'восьми ферзях': 16273,\n",
       " 's7': 9660,\n",
       " 'thinking functionally': 10903,\n",
       " 'из историй': 22365,\n",
       " 'мозгового': 28589,\n",
       " '10 минут': 126,\n",
       " 'разработки игры под': 40558,\n",
       " 'до ггц': 19800,\n",
       " 'ekb': 3819,\n",
       " 'уравнение': 47427,\n",
       " 'разблокировки': 40277,\n",
       " 'без рук': 13795,\n",
       " 'мне работать': 28235,\n",
       " 'проводят': 38988,\n",
       " 'благо или': 14205,\n",
       " 'слежка': 43441,\n",
       " 'разметку': 40405,\n",
       " 'блог на хабре': 14232,\n",
       " 'app': 1699,\n",
       " 'капризный': 24610,\n",
       " 'не всё': 30783,\n",
       " 'выводов': 16794,\n",
       " 'tor': 11050,\n",
       " 'конструкции': 25703,\n",
       " 'вектор': 15198,\n",
       " 'подручных': 36473,\n",
       " 'components': 2917,\n",
       " 'для науки': 19349,\n",
       " 'сколько': 43280,\n",
       " 'деле': 18352,\n",
       " 'потрясут': 37619,\n",
       " 'секс': 42578,\n",
       " 'ext gwt': 4078,\n",
       " 'на фотографии': 30082,\n",
       " 'пишем драйвер': 35286,\n",
       " '2008 r2 sp1': 541,\n",
       " 'самых маленьких часть': 42142,\n",
       " 'для деплоя': 19198,\n",
       " 'минэкономразвития': 28111,\n",
       " 'водяной': 16065,\n",
       " 'помощью java': 37153,\n",
       " 'чаще': 49103,\n",
       " 'зевс': 21876,\n",
       " 'morpheus': 7406,\n",
       " 'вирусная': 15824,\n",
       " 'поиск на сайте': 36618,\n",
       " 'приобрел': 38756,\n",
       " 'gtk': 5120,\n",
       " 'репортов': 41388,\n",
       " 'использовать': 23633,\n",
       " 'системы распознавания речи': 43193,\n",
       " 'фантастика': 47931,\n",
       " 'hhvm': 5287,\n",
       " 'прогноза': 38993,\n",
       " '78': 1131,\n",
       " 'независимая': 31043,\n",
       " 'javascript без': 6191,\n",
       " 'на python': 29309,\n",
       " 'спецификацию': 44500,\n",
       " 'платформе ios': 35554,\n",
       " 'mashup': 6993,\n",
       " '30 секунд': 869,\n",
       " 'пиццерии': 35272,\n",
       " 'profi gps': 8931,\n",
       " 'использую': 23661,\n",
       " 'школьном': 49808,\n",
       " 'мне не': 28233,\n",
       " 'solo': 10230,\n",
       " 'игра': 22080,\n",
       " 'этого вышло': 50320,\n",
       " 'технологический': 46271,\n",
       " 'создаем свой': 43997,\n",
       " 'бизнес логика': 14092,\n",
       " 'new york': 7791,\n",
       " 'для кого': 19272,\n",
       " 'петафлопс': 35118,\n",
       " 'sharepoint': 9973,\n",
       " 'technical preview': 10803,\n",
       " 'программой': 39146,\n",
       " '2013 28': 628,\n",
       " 'getters setters': 4685,\n",
       " 'поиск vps': 36604,\n",
       " 'событие': 43854,\n",
       " 'rackspace': 9196,\n",
       " 'чтения': 49447,\n",
       " 'samsung анонсировала': 9725,\n",
       " 'треугольники': 46694,\n",
       " 'ненормальное': 31151,\n",
       " 'ubuntu 10 karmic': 11233,\n",
       " 'любую точку': 27191,\n",
       " 'доменного имени': 20098,\n",
       " 'презентации samsung': 38125,\n",
       " 'gigabyte gsmart': 4697,\n",
       " 'межсетевого': 27735,\n",
       " 'двух словах': 18223,\n",
       " 'обнародовала планы': 32381,\n",
       " 'от стива джобса': 33814,\n",
       " 'первое место': 34758,\n",
       " '40 минут': 986,\n",
       " 'информационного': 23432,\n",
       " 'heroes': 5269,\n",
       " 'участвует': 47686,\n",
       " 'php использованием': 8626,\n",
       " 'видеообзор ультрабука планшета': 15643,\n",
       " 'на 90': 29013,\n",
       " 'пол грэм': 36776,\n",
       " 'growth hacking как': 5103,\n",
       " 'водитель дневник': 16051,\n",
       " 'ru на mwc': 9569,\n",
       " 'ms office': 7487,\n",
       " 'или от': 22789,\n",
       " 'расшифровке': 40969,\n",
       " 'прохлада': 39741,\n",
       " 'векторизация': 15199,\n",
       " 'расширениями': 40949,\n",
       " 'линзы': 26863,\n",
       " 'на nancyfx часть': 29257,\n",
       " 'патентов': 34685,\n",
       " 'twister': 11181,\n",
       " '16 декабря': 390,\n",
       " 'начало': 30648,\n",
       " 'мониторинга вашем окружении': 28664,\n",
       " 'индикаторах': 23001,\n",
       " 'сайты для': 42025,\n",
       " 'нитке': 31362,\n",
       " 'лицензию creative commons': 26935,\n",
       " 'прокомментировала': 39477,\n",
       " 'киев бесплатный': 24859,\n",
       " 'streetview': 10551,\n",
       " 'novo': 7953,\n",
       " 'поисковой системы': 36676,\n",
       " 'карту': 24686,\n",
       " 'flash': 4297,\n",
       " 'для': 18811,\n",
       " 'phpinfo': 8657,\n",
       " 'живые обои': 20759,\n",
       " 'eula': 3986,\n",
       " 'unity3dstudent': 11337,\n",
       " 'ted': 10807,\n",
       " 'браузера opera': 14498,\n",
       " 'интерактивное': 23182,\n",
       " 'наконец то вышел': 30333,\n",
       " 'инспектор': 23090,\n",
       " 'антенной': 13226,\n",
       " 'первый планшет на': 34821,\n",
       " 'стать богатым': 45018,\n",
       " 'установок': 47581,\n",
       " 'спешите': 44510,\n",
       " 'текучий': 45843,\n",
       " 'стартапом': 44934,\n",
       " 'номер два': 31813,\n",
       " 'd2': 3191,\n",
       " 'os выйдет': 8313,\n",
       " 'произвольные': 39450,\n",
       " 'пишем кроссбраузерный': 35298,\n",
       " 'финальное': 48053,\n",
       " 'google после': 4991,\n",
       " 'других планетах': 20361,\n",
       " 'правда про google': 37814,\n",
       " 'человечества': 49162,\n",
       " 'пакета для': 34474,\n",
       " 'доклады конференции': 19940,\n",
       " 'удалённого': 46990,\n",
       " 'региональная': 41073,\n",
       " 'деплое': 18448,\n",
       " 'приложений на языке': 38543,\n",
       " 'как мы пишем': 24148,\n",
       " 'управлении': 47358,\n",
       " 'hp mini': 5363,\n",
       " 'интерфейсом': 23404,\n",
       " 'сайта при помощи': 41986,\n",
       " 'cam': 2475,\n",
       " 'радиоастрон': 40231,\n",
       " 'на общественном транспорте': 29759,\n",
       " 'официально': 34303,\n",
       " 'ребята': 41054,\n",
       " 'лекцию': 26686,\n",
       " 'взялись за': 15508,\n",
       " 'оверсан': 32790,\n",
       " 'резервная': 41181,\n",
       " 'released': 9365,\n",
       " 'thinkserver': 10911,\n",
       " 'возврата': 16079,\n",
       " 'яндекс карт': 50534,\n",
       " 'наведении': 30171,\n",
       " 'подход использованию': 36521,\n",
       " 'wolfram language mathematica': 12169,\n",
       " 'вопросов': 16205,\n",
       " 'используйте': 23660,\n",
       " 'про историю': 38865,\n",
       " 'продакшн': 39191,\n",
       " 'ндс для': 30754,\n",
       " 'просили': 39527,\n",
       " 'или поисках': 22804,\n",
       " 'приложения часть': 38596,\n",
       " 'мимики': 28051,\n",
       " 'переключатель раскладки клавиатуры': 34958,\n",
       " 'пишем редактор': 35320,\n",
       " 'google docs появилось': 4823,\n",
       " 'kickstarter': 6393,\n",
       " 'обзор сетевого': 32238,\n",
       " 'чем кажется': 49182,\n",
       " 'steam greenlight': 10483,\n",
       " 'гейтса': 17324,\n",
       " 'для покупок': 19452,\n",
       " 'на пользу': 29835,\n",
       " 'mx2': 7580,\n",
       " '108': 207,\n",
       " 'для разработчиков мобильных': 19526,\n",
       " 'удобством': 47041,\n",
       " '11 50': 226,\n",
       " 'яндекс диске': 50527,\n",
       " 'конкурентом': 25610,\n",
       " 'на колёсах': 29636,\n",
       " 'ищите': 23874,\n",
       " 'mysql performance real': 7604,\n",
       " 'за ошибки': 21009,\n",
       " 'через социальные сети': 49285,\n",
       " 'масштабируемые': 27512,\n",
       " 'корпоративных порталов': 26019,\n",
       " 'идентифицировать': 22239,\n",
       " 'учитывать': 47774,\n",
       " 'не нужны': 30856,\n",
       " 'плагины': 35379,\n",
       " 'маленькую': 27332,\n",
       " 'для mochiweb нагрузкой': 18957,\n",
       " 'новый закон': 31697,\n",
       " 'удобная': 47014,\n",
       " 'программирование как': 39036,\n",
       " 'жителям': 20801,\n",
       " 'цифрового контента': 48903,\n",
       " 'c3': 2444,\n",
       " 'easter': 3752,\n",
       " 'массы': 27484,\n",
       " 'программированию для школьников': 39061,\n",
       " 'принимает': 38696,\n",
       " 'контактам': 25716,\n",
       " 'гайд': 17253,\n",
       " 'товаров на': 46384,\n",
       " 'продуктивнее': 39274,\n",
       " 'базами': 13569,\n",
       " 'поисках': 36644,\n",
       " 'ли все': 26785,\n",
       " 'тепловизор': 46059,\n",
       " 'raid1': 9212,\n",
       " 'опросы': 33238,\n",
       " 'меню на': 27786,\n",
       " 'графический интерфейс': 17863,\n",
       " 'операционные усилители на': 33165,\n",
       " 'бизнес модель': 14094,\n",
       " 'на habrahabr ru': 29158,\n",
       " 'модульной архитектурой': 28510,\n",
       " 'нее': 31039,\n",
       " 'слива': 43451,\n",
       " 'или сам': 22830,\n",
       " 'круглый стол': 26382,\n",
       " 'связи между': 42439,\n",
       " 'веб разработки': 15072,\n",
       " 'автообновление': 12684,\n",
       " 'format': 4405,\n",
       " 'личного кабинета': 26948,\n",
       " 'ресурсов для': 41403,\n",
       " 'об открытых данных': 32047,\n",
       " 'google считает': 5019,\n",
       " 'ua kiev ua': 11214,\n",
       " 'ролика': 41636,\n",
       " 'как увели мои': 24419,\n",
       " 'экстремальный': 50054,\n",
       " 'software configuration': 10206,\n",
       " 'новые тарифы': 31644,\n",
       " 'пожалуйста': 36551,\n",
       " 'jones': 6252,\n",
       " 'патента': 34670,\n",
       " 'wireless': 12146,\n",
       " 'hacker': 5171,\n",
       " 'приглашаю': 38363,\n",
       " 'освободитель': 33453,\n",
       " 'на сервер': 29983,\n",
       " 'parallax scrolling': 8407,\n",
       " 'бэкапа': 14790,\n",
       " 'пожелания': 36554,\n",
       " 'инъекций': 23482,\n",
       " 'методы распознавания': 27904,\n",
       " 'relay': 9360,\n",
       " 'через skype': 49253,\n",
       " 'автоматическая установка': 12624,\n",
       " 'ssh на': 10409,\n",
       " 'общие соображения по': 32671,\n",
       " 'необходимости': 31157,\n",
       " 'маршруты на картах': 27453,\n",
       " 'стартапов часть': 44933,\n",
       " 'заявление': 21801,\n",
       " 'принтер своими руками': 38711,\n",
       " 'iriver': 6016,\n",
       " 'рисками': 41500,\n",
       " 'эластичный': 50059,\n",
       " 'чистка': 49390,\n",
       " 'конструкторов': 25701,\n",
       " 'основы python кратко': 33533,\n",
       " 'java кода': 6157,\n",
       " 'лекций стартап': 26684,\n",
       " 'допустил': 20169,\n",
       " 'по всему': 35763,\n",
       " 'ключевое слово': 25064,\n",
       " 'из этого': 22474,\n",
       " 'новость': 31581,\n",
       " 'термоядерного': 46082,\n",
       " 'ресурсам': 41399,\n",
       " 'полезная утилита': 36791,\n",
       " 'толстой': 46407,\n",
       " 'движущиеся картинки': 18200,\n",
       " 'тиль': 46306,\n",
       " 'никак не': 31337,\n",
       " 'base64': 2118,\n",
       " 'переносим': 34983,\n",
       " 'python часть': 9085,\n",
       " 'желающих': 20693,\n",
       " 'на heroku': 29162,\n",
       " 'microsoft research по': 7180,\n",
       " 'symfony часть': 10688,\n",
       " 'японская': 50590,\n",
       " 'хотя бы': 48689,\n",
       " 'патентный': 34682,\n",
       " 'прецедент': 38223,\n",
       " 'кружки': 26388,\n",
       " 'libgdx': 6597,\n",
       " 'что ты': 49603,\n",
       " 'ms sql': 7491,\n",
       " 'валидатор микроразметки': 14846,\n",
       " 'черных': 49313,\n",
       " 'опыт работы': 33346,\n",
       " 'fireworks': 4276,\n",
       " 'детка': 18515,\n",
       " 'работа веб': 40039,\n",
       " 'генеральный директор': 17334,\n",
       " 'можно узнать': 28580,\n",
       " 'спамерам': 44444,\n",
       " 'валидация': 14848,\n",
       " 'пользовательском': 37033,\n",
       " 'ультрабука sony vaio': 47185,\n",
       " 'black friday': 2262,\n",
       " 'astra': 1939,\n",
       " 'overclocking': 8344,\n",
       " 'власти': 15905,\n",
       " 'телефонов на': 45927,\n",
       " 'lumia 920 820': 6820,\n",
       " 'free lance': 4472,\n",
       " 'функциональные': 48378,\n",
       " 'мониторим': 28652,\n",
       " 'на странице': 30038,\n",
       " 'неправильный': 31194,\n",
       " 'новым': 31771,\n",
       " 'шаблона для joomla': 49665,\n",
       " 'ая встреча': 13541,\n",
       " 'хроники': 48756,\n",
       " 'многофункциональный': 28283,\n",
       " 'альбом': 12988,\n",
       " 'ajax запросов': 1387,\n",
       " 'небольшом': 30959,\n",
       " 'своим': 42350,\n",
       " 'legacy': 6542,\n",
       " 'thunder': 10929,\n",
       " 'far manager': 4157,\n",
       " 'хотите знать': 48681,\n",
       " 'колеса': 25245,\n",
       " 'хотите узнать': 48685,\n",
       " '15 лет': 355,\n",
       " 'убийца': 46864,\n",
       " 'потому': 37602,\n",
       " 'alert': 1404,\n",
       " 'создание полноценного': 44070,\n",
       " 'postgresql часть': 8850,\n",
       " 'новостей игровой индустрии': 31548,\n",
       " 'antivirus': 1637,\n",
       " '1500 рублей': 372,\n",
       " 'он нужен': 33051,\n",
       " ...}"
      ]
     },
     "execution_count": 65,
     "metadata": {},
     "output_type": "execute_result"
    }
   ],
   "source": [
    "#Можно посмотреть словарь в виде {'термин': индекс признака,...}\n",
    "vectorizer_title.vocabulary_"
   ]
  },
  {
   "cell_type": "code",
   "execution_count": 66,
   "metadata": {
    "collapsed": false
   },
   "outputs": [
    {
     "data": {
      "text/plain": [
       "50624"
      ]
     },
     "execution_count": 66,
     "metadata": {},
     "output_type": "execute_result"
    }
   ],
   "source": [
    "len(vectorizer_title.vocabulary_)"
   ]
  },
  {
   "cell_type": "markdown",
   "metadata": {},
   "source": [
    "<font color='red'>Вопрос 4.</font> Какой индекс у слова 'python'?\n",
    "- 1\n",
    "- 10\n",
    "- 9065\n",
    "- 15679"
   ]
  },
  {
   "cell_type": "code",
   "execution_count": 67,
   "metadata": {
    "collapsed": false
   },
   "outputs": [
    {
     "data": {
      "text/plain": [
       "9065"
      ]
     },
     "execution_count": 67,
     "metadata": {},
     "output_type": "execute_result"
    }
   ],
   "source": [
    "vectorizer_title.vocabulary_['python']"
   ]
  },
  {
   "cell_type": "markdown",
   "metadata": {},
   "source": [
    "**Инициализируйте TfidfVectorizer, указав analyzer='char'.<br />\n",
    "Примените метод fit_transform к X_train['title'] и метод transform к X_valid['title'] и X_test['title']**"
   ]
  },
  {
   "cell_type": "markdown",
   "metadata": {},
   "source": [
    "<font color='red'>Вопрос 5.</font> Какой размер у полученного словаря?\n",
    "- 218\n",
    "- 510\n",
    "- 125\n",
    "- 981"
   ]
  },
  {
   "cell_type": "code",
   "execution_count": 68,
   "metadata": {
    "collapsed": false
   },
   "outputs": [],
   "source": [
    "vectorizer_title_ch = TfidfVectorizer(analyzer='char')\n",
    "\n",
    "X_train_title_ch = vectorizer_title_ch.fit_transform(X_train['title'])\n",
    "X_valid_title_ch = vectorizer_title_ch.transform(X_valid['title'])\n",
    "X_test_title_ch = vectorizer_title_ch.transform(X_test['title'])"
   ]
  },
  {
   "cell_type": "code",
   "execution_count": 69,
   "metadata": {
    "collapsed": false
   },
   "outputs": [
    {
     "data": {
      "text/plain": [
       "{' ': 0,\n",
       " '!': 1,\n",
       " '\"': 2,\n",
       " '#': 3,\n",
       " '$': 4,\n",
       " '%': 5,\n",
       " '&': 6,\n",
       " \"'\": 7,\n",
       " '(': 8,\n",
       " ')': 9,\n",
       " '*': 10,\n",
       " '+': 11,\n",
       " ',': 12,\n",
       " '-': 13,\n",
       " '.': 14,\n",
       " '/': 15,\n",
       " '0': 16,\n",
       " '1': 17,\n",
       " '2': 18,\n",
       " '3': 19,\n",
       " '4': 20,\n",
       " '5': 21,\n",
       " '6': 22,\n",
       " '7': 23,\n",
       " '8': 24,\n",
       " '9': 25,\n",
       " ':': 26,\n",
       " ';': 27,\n",
       " '<': 28,\n",
       " '=': 29,\n",
       " '>': 30,\n",
       " '?': 31,\n",
       " '@': 32,\n",
       " '[': 33,\n",
       " '\\\\': 34,\n",
       " ']': 35,\n",
       " '^': 36,\n",
       " '_': 37,\n",
       " '`': 38,\n",
       " 'a': 39,\n",
       " 'b': 40,\n",
       " 'c': 41,\n",
       " 'd': 42,\n",
       " 'e': 43,\n",
       " 'f': 44,\n",
       " 'g': 45,\n",
       " 'h': 46,\n",
       " 'i': 47,\n",
       " 'j': 48,\n",
       " 'k': 49,\n",
       " 'l': 50,\n",
       " 'm': 51,\n",
       " 'n': 52,\n",
       " 'o': 53,\n",
       " 'p': 54,\n",
       " 'q': 55,\n",
       " 'r': 56,\n",
       " 's': 57,\n",
       " 't': 58,\n",
       " 'u': 59,\n",
       " 'v': 60,\n",
       " 'w': 61,\n",
       " 'x': 62,\n",
       " 'y': 63,\n",
       " 'z': 64,\n",
       " '{': 65,\n",
       " '|': 66,\n",
       " '}': 67,\n",
       " '~': 68,\n",
       " '\\x92': 69,\n",
       " '\\x97': 70,\n",
       " '\\xa0': 71,\n",
       " '£': 72,\n",
       " '¥': 73,\n",
       " '§': 74,\n",
       " '©': 75,\n",
       " '«': 76,\n",
       " '\\xad': 77,\n",
       " '®': 78,\n",
       " '°': 79,\n",
       " '±': 80,\n",
       " '²': 81,\n",
       " 'µ': 82,\n",
       " '·': 83,\n",
       " '¹': 84,\n",
       " '»': 85,\n",
       " '¼': 86,\n",
       " '½': 87,\n",
       " '×': 88,\n",
       " 'à': 89,\n",
       " 'á': 90,\n",
       " 'â': 91,\n",
       " 'ä': 92,\n",
       " 'ç': 93,\n",
       " 'é': 94,\n",
       " 'ë': 95,\n",
       " 'ï': 96,\n",
       " 'ñ': 97,\n",
       " 'ò': 98,\n",
       " 'ó': 99,\n",
       " 'ö': 100,\n",
       " 'ø': 101,\n",
       " 'ù': 102,\n",
       " 'ú': 103,\n",
       " 'ü': 104,\n",
       " 'ı': 105,\n",
       " 'ǝ': 106,\n",
       " 'ɟ': 107,\n",
       " 'ʇ': 108,\n",
       " '́': 109,\n",
       " '̆': 110,\n",
       " '̱': 111,\n",
       " '̲': 112,\n",
       " '̶': 113,\n",
       " 'β': 114,\n",
       " 'δ': 115,\n",
       " 'λ': 116,\n",
       " 'μ': 117,\n",
       " 'π': 118,\n",
       " 'ω': 119,\n",
       " 'а': 120,\n",
       " 'б': 121,\n",
       " 'в': 122,\n",
       " 'г': 123,\n",
       " 'д': 124,\n",
       " 'е': 125,\n",
       " 'ж': 126,\n",
       " 'з': 127,\n",
       " 'и': 128,\n",
       " 'й': 129,\n",
       " 'к': 130,\n",
       " 'л': 131,\n",
       " 'м': 132,\n",
       " 'н': 133,\n",
       " 'о': 134,\n",
       " 'п': 135,\n",
       " 'р': 136,\n",
       " 'с': 137,\n",
       " 'т': 138,\n",
       " 'у': 139,\n",
       " 'ф': 140,\n",
       " 'х': 141,\n",
       " 'ц': 142,\n",
       " 'ч': 143,\n",
       " 'ш': 144,\n",
       " 'щ': 145,\n",
       " 'ъ': 146,\n",
       " 'ы': 147,\n",
       " 'ь': 148,\n",
       " 'э': 149,\n",
       " 'ю': 150,\n",
       " 'я': 151,\n",
       " 'ё': 152,\n",
       " 'і': 153,\n",
       " 'ї': 154,\n",
       " 'ј': 155,\n",
       " 'ў': 156,\n",
       " 'ѣ': 157,\n",
       " 'қ': 158,\n",
       " '۞': 159,\n",
       " '۩': 160,\n",
       " '฿': 161,\n",
       " '\\u2002': 162,\n",
       " '\\u2006': 163,\n",
       " '\\u2009': 164,\n",
       " '\\u200b': 165,\n",
       " '\\u200e': 166,\n",
       " '‐': 167,\n",
       " '‑': 168,\n",
       " '–': 169,\n",
       " '—': 170,\n",
       " '―': 171,\n",
       " '‘': 172,\n",
       " '’': 173,\n",
       " '“': 174,\n",
       " '”': 175,\n",
       " '„': 176,\n",
       " '•': 177,\n",
       " '…': 178,\n",
       " '\\u2028': 179,\n",
       " '\\u202c': 180,\n",
       " '\\u202d': 181,\n",
       " '′': 182,\n",
       " '″': 183,\n",
       " '‽': 184,\n",
       " '⁰': 185,\n",
       " '€': 186,\n",
       " '№': 187,\n",
       " '™': 188,\n",
       " '⅓': 189,\n",
       " '⅜': 190,\n",
       " '←': 191,\n",
       " '↑': 192,\n",
       " '→': 193,\n",
       " '↔': 194,\n",
       " '↺': 195,\n",
       " '⇄': 196,\n",
       " '⇒': 197,\n",
       " '⇨': 198,\n",
       " '−': 199,\n",
       " '∙': 200,\n",
       " '≈': 201,\n",
       " '≠': 202,\n",
       " '━': 203,\n",
       " '▼': 204,\n",
       " '☠': 205,\n",
       " '☢': 206,\n",
       " '☣': 207,\n",
       " '☼': 208,\n",
       " '♠': 209,\n",
       " '♥': 210,\n",
       " '♫': 211,\n",
       " '❤': 212,\n",
       " '印': 213,\n",
       " '打': 214,\n",
       " '机': 215,\n",
       " '\\ufeff': 216,\n",
       " '！': 217}"
      ]
     },
     "execution_count": 69,
     "metadata": {},
     "output_type": "execute_result"
    }
   ],
   "source": [
    "#Здесь так же можно посмотреть словарь\n",
    "#Заметьте насколько отличаются словари для TfidfVectorizer с analyzer='word' и analyzer='char'\n",
    "vectorizer_title_ch.vocabulary_"
   ]
  },
  {
   "cell_type": "code",
   "execution_count": 70,
   "metadata": {
    "collapsed": false
   },
   "outputs": [
    {
     "data": {
      "text/plain": [
       "218"
      ]
     },
     "execution_count": 70,
     "metadata": {},
     "output_type": "execute_result"
    }
   ],
   "source": [
    "len(vectorizer_title_ch.vocabulary_)"
   ]
  },
  {
   "cell_type": "markdown",
   "metadata": {},
   "source": [
    "## Работа с категориальными признаками\n",
    "\n",
    "Для обработки категориальных признаков 'author', 'flow', 'domain' мы будем использовать DictVectorizer из sklearn."
   ]
  },
  {
   "cell_type": "code",
   "execution_count": 71,
   "metadata": {
    "collapsed": false,
    "scrolled": true
   },
   "outputs": [
    {
     "data": {
      "text/html": [
       "<div>\n",
       "<table border=\"1\" class=\"dataframe\">\n",
       "  <thead>\n",
       "    <tr style=\"text-align: right;\">\n",
       "      <th></th>\n",
       "      <th>author</th>\n",
       "      <th>flow</th>\n",
       "      <th>domain</th>\n",
       "    </tr>\n",
       "  </thead>\n",
       "  <tbody>\n",
       "    <tr>\n",
       "      <th>0</th>\n",
       "      <td>@Tapac</td>\n",
       "      <td>develop</td>\n",
       "      <td>habrahabr.ru</td>\n",
       "    </tr>\n",
       "    <tr>\n",
       "      <th>1</th>\n",
       "      <td>@DezmASter</td>\n",
       "      <td>design</td>\n",
       "      <td>habrahabr.ru</td>\n",
       "    </tr>\n",
       "    <tr>\n",
       "      <th>2</th>\n",
       "      <td>@DezmASter</td>\n",
       "      <td>design</td>\n",
       "      <td>habrahabr.ru</td>\n",
       "    </tr>\n",
       "    <tr>\n",
       "      <th>3</th>\n",
       "      <td>@Taoorus</td>\n",
       "      <td>design</td>\n",
       "      <td>habrahabr.ru</td>\n",
       "    </tr>\n",
       "    <tr>\n",
       "      <th>4</th>\n",
       "      <td>@dennydo</td>\n",
       "      <td>NaN</td>\n",
       "      <td>geektimes.ru</td>\n",
       "    </tr>\n",
       "  </tbody>\n",
       "</table>\n",
       "</div>"
      ],
      "text/plain": [
       "       author     flow        domain\n",
       "0      @Tapac  develop  habrahabr.ru\n",
       "1  @DezmASter   design  habrahabr.ru\n",
       "2  @DezmASter   design  habrahabr.ru\n",
       "3    @Taoorus   design  habrahabr.ru\n",
       "4    @dennydo      NaN  geektimes.ru"
      ]
     },
     "execution_count": 71,
     "metadata": {},
     "output_type": "execute_result"
    }
   ],
   "source": [
    "feats = ['author', 'flow', 'domain']\n",
    "X_train[feats][:5]"
   ]
  },
  {
   "cell_type": "markdown",
   "metadata": {},
   "source": [
    "Рассмотрим как он работает на примере первых пяти строк"
   ]
  },
  {
   "cell_type": "code",
   "execution_count": 72,
   "metadata": {
    "collapsed": false
   },
   "outputs": [
    {
     "data": {
      "text/html": [
       "<div>\n",
       "<table border=\"1\" class=\"dataframe\">\n",
       "  <thead>\n",
       "    <tr style=\"text-align: right;\">\n",
       "      <th></th>\n",
       "      <th>author</th>\n",
       "      <th>flow</th>\n",
       "      <th>domain</th>\n",
       "    </tr>\n",
       "  </thead>\n",
       "  <tbody>\n",
       "    <tr>\n",
       "      <th>0</th>\n",
       "      <td>@Tapac</td>\n",
       "      <td>develop</td>\n",
       "      <td>habrahabr.ru</td>\n",
       "    </tr>\n",
       "    <tr>\n",
       "      <th>1</th>\n",
       "      <td>@DezmASter</td>\n",
       "      <td>design</td>\n",
       "      <td>habrahabr.ru</td>\n",
       "    </tr>\n",
       "    <tr>\n",
       "      <th>2</th>\n",
       "      <td>@DezmASter</td>\n",
       "      <td>design</td>\n",
       "      <td>habrahabr.ru</td>\n",
       "    </tr>\n",
       "    <tr>\n",
       "      <th>3</th>\n",
       "      <td>@Taoorus</td>\n",
       "      <td>design</td>\n",
       "      <td>habrahabr.ru</td>\n",
       "    </tr>\n",
       "    <tr>\n",
       "      <th>4</th>\n",
       "      <td>@dennydo</td>\n",
       "      <td>-</td>\n",
       "      <td>geektimes.ru</td>\n",
       "    </tr>\n",
       "  </tbody>\n",
       "</table>\n",
       "</div>"
      ],
      "text/plain": [
       "       author     flow        domain\n",
       "0      @Tapac  develop  habrahabr.ru\n",
       "1  @DezmASter   design  habrahabr.ru\n",
       "2  @DezmASter   design  habrahabr.ru\n",
       "3    @Taoorus   design  habrahabr.ru\n",
       "4    @dennydo        -  geektimes.ru"
      ]
     },
     "execution_count": 72,
     "metadata": {},
     "output_type": "execute_result"
    }
   ],
   "source": [
    "#сначала заполняем пропуски прочерком\n",
    "X_train[feats][:5].fillna('-')"
   ]
  },
  {
   "cell_type": "code",
   "execution_count": 73,
   "metadata": {
    "collapsed": false
   },
   "outputs": [
    {
     "data": {
      "text/plain": [
       "{0: {'author': '@Tapac', 'domain': 'habrahabr.ru', 'flow': 'develop'},\n",
       " 1: {'author': '@DezmASter', 'domain': 'habrahabr.ru', 'flow': 'design'},\n",
       " 2: {'author': '@DezmASter', 'domain': 'habrahabr.ru', 'flow': 'design'},\n",
       " 3: {'author': '@Taoorus', 'domain': 'habrahabr.ru', 'flow': 'design'},\n",
       " 4: {'author': '@dennydo', 'domain': 'geektimes.ru', 'flow': '-'}}"
      ]
     },
     "execution_count": 73,
     "metadata": {},
     "output_type": "execute_result"
    }
   ],
   "source": [
    "#Преобразуем датафрейм в словарь, где ключами являются индексы объектов (именно для этого мы транспонировали датафрейм),\n",
    "#а значениями являются словари в виде 'название_колонки':'значение'\n",
    "X_train[feats][:5].fillna('-').T.to_dict()"
   ]
  },
  {
   "cell_type": "code",
   "execution_count": 74,
   "metadata": {
    "collapsed": false
   },
   "outputs": [
    {
     "data": {
      "text/plain": [
       "dict_values([{'domain': 'habrahabr.ru', 'flow': 'develop', 'author': '@Tapac'}, {'domain': 'habrahabr.ru', 'flow': 'design', 'author': '@DezmASter'}, {'domain': 'habrahabr.ru', 'flow': 'design', 'author': '@DezmASter'}, {'domain': 'habrahabr.ru', 'flow': 'design', 'author': '@Taoorus'}, {'domain': 'geektimes.ru', 'flow': '-', 'author': '@dennydo'}])"
      ]
     },
     "execution_count": 74,
     "metadata": {},
     "output_type": "execute_result"
    }
   ],
   "source": [
    "#В DictVectorizer нам нужно будет передать список словарей для каждого объекта в виде 'название_колонки':'значение',\n",
    "#поэтому используем .values()\n",
    "X_train[feats][:5].fillna('-').T.to_dict().values()"
   ]
  },
  {
   "cell_type": "code",
   "execution_count": 75,
   "metadata": {
    "collapsed": false
   },
   "outputs": [
    {
     "data": {
      "text/plain": [
       "<5x9 sparse matrix of type '<class 'numpy.float64'>'\n",
       "\twith 15 stored elements in Compressed Sparse Row format>"
      ]
     },
     "execution_count": 75,
     "metadata": {},
     "output_type": "execute_result"
    }
   ],
   "source": [
    "#В итоге получается разреженная матрица\n",
    "dict_vect = DictVectorizer()\n",
    "dict_vect_matrix = dict_vect.fit_transform(X_train[feats][:5].fillna('-').T.to_dict().values())\n",
    "dict_vect_matrix"
   ]
  },
  {
   "cell_type": "code",
   "execution_count": 76,
   "metadata": {
    "collapsed": false
   },
   "outputs": [
    {
     "data": {
      "text/plain": [
       "array([[ 0.,  0.,  1.,  0.,  0.,  1.,  0.,  0.,  1.],\n",
       "       [ 1.,  0.,  0.,  0.,  0.,  1.,  0.,  1.,  0.],\n",
       "       [ 1.,  0.,  0.,  0.,  0.,  1.,  0.,  1.,  0.],\n",
       "       [ 0.,  1.,  0.,  0.,  0.,  1.,  0.,  1.,  0.],\n",
       "       [ 0.,  0.,  0.,  1.,  1.,  0.,  1.,  0.,  0.]])"
      ]
     },
     "execution_count": 76,
     "metadata": {},
     "output_type": "execute_result"
    }
   ],
   "source": [
    "#Но можно преобразовать ее в numpy array с помощью .toarray()\n",
    "dict_vect_matrix.toarray()"
   ]
  },
  {
   "cell_type": "code",
   "execution_count": 77,
   "metadata": {
    "collapsed": false
   },
   "outputs": [
    {
     "data": {
      "text/plain": [
       "(5, 9)"
      ]
     },
     "execution_count": 77,
     "metadata": {},
     "output_type": "execute_result"
    }
   ],
   "source": [
    "#В получившейся матрице 5 строк (по числу объектов) и 9 столбцов\n",
    "#Далее разберемся почему колонок именно 9\n",
    "dict_vect_matrix.shape"
   ]
  },
  {
   "cell_type": "markdown",
   "metadata": {},
   "source": [
    "Посмотрим сколько уникальных значений в каждой колонке.<br />\n",
    "Суммарно их 9 - столько же, сколько и колонок. Это объясняется тем, что для категориальных признаков со строковыми значениями DictVectorizer делает кодирование бинарными признаками - каждому уникальному значению признака соответствует один новый бинарный признак, который равен 1 только в том случае, если в исходной матрице этот признак принимает значение, которому соответствует эта колонка новой матрицы."
   ]
  },
  {
   "cell_type": "code",
   "execution_count": 78,
   "metadata": {
    "collapsed": false
   },
   "outputs": [
    {
     "name": "stdout",
     "output_type": "stream",
     "text": [
      "author 4\n",
      "flow 3\n",
      "domain 2\n"
     ]
    }
   ],
   "source": [
    "for col in feats:\n",
    "    print(col,len(X_train[col][:5].fillna('-').unique()))"
   ]
  },
  {
   "cell_type": "markdown",
   "metadata": {},
   "source": [
    "Также можно посмотреть что означает каждая колонка полученной матрицы"
   ]
  },
  {
   "cell_type": "code",
   "execution_count": 79,
   "metadata": {
    "collapsed": false
   },
   "outputs": [
    {
     "data": {
      "text/plain": [
       "['author=@DezmASter',\n",
       " 'author=@Taoorus',\n",
       " 'author=@Tapac',\n",
       " 'author=@dennydo',\n",
       " 'domain=geektimes.ru',\n",
       " 'domain=habrahabr.ru',\n",
       " 'flow=-',\n",
       " 'flow=design',\n",
       " 'flow=develop']"
      ]
     },
     "execution_count": 79,
     "metadata": {},
     "output_type": "execute_result"
    }
   ],
   "source": [
    "#например, самая первая колонка называется 'author=@DezmASter' - то есть принимает значение 1 только если автор @DezmASter\n",
    "dict_vect.feature_names_"
   ]
  },
  {
   "cell_type": "markdown",
   "metadata": {},
   "source": [
    "**Инициализируйте DictVectorizer с параметрами по умолчанию.<br />\n",
    "Примените метод fit_transform к 'author', 'flow', 'domain' X_train и метод transform к X_valid и X_test**"
   ]
  },
  {
   "cell_type": "code",
   "execution_count": 85,
   "metadata": {
    "collapsed": false
   },
   "outputs": [],
   "source": [
    "vectorizer_feats = DictVectorizer()\n",
    "\n",
    "X_train_feats = vectorizer_feats.fit_transform(X_train[feats].fillna('-').T.to_dict().values())\n",
    "X_valid_feats = vectorizer_feats.transform(X_valid[feats].fillna('-').T.to_dict().values())\n",
    "X_test_feats = vectorizer_feats.transform(X_test[feats].fillna('-').T.to_dict().values())"
   ]
  },
  {
   "cell_type": "code",
   "execution_count": 86,
   "metadata": {
    "collapsed": false
   },
   "outputs": [
    {
     "data": {
      "text/plain": [
       "(93895, 17869)"
      ]
     },
     "execution_count": 86,
     "metadata": {},
     "output_type": "execute_result"
    }
   ],
   "source": [
    "X_train_feats.shape"
   ]
  },
  {
   "cell_type": "markdown",
   "metadata": {},
   "source": [
    "Соединим все полученные матрицы при помощи scipy.sparse.hstack()"
   ]
  },
  {
   "cell_type": "code",
   "execution_count": 87,
   "metadata": {
    "collapsed": false
   },
   "outputs": [],
   "source": [
    "X_train_new = scipy.sparse.hstack([X_train_title, X_train_feats, X_train_title_ch])\n",
    "X_valid_new = scipy.sparse.hstack([X_valid_title, X_valid_feats, X_valid_title_ch])\n",
    "X_test_new =  scipy.sparse.hstack([X_test_title, X_test_feats, X_test_title_ch])"
   ]
  },
  {
   "cell_type": "markdown",
   "metadata": {},
   "source": [
    "## Обучение модели\n",
    "\n",
    "Далее будем использовать Ridge, линейную модель с l2-регуляризацией.\n",
    "[Документация](http://scikit-learn.org/stable/modules/generated/sklearn.linear_model.Ridge.html)\n",
    "\n",
    "Основной параметр Ridge - **alpha, коэффициент регуляризации**. Регуляризация используется для улучшения обобщающей способности модели - прибавляя к функционалу потерь сумму квадратов весов, умноженную на коэффициент регуляризации (та самая alpha), мы штрафуем модель за слишком большие значения весов и не позволяем ей переобучаться. Чем больше этот коээфициент, тем сильнее эффект."
   ]
  },
  {
   "cell_type": "markdown",
   "metadata": {},
   "source": [
    "**Обучите две модели на X_train_new, y_train, задав в первой alpha=0.1 и random_state = 1, а во второй alpha=1.0 и random_state = 1**\n",
    "\n",
    "**Рассчитайте среднеквадратичную ошибку каждой модели (mean_squared_error). Сравните значения ошибки на обучающей и тестовой выборках и ответьте на вопросы.**"
   ]
  },
  {
   "cell_type": "markdown",
   "metadata": {},
   "source": [
    "<font color='red'>Вопрос 6.</font> Выберите верные утверждения:\n",
    "- обе модели показывают одинаковый результат (среднеквадратичная ошибка отличается не больше чем на тысячные), регуляризация ничего не меняет\n",
    "- при alpha=0.1 модель переобучается\n",
    "- среднеквадратичная ошибка первой модели на тесте меньше\n",
    "- при alpha=1.0 у модели обощающая способность лучше, чем у при alpha=0.1"
   ]
  },
  {
   "cell_type": "code",
   "execution_count": 91,
   "metadata": {
    "collapsed": false,
    "scrolled": true
   },
   "outputs": [
    {
     "name": "stdout",
     "output_type": "stream",
     "text": [
      "CPU times: user 11.9 s, sys: 48 ms, total: 12 s\n",
      "Wall time: 12.1 s\n"
     ]
    }
   ],
   "source": [
    "%%time\n",
    "model1 = Ridge(alpha = 0.1, random_state = 1)\n",
    "model1.fit(X_train_new, y_train)"
   ]
  },
  {
   "cell_type": "code",
   "execution_count": 92,
   "metadata": {
    "collapsed": false
   },
   "outputs": [
    {
     "name": "stdout",
     "output_type": "stream",
     "text": [
      "Ошибка на трейне 0.184107031582\n",
      "Ошибка на тесте 0.996233534497\n"
     ]
    }
   ],
   "source": [
    "train_preds1 = model1.predict(X_train_new)\n",
    "valid_preds1 = model1.predict(X_valid_new)\n",
    "\n",
    "print('Ошибка на трейне',mean_squared_error(y_train, train_preds1))\n",
    "print('Ошибка на тесте',mean_squared_error(y_valid, valid_preds1))"
   ]
  },
  {
   "cell_type": "code",
   "execution_count": 94,
   "metadata": {
    "collapsed": false
   },
   "outputs": [
    {
     "name": "stdout",
     "output_type": "stream",
     "text": [
      "CPU times: user 4.6 s, sys: 4 ms, total: 4.6 s\n",
      "Wall time: 4.61 s\n"
     ]
    }
   ],
   "source": [
    "%%time\n",
    "model2 = Ridge(alpha = 1, random_state = 1)\n",
    "model2.fit(X_train_new, y_train)"
   ]
  },
  {
   "cell_type": "code",
   "execution_count": 96,
   "metadata": {
    "collapsed": false
   },
   "outputs": [
    {
     "name": "stdout",
     "output_type": "stream",
     "text": [
      "Ошибка на трейне 0.28624407471\n",
      "Ошибка на тесте 0.80695156251\n"
     ]
    }
   ],
   "source": [
    "train_preds2 = model2.predict(X_train_new)\n",
    "valid_preds2 = model2.predict(X_valid_new)\n",
    "\n",
    "print('Ошибка на трейне',mean_squared_error(y_train, train_preds2))\n",
    "print('Ошибка на тесте',mean_squared_error(y_valid, valid_preds2))"
   ]
  },
  {
   "cell_type": "markdown",
   "metadata": {},
   "source": [
    "## Baseline\n",
    "\n",
    "**Теперь попытаемся получить бейзлайн для соревования - используйте Ridge с параметрами по умолчанию и обучите модель на всех данных - соедините X_train_new X_valid_new (используйте scipy.sparse.vstack()), а целевой переменной будет y.**"
   ]
  },
  {
   "cell_type": "code",
   "execution_count": 97,
   "metadata": {
    "collapsed": false
   },
   "outputs": [
    {
     "name": "stdout",
     "output_type": "stream",
     "text": [
      "CPU times: user 8.36 s, sys: 48 ms, total: 8.41 s\n",
      "Wall time: 8.4 s\n"
     ]
    }
   ],
   "source": [
    "%%time\n",
    "model = Ridge()\n",
    "\n",
    "X_train_all = scipy.sparse.vstack([X_train_new, X_valid_new])\n",
    "model.fit(X_train_all, y)\n",
    "\n",
    "test_preds = model.predict(X_test_new)"
   ]
  },
  {
   "cell_type": "code",
   "execution_count": 99,
   "metadata": {
    "collapsed": false
   },
   "outputs": [],
   "source": [
    "sample_submission = pd.read_csv('sample_submission.csv', index_col='url')"
   ]
  },
  {
   "cell_type": "code",
   "execution_count": 100,
   "metadata": {
    "collapsed": false
   },
   "outputs": [
    {
     "data": {
      "text/html": [
       "<div>\n",
       "<table border=\"1\" class=\"dataframe\">\n",
       "  <thead>\n",
       "    <tr style=\"text-align: right;\">\n",
       "      <th></th>\n",
       "      <th>favs_lognorm</th>\n",
       "    </tr>\n",
       "    <tr>\n",
       "      <th>url</th>\n",
       "      <th></th>\n",
       "    </tr>\n",
       "  </thead>\n",
       "  <tbody>\n",
       "    <tr>\n",
       "      <th>https://habrahabr.ru/post/314080/</th>\n",
       "      <td>0.323588</td>\n",
       "    </tr>\n",
       "    <tr>\n",
       "      <th>https://habrahabr.ru/company/plesk/blog/313732/</th>\n",
       "      <td>0.560105</td>\n",
       "    </tr>\n",
       "    <tr>\n",
       "      <th>https://habrahabr.ru/company/etagi/blog/314000/</th>\n",
       "      <td>0.667039</td>\n",
       "    </tr>\n",
       "    <tr>\n",
       "      <th>https://habrahabr.ru/company/knopka/blog/314030/</th>\n",
       "      <td>0.149563</td>\n",
       "    </tr>\n",
       "    <tr>\n",
       "      <th>https://geektimes.ru/company/audiomania/blog/282058/</th>\n",
       "      <td>0.670754</td>\n",
       "    </tr>\n",
       "  </tbody>\n",
       "</table>\n",
       "</div>"
      ],
      "text/plain": [
       "                                                    favs_lognorm\n",
       "url                                                             \n",
       "https://habrahabr.ru/post/314080/                       0.323588\n",
       "https://habrahabr.ru/company/plesk/blog/313732/         0.560105\n",
       "https://habrahabr.ru/company/etagi/blog/314000/         0.667039\n",
       "https://habrahabr.ru/company/knopka/blog/314030/        0.149563\n",
       "https://geektimes.ru/company/audiomania/blog/28...      0.670754"
      ]
     },
     "execution_count": 100,
     "metadata": {},
     "output_type": "execute_result"
    }
   ],
   "source": [
    "sample_submission.head()"
   ]
  },
  {
   "cell_type": "code",
   "execution_count": 101,
   "metadata": {
    "collapsed": false
   },
   "outputs": [],
   "source": [
    "ridge_submission = sample_submission.copy()\n",
    "ridge_submission['favs_lognorm'] = test_preds\n",
    "ridge_submission.to_csv('ridge_baseline.csv') #а вот и бейзлайн"
   ]
  },
  {
   "cell_type": "code",
   "execution_count": null,
   "metadata": {
    "collapsed": true
   },
   "outputs": [],
   "source": []
  }
 ],
 "metadata": {
  "anaconda-cloud": {},
  "kernelspec": {
   "display_name": "Python 3",
   "language": "python",
   "name": "python3"
  },
  "language_info": {
   "codemirror_mode": {
    "name": "ipython",
    "version": 3
   },
   "file_extension": ".py",
   "mimetype": "text/x-python",
   "name": "python",
   "nbconvert_exporter": "python",
   "pygments_lexer": "ipython3",
   "version": "3.5.2"
  }
 },
 "nbformat": 4,
 "nbformat_minor": 0
}
