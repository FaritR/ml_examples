{
 "cells": [
  {
   "cell_type": "markdown",
   "metadata": {
    "deletable": true,
    "editable": true
   },
   "source": [
    "<center>\n",
    "<img src=\"../../img/ods_stickers.jpg\">\n",
    "## Открытый курс по машинному обучению\n",
    "</center>\n",
    "<center>Автор материала: программист-исследователь Mail.ru Group, старший преподаватель <br>Факультета Компьютерных Наук ВШЭ Юрий Кашницкий"
   ]
  },
  {
   "cell_type": "markdown",
   "metadata": {
    "deletable": true,
    "editable": true
   },
   "source": [
    "# <center> Домашнее задание № 8. Часть 2\n",
    "## <center> Vowpal Wabbit в задаче классификации тегов вопросов на Stackoverflow"
   ]
  },
  {
   "cell_type": "markdown",
   "metadata": {
    "deletable": true,
    "editable": true
   },
   "source": [
    "## План 2 части домашнего задания\n",
    "    2.1. Введение\n",
    "    2.2. Описание данных\n",
    "    2.3. Предобработка данных\n",
    "    2.4. Обучение и проверка моделей\n",
    "    2.5. Заключение"
   ]
  },
  {
   "cell_type": "markdown",
   "metadata": {
    "deletable": true,
    "editable": true
   },
   "source": [
    "### 2.1. Введение\n",
    "\n",
    "В этом задании вы будете делать примерно то же, что я каждую неделю –  в Mail.ru Group: обучать модели на выборке в несколько гигабайт. Задание можно выполнить и на Windows с Python, но я рекомендую поработать под \\*NIX-системой (например, через Docker) и активно использовать язык bash.\n",
    "Немного снобизма (простите, но правда): если вы захотите работать в лучших компаниях мира в области ML, вам все равно понадобится опыт работы с bash под UNIX.\n",
    "\n",
    "[Веб-форма](https://goo.gl/forms/z8zENbMiaEAeB7nG3) для ответов.\n",
    "\n",
    "Для выполнения задания понадобится установленный Vowpal Wabbit (уже есть в докер-контейнере курса, см. инструкцию в README [репозитория](https://github.com/Yorko/mlcourse_open) нашего курса) и примерно 70 Гб дискового пространства. Я тестировал решение не на каком-то суперкомпе, а на Macbook Pro 2015 (8 ядер, 16 Гб памяти), и самая тяжеловесная модель обучалась около 12 минут, так что задание реально выполнить и с простым железом. Но если вы планируете когда-либо арендовать сервера Amazon, можно попробовать это сделать уже сейчас.\n",
    "\n",
    "Материалы в помощь:\n",
    " - интерактивный [тьюториал](https://www.codecademy.com/en/courses/learn-the-command-line/lessons/environment/exercises/bash-profile) CodeAcademy по утилитам командной строки UNIX (примерно на час-полтора)\n",
    " - [статья](https://habrahabr.ru/post/280562/) про то, как арендовать на Amazon машину (еще раз: это не обязательно для выполнения задания, но будет хорошим опытом, если вы это делаете впервые)"
   ]
  },
  {
   "cell_type": "markdown",
   "metadata": {
    "deletable": true,
    "editable": true
   },
   "source": [
    "### 2.2. Описание данных"
   ]
  },
  {
   "cell_type": "markdown",
   "metadata": {
    "deletable": true,
    "editable": true
   },
   "source": [
    "Имеются 10 Гб вопросов со StackOverflow – [скачайте](https://yadi.sk/d/krikdUic3Ggjyf) эту выборку. \n",
    "\n",
    "Формат данных простой:<br>\n",
    "<center>*текст вопроса* (слова через пробел) TAB *теги вопроса* (через пробел)\n",
    "\n",
    "Здесь TAB – это символ табуляции.\n",
    "Пример первой записи в выборке:"
   ]
  },
  {
   "cell_type": "code",
   "execution_count": 1,
   "metadata": {
    "collapsed": false,
    "deletable": true,
    "editable": true
   },
   "outputs": [
    {
     "name": "stdout",
     "output_type": "stream",
     "text": [
      " is there a way to apply a background color through css at the tr level i can apply it at the td level like this my td background color e8e8e8 background e8e8e8 however the background color doesn t seem to get applied when i attempt to apply the background color at the tr level like this my tr background color e8e8e8 background e8e8e8 is there a css trick to making this work or does css not natively support this for some reason \tcss css3 css-selectors\r\n"
     ]
    }
   ],
   "source": [
    "!head -1 stackoverflow.10kk.tsv"
   ]
  },
  {
   "cell_type": "markdown",
   "metadata": {
    "deletable": true,
    "editable": true
   },
   "source": [
    "Здесь у нас текст вопроса, затем табуляция и теги вопроса: *css, css3* и *css-selectors*. Всего в выборке таких вопросов 10 миллионов. "
   ]
  },
  {
   "cell_type": "code",
   "execution_count": 2,
   "metadata": {
    "collapsed": false,
    "deletable": true,
    "editable": true
   },
   "outputs": [
    {
     "name": "stdout",
     "output_type": "stream",
     "text": [
      "10000000 stackoverflow.10kk.tsv\n",
      "CPU times: user 2.33 s, sys: 240 ms, total: 2.57 s\n",
      "Wall time: 1min 36s\n"
     ]
    }
   ],
   "source": [
    "%%time\n",
    "!wc -l stackoverflow.10kk.tsv"
   ]
  },
  {
   "cell_type": "markdown",
   "metadata": {
    "deletable": true,
    "editable": true
   },
   "source": [
    "Обратите внимание на то, что такие данные я уже не хочу загружать в оперативную память и, пока можно, буду пользоваться эффективными утилитами UNIX –  head, tail, wc, cat, cut и прочими."
   ]
  },
  {
   "cell_type": "markdown",
   "metadata": {
    "deletable": true,
    "editable": true
   },
   "source": [
    "### 2.3. Предобработка данных"
   ]
  },
  {
   "cell_type": "markdown",
   "metadata": {
    "deletable": true,
    "editable": true
   },
   "source": [
    "Давайте выберем в наших данных все вопросы с тегами *javascript, java, python, ruby, php, c++, c#, go, scala* и  *swift* и подготовим обучающую выборку в формате Vowpal Wabbit. Будем решать задачу 10-классовой классификации вопросов по перечисленным тегам.\n",
    "\n",
    "Вообще, как мы видим, у каждого вопроса может быть несколько тегов, но мы упростим себе задачу и будем у каждого вопроса выбирать один из перечисленных тегов либо игнорировать вопрос, если таковых тегов нет. \n",
    "Но вообще VW поддерживает multilabel classification (аргумент  --multilabel_oaa).\n",
    "<br>\n",
    "<br>\n",
    "Реализуйте в виде отдельного файла `preprocess.py` код для подготовки данных. Он должен отобрать строки, в которых есть перечисленные теги, и переписать их в отдельный файл в формат Vowpal Wabbit. Детали:\n",
    " - скрипт должен работать с аргументами командной строки: с путями к файлам на входе и на выходе\n",
    " - строки обрабатываются по одной (можно использовать tqdm для подсчета числа итераций)\n",
    " - если табуляций в строке нет или их больше одной, считаем строку поврежденной и пропускаем\n",
    " - в противном случае смотрим, сколько в строке тегов из списка *javascript, java, python, ruby, php, c++, c#, go, scala* и  *swift*. Если ровно один, то записываем строку в выходной файл в формате VW: `label | text`, где `label` – число от 1 до 10 (1 - *javascript*, ... 10 – *swift*). Пропускаем те строки, где интересующих тегов больше или меньше одного \n",
    " - из текста вопроса надо выкинуть двоеточия и вертикальные палки, если они есть – в VW это спецсимволы"
   ]
  },
  {
   "cell_type": "code",
   "execution_count": 3,
   "metadata": {
    "collapsed": false,
    "deletable": true,
    "editable": true
   },
   "outputs": [],
   "source": [
    "import os\n",
    "from tqdm import tqdm\n",
    "from time import time\n",
    "import numpy as np\n",
    "from sklearn.metrics import accuracy_score"
   ]
  },
  {
   "cell_type": "markdown",
   "metadata": {
    "collapsed": true,
    "deletable": true,
    "editable": true
   },
   "source": [
    "Должно получиться вот такое число строк – 4389054. Как видите, 10 Гб у меня обработались примерно за полторы минуты."
   ]
  },
  {
   "cell_type": "code",
   "execution_count": 8,
   "metadata": {
    "collapsed": false,
    "deletable": true,
    "editable": true
   },
   "outputs": [
    {
     "name": "stdout",
     "output_type": "stream",
     "text": [
      "4389058\n",
      "CPU times: user 3.53 s, sys: 380 ms, total: 3.91 s\n",
      "Wall time: 2min 25s\n"
     ]
    }
   ],
   "source": [
    "%%time\n",
    "!python preprocessing.py stackoverflow.10kk.tsv stackoverflow.vw answers.txt"
   ]
  },
  {
   "cell_type": "code",
   "execution_count": 9,
   "metadata": {
    "collapsed": false,
    "deletable": true,
    "editable": true
   },
   "outputs": [
    {
     "name": "stdout",
     "output_type": "stream",
     "text": [
      "4389058 stackoverflow.vw\n",
      "CPU times: user 1 s, sys: 136 ms, total: 1.14 s\n",
      "Wall time: 43.4 s\n"
     ]
    }
   ],
   "source": [
    "%%time\n",
    "!wc -l stackoverflow.vw"
   ]
  },
  {
   "cell_type": "code",
   "execution_count": 10,
   "metadata": {
    "collapsed": false
   },
   "outputs": [
    {
     "name": "stdout",
     "output_type": "stream",
     "text": [
      "4389058 answers.txt\n",
      "CPU times: user 16 ms, sys: 0 ns, total: 16 ms\n",
      "Wall time: 559 ms\n"
     ]
    }
   ],
   "source": [
    "%%time\n",
    "!wc -l answers.txt"
   ]
  },
  {
   "cell_type": "markdown",
   "metadata": {
    "deletable": true,
    "editable": true
   },
   "source": [
    "Поделите выборку на обучающую, проверочную и тестовую части в равной пропорции - по  1463018 в каждый файл. Перемешивать не надо, первые 1463018 строк должны пойти в обучающую часть `stackoverflow_train.vw`, последние 1463018 – в тестовую `stackoverflow_test.vw`, оставшиеся – в проверочную `stackoverflow_valid.vw`. \n",
    "\n",
    "Также сохраните векторы ответов для проверочной и тестовой выборки в отдельные файлы `stackoverflow_valid_labels.txt` и `stackoverflow_test_labels.txt`.\n",
    "\n",
    "Тут вам помогут утилиты `head`, `tail`, `split`, `cat` и `cut`."
   ]
  },
  {
   "cell_type": "code",
   "execution_count": 33,
   "metadata": {
    "collapsed": false,
    "deletable": true,
    "editable": true
   },
   "outputs": [
    {
     "name": "stdout",
     "output_type": "stream",
     "text": [
      "CPU times: user 2.26 s, sys: 280 ms, total: 2.54 s\n",
      "Wall time: 1min 35s\n"
     ]
    }
   ],
   "source": [
    "%%time\n",
    "!split -l 1463020 stackoverflow.vw stackoverflow_"
   ]
  },
  {
   "cell_type": "code",
   "execution_count": 11,
   "metadata": {
    "collapsed": false,
    "deletable": true,
    "editable": true
   },
   "outputs": [
    {
     "name": "stdout",
     "output_type": "stream",
     "text": [
      "CPU times: user 4 ms, sys: 4 ms, total: 8 ms\n",
      "Wall time: 225 ms\n"
     ]
    }
   ],
   "source": [
    "%%time\n",
    "!split -l 1463020 answers.txt answers_"
   ]
  },
  {
   "cell_type": "code",
   "execution_count": 12,
   "metadata": {
    "collapsed": false,
    "deletable": true,
    "editable": true
   },
   "outputs": [
    {
     "name": "stdout",
     "output_type": "stream",
     "text": [
      "1 |  i ve got some code in window scroll that checks if an element is visible then triggers another function however only the first section of code is firing both bits of code work in and of themselves if i swap their order whichever is on top fires correctly my code is as follows fn isonscreen function use strict var win window viewport top win scrolltop left win scrollleft bounds this offset viewport right viewport left + win width viewport bottom viewport top + win height bounds right bounds left + this outerwidth bounds bottom bounds top + this outerheight return viewport right lt bounds left viewport left gt bounds right viewport bottom lt bounds top viewport top gt bounds bottom window scroll function use strict var load_more_results ajax load_more_results isonscreen if load_more_results true loadmoreresults var load_more_staff ajax load_more_staff isonscreen if load_more_staff true loadmorestaff what am i doing wrong can you only fire one event from window scroll i assume not \r\n",
      "4 |  redefining some constant in ruby ex foo bar generates the warning already initialized constant i m trying to write a sort of reallyconstants module where this code should have this behaviour reallyconstants define_constant foo bar gt sets the constant reallyconstants foo to bar reallyconstants foo gt bar reallyconstants foo foobar gt this should raise an exception that is constant redefinition should generate an exception is that possible \r\n"
     ]
    }
   ],
   "source": [
    "!head -n2 stackoverflow.vw"
   ]
  },
  {
   "cell_type": "code",
   "execution_count": 13,
   "metadata": {
    "collapsed": false
   },
   "outputs": [
    {
     "name": "stdout",
     "output_type": "stream",
     "text": [
      "1\r\n",
      "4\r\n"
     ]
    }
   ],
   "source": [
    "!head -n2 answers.txt"
   ]
  },
  {
   "cell_type": "markdown",
   "metadata": {
    "deletable": true,
    "editable": true
   },
   "source": [
    "### 2.4. Обучение и проверка моделей"
   ]
  },
  {
   "cell_type": "markdown",
   "metadata": {
    "deletable": true,
    "editable": true
   },
   "source": [
    "Обучите Vowpal Wabbit на выборке `stackoverflow_train.vw` 9 раз, перебирая параметры passes (1,3,5), ngram (1,2,3).\n",
    "Остальные параметры укажите следующие: bit_precision=28 и seed=17. Также скажите VW, что это 10-классовая задача.\n",
    "\n",
    "Проверяйте долю правильных ответов на выборке `stackoverflow_valid.vw`. Выберите лучшую модель и проверьте качество на выборке `stackoverflow_test.vw`."
   ]
  },
  {
   "cell_type": "code",
   "execution_count": 51,
   "metadata": {
    "collapsed": false,
    "deletable": true,
    "editable": true
   },
   "outputs": [
    {
     "name": "stdout",
     "output_type": "stream",
     "text": [
      "Generating 1-grams for all namespaces.\n",
      "final_regressor = stackoverflow_model11.vw\n",
      "Num weight bits = 28\n",
      "learning rate = 0.5\n",
      "initial_t = 0\n",
      "power_t = 0.5\n",
      "using no cache\n",
      "Reading datafile = stackoverflow_train.vw\n",
      "num sources = 1\n",
      "average  since         example        example  current  current  current\n",
      "loss     last          counter         weight    label  predict features\n",
      "0.000000 0.000000            1            1.0        1        1      161\n",
      "0.500000 1.000000            2            2.0        4        1       68\n",
      "0.750000 1.000000            4            4.0        7        1       88\n",
      "0.750000 0.750000            8            8.0        7        1       95\n",
      "0.812500 0.875000           16           16.0        7        7      209\n",
      "0.812500 0.812500           32           32.0        7        5      174\n",
      "0.781250 0.750000           64           64.0        3        3      204\n",
      "0.671875 0.562500          128          128.0        1        5       29\n",
      "0.609375 0.546875          256          256.0        5        5      169\n",
      "0.541016 0.472656          512          512.0        2        2      303\n",
      "0.451172 0.361328         1024         1024.0        3        3      123\n",
      "0.375977 0.300781         2048         2048.0        1        5       83\n",
      "0.311523 0.247070         4096         4096.0        1        1       79\n",
      "0.269287 0.227051         8192         8192.0        2        2      112\n",
      "0.226868 0.184448        16384        16384.0        7        7      252\n",
      "0.188995 0.151123        32768        32768.0        4        5      134\n",
      "0.162964 0.136932        65536        65536.0        5        5      145\n",
      "0.141556 0.120148       131072       131072.0        7        2      255\n",
      "0.123825 0.106094       262144       262144.0        7        7      101\n",
      "0.112268 0.100712       524288       524288.0        1        1      818\n",
      "0.103132 0.093996      1048576      1048576.0        1        1      571\n",
      "\n",
      "finished run\n",
      "number of examples per pass = 1463020\n",
      "passes used = 1\n",
      "weighted example sum = 1463020.000000\n",
      "weighted label sum = 0.000000\n",
      "average loss = 0.098884\n",
      "total feature number = 291954942\n",
      "CPU times: user 584 ms, sys: 72 ms, total: 656 ms\n",
      "Wall time: 25 s\n"
     ]
    }
   ],
   "source": [
    "%%time\n",
    "!vw --oaa 10 stackoverflow_train.vw \\\n",
    "-f stackoverflow_model11.vw --passes=1 --ngram=1 --bit_precision=28 --random_seed=17"
   ]
  },
  {
   "cell_type": "code",
   "execution_count": 52,
   "metadata": {
    "collapsed": false,
    "deletable": true,
    "editable": true
   },
   "outputs": [
    {
     "name": "stdout",
     "output_type": "stream",
     "text": [
      "Generating 2-grams for all namespaces.\n",
      "final_regressor = stackoverflow_model12.vw\n",
      "Num weight bits = 28\n",
      "learning rate = 0.5\n",
      "initial_t = 0\n",
      "power_t = 0.5\n",
      "using no cache\n",
      "Reading datafile = stackoverflow_train.vw\n",
      "num sources = 1\n",
      "average  since         example        example  current  current  current\n",
      "loss     last          counter         weight    label  predict features\n",
      "0.000000 0.000000            1            1.0        1        1      320\n",
      "0.500000 1.000000            2            2.0        4        1      134\n",
      "0.750000 1.000000            4            4.0        7        1      174\n",
      "0.750000 0.750000            8            8.0        7        1      188\n",
      "0.750000 0.750000           16           16.0        7        7      416\n",
      "0.781250 0.812500           32           32.0        7        2      346\n",
      "0.765625 0.750000           64           64.0        3        3      406\n",
      "0.664062 0.562500          128          128.0        1        7       56\n",
      "0.597656 0.531250          256          256.0        5        3      336\n",
      "0.527344 0.457031          512          512.0        2        2      604\n",
      "0.429688 0.332031         1024         1024.0        3        3      244\n",
      "0.362793 0.295898         2048         2048.0        1        5      164\n",
      "0.298096 0.233398         4096         4096.0        1        1      156\n",
      "0.249878 0.201660         8192         8192.0        2        2      222\n",
      "0.210266 0.170654        16384        16384.0        7        7      502\n",
      "0.175262 0.140259        32768        32768.0        4        5      266\n",
      "0.148163 0.121063        65536        65536.0        5        5      288\n",
      "0.127380 0.106598       131072       131072.0        7        2      508\n",
      "0.109459 0.091537       262144       262144.0        7        7      200\n",
      "0.097469 0.085480       524288       524288.0        1        1     1634\n",
      "0.087223 0.076977      1048576      1048576.0        1        1     1140\n",
      "\n",
      "finished run\n",
      "number of examples per pass = 1463020\n",
      "passes used = 1\n",
      "weighted example sum = 1463020.000000\n",
      "weighted label sum = 0.000000\n",
      "average loss = 0.083144\n",
      "total feature number = 580983844\n",
      "CPU times: user 2.18 s, sys: 276 ms, total: 2.46 s\n",
      "Wall time: 1min 33s\n"
     ]
    }
   ],
   "source": [
    "%%time\n",
    "!vw --oaa 10 stackoverflow_train.vw \\\n",
    "-f stackoverflow_model12.vw --passes=1 --ngram=2 --bit_precision=28 --random_seed=17"
   ]
  },
  {
   "cell_type": "code",
   "execution_count": 53,
   "metadata": {
    "collapsed": false,
    "deletable": true,
    "editable": true
   },
   "outputs": [
    {
     "name": "stdout",
     "output_type": "stream",
     "text": [
      "Generating 3-grams for all namespaces.\n",
      "final_regressor = stackoverflow_model13.vw\n",
      "Num weight bits = 28\n",
      "learning rate = 0.5\n",
      "initial_t = 0\n",
      "power_t = 0.5\n",
      "using no cache\n",
      "Reading datafile = stackoverflow_train.vw\n",
      "num sources = 1\n",
      "average  since         example        example  current  current  current\n",
      "loss     last          counter         weight    label  predict features\n",
      "0.000000 0.000000            1            1.0        1        1      478\n",
      "0.500000 1.000000            2            2.0        4        1      199\n",
      "0.750000 1.000000            4            4.0        7        1      259\n",
      "0.750000 0.750000            8            8.0        7        1      280\n",
      "0.750000 0.750000           16           16.0        7        7      622\n",
      "0.781250 0.812500           32           32.0        7        2      517\n",
      "0.765625 0.750000           64           64.0        3        3      607\n",
      "0.656250 0.546875          128          128.0        1        7       82\n",
      "0.605469 0.554688          256          256.0        5        1      502\n",
      "0.535156 0.464844          512          512.0        2        2      904\n",
      "0.442383 0.349609         1024         1024.0        3        3      364\n",
      "0.380371 0.318359         2048         2048.0        1        5      244\n",
      "0.317383 0.254395         4096         4096.0        1        1      232\n",
      "0.266724 0.216064         8192         8192.0        2        2      331\n",
      "0.222290 0.177856        16384        16384.0        7        7      751\n",
      "0.184631 0.146973        32768        32768.0        4        5      397\n",
      "0.155502 0.126373        65536        65536.0        5        5      430\n",
      "0.132919 0.110336       131072       131072.0        7        7      760\n",
      "0.113468 0.094017       262144       262144.0        7        7      298\n",
      "0.101650 0.089832       524288       524288.0        1        1     2449\n",
      "0.090106 0.078562      1048576      1048576.0        1        1     1708\n",
      "\n",
      "finished run\n",
      "number of examples per pass = 1463020\n",
      "passes used = 1\n",
      "weighted example sum = 1463020.000000\n",
      "weighted label sum = 0.000000\n",
      "average loss = 0.086319\n",
      "total feature number = 868549731\n",
      "CPU times: user 5.35 s, sys: 520 ms, total: 5.87 s\n",
      "Wall time: 3min 42s\n"
     ]
    }
   ],
   "source": [
    "%%time\n",
    "!vw --oaa 10 stackoverflow_train.vw \\\n",
    "-f stackoverflow_model13.vw --passes=1 --ngram=3 --bit_precision=28 --random_seed=17"
   ]
  },
  {
   "cell_type": "code",
   "execution_count": 62,
   "metadata": {
    "collapsed": false,
    "deletable": true,
    "editable": true
   },
   "outputs": [
    {
     "name": "stdout",
     "output_type": "stream",
     "text": [
      "Generating 1-grams for all namespaces.\n",
      "final_regressor = stackoverflow_model31.vw\n",
      "Num weight bits = 28\n",
      "learning rate = 0.5\n",
      "initial_t = 0\n",
      "power_t = 0.5\n",
      "decay_learning_rate = 1\n",
      "creating cache_file = stackoverflow_train.vw.cache\n",
      "Reading datafile = stackoverflow_train.vw\n",
      "num sources = 1\n",
      "average  since         example        example  current  current  current\n",
      "loss     last          counter         weight    label  predict features\n",
      "0.000000 0.000000            1            1.0        1        1      161\n",
      "0.500000 1.000000            2            2.0        4        1       68\n",
      "0.750000 1.000000            4            4.0        7        1       88\n",
      "0.750000 0.750000            8            8.0        7        1       95\n",
      "0.750000 0.750000           16           16.0        2        7      159\n",
      "0.781250 0.812500           32           32.0        1        7      404\n",
      "0.718750 0.656250           64           64.0        7        7      103\n",
      "0.664062 0.609375          128          128.0        5        5      276\n",
      "0.625000 0.585938          256          256.0        1        1      102\n",
      "0.546875 0.468750          512          512.0        2        5       68\n",
      "0.450195 0.353516         1024         1024.0        1        1      132\n",
      "0.387207 0.324219         2048         2048.0        7        7       71\n",
      "0.318115 0.249023         4096         4096.0        2        2      319\n",
      "0.267578 0.217041         8192         8192.0        5        2       24\n",
      "0.227661 0.187744        16384        16384.0        3        3      581\n",
      "0.190674 0.153687        32768        32768.0        3        3       28\n",
      "0.164215 0.137756        65536        65536.0        4        4      184\n",
      "0.142067 0.119919       131072       131072.0        2        2       95\n",
      "0.125511 0.108955       262144       262144.0        5        5      232\n",
      "0.112450 0.099388       524288       524288.0        6        6      142\n",
      "0.103465 0.094481      1048576      1048576.0        1        1      422\n",
      "0.096126 0.096126      2097152      2097152.0        3        3       67 h\n",
      "\n",
      "finished run\n",
      "number of examples per pass = 1316718\n",
      "passes used = 3\n",
      "weighted example sum = 3950154.000000\n",
      "weighted label sum = 0.000000\n",
      "average loss = 0.087887 h\n",
      "total feature number = 788274684\n",
      "CPU times: user 2.28 s, sys: 232 ms, total: 2.52 s\n",
      "Wall time: 1min 35s\n"
     ]
    }
   ],
   "source": [
    "%%time\n",
    "!vw --oaa 10 stackoverflow_train.vw \\\n",
    "-f stackoverflow_model31.vw --passes=3 --ngram=1 --bit_precision=28 --random_seed=17 -c"
   ]
  },
  {
   "cell_type": "code",
   "execution_count": 63,
   "metadata": {
    "collapsed": false,
    "deletable": true,
    "editable": true
   },
   "outputs": [
    {
     "name": "stdout",
     "output_type": "stream",
     "text": [
      "Generating 2-grams for all namespaces.\n",
      "final_regressor = stackoverflow_model32.vw\n",
      "Num weight bits = 28\n",
      "learning rate = 0.5\n",
      "initial_t = 0\n",
      "power_t = 0.5\n",
      "decay_learning_rate = 1\n",
      "using cache_file = stackoverflow_train.vw.cache\n",
      "ignoring text input in favor of cache input\n",
      "num sources = 1\n",
      "average  since         example        example  current  current  current\n",
      "loss     last          counter         weight    label  predict features\n",
      "0.000000 0.000000            1            1.0        1        1      320\n",
      "0.500000 1.000000            2            2.0        4        1      134\n",
      "0.750000 1.000000            4            4.0        7        1      174\n",
      "0.750000 0.750000            8            8.0        7        1      188\n",
      "0.687500 0.625000           16           16.0        2        7      316\n",
      "0.687500 0.687500           32           32.0        1        7      806\n",
      "0.687500 0.687500           64           64.0        7        7      204\n",
      "0.601562 0.515625          128          128.0        5        5      550\n",
      "0.574219 0.546875          256          256.0        1        1      202\n",
      "0.503906 0.433594          512          512.0        2        5      134\n",
      "0.432617 0.361328         1024         1024.0        1        1      262\n",
      "0.370605 0.308594         2048         2048.0        7        7      140\n",
      "0.299072 0.227539         4096         4096.0        2        2      636\n",
      "0.252197 0.205322         8192         8192.0        5        2       46\n",
      "0.215515 0.178833        16384        16384.0        3        3     1160\n",
      "0.178619 0.141724        32768        32768.0        3        3       54\n",
      "0.149918 0.121216        65536        65536.0        4        4      366\n",
      "0.128204 0.106491       131072       131072.0        2        2      188\n",
      "0.111256 0.094307       262144       262144.0        5        5      462\n",
      "0.097771 0.084286       524288       524288.0        6        6      282\n",
      "0.087827 0.077883      1048576      1048576.0        1        1      842\n",
      "0.079535 0.079535      2097152      2097152.0        3        3      132 h\n",
      "\n",
      "finished run\n",
      "number of examples per pass = 1316718\n",
      "passes used = 3\n",
      "weighted example sum = 3950154.000000\n",
      "weighted label sum = 0.000000\n",
      "average loss = 0.071927 h\n",
      "total feature number = 1568649060\n",
      "CPU times: user 6.48 s, sys: 664 ms, total: 7.14 s\n",
      "Wall time: 4min 31s\n"
     ]
    }
   ],
   "source": [
    "%%time\n",
    "!vw --oaa 10 stackoverflow_train.vw \\\n",
    "-f stackoverflow_model32.vw --passes=3 --ngram=2 --bit_precision=28 --random_seed=17 -c"
   ]
  },
  {
   "cell_type": "code",
   "execution_count": 64,
   "metadata": {
    "collapsed": false,
    "deletable": true,
    "editable": true
   },
   "outputs": [
    {
     "name": "stdout",
     "output_type": "stream",
     "text": [
      "Generating 3-grams for all namespaces.\n",
      "final_regressor = stackoverflow_model33.vw\n",
      "Num weight bits = 28\n",
      "learning rate = 0.5\n",
      "initial_t = 0\n",
      "power_t = 0.5\n",
      "decay_learning_rate = 1\n",
      "using cache_file = stackoverflow_train.vw.cache\n",
      "ignoring text input in favor of cache input\n",
      "num sources = 1\n",
      "average  since         example        example  current  current  current\n",
      "loss     last          counter         weight    label  predict features\n",
      "0.000000 0.000000            1            1.0        1        1      478\n",
      "0.500000 1.000000            2            2.0        4        1      199\n",
      "0.750000 1.000000            4            4.0        7        1      259\n",
      "0.750000 0.750000            8            8.0        7        1      280\n",
      "0.750000 0.750000           16           16.0        2        7      472\n",
      "0.750000 0.750000           32           32.0        1        7     1207\n",
      "0.718750 0.687500           64           64.0        7        7      304\n",
      "0.640625 0.562500          128          128.0        5        5      823\n",
      "0.609375 0.578125          256          256.0        1        1      301\n",
      "0.521484 0.433594          512          512.0        2        5      199\n",
      "0.442383 0.363281         1024         1024.0        1        1      391\n",
      "0.378906 0.315430         2048         2048.0        7        7      208\n",
      "0.310791 0.242676         4096         4096.0        2        2      952\n",
      "0.265747 0.220703         8192         8192.0        5        2       67\n",
      "0.223755 0.181763        16384        16384.0        3        3     1738\n",
      "0.186035 0.148315        32768        32768.0        3        3       79\n",
      "0.155670 0.125305        65536        65536.0        4        4      547\n",
      "0.133133 0.110596       131072       131072.0        2        2      280\n",
      "0.115284 0.097435       262144       262144.0        5        5      691\n",
      "0.101097 0.086910       524288       524288.0        6        6      421\n",
      "0.090279 0.079460      1048576      1048576.0        1        1     1261\n",
      "0.081256 0.081256      2097152      2097152.0        3        3      196 h\n",
      "\n",
      "finished run\n",
      "number of examples per pass = 1316718\n",
      "passes used = 3\n",
      "weighted example sum = 3950154.000000\n",
      "weighted label sum = 0.000000\n",
      "average loss = 0.074052 h\n",
      "total feature number = 2345073297\n",
      "CPU times: user 14.6 s, sys: 1.46 s, total: 16.1 s\n",
      "Wall time: 10min 9s\n"
     ]
    }
   ],
   "source": [
    "%%time\n",
    "!vw --oaa 10 stackoverflow_train.vw \\\n",
    "-f stackoverflow_model33.vw --passes=3 --ngram=3 --bit_precision=28 --random_seed=17 -c"
   ]
  },
  {
   "cell_type": "code",
   "execution_count": 65,
   "metadata": {
    "collapsed": false,
    "deletable": true,
    "editable": true
   },
   "outputs": [
    {
     "name": "stdout",
     "output_type": "stream",
     "text": [
      "Generating 1-grams for all namespaces.\n",
      "final_regressor = stackoverflow_model51.vw\n",
      "Num weight bits = 28\n",
      "learning rate = 0.5\n",
      "initial_t = 0\n",
      "power_t = 0.5\n",
      "decay_learning_rate = 1\n",
      "using cache_file = stackoverflow_train.vw.cache\n",
      "ignoring text input in favor of cache input\n",
      "num sources = 1\n",
      "average  since         example        example  current  current  current\n",
      "loss     last          counter         weight    label  predict features\n",
      "0.000000 0.000000            1            1.0        1        1      161\n",
      "0.500000 1.000000            2            2.0        4        1       68\n",
      "0.750000 1.000000            4            4.0        7        1       88\n",
      "0.750000 0.750000            8            8.0        7        1       95\n",
      "0.750000 0.750000           16           16.0        2        7      159\n",
      "0.781250 0.812500           32           32.0        1        7      404\n",
      "0.718750 0.656250           64           64.0        7        7      103\n",
      "0.664062 0.609375          128          128.0        5        5      276\n",
      "0.625000 0.585938          256          256.0        1        1      102\n",
      "0.546875 0.468750          512          512.0        2        5       68\n",
      "0.450195 0.353516         1024         1024.0        1        1      132\n",
      "0.387207 0.324219         2048         2048.0        7        7       71\n",
      "0.318115 0.249023         4096         4096.0        2        2      319\n",
      "0.267578 0.217041         8192         8192.0        5        2       24\n",
      "0.227661 0.187744        16384        16384.0        3        3      581\n",
      "0.190674 0.153687        32768        32768.0        3        3       28\n",
      "0.164215 0.137756        65536        65536.0        4        4      184\n",
      "0.142067 0.119919       131072       131072.0        2        2       95\n",
      "0.125511 0.108955       262144       262144.0        5        5      232\n",
      "0.112450 0.099388       524288       524288.0        6        6      142\n",
      "0.103465 0.094481      1048576      1048576.0        1        1      422\n",
      "0.096126 0.096126      2097152      2097152.0        3        3       67 h\n",
      "0.092015 0.087903      4194304      4194304.0        7        7      173 h\n",
      "\n",
      "finished run\n",
      "number of examples per pass = 1316718\n",
      "passes used = 5\n",
      "weighted example sum = 6583590.000000\n",
      "weighted label sum = 0.000000\n",
      "average loss = 0.087887 h\n",
      "total feature number = 1313791140\n",
      "CPU times: user 2.76 s, sys: 360 ms, total: 3.12 s\n",
      "Wall time: 1min 59s\n"
     ]
    }
   ],
   "source": [
    "%%time\n",
    "!vw --oaa 10 stackoverflow_train.vw \\\n",
    "-f stackoverflow_model51.vw --passes=5 --ngram=1 --bit_precision=28 --random_seed=17 -c"
   ]
  },
  {
   "cell_type": "code",
   "execution_count": 66,
   "metadata": {
    "collapsed": false,
    "deletable": true,
    "editable": true
   },
   "outputs": [
    {
     "name": "stdout",
     "output_type": "stream",
     "text": [
      "Generating 2-grams for all namespaces.\n",
      "final_regressor = stackoverflow_model52.vw\n",
      "Num weight bits = 28\n",
      "learning rate = 0.5\n",
      "initial_t = 0\n",
      "power_t = 0.5\n",
      "decay_learning_rate = 1\n",
      "using cache_file = stackoverflow_train.vw.cache\n",
      "ignoring text input in favor of cache input\n",
      "num sources = 1\n",
      "average  since         example        example  current  current  current\n",
      "loss     last          counter         weight    label  predict features\n",
      "0.000000 0.000000            1            1.0        1        1      320\n",
      "0.500000 1.000000            2            2.0        4        1      134\n",
      "0.750000 1.000000            4            4.0        7        1      174\n",
      "0.750000 0.750000            8            8.0        7        1      188\n",
      "0.687500 0.625000           16           16.0        2        7      316\n",
      "0.687500 0.687500           32           32.0        1        7      806\n",
      "0.687500 0.687500           64           64.0        7        7      204\n",
      "0.601562 0.515625          128          128.0        5        5      550\n",
      "0.574219 0.546875          256          256.0        1        1      202\n",
      "0.503906 0.433594          512          512.0        2        5      134\n",
      "0.432617 0.361328         1024         1024.0        1        1      262\n",
      "0.370605 0.308594         2048         2048.0        7        7      140\n",
      "0.299072 0.227539         4096         4096.0        2        2      636\n",
      "0.252197 0.205322         8192         8192.0        5        2       46\n",
      "0.215515 0.178833        16384        16384.0        3        3     1160\n",
      "0.178619 0.141724        32768        32768.0        3        3       54\n",
      "0.149918 0.121216        65536        65536.0        4        4      366\n",
      "0.128204 0.106491       131072       131072.0        2        2      188\n",
      "0.111256 0.094307       262144       262144.0        5        5      462\n",
      "0.097771 0.084286       524288       524288.0        6        6      282\n",
      "0.087827 0.077883      1048576      1048576.0        1        1      842\n",
      "0.079535 0.079535      2097152      2097152.0        3        3      132 h\n",
      "0.075881 0.072226      4194304      4194304.0        7        7      344 h\n",
      "\n",
      "finished run\n",
      "number of examples per pass = 1316718\n",
      "passes used = 5\n",
      "weighted example sum = 6583590.000000\n",
      "weighted label sum = 0.000000\n",
      "average loss = 0.071927 h\n",
      "total feature number = 2614415100\n",
      "CPU times: user 7.11 s, sys: 848 ms, total: 7.96 s\n",
      "Wall time: 4min 59s\n"
     ]
    }
   ],
   "source": [
    "%%time\n",
    "!vw --oaa 10 stackoverflow_train.vw \\\n",
    "-f stackoverflow_model52.vw --passes=5 --ngram=2 --bit_precision=28 --random_seed=17 -c"
   ]
  },
  {
   "cell_type": "code",
   "execution_count": 67,
   "metadata": {
    "collapsed": false,
    "deletable": true,
    "editable": true
   },
   "outputs": [
    {
     "name": "stdout",
     "output_type": "stream",
     "text": [
      "Generating 3-grams for all namespaces.\n",
      "final_regressor = stackoverflow_model53.vw\n",
      "Num weight bits = 28\n",
      "learning rate = 0.5\n",
      "initial_t = 0\n",
      "power_t = 0.5\n",
      "decay_learning_rate = 1\n",
      "using cache_file = stackoverflow_train.vw.cache\n",
      "ignoring text input in favor of cache input\n",
      "num sources = 1\n",
      "average  since         example        example  current  current  current\n",
      "loss     last          counter         weight    label  predict features\n",
      "0.000000 0.000000            1            1.0        1        1      478\n",
      "0.500000 1.000000            2            2.0        4        1      199\n",
      "0.750000 1.000000            4            4.0        7        1      259\n",
      "0.750000 0.750000            8            8.0        7        1      280\n",
      "0.750000 0.750000           16           16.0        2        7      472\n",
      "0.750000 0.750000           32           32.0        1        7     1207\n",
      "0.718750 0.687500           64           64.0        7        7      304\n",
      "0.640625 0.562500          128          128.0        5        5      823\n",
      "0.609375 0.578125          256          256.0        1        1      301\n",
      "0.521484 0.433594          512          512.0        2        5      199\n",
      "0.442383 0.363281         1024         1024.0        1        1      391\n",
      "0.378906 0.315430         2048         2048.0        7        7      208\n",
      "0.310791 0.242676         4096         4096.0        2        2      952\n",
      "0.265747 0.220703         8192         8192.0        5        2       67\n",
      "0.223755 0.181763        16384        16384.0        3        3     1738\n",
      "0.186035 0.148315        32768        32768.0        3        3       79\n",
      "0.155670 0.125305        65536        65536.0        4        4      547\n",
      "0.133133 0.110596       131072       131072.0        2        2      280\n",
      "0.115284 0.097435       262144       262144.0        5        5      691\n",
      "0.101097 0.086910       524288       524288.0        6        6      421\n",
      "0.090279 0.079460      1048576      1048576.0        1        1     1261\n",
      "0.081256 0.081256      2097152      2097152.0        3        3      196 h\n",
      "0.077934 0.074613      4194304      4194304.0        7        7      514 h\n",
      "\n",
      "finished run\n",
      "number of examples per pass = 1316718\n",
      "passes used = 5\n",
      "weighted example sum = 6583590.000000\n",
      "weighted label sum = 0.000000\n",
      "average loss = 0.074052 h\n",
      "total feature number = 3908455495\n",
      "CPU times: user 14.1 s, sys: 1.62 s, total: 15.7 s\n",
      "Wall time: 9min 51s\n"
     ]
    }
   ],
   "source": [
    "%%time\n",
    "!vw --oaa 10 stackoverflow_train.vw \\\n",
    "-f stackoverflow_model53.vw --passes=5 --ngram=3 --bit_precision=28 --random_seed=17 -c"
   ]
  },
  {
   "cell_type": "markdown",
   "metadata": {
    "deletable": true,
    "editable": true
   },
   "source": [
    "<font color='red'> Вопрос 1.</font> Какое сочетание параметров дает наибольшую долю правильных ответов на проверочной выборке `stackoverflow_valid.vw`?\n",
    "- Биграммы и 3 прохода по выборке\n",
    "- Триграммы и 5 проходов по выборке\n",
    "- Биграммы и 1 проход по выборке\n",
    "- Униграммы и 1 проход по выборке"
   ]
  },
  {
   "cell_type": "markdown",
   "metadata": {
    "deletable": true,
    "editable": true
   },
   "source": [
    "Проверьте лучшую (по доле правильных ответов на валидации) модель на тестовой выборке. "
   ]
  },
  {
   "cell_type": "code",
   "execution_count": 15,
   "metadata": {
    "collapsed": true
   },
   "outputs": [],
   "source": [
    "with open('answers_valid.txt') as ans_file:\n",
    "    valid_answer = [float(label) \n",
    "                             for label in ans_file.readlines()]"
   ]
  },
  {
   "cell_type": "code",
   "execution_count": 17,
   "metadata": {
    "collapsed": false,
    "deletable": true,
    "editable": true
   },
   "outputs": [
    {
     "name": "stdout",
     "output_type": "stream",
     "text": [
      "0.915148118276\n",
      "CPU times: user 1.41 s, sys: 136 ms, total: 1.54 s\n",
      "Wall time: 26.3 s\n"
     ]
    }
   ],
   "source": [
    "%%time\n",
    "!vw -i stackoverflow_model11.vw -t -d stackoverflow_valid.vw \\\n",
    "-p stackoverflow_valid_pred11.txt --quiet\n",
    "with open('stackoverflow_valid_pred11.txt') as pred_file:\n",
    "    valid_pred = [float(label) \n",
    "                             for label in pred_file.readlines()]\n",
    "print(accuracy_score(valid_answer, valid_pred))"
   ]
  },
  {
   "cell_type": "code",
   "execution_count": 18,
   "metadata": {
    "collapsed": false,
    "deletable": true,
    "editable": true
   },
   "outputs": [
    {
     "name": "stdout",
     "output_type": "stream",
     "text": [
      "0.931117824773\n"
     ]
    }
   ],
   "source": [
    "!vw -i stackoverflow_model12.vw -t -d stackoverflow_valid.vw \\\n",
    "-p stackoverflow_valid_pred12.txt --quiet\n",
    "with open('stackoverflow_valid_pred12.txt') as pred_file:\n",
    "    valid_pred = [float(label) \n",
    "                             for label in pred_file.readlines()]\n",
    "print(accuracy_score(valid_answer, valid_pred))"
   ]
  },
  {
   "cell_type": "code",
   "execution_count": 19,
   "metadata": {
    "collapsed": false,
    "deletable": true,
    "editable": true
   },
   "outputs": [
    {
     "name": "stdout",
     "output_type": "stream",
     "text": [
      "0.927804131181\n"
     ]
    }
   ],
   "source": [
    "!vw -i stackoverflow_model32.vw -t -d stackoverflow_valid.vw \\\n",
    "-p stackoverflow_valid_pred32.txt --quiet\n",
    "with open('stackoverflow_valid_pred32.txt') as pred_file:\n",
    "    valid_pred = [float(label) \n",
    "                             for label in pred_file.readlines()]\n",
    "print(accuracy_score(valid_answer, valid_pred))"
   ]
  },
  {
   "cell_type": "code",
   "execution_count": 20,
   "metadata": {
    "collapsed": false,
    "deletable": true,
    "editable": true
   },
   "outputs": [
    {
     "name": "stdout",
     "output_type": "stream",
     "text": [
      "0.92616300529\n"
     ]
    }
   ],
   "source": [
    "!vw -i stackoverflow_model53.vw -t -d stackoverflow_valid.vw \\\n",
    "-p stackoverflow_valid_pred53.txt --quiet\n",
    "with open('stackoverflow_valid_pred53.txt') as pred_file:\n",
    "    valid_pred = [float(label) \n",
    "                             for label in pred_file.readlines()]\n",
    "print(accuracy_score(valid_answer, valid_pred))"
   ]
  },
  {
   "cell_type": "markdown",
   "metadata": {
    "deletable": true,
    "editable": true
   },
   "source": [
    "<font color='red'> Вопрос 2.</font> Как соотносятся доли правильных ответов лучшей (по доле правильных ответов на валидации) модели на проверочной и на тестовой выборках? (здесь % – это процентный пункт, т.е., скажем, снижение с 50% до 40% – это на 10%, а не 20%).\n",
    "- На тестовой ниже примерно на 2%\n",
    "- На тестовой ниже примерно на 3%\n",
    "- Результаты почти одинаковы – отличаются меньше чем на 0.5%"
   ]
  },
  {
   "cell_type": "code",
   "execution_count": 25,
   "metadata": {
    "collapsed": false
   },
   "outputs": [
    {
     "name": "stdout",
     "output_type": "stream",
     "text": [
      "0.931202486914\n"
     ]
    }
   ],
   "source": [
    "with open('answers_test.txt') as ans_file:\n",
    "    test_answer = [float(label) \n",
    "                             for label in ans_file.readlines()]\n",
    "!vw -i stackoverflow_model12.vw -t -d stackoverflow_test.vw \\\n",
    "-p stackoverflow_test_pred12.txt --quiet\n",
    "with open('stackoverflow_test_pred12.txt') as pred_file:\n",
    "    test_pred = [float(label) \n",
    "                             for label in pred_file.readlines()]\n",
    "print(accuracy_score(test_answer, test_pred))"
   ]
  },
  {
   "cell_type": "markdown",
   "metadata": {
    "deletable": true,
    "editable": true
   },
   "source": [
    "Обучите VW с параметрами, подобранными на проверочной выборке, теперь на объединении обучающей и проверочной выборок. Посчитайте долю правильных ответов на тестовой выборке. "
   ]
  },
  {
   "cell_type": "code",
   "execution_count": 29,
   "metadata": {
    "collapsed": false,
    "deletable": true,
    "editable": true
   },
   "outputs": [
    {
     "name": "stdout",
     "output_type": "stream",
     "text": [
      "CPU times: user 2 s, sys: 268 ms, total: 2.27 s\n",
      "Wall time: 1min 25s\n"
     ]
    }
   ],
   "source": [
    "%%time\n",
    "!cat stackoverflow_train.vw stackoverflow_valid.vw > stackoverflow_big_train.vw"
   ]
  },
  {
   "cell_type": "code",
   "execution_count": 30,
   "metadata": {
    "collapsed": false
   },
   "outputs": [
    {
     "name": "stdout",
     "output_type": "stream",
     "text": [
      "2926040 stackoverflow_big_train.vw\n",
      "CPU times: user 776 ms, sys: 88 ms, total: 864 ms\n",
      "Wall time: 31.7 s\n"
     ]
    }
   ],
   "source": [
    "%%time\n",
    "!wc -l stackoverflow_big_train.vw"
   ]
  },
  {
   "cell_type": "code",
   "execution_count": 31,
   "metadata": {
    "collapsed": false
   },
   "outputs": [
    {
     "name": "stdout",
     "output_type": "stream",
     "text": [
      "Generating 2-grams for all namespaces.\n",
      "final_regressor = stackoverflow_big_model12.vw\n",
      "Num weight bits = 28\n",
      "learning rate = 0.5\n",
      "initial_t = 0\n",
      "power_t = 0.5\n",
      "using no cache\n",
      "Reading datafile = stackoverflow_big_train.vw\n",
      "num sources = 1\n",
      "average  since         example        example  current  current  current\n",
      "loss     last          counter         weight    label  predict features\n",
      "0.000000 0.000000            1            1.0        1        1      320\n",
      "0.500000 1.000000            2            2.0        4        1      134\n",
      "0.750000 1.000000            4            4.0        7        1      174\n",
      "0.750000 0.750000            8            8.0        7        1      188\n",
      "0.750000 0.750000           16           16.0        7        7      416\n",
      "0.781250 0.812500           32           32.0        7        2      346\n",
      "0.765625 0.750000           64           64.0        3        3      406\n",
      "0.664062 0.562500          128          128.0        1        7       56\n",
      "0.597656 0.531250          256          256.0        5        3      336\n",
      "0.527344 0.457031          512          512.0        2        2      604\n",
      "0.429688 0.332031         1024         1024.0        3        3      244\n",
      "0.362793 0.295898         2048         2048.0        1        5      164\n",
      "0.298096 0.233398         4096         4096.0        1        1      156\n",
      "0.249878 0.201660         8192         8192.0        2        2      222\n",
      "0.210266 0.170654        16384        16384.0        7        7      502\n",
      "0.175262 0.140259        32768        32768.0        4        5      266\n",
      "0.148163 0.121063        65536        65536.0        5        5      288\n",
      "0.127380 0.106598       131072       131072.0        7        2      508\n",
      "0.109459 0.091537       262144       262144.0        7        7      200\n",
      "0.097469 0.085480       524288       524288.0        1        1     1634\n",
      "0.087223 0.076977      1048576      1048576.0        1        1     1140\n",
      "0.078518 0.069813      2097152      2097152.0        1        1       98\n",
      "\n",
      "finished run\n",
      "number of examples per pass = 2926040\n",
      "passes used = 1\n",
      "weighted example sum = 2926040.000000\n",
      "weighted label sum = 0.000000\n",
      "average loss = 0.075154\n",
      "total feature number = 1161593776\n",
      "CPU times: user 18.9 s, sys: 2.3 s, total: 21.2 s\n",
      "Wall time: 13min 10s\n"
     ]
    }
   ],
   "source": [
    "%%time\n",
    "!vw --oaa 10 stackoverflow_big_train.vw \\\n",
    "-f stackoverflow_big_model12.vw --passes=1 --ngram=2 --bit_precision=28 --random_seed=17"
   ]
  },
  {
   "cell_type": "code",
   "execution_count": 32,
   "metadata": {
    "collapsed": false
   },
   "outputs": [
    {
     "name": "stdout",
     "output_type": "stream",
     "text": [
      "0.935183982699\n",
      "CPU times: user 4.85 s, sys: 644 ms, total: 5.5 s\n",
      "Wall time: 2min 42s\n"
     ]
    }
   ],
   "source": [
    "%%time\n",
    "with open('answers_test.txt') as ans_file:\n",
    "    test_answer = [float(label) \n",
    "                             for label in ans_file.readlines()]\n",
    "!vw -i stackoverflow_big_model12.vw -t -d stackoverflow_test.vw \\\n",
    "-p stackoverflow_test_pred_big.txt --quiet\n",
    "with open('stackoverflow_test_pred_big.txt') as pred_file:\n",
    "    test_pred = [float(label) \n",
    "                             for label in pred_file.readlines()]\n",
    "print(accuracy_score(test_answer, test_pred))"
   ]
  },
  {
   "cell_type": "markdown",
   "metadata": {
    "deletable": true,
    "editable": true
   },
   "source": [
    "<font color='red'> Вопрос 3.</font> На сколько процентных пунктов повысилась доля правильных ответов модели после обучения на вдвое большей выборке (обучающая `stackoverflow_train.vw` + проверочная `stackoverflow_valid.vw`) по сравнению с моделью, обученной только на `stackoverflow_train.vw`?\n",
    " - 0.1%\n",
    " - 0.4%\n",
    " - 0.8%\n",
    " - 1.2%"
   ]
  },
  {
   "cell_type": "markdown",
   "metadata": {
    "deletable": true,
    "editable": true
   },
   "source": [
    "### 2.5. Заключение"
   ]
  },
  {
   "cell_type": "markdown",
   "metadata": {
    "deletable": true,
    "editable": true
   },
   "source": [
    "В этом задании мы только познакомились с Vowpal Wabbit. Что еще можно попробовать:\n",
    " - Классификация с несколькими ответами (multilabel classification, аргумент  `multilabel_oaa`) – формат данных тут как раз под такую задачу\n",
    " - Настройка параметров VW с hyperopt, авторы библиотеки утверждают, что качество должно сильно зависеть от параметров изменения шага градиентного спуска (`initial_t` и `power_t`). Также можно потестировать разные функции потерь – обучать логистическую регресиию или линейный SVM\n",
    " - Познакомиться с факторизационными машинами и их реализацией в VW (аргумент `lrq`)"
   ]
  }
 ],
 "metadata": {
  "kernelspec": {
   "display_name": "Python 3",
   "language": "python",
   "name": "python3"
  },
  "language_info": {
   "codemirror_mode": {
    "name": "ipython",
    "version": 3
   },
   "file_extension": ".py",
   "mimetype": "text/x-python",
   "name": "python",
   "nbconvert_exporter": "python",
   "pygments_lexer": "ipython3",
   "version": "3.5.2"
  }
 },
 "nbformat": 4,
 "nbformat_minor": 2
}
