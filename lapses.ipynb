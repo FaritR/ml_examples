{
 "cells": [
  {
   "cell_type": "code",
   "execution_count": 228,
   "metadata": {},
   "outputs": [],
   "source": [
    "import pandas as pd\n",
    "from sklearn.linear_model import LogisticRegressionCV, LogisticRegression\n",
    "import numpy as np\n",
    "from sklearn.preprocessing import MinMaxScaler"
   ]
  },
  {
   "cell_type": "code",
   "execution_count": 103,
   "metadata": {},
   "outputs": [],
   "source": [
    "data = pd.read_excel('data/Lapse_statistics.xlsx')"
   ]
  },
  {
   "cell_type": "code",
   "execution_count": 104,
   "metadata": {},
   "outputs": [
    {
     "name": "stdout",
     "output_type": "stream",
     "text": [
      "Freq_statistics.xlsx\n",
      "Lapse_statistics.xlsx\n",
      "Sev_statistics.xlsx\n"
     ]
    }
   ],
   "source": [
    "%%bash\n",
    "ls data"
   ]
  },
  {
   "cell_type": "code",
   "execution_count": 105,
   "metadata": {},
   "outputs": [
    {
     "data": {
      "text/html": [
       "<div>\n",
       "<style scoped>\n",
       "    .dataframe tbody tr th:only-of-type {\n",
       "        vertical-align: middle;\n",
       "    }\n",
       "\n",
       "    .dataframe tbody tr th {\n",
       "        vertical-align: top;\n",
       "    }\n",
       "\n",
       "    .dataframe thead th {\n",
       "        text-align: right;\n",
       "    }\n",
       "</style>\n",
       "<table border=\"1\" class=\"dataframe\">\n",
       "  <thead>\n",
       "    <tr style=\"text-align: right;\">\n",
       "      <th></th>\n",
       "      <th>Age</th>\n",
       "      <th>Area</th>\n",
       "      <th>Tenure</th>\n",
       "      <th>Premium_category</th>\n",
       "      <th>Lapses</th>\n",
       "    </tr>\n",
       "  </thead>\n",
       "  <tbody>\n",
       "    <tr>\n",
       "      <th>0</th>\n",
       "      <td>31</td>\n",
       "      <td>2</td>\n",
       "      <td>114</td>\n",
       "      <td>4</td>\n",
       "      <td>0</td>\n",
       "    </tr>\n",
       "    <tr>\n",
       "      <th>1</th>\n",
       "      <td>18</td>\n",
       "      <td>2</td>\n",
       "      <td>10</td>\n",
       "      <td>6</td>\n",
       "      <td>1</td>\n",
       "    </tr>\n",
       "    <tr>\n",
       "      <th>2</th>\n",
       "      <td>62</td>\n",
       "      <td>2</td>\n",
       "      <td>136</td>\n",
       "      <td>1</td>\n",
       "      <td>0</td>\n",
       "    </tr>\n",
       "    <tr>\n",
       "      <th>3</th>\n",
       "      <td>45</td>\n",
       "      <td>2</td>\n",
       "      <td>48</td>\n",
       "      <td>5</td>\n",
       "      <td>0</td>\n",
       "    </tr>\n",
       "    <tr>\n",
       "      <th>4</th>\n",
       "      <td>22</td>\n",
       "      <td>2</td>\n",
       "      <td>58</td>\n",
       "      <td>6</td>\n",
       "      <td>1</td>\n",
       "    </tr>\n",
       "  </tbody>\n",
       "</table>\n",
       "</div>"
      ],
      "text/plain": [
       "   Age  Area  Tenure  Premium_category  Lapses\n",
       "0   31     2     114                 4       0\n",
       "1   18     2      10                 6       1\n",
       "2   62     2     136                 1       0\n",
       "3   45     2      48                 5       0\n",
       "4   22     2      58                 6       1"
      ]
     },
     "execution_count": 105,
     "metadata": {},
     "output_type": "execute_result"
    }
   ],
   "source": [
    "data.head()"
   ]
  },
  {
   "cell_type": "code",
   "execution_count": 106,
   "metadata": {},
   "outputs": [
    {
     "data": {
      "text/html": [
       "<div>\n",
       "<style scoped>\n",
       "    .dataframe tbody tr th:only-of-type {\n",
       "        vertical-align: middle;\n",
       "    }\n",
       "\n",
       "    .dataframe tbody tr th {\n",
       "        vertical-align: top;\n",
       "    }\n",
       "\n",
       "    .dataframe thead th {\n",
       "        text-align: right;\n",
       "    }\n",
       "</style>\n",
       "<table border=\"1\" class=\"dataframe\">\n",
       "  <thead>\n",
       "    <tr style=\"text-align: right;\">\n",
       "      <th></th>\n",
       "      <th>Age</th>\n",
       "      <th>Area</th>\n",
       "      <th>Tenure</th>\n",
       "      <th>Premium_category</th>\n",
       "      <th>Lapses</th>\n",
       "    </tr>\n",
       "  </thead>\n",
       "  <tbody>\n",
       "    <tr>\n",
       "      <th>count</th>\n",
       "      <td>5000.000000</td>\n",
       "      <td>5000.000000</td>\n",
       "      <td>5000.000000</td>\n",
       "      <td>5000.000000</td>\n",
       "      <td>5000.000000</td>\n",
       "    </tr>\n",
       "    <tr>\n",
       "      <th>mean</th>\n",
       "      <td>43.673800</td>\n",
       "      <td>1.518000</td>\n",
       "      <td>70.710600</td>\n",
       "      <td>5.551600</td>\n",
       "      <td>0.357000</td>\n",
       "    </tr>\n",
       "    <tr>\n",
       "      <th>std</th>\n",
       "      <td>14.919394</td>\n",
       "      <td>0.523575</td>\n",
       "      <td>41.388228</td>\n",
       "      <td>2.896449</td>\n",
       "      <td>0.479163</td>\n",
       "    </tr>\n",
       "    <tr>\n",
       "      <th>min</th>\n",
       "      <td>18.000000</td>\n",
       "      <td>1.000000</td>\n",
       "      <td>0.000000</td>\n",
       "      <td>1.000000</td>\n",
       "      <td>0.000000</td>\n",
       "    </tr>\n",
       "    <tr>\n",
       "      <th>25%</th>\n",
       "      <td>31.000000</td>\n",
       "      <td>1.000000</td>\n",
       "      <td>35.000000</td>\n",
       "      <td>3.000000</td>\n",
       "      <td>0.000000</td>\n",
       "    </tr>\n",
       "    <tr>\n",
       "      <th>50%</th>\n",
       "      <td>44.000000</td>\n",
       "      <td>2.000000</td>\n",
       "      <td>70.000000</td>\n",
       "      <td>6.000000</td>\n",
       "      <td>0.000000</td>\n",
       "    </tr>\n",
       "    <tr>\n",
       "      <th>75%</th>\n",
       "      <td>56.000000</td>\n",
       "      <td>2.000000</td>\n",
       "      <td>106.000000</td>\n",
       "      <td>8.000000</td>\n",
       "      <td>1.000000</td>\n",
       "    </tr>\n",
       "    <tr>\n",
       "      <th>max</th>\n",
       "      <td>70.000000</td>\n",
       "      <td>3.000000</td>\n",
       "      <td>143.000000</td>\n",
       "      <td>10.000000</td>\n",
       "      <td>1.000000</td>\n",
       "    </tr>\n",
       "  </tbody>\n",
       "</table>\n",
       "</div>"
      ],
      "text/plain": [
       "               Age         Area       Tenure  Premium_category       Lapses\n",
       "count  5000.000000  5000.000000  5000.000000       5000.000000  5000.000000\n",
       "mean     43.673800     1.518000    70.710600          5.551600     0.357000\n",
       "std      14.919394     0.523575    41.388228          2.896449     0.479163\n",
       "min      18.000000     1.000000     0.000000          1.000000     0.000000\n",
       "25%      31.000000     1.000000    35.000000          3.000000     0.000000\n",
       "50%      44.000000     2.000000    70.000000          6.000000     0.000000\n",
       "75%      56.000000     2.000000   106.000000          8.000000     1.000000\n",
       "max      70.000000     3.000000   143.000000         10.000000     1.000000"
      ]
     },
     "execution_count": 106,
     "metadata": {},
     "output_type": "execute_result"
    }
   ],
   "source": [
    "data.describe()"
   ]
  },
  {
   "cell_type": "code",
   "execution_count": 107,
   "metadata": {},
   "outputs": [
    {
     "name": "stdout",
     "output_type": "stream",
     "text": [
      "<class 'pandas.core.frame.DataFrame'>\n",
      "RangeIndex: 5000 entries, 0 to 4999\n",
      "Data columns (total 5 columns):\n",
      "Age                 5000 non-null int64\n",
      "Area                5000 non-null int64\n",
      "Tenure              5000 non-null int64\n",
      "Premium_category    5000 non-null int64\n",
      "Lapses              5000 non-null int64\n",
      "dtypes: int64(5)\n",
      "memory usage: 195.4 KB\n"
     ]
    }
   ],
   "source": [
    "data.info()"
   ]
  },
  {
   "cell_type": "code",
   "execution_count": 108,
   "metadata": {},
   "outputs": [],
   "source": [
    "y = data.Lapses\n",
    "X = data.drop(['Lapses'], axis = 1)"
   ]
  },
  {
   "cell_type": "code",
   "execution_count": 109,
   "metadata": {},
   "outputs": [
    {
     "name": "stdout",
     "output_type": "stream",
     "text": [
      "[0.6454 0.6518 0.6562 0.6586 0.66   0.6606 0.6608 0.6608 0.6608]\n"
     ]
    }
   ],
   "source": [
    "C_space = np.geomspace(1e-4, 1e4, 9)\n",
    "\n",
    "\n",
    "#for C in C_space:\n",
    "model = LogisticRegressionCV(Cs = C_space, cv = 5, solver = 'liblinear', random_state = 57)\n",
    "model.fit(X, y)\n",
    "print(np.mean(model.scores_[1], axis= 0))"
   ]
  },
  {
   "cell_type": "code",
   "execution_count": 110,
   "metadata": {},
   "outputs": [
    {
     "name": "stdout",
     "output_type": "stream",
     "text": [
      "[-0.85036654] [[ 0.00240754  0.0032532  -0.01476999  0.19859524]]\n"
     ]
    }
   ],
   "source": [
    "model = LogisticRegression(C = 1e2, solver = 'liblinear', random_state = 57, max_iter = 1e4)\n",
    "model.fit(X, y)\n",
    "print(model.intercept_, model.coef_)"
   ]
  },
  {
   "cell_type": "code",
   "execution_count": 111,
   "metadata": {},
   "outputs": [
    {
     "data": {
      "text/plain": [
       "DescribeResult(nobs=5000, minmax=(-1, 1), mean=0.1286, variance=0.3213263052610522, skewness=0.013895906956225506, kurtosis=-0.05116893685410284)"
      ]
     },
     "execution_count": 111,
     "metadata": {},
     "output_type": "execute_result"
    }
   ],
   "source": [
    "from scipy import stats\n",
    "dataset = y - model.predict(X)\n",
    "stats.describe(dataset)"
   ]
  },
  {
   "cell_type": "code",
   "execution_count": 229,
   "metadata": {},
   "outputs": [],
   "source": [
    "y = data.Lapses\n",
    "X = data.drop(['Lapses'], axis = 1)"
   ]
  },
  {
   "cell_type": "code",
   "execution_count": 230,
   "metadata": {},
   "outputs": [
    {
     "data": {
      "text/html": [
       "<div>\n",
       "<style scoped>\n",
       "    .dataframe tbody tr th:only-of-type {\n",
       "        vertical-align: middle;\n",
       "    }\n",
       "\n",
       "    .dataframe tbody tr th {\n",
       "        vertical-align: top;\n",
       "    }\n",
       "\n",
       "    .dataframe thead th {\n",
       "        text-align: right;\n",
       "    }\n",
       "</style>\n",
       "<table border=\"1\" class=\"dataframe\">\n",
       "  <thead>\n",
       "    <tr style=\"text-align: right;\">\n",
       "      <th></th>\n",
       "      <th>Age</th>\n",
       "      <th>Area</th>\n",
       "      <th>Tenure</th>\n",
       "      <th>Premium_category</th>\n",
       "    </tr>\n",
       "  </thead>\n",
       "  <tbody>\n",
       "    <tr>\n",
       "      <th>0</th>\n",
       "      <td>31</td>\n",
       "      <td>2</td>\n",
       "      <td>114</td>\n",
       "      <td>4</td>\n",
       "    </tr>\n",
       "    <tr>\n",
       "      <th>1</th>\n",
       "      <td>18</td>\n",
       "      <td>2</td>\n",
       "      <td>10</td>\n",
       "      <td>6</td>\n",
       "    </tr>\n",
       "    <tr>\n",
       "      <th>2</th>\n",
       "      <td>62</td>\n",
       "      <td>2</td>\n",
       "      <td>136</td>\n",
       "      <td>1</td>\n",
       "    </tr>\n",
       "    <tr>\n",
       "      <th>3</th>\n",
       "      <td>45</td>\n",
       "      <td>2</td>\n",
       "      <td>48</td>\n",
       "      <td>5</td>\n",
       "    </tr>\n",
       "    <tr>\n",
       "      <th>4</th>\n",
       "      <td>22</td>\n",
       "      <td>2</td>\n",
       "      <td>58</td>\n",
       "      <td>6</td>\n",
       "    </tr>\n",
       "  </tbody>\n",
       "</table>\n",
       "</div>"
      ],
      "text/plain": [
       "   Age  Area  Tenure  Premium_category\n",
       "0   31     2     114                 4\n",
       "1   18     2      10                 6\n",
       "2   62     2     136                 1\n",
       "3   45     2      48                 5\n",
       "4   22     2      58                 6"
      ]
     },
     "execution_count": 230,
     "metadata": {},
     "output_type": "execute_result"
    }
   ],
   "source": [
    "X.head()"
   ]
  },
  {
   "cell_type": "code",
   "execution_count": 231,
   "metadata": {},
   "outputs": [],
   "source": [
    "cat_f = ['Area', 'Premium_category']\n",
    "for cat in cat_f:\n",
    "    for val in X[cat].value_counts().index:\n",
    "        X[cat+'_'+str(val)] = X[cat].map(lambda x: 1 if x==val else 0)\n",
    "    X = X.drop([cat], axis = 1)"
   ]
  },
  {
   "cell_type": "code",
   "execution_count": 232,
   "metadata": {},
   "outputs": [
    {
     "data": {
      "text/html": [
       "<div>\n",
       "<style scoped>\n",
       "    .dataframe tbody tr th:only-of-type {\n",
       "        vertical-align: middle;\n",
       "    }\n",
       "\n",
       "    .dataframe tbody tr th {\n",
       "        vertical-align: top;\n",
       "    }\n",
       "\n",
       "    .dataframe thead th {\n",
       "        text-align: right;\n",
       "    }\n",
       "</style>\n",
       "<table border=\"1\" class=\"dataframe\">\n",
       "  <thead>\n",
       "    <tr style=\"text-align: right;\">\n",
       "      <th></th>\n",
       "      <th>Age</th>\n",
       "      <th>Tenure</th>\n",
       "      <th>Area_1</th>\n",
       "      <th>Area_2</th>\n",
       "      <th>Area_3</th>\n",
       "      <th>Premium_category_10</th>\n",
       "      <th>Premium_category_7</th>\n",
       "      <th>Premium_category_1</th>\n",
       "      <th>Premium_category_2</th>\n",
       "      <th>Premium_category_8</th>\n",
       "      <th>Premium_category_9</th>\n",
       "      <th>Premium_category_4</th>\n",
       "      <th>Premium_category_5</th>\n",
       "      <th>Premium_category_3</th>\n",
       "      <th>Premium_category_6</th>\n",
       "    </tr>\n",
       "  </thead>\n",
       "  <tbody>\n",
       "    <tr>\n",
       "      <th>0</th>\n",
       "      <td>31</td>\n",
       "      <td>114</td>\n",
       "      <td>0</td>\n",
       "      <td>1</td>\n",
       "      <td>0</td>\n",
       "      <td>0</td>\n",
       "      <td>0</td>\n",
       "      <td>0</td>\n",
       "      <td>0</td>\n",
       "      <td>0</td>\n",
       "      <td>0</td>\n",
       "      <td>1</td>\n",
       "      <td>0</td>\n",
       "      <td>0</td>\n",
       "      <td>0</td>\n",
       "    </tr>\n",
       "    <tr>\n",
       "      <th>1</th>\n",
       "      <td>18</td>\n",
       "      <td>10</td>\n",
       "      <td>0</td>\n",
       "      <td>1</td>\n",
       "      <td>0</td>\n",
       "      <td>0</td>\n",
       "      <td>0</td>\n",
       "      <td>0</td>\n",
       "      <td>0</td>\n",
       "      <td>0</td>\n",
       "      <td>0</td>\n",
       "      <td>0</td>\n",
       "      <td>0</td>\n",
       "      <td>0</td>\n",
       "      <td>1</td>\n",
       "    </tr>\n",
       "    <tr>\n",
       "      <th>2</th>\n",
       "      <td>62</td>\n",
       "      <td>136</td>\n",
       "      <td>0</td>\n",
       "      <td>1</td>\n",
       "      <td>0</td>\n",
       "      <td>0</td>\n",
       "      <td>0</td>\n",
       "      <td>1</td>\n",
       "      <td>0</td>\n",
       "      <td>0</td>\n",
       "      <td>0</td>\n",
       "      <td>0</td>\n",
       "      <td>0</td>\n",
       "      <td>0</td>\n",
       "      <td>0</td>\n",
       "    </tr>\n",
       "    <tr>\n",
       "      <th>3</th>\n",
       "      <td>45</td>\n",
       "      <td>48</td>\n",
       "      <td>0</td>\n",
       "      <td>1</td>\n",
       "      <td>0</td>\n",
       "      <td>0</td>\n",
       "      <td>0</td>\n",
       "      <td>0</td>\n",
       "      <td>0</td>\n",
       "      <td>0</td>\n",
       "      <td>0</td>\n",
       "      <td>0</td>\n",
       "      <td>1</td>\n",
       "      <td>0</td>\n",
       "      <td>0</td>\n",
       "    </tr>\n",
       "    <tr>\n",
       "      <th>4</th>\n",
       "      <td>22</td>\n",
       "      <td>58</td>\n",
       "      <td>0</td>\n",
       "      <td>1</td>\n",
       "      <td>0</td>\n",
       "      <td>0</td>\n",
       "      <td>0</td>\n",
       "      <td>0</td>\n",
       "      <td>0</td>\n",
       "      <td>0</td>\n",
       "      <td>0</td>\n",
       "      <td>0</td>\n",
       "      <td>0</td>\n",
       "      <td>0</td>\n",
       "      <td>1</td>\n",
       "    </tr>\n",
       "  </tbody>\n",
       "</table>\n",
       "</div>"
      ],
      "text/plain": [
       "   Age  Tenure  Area_1  Area_2  Area_3  Premium_category_10  \\\n",
       "0   31     114       0       1       0                    0   \n",
       "1   18      10       0       1       0                    0   \n",
       "2   62     136       0       1       0                    0   \n",
       "3   45      48       0       1       0                    0   \n",
       "4   22      58       0       1       0                    0   \n",
       "\n",
       "   Premium_category_7  Premium_category_1  Premium_category_2  \\\n",
       "0                   0                   0                   0   \n",
       "1                   0                   0                   0   \n",
       "2                   0                   1                   0   \n",
       "3                   0                   0                   0   \n",
       "4                   0                   0                   0   \n",
       "\n",
       "   Premium_category_8  Premium_category_9  Premium_category_4  \\\n",
       "0                   0                   0                   1   \n",
       "1                   0                   0                   0   \n",
       "2                   0                   0                   0   \n",
       "3                   0                   0                   0   \n",
       "4                   0                   0                   0   \n",
       "\n",
       "   Premium_category_5  Premium_category_3  Premium_category_6  \n",
       "0                   0                   0                   0  \n",
       "1                   0                   0                   1  \n",
       "2                   0                   0                   0  \n",
       "3                   1                   0                   0  \n",
       "4                   0                   0                   1  "
      ]
     },
     "execution_count": 232,
     "metadata": {},
     "output_type": "execute_result"
    }
   ],
   "source": [
    "X.head()"
   ]
  },
  {
   "cell_type": "code",
   "execution_count": 233,
   "metadata": {},
   "outputs": [
    {
     "data": {
      "text/html": [
       "<div>\n",
       "<style scoped>\n",
       "    .dataframe tbody tr th:only-of-type {\n",
       "        vertical-align: middle;\n",
       "    }\n",
       "\n",
       "    .dataframe tbody tr th {\n",
       "        vertical-align: top;\n",
       "    }\n",
       "\n",
       "    .dataframe thead th {\n",
       "        text-align: right;\n",
       "    }\n",
       "</style>\n",
       "<table border=\"1\" class=\"dataframe\">\n",
       "  <thead>\n",
       "    <tr style=\"text-align: right;\">\n",
       "      <th></th>\n",
       "      <th>Age</th>\n",
       "      <th>Tenure</th>\n",
       "      <th>Area_1</th>\n",
       "      <th>Area_2</th>\n",
       "      <th>Area_3</th>\n",
       "      <th>Premium_category_10</th>\n",
       "      <th>Premium_category_7</th>\n",
       "      <th>Premium_category_1</th>\n",
       "      <th>Premium_category_2</th>\n",
       "      <th>Premium_category_8</th>\n",
       "      <th>Premium_category_9</th>\n",
       "      <th>Premium_category_4</th>\n",
       "      <th>Premium_category_5</th>\n",
       "      <th>Premium_category_3</th>\n",
       "      <th>Premium_category_6</th>\n",
       "    </tr>\n",
       "  </thead>\n",
       "  <tbody>\n",
       "    <tr>\n",
       "      <th>0</th>\n",
       "      <td>0.250000</td>\n",
       "      <td>0.797203</td>\n",
       "      <td>0.0</td>\n",
       "      <td>1.0</td>\n",
       "      <td>0.0</td>\n",
       "      <td>0.0</td>\n",
       "      <td>0.0</td>\n",
       "      <td>0.0</td>\n",
       "      <td>0.0</td>\n",
       "      <td>0.0</td>\n",
       "      <td>0.0</td>\n",
       "      <td>1.0</td>\n",
       "      <td>0.0</td>\n",
       "      <td>0.0</td>\n",
       "      <td>0.0</td>\n",
       "    </tr>\n",
       "    <tr>\n",
       "      <th>1</th>\n",
       "      <td>0.000000</td>\n",
       "      <td>0.069930</td>\n",
       "      <td>0.0</td>\n",
       "      <td>1.0</td>\n",
       "      <td>0.0</td>\n",
       "      <td>0.0</td>\n",
       "      <td>0.0</td>\n",
       "      <td>0.0</td>\n",
       "      <td>0.0</td>\n",
       "      <td>0.0</td>\n",
       "      <td>0.0</td>\n",
       "      <td>0.0</td>\n",
       "      <td>0.0</td>\n",
       "      <td>0.0</td>\n",
       "      <td>1.0</td>\n",
       "    </tr>\n",
       "    <tr>\n",
       "      <th>2</th>\n",
       "      <td>0.846154</td>\n",
       "      <td>0.951049</td>\n",
       "      <td>0.0</td>\n",
       "      <td>1.0</td>\n",
       "      <td>0.0</td>\n",
       "      <td>0.0</td>\n",
       "      <td>0.0</td>\n",
       "      <td>1.0</td>\n",
       "      <td>0.0</td>\n",
       "      <td>0.0</td>\n",
       "      <td>0.0</td>\n",
       "      <td>0.0</td>\n",
       "      <td>0.0</td>\n",
       "      <td>0.0</td>\n",
       "      <td>0.0</td>\n",
       "    </tr>\n",
       "    <tr>\n",
       "      <th>3</th>\n",
       "      <td>0.519231</td>\n",
       "      <td>0.335664</td>\n",
       "      <td>0.0</td>\n",
       "      <td>1.0</td>\n",
       "      <td>0.0</td>\n",
       "      <td>0.0</td>\n",
       "      <td>0.0</td>\n",
       "      <td>0.0</td>\n",
       "      <td>0.0</td>\n",
       "      <td>0.0</td>\n",
       "      <td>0.0</td>\n",
       "      <td>0.0</td>\n",
       "      <td>1.0</td>\n",
       "      <td>0.0</td>\n",
       "      <td>0.0</td>\n",
       "    </tr>\n",
       "    <tr>\n",
       "      <th>4</th>\n",
       "      <td>0.076923</td>\n",
       "      <td>0.405594</td>\n",
       "      <td>0.0</td>\n",
       "      <td>1.0</td>\n",
       "      <td>0.0</td>\n",
       "      <td>0.0</td>\n",
       "      <td>0.0</td>\n",
       "      <td>0.0</td>\n",
       "      <td>0.0</td>\n",
       "      <td>0.0</td>\n",
       "      <td>0.0</td>\n",
       "      <td>0.0</td>\n",
       "      <td>0.0</td>\n",
       "      <td>0.0</td>\n",
       "      <td>1.0</td>\n",
       "    </tr>\n",
       "  </tbody>\n",
       "</table>\n",
       "</div>"
      ],
      "text/plain": [
       "        Age    Tenure  Area_1  Area_2  Area_3  Premium_category_10  \\\n",
       "0  0.250000  0.797203     0.0     1.0     0.0                  0.0   \n",
       "1  0.000000  0.069930     0.0     1.0     0.0                  0.0   \n",
       "2  0.846154  0.951049     0.0     1.0     0.0                  0.0   \n",
       "3  0.519231  0.335664     0.0     1.0     0.0                  0.0   \n",
       "4  0.076923  0.405594     0.0     1.0     0.0                  0.0   \n",
       "\n",
       "   Premium_category_7  Premium_category_1  Premium_category_2  \\\n",
       "0                 0.0                 0.0                 0.0   \n",
       "1                 0.0                 0.0                 0.0   \n",
       "2                 0.0                 1.0                 0.0   \n",
       "3                 0.0                 0.0                 0.0   \n",
       "4                 0.0                 0.0                 0.0   \n",
       "\n",
       "   Premium_category_8  Premium_category_9  Premium_category_4  \\\n",
       "0                 0.0                 0.0                 1.0   \n",
       "1                 0.0                 0.0                 0.0   \n",
       "2                 0.0                 0.0                 0.0   \n",
       "3                 0.0                 0.0                 0.0   \n",
       "4                 0.0                 0.0                 0.0   \n",
       "\n",
       "   Premium_category_5  Premium_category_3  Premium_category_6  \n",
       "0                 0.0                 0.0                 0.0  \n",
       "1                 0.0                 0.0                 1.0  \n",
       "2                 0.0                 0.0                 0.0  \n",
       "3                 1.0                 0.0                 0.0  \n",
       "4                 0.0                 0.0                 1.0  "
      ]
     },
     "execution_count": 233,
     "metadata": {},
     "output_type": "execute_result"
    }
   ],
   "source": [
    "columns = X.columns\n",
    "scaler = MinMaxScaler()\n",
    "X = scaler.fit_transform(X)\n",
    "X = pd.DataFrame(X, columns=columns)\n",
    "X.head()"
   ]
  },
  {
   "cell_type": "code",
   "execution_count": 234,
   "metadata": {},
   "outputs": [],
   "source": [
    "X_pol = X.copy()\n",
    "for a in X:\n",
    "    for b in X:\n",
    "        if not b+'*'+a in X_pol:\n",
    "            X_pol[a+'*'+b] = X[a] * X[b]\n",
    "            if a!=b:\n",
    "                X_pol[a+'/'+b] = X[a] / (X[b] + 1e-7)"
   ]
  },
  {
   "cell_type": "code",
   "execution_count": 235,
   "metadata": {},
   "outputs": [
    {
     "data": {
      "text/html": [
       "<div>\n",
       "<style scoped>\n",
       "    .dataframe tbody tr th:only-of-type {\n",
       "        vertical-align: middle;\n",
       "    }\n",
       "\n",
       "    .dataframe tbody tr th {\n",
       "        vertical-align: top;\n",
       "    }\n",
       "\n",
       "    .dataframe thead th {\n",
       "        text-align: right;\n",
       "    }\n",
       "</style>\n",
       "<table border=\"1\" class=\"dataframe\">\n",
       "  <thead>\n",
       "    <tr style=\"text-align: right;\">\n",
       "      <th></th>\n",
       "      <th>Age</th>\n",
       "      <th>Tenure</th>\n",
       "      <th>Area_1</th>\n",
       "      <th>Area_2</th>\n",
       "      <th>Area_3</th>\n",
       "      <th>Premium_category_10</th>\n",
       "      <th>Premium_category_7</th>\n",
       "      <th>Premium_category_1</th>\n",
       "      <th>Premium_category_2</th>\n",
       "      <th>Premium_category_8</th>\n",
       "      <th>...</th>\n",
       "      <th>Premium_category_4/Premium_category_6</th>\n",
       "      <th>Premium_category_5*Premium_category_5</th>\n",
       "      <th>Premium_category_5*Premium_category_3</th>\n",
       "      <th>Premium_category_5/Premium_category_3</th>\n",
       "      <th>Premium_category_5*Premium_category_6</th>\n",
       "      <th>Premium_category_5/Premium_category_6</th>\n",
       "      <th>Premium_category_3*Premium_category_3</th>\n",
       "      <th>Premium_category_3*Premium_category_6</th>\n",
       "      <th>Premium_category_3/Premium_category_6</th>\n",
       "      <th>Premium_category_6*Premium_category_6</th>\n",
       "    </tr>\n",
       "  </thead>\n",
       "  <tbody>\n",
       "    <tr>\n",
       "      <th>0</th>\n",
       "      <td>0.250000</td>\n",
       "      <td>0.797203</td>\n",
       "      <td>0.0</td>\n",
       "      <td>1.0</td>\n",
       "      <td>0.0</td>\n",
       "      <td>0.0</td>\n",
       "      <td>0.0</td>\n",
       "      <td>0.0</td>\n",
       "      <td>0.0</td>\n",
       "      <td>0.0</td>\n",
       "      <td>...</td>\n",
       "      <td>10000000.0</td>\n",
       "      <td>0.0</td>\n",
       "      <td>0.0</td>\n",
       "      <td>0.0</td>\n",
       "      <td>0.0</td>\n",
       "      <td>0.0</td>\n",
       "      <td>0.0</td>\n",
       "      <td>0.0</td>\n",
       "      <td>0.0</td>\n",
       "      <td>0.0</td>\n",
       "    </tr>\n",
       "    <tr>\n",
       "      <th>1</th>\n",
       "      <td>0.000000</td>\n",
       "      <td>0.069930</td>\n",
       "      <td>0.0</td>\n",
       "      <td>1.0</td>\n",
       "      <td>0.0</td>\n",
       "      <td>0.0</td>\n",
       "      <td>0.0</td>\n",
       "      <td>0.0</td>\n",
       "      <td>0.0</td>\n",
       "      <td>0.0</td>\n",
       "      <td>...</td>\n",
       "      <td>0.0</td>\n",
       "      <td>0.0</td>\n",
       "      <td>0.0</td>\n",
       "      <td>0.0</td>\n",
       "      <td>0.0</td>\n",
       "      <td>0.0</td>\n",
       "      <td>0.0</td>\n",
       "      <td>0.0</td>\n",
       "      <td>0.0</td>\n",
       "      <td>1.0</td>\n",
       "    </tr>\n",
       "    <tr>\n",
       "      <th>2</th>\n",
       "      <td>0.846154</td>\n",
       "      <td>0.951049</td>\n",
       "      <td>0.0</td>\n",
       "      <td>1.0</td>\n",
       "      <td>0.0</td>\n",
       "      <td>0.0</td>\n",
       "      <td>0.0</td>\n",
       "      <td>1.0</td>\n",
       "      <td>0.0</td>\n",
       "      <td>0.0</td>\n",
       "      <td>...</td>\n",
       "      <td>0.0</td>\n",
       "      <td>0.0</td>\n",
       "      <td>0.0</td>\n",
       "      <td>0.0</td>\n",
       "      <td>0.0</td>\n",
       "      <td>0.0</td>\n",
       "      <td>0.0</td>\n",
       "      <td>0.0</td>\n",
       "      <td>0.0</td>\n",
       "      <td>0.0</td>\n",
       "    </tr>\n",
       "    <tr>\n",
       "      <th>3</th>\n",
       "      <td>0.519231</td>\n",
       "      <td>0.335664</td>\n",
       "      <td>0.0</td>\n",
       "      <td>1.0</td>\n",
       "      <td>0.0</td>\n",
       "      <td>0.0</td>\n",
       "      <td>0.0</td>\n",
       "      <td>0.0</td>\n",
       "      <td>0.0</td>\n",
       "      <td>0.0</td>\n",
       "      <td>...</td>\n",
       "      <td>0.0</td>\n",
       "      <td>1.0</td>\n",
       "      <td>0.0</td>\n",
       "      <td>10000000.0</td>\n",
       "      <td>0.0</td>\n",
       "      <td>10000000.0</td>\n",
       "      <td>0.0</td>\n",
       "      <td>0.0</td>\n",
       "      <td>0.0</td>\n",
       "      <td>0.0</td>\n",
       "    </tr>\n",
       "    <tr>\n",
       "      <th>4</th>\n",
       "      <td>0.076923</td>\n",
       "      <td>0.405594</td>\n",
       "      <td>0.0</td>\n",
       "      <td>1.0</td>\n",
       "      <td>0.0</td>\n",
       "      <td>0.0</td>\n",
       "      <td>0.0</td>\n",
       "      <td>0.0</td>\n",
       "      <td>0.0</td>\n",
       "      <td>0.0</td>\n",
       "      <td>...</td>\n",
       "      <td>0.0</td>\n",
       "      <td>0.0</td>\n",
       "      <td>0.0</td>\n",
       "      <td>0.0</td>\n",
       "      <td>0.0</td>\n",
       "      <td>0.0</td>\n",
       "      <td>0.0</td>\n",
       "      <td>0.0</td>\n",
       "      <td>0.0</td>\n",
       "      <td>1.0</td>\n",
       "    </tr>\n",
       "  </tbody>\n",
       "</table>\n",
       "<p>5 rows × 240 columns</p>\n",
       "</div>"
      ],
      "text/plain": [
       "        Age    Tenure  Area_1  Area_2  Area_3  Premium_category_10  \\\n",
       "0  0.250000  0.797203     0.0     1.0     0.0                  0.0   \n",
       "1  0.000000  0.069930     0.0     1.0     0.0                  0.0   \n",
       "2  0.846154  0.951049     0.0     1.0     0.0                  0.0   \n",
       "3  0.519231  0.335664     0.0     1.0     0.0                  0.0   \n",
       "4  0.076923  0.405594     0.0     1.0     0.0                  0.0   \n",
       "\n",
       "   Premium_category_7  Premium_category_1  Premium_category_2  \\\n",
       "0                 0.0                 0.0                 0.0   \n",
       "1                 0.0                 0.0                 0.0   \n",
       "2                 0.0                 1.0                 0.0   \n",
       "3                 0.0                 0.0                 0.0   \n",
       "4                 0.0                 0.0                 0.0   \n",
       "\n",
       "   Premium_category_8  ...  Premium_category_4/Premium_category_6  \\\n",
       "0                 0.0  ...                             10000000.0   \n",
       "1                 0.0  ...                                    0.0   \n",
       "2                 0.0  ...                                    0.0   \n",
       "3                 0.0  ...                                    0.0   \n",
       "4                 0.0  ...                                    0.0   \n",
       "\n",
       "   Premium_category_5*Premium_category_5  \\\n",
       "0                                    0.0   \n",
       "1                                    0.0   \n",
       "2                                    0.0   \n",
       "3                                    1.0   \n",
       "4                                    0.0   \n",
       "\n",
       "   Premium_category_5*Premium_category_3  \\\n",
       "0                                    0.0   \n",
       "1                                    0.0   \n",
       "2                                    0.0   \n",
       "3                                    0.0   \n",
       "4                                    0.0   \n",
       "\n",
       "   Premium_category_5/Premium_category_3  \\\n",
       "0                                    0.0   \n",
       "1                                    0.0   \n",
       "2                                    0.0   \n",
       "3                             10000000.0   \n",
       "4                                    0.0   \n",
       "\n",
       "   Premium_category_5*Premium_category_6  \\\n",
       "0                                    0.0   \n",
       "1                                    0.0   \n",
       "2                                    0.0   \n",
       "3                                    0.0   \n",
       "4                                    0.0   \n",
       "\n",
       "   Premium_category_5/Premium_category_6  \\\n",
       "0                                    0.0   \n",
       "1                                    0.0   \n",
       "2                                    0.0   \n",
       "3                             10000000.0   \n",
       "4                                    0.0   \n",
       "\n",
       "   Premium_category_3*Premium_category_3  \\\n",
       "0                                    0.0   \n",
       "1                                    0.0   \n",
       "2                                    0.0   \n",
       "3                                    0.0   \n",
       "4                                    0.0   \n",
       "\n",
       "   Premium_category_3*Premium_category_6  \\\n",
       "0                                    0.0   \n",
       "1                                    0.0   \n",
       "2                                    0.0   \n",
       "3                                    0.0   \n",
       "4                                    0.0   \n",
       "\n",
       "   Premium_category_3/Premium_category_6  \\\n",
       "0                                    0.0   \n",
       "1                                    0.0   \n",
       "2                                    0.0   \n",
       "3                                    0.0   \n",
       "4                                    0.0   \n",
       "\n",
       "   Premium_category_6*Premium_category_6  \n",
       "0                                    0.0  \n",
       "1                                    1.0  \n",
       "2                                    0.0  \n",
       "3                                    0.0  \n",
       "4                                    1.0  \n",
       "\n",
       "[5 rows x 240 columns]"
      ]
     },
     "execution_count": 235,
     "metadata": {},
     "output_type": "execute_result"
    }
   ],
   "source": [
    "X_pol.head()"
   ]
  },
  {
   "cell_type": "code",
   "execution_count": 236,
   "metadata": {},
   "outputs": [
    {
     "name": "stderr",
     "output_type": "stream",
     "text": [
      "/home/justm/anaconda3/envs/uw_env/lib/python3.7/site-packages/numpy/core/fromnumeric.py:2389: FutureWarning: Method .ptp is deprecated and will be removed in a future version. Use numpy.ptp instead.\n",
      "  return ptp(axis=axis, out=out, **kwargs)\n"
     ]
    }
   ],
   "source": [
    "import statsmodels.api as sm\n",
    "X_sm = sm.add_constant(X)\n",
    "\n",
    "gamma_model = sm.GLM(y, X_sm, family=sm.families.Binomial())"
   ]
  },
  {
   "cell_type": "code",
   "execution_count": 237,
   "metadata": {},
   "outputs": [],
   "source": [
    "binom_results = gamma_model.fit()"
   ]
  },
  {
   "cell_type": "code",
   "execution_count": 238,
   "metadata": {
    "scrolled": false
   },
   "outputs": [
    {
     "data": {
      "text/html": [
       "<table class=\"simpletable\">\n",
       "<caption>Generalized Linear Model Regression Results</caption>\n",
       "<tr>\n",
       "  <th>Dep. Variable:</th>       <td>Lapses</td>      <th>  No. Observations:  </th>  <td>  5000</td>  \n",
       "</tr>\n",
       "<tr>\n",
       "  <th>Model:</th>                 <td>GLM</td>       <th>  Df Residuals:      </th>  <td>  4986</td>  \n",
       "</tr>\n",
       "<tr>\n",
       "  <th>Model Family:</th>       <td>Binomial</td>     <th>  Df Model:          </th>  <td>    13</td>  \n",
       "</tr>\n",
       "<tr>\n",
       "  <th>Link Function:</th>        <td>logit</td>      <th>  Scale:             </th> <td>  1.0000</td> \n",
       "</tr>\n",
       "<tr>\n",
       "  <th>Method:</th>               <td>IRLS</td>       <th>  Log-Likelihood:    </th> <td> -2871.8</td> \n",
       "</tr>\n",
       "<tr>\n",
       "  <th>Date:</th>           <td>Thu, 13 Jun 2019</td> <th>  Deviance:          </th> <td>  5743.6</td> \n",
       "</tr>\n",
       "<tr>\n",
       "  <th>Time:</th>               <td>13:36:55</td>     <th>  Pearson chi2:      </th> <td>4.71e+03</td> \n",
       "</tr>\n",
       "<tr>\n",
       "  <th>No. Iterations:</th>        <td>10</td>        <th>  Covariance Type:   </th> <td>nonrobust</td>\n",
       "</tr>\n",
       "</table>\n",
       "<table class=\"simpletable\">\n",
       "<tr>\n",
       "           <td></td>              <th>coef</th>     <th>std err</th>      <th>z</th>      <th>P>|z|</th>  <th>[0.025</th>    <th>0.975]</th>  \n",
       "</tr>\n",
       "<tr>\n",
       "  <th>const</th>               <td>    0.2436</td> <td>    0.086</td> <td>    2.847</td> <td> 0.004</td> <td>    0.076</td> <td>    0.411</td>\n",
       "</tr>\n",
       "<tr>\n",
       "  <th>Age</th>                 <td>    0.1334</td> <td>    0.112</td> <td>    1.192</td> <td> 0.233</td> <td>   -0.086</td> <td>    0.353</td>\n",
       "</tr>\n",
       "<tr>\n",
       "  <th>Tenure</th>              <td>   -2.1342</td> <td>    0.116</td> <td>  -18.443</td> <td> 0.000</td> <td>   -2.361</td> <td>   -1.907</td>\n",
       "</tr>\n",
       "<tr>\n",
       "  <th>Area_1</th>              <td>    0.0056</td> <td>    0.084</td> <td>    0.067</td> <td> 0.947</td> <td>   -0.158</td> <td>    0.169</td>\n",
       "</tr>\n",
       "<tr>\n",
       "  <th>Area_2</th>              <td>   -0.0005</td> <td>    0.083</td> <td>   -0.006</td> <td> 0.996</td> <td>   -0.162</td> <td>    0.162</td>\n",
       "</tr>\n",
       "<tr>\n",
       "  <th>Area_3</th>              <td>    0.2385</td> <td>    0.214</td> <td>    1.116</td> <td> 0.264</td> <td>   -0.180</td> <td>    0.657</td>\n",
       "</tr>\n",
       "<tr>\n",
       "  <th>Premium_category_10</th> <td>    0.3464</td> <td>    0.089</td> <td>    3.908</td> <td> 0.000</td> <td>    0.173</td> <td>    0.520</td>\n",
       "</tr>\n",
       "<tr>\n",
       "  <th>Premium_category_7</th>  <td>    0.5189</td> <td>    0.088</td> <td>    5.892</td> <td> 0.000</td> <td>    0.346</td> <td>    0.692</td>\n",
       "</tr>\n",
       "<tr>\n",
       "  <th>Premium_category_1</th>  <td>   -1.2393</td> <td>    0.124</td> <td>  -10.023</td> <td> 0.000</td> <td>   -1.482</td> <td>   -0.997</td>\n",
       "</tr>\n",
       "<tr>\n",
       "  <th>Premium_category_2</th>  <td>   -1.0273</td> <td>    0.117</td> <td>   -8.773</td> <td> 0.000</td> <td>   -1.257</td> <td>   -0.798</td>\n",
       "</tr>\n",
       "<tr>\n",
       "  <th>Premium_category_8</th>  <td>    0.6214</td> <td>    0.091</td> <td>    6.848</td> <td> 0.000</td> <td>    0.444</td> <td>    0.799</td>\n",
       "</tr>\n",
       "<tr>\n",
       "  <th>Premium_category_9</th>  <td>    0.9212</td> <td>    0.091</td> <td>   10.086</td> <td> 0.000</td> <td>    0.742</td> <td>    1.100</td>\n",
       "</tr>\n",
       "<tr>\n",
       "  <th>Premium_category_4</th>  <td>   -0.0816</td> <td>    0.096</td> <td>   -0.852</td> <td> 0.394</td> <td>   -0.269</td> <td>    0.106</td>\n",
       "</tr>\n",
       "<tr>\n",
       "  <th>Premium_category_5</th>  <td>    0.2454</td> <td>    0.093</td> <td>    2.650</td> <td> 0.008</td> <td>    0.064</td> <td>    0.427</td>\n",
       "</tr>\n",
       "<tr>\n",
       "  <th>Premium_category_3</th>  <td>   -0.5496</td> <td>    0.107</td> <td>   -5.130</td> <td> 0.000</td> <td>   -0.760</td> <td>   -0.340</td>\n",
       "</tr>\n",
       "<tr>\n",
       "  <th>Premium_category_6</th>  <td>    0.4880</td> <td>    0.093</td> <td>    5.231</td> <td> 0.000</td> <td>    0.305</td> <td>    0.671</td>\n",
       "</tr>\n",
       "</table>"
      ],
      "text/plain": [
       "<class 'statsmodels.iolib.summary.Summary'>\n",
       "\"\"\"\n",
       "                 Generalized Linear Model Regression Results                  \n",
       "==============================================================================\n",
       "Dep. Variable:                 Lapses   No. Observations:                 5000\n",
       "Model:                            GLM   Df Residuals:                     4986\n",
       "Model Family:                Binomial   Df Model:                           13\n",
       "Link Function:                  logit   Scale:                          1.0000\n",
       "Method:                          IRLS   Log-Likelihood:                -2871.8\n",
       "Date:                Thu, 13 Jun 2019   Deviance:                       5743.6\n",
       "Time:                        13:36:55   Pearson chi2:                 4.71e+03\n",
       "No. Iterations:                    10   Covariance Type:             nonrobust\n",
       "=======================================================================================\n",
       "                          coef    std err          z      P>|z|      [0.025      0.975]\n",
       "---------------------------------------------------------------------------------------\n",
       "const                   0.2436      0.086      2.847      0.004       0.076       0.411\n",
       "Age                     0.1334      0.112      1.192      0.233      -0.086       0.353\n",
       "Tenure                 -2.1342      0.116    -18.443      0.000      -2.361      -1.907\n",
       "Area_1                  0.0056      0.084      0.067      0.947      -0.158       0.169\n",
       "Area_2                 -0.0005      0.083     -0.006      0.996      -0.162       0.162\n",
       "Area_3                  0.2385      0.214      1.116      0.264      -0.180       0.657\n",
       "Premium_category_10     0.3464      0.089      3.908      0.000       0.173       0.520\n",
       "Premium_category_7      0.5189      0.088      5.892      0.000       0.346       0.692\n",
       "Premium_category_1     -1.2393      0.124    -10.023      0.000      -1.482      -0.997\n",
       "Premium_category_2     -1.0273      0.117     -8.773      0.000      -1.257      -0.798\n",
       "Premium_category_8      0.6214      0.091      6.848      0.000       0.444       0.799\n",
       "Premium_category_9      0.9212      0.091     10.086      0.000       0.742       1.100\n",
       "Premium_category_4     -0.0816      0.096     -0.852      0.394      -0.269       0.106\n",
       "Premium_category_5      0.2454      0.093      2.650      0.008       0.064       0.427\n",
       "Premium_category_3     -0.5496      0.107     -5.130      0.000      -0.760      -0.340\n",
       "Premium_category_6      0.4880      0.093      5.231      0.000       0.305       0.671\n",
       "=======================================================================================\n",
       "\"\"\""
      ]
     },
     "execution_count": 238,
     "metadata": {},
     "output_type": "execute_result"
    }
   ],
   "source": [
    "binom_results.summary()"
   ]
  },
  {
   "cell_type": "code",
   "execution_count": 239,
   "metadata": {},
   "outputs": [
    {
     "data": {
      "text/plain": [
       "5771.585918029552"
      ]
     },
     "execution_count": 239,
     "metadata": {},
     "output_type": "execute_result"
    }
   ],
   "source": [
    "binom_results.aic"
   ]
  },
  {
   "cell_type": "code",
   "execution_count": 240,
   "metadata": {},
   "outputs": [
    {
     "data": {
      "text/plain": [
       "-36723.13933437181"
      ]
     },
     "execution_count": 240,
     "metadata": {},
     "output_type": "execute_result"
    }
   ],
   "source": [
    "binom_results.bic"
   ]
  },
  {
   "cell_type": "code",
   "execution_count": 169,
   "metadata": {},
   "outputs": [],
   "source": [
    "X_small = X_sm[['const', 'Tenure', 'Premium_category', 'Tenure/Premium_category',\n",
    "                'Premium_category*Premium_category']]"
   ]
  },
  {
   "cell_type": "code",
   "execution_count": 227,
   "metadata": {},
   "outputs": [
    {
     "data": {
      "text/plain": [
       "0       0.181459\n",
       "1       0.641512\n",
       "2       0.051509\n",
       "3       0.460432\n",
       "4       0.468992\n",
       "5       0.638738\n",
       "6       0.371074\n",
       "7       0.332313\n",
       "8       0.286388\n",
       "9       0.511185\n",
       "10      0.295019\n",
       "11      0.124422\n",
       "12      0.362723\n",
       "13      0.557458\n",
       "14      0.472559\n",
       "15      0.319784\n",
       "16      0.110641\n",
       "17      0.608205\n",
       "18      0.239123\n",
       "19      0.327612\n",
       "20      0.646640\n",
       "21      0.173691\n",
       "22      0.679392\n",
       "23      0.267368\n",
       "24      0.575502\n",
       "25      0.477419\n",
       "26      0.353901\n",
       "27      0.551976\n",
       "28      0.189997\n",
       "29      0.512761\n",
       "          ...   \n",
       "4970    0.453124\n",
       "4971    0.354229\n",
       "4972    0.335704\n",
       "4973    0.661130\n",
       "4974    0.670855\n",
       "4975    0.245824\n",
       "4976    0.065992\n",
       "4977    0.575811\n",
       "4978    0.562574\n",
       "4979    0.693427\n",
       "4980    0.415858\n",
       "4981    0.208325\n",
       "4982    0.244275\n",
       "4983    0.264114\n",
       "4984    0.152206\n",
       "4985    0.398244\n",
       "4986    0.649751\n",
       "4987    0.156072\n",
       "4988    0.114770\n",
       "4989    0.506868\n",
       "4990    0.718539\n",
       "4991    0.060126\n",
       "4992    0.095449\n",
       "4993    0.644928\n",
       "4994    0.545161\n",
       "4995    0.123903\n",
       "4996    0.537013\n",
       "4997    0.340312\n",
       "4998    0.516867\n",
       "4999    0.411765\n",
       "Length: 5000, dtype: float64"
      ]
     },
     "execution_count": 227,
     "metadata": {},
     "output_type": "execute_result"
    }
   ],
   "source": [
    "binom_results.predict(X_sm)"
   ]
  },
  {
   "cell_type": "code",
   "execution_count": 224,
   "metadata": {},
   "outputs": [
    {
     "ename": "AttributeError",
     "evalue": "'GLM' object has no attribute 'get_influence'",
     "output_type": "error",
     "traceback": [
      "\u001b[0;31m---------------------------------------------------------------------------\u001b[0m",
      "\u001b[0;31mAttributeError\u001b[0m                            Traceback (most recent call last)",
      "\u001b[0;32m<ipython-input-224-8a95f00a422c>\u001b[0m in \u001b[0;36m<module>\u001b[0;34m\u001b[0m\n\u001b[0;32m----> 1\u001b[0;31m \u001b[0minfl\u001b[0m \u001b[0;34m=\u001b[0m \u001b[0mgamma_model\u001b[0m\u001b[0;34m.\u001b[0m\u001b[0mget_influence\u001b[0m\u001b[0;34m(\u001b[0m\u001b[0;34m)\u001b[0m\u001b[0;34m\u001b[0m\u001b[0;34m\u001b[0m\u001b[0m\n\u001b[0m\u001b[1;32m      2\u001b[0m \u001b[0msm_fr\u001b[0m \u001b[0;34m=\u001b[0m \u001b[0minfl\u001b[0m\u001b[0;34m.\u001b[0m\u001b[0msummary_frame\u001b[0m\u001b[0;34m(\u001b[0m\u001b[0;34m)\u001b[0m\u001b[0;34m\u001b[0m\u001b[0;34m\u001b[0m\u001b[0m\n",
      "\u001b[0;31mAttributeError\u001b[0m: 'GLM' object has no attribute 'get_influence'"
     ]
    }
   ],
   "source": [
    "infl = gamma_model.get_influence()\n",
    "sm_fr = infl.summary_frame()"
   ]
  },
  {
   "cell_type": "code",
   "execution_count": 225,
   "metadata": {},
   "outputs": [
    {
     "ename": "TypeError",
     "evalue": "estimate_tweedie_power() missing 1 required positional argument: 'mu'",
     "output_type": "error",
     "traceback": [
      "\u001b[0;31m---------------------------------------------------------------------------\u001b[0m",
      "\u001b[0;31mTypeError\u001b[0m                                 Traceback (most recent call last)",
      "\u001b[0;32m<ipython-input-225-8eead5fa73b9>\u001b[0m in \u001b[0;36m<module>\u001b[0;34m\u001b[0m\n\u001b[0;32m----> 1\u001b[0;31m \u001b[0mgamma_model\u001b[0m\u001b[0;34m.\u001b[0m\u001b[0mestimate_tweedie_power\u001b[0m\u001b[0;34m(\u001b[0m\u001b[0;34m)\u001b[0m\u001b[0;34m\u001b[0m\u001b[0;34m\u001b[0m\u001b[0m\n\u001b[0m",
      "\u001b[0;31mTypeError\u001b[0m: estimate_tweedie_power() missing 1 required positional argument: 'mu'"
     ]
    }
   ],
   "source": [
    "gamma_model.estimate_tweedie_power()"
   ]
  },
  {
   "cell_type": "markdown",
   "metadata": {},
   "source": [
    "<h1>Test excel model</h1>"
   ]
  },
  {
   "cell_type": "code",
   "execution_count": 243,
   "metadata": {},
   "outputs": [],
   "source": [
    "y = data.Lapses\n",
    "X = data.drop(['Lapses'], axis = 1)"
   ]
  },
  {
   "cell_type": "code",
   "execution_count": 245,
   "metadata": {},
   "outputs": [],
   "source": [
    "X.drop(['Age', 'Area'], axis = 1, inplace=True)\n",
    "X['Tenure*Category'] = X.Tenure * X.Premium_category"
   ]
  },
  {
   "cell_type": "markdown",
   "metadata": {},
   "source": [
    "<h2>Statsmodels</h2>"
   ]
  },
  {
   "cell_type": "code",
   "execution_count": 258,
   "metadata": {},
   "outputs": [
    {
     "name": "stderr",
     "output_type": "stream",
     "text": [
      "/home/justm/anaconda3/envs/uw_env/lib/python3.7/site-packages/numpy/core/fromnumeric.py:2389: FutureWarning: Method .ptp is deprecated and will be removed in a future version. Use numpy.ptp instead.\n",
      "  return ptp(axis=axis, out=out, **kwargs)\n"
     ]
    },
    {
     "data": {
      "text/html": [
       "<table class=\"simpletable\">\n",
       "<caption>Generalized Linear Model Regression Results</caption>\n",
       "<tr>\n",
       "  <th>Dep. Variable:</th>       <td>Lapses</td>      <th>  No. Observations:  </th>  <td>  5000</td>  \n",
       "</tr>\n",
       "<tr>\n",
       "  <th>Model:</th>                 <td>GLM</td>       <th>  Df Residuals:      </th>  <td>  4996</td>  \n",
       "</tr>\n",
       "<tr>\n",
       "  <th>Model Family:</th>       <td>Binomial</td>     <th>  Df Model:          </th>  <td>     3</td>  \n",
       "</tr>\n",
       "<tr>\n",
       "  <th>Link Function:</th>        <td>logit</td>      <th>  Scale:             </th> <td>  1.0000</td> \n",
       "</tr>\n",
       "<tr>\n",
       "  <th>Method:</th>               <td>IRLS</td>       <th>  Log-Likelihood:    </th> <td> -2905.7</td> \n",
       "</tr>\n",
       "<tr>\n",
       "  <th>Date:</th>           <td>Thu, 13 Jun 2019</td> <th>  Deviance:          </th> <td>  5811.4</td> \n",
       "</tr>\n",
       "<tr>\n",
       "  <th>Time:</th>               <td>16:36:20</td>     <th>  Pearson chi2:      </th> <td>4.72e+03</td> \n",
       "</tr>\n",
       "<tr>\n",
       "  <th>No. Iterations:</th>         <td>5</td>        <th>  Covariance Type:   </th> <td>nonrobust</td>\n",
       "</tr>\n",
       "</table>\n",
       "<table class=\"simpletable\">\n",
       "<tr>\n",
       "          <td></td>            <th>coef</th>     <th>std err</th>      <th>z</th>      <th>P>|z|</th>  <th>[0.025</th>    <th>0.975]</th>  \n",
       "</tr>\n",
       "<tr>\n",
       "  <th>const</th>            <td>   -0.1776</td> <td>    0.134</td> <td>   -1.328</td> <td> 0.184</td> <td>   -0.440</td> <td>    0.084</td>\n",
       "</tr>\n",
       "<tr>\n",
       "  <th>Tenure</th>           <td>   -0.0242</td> <td>    0.002</td> <td>  -12.336</td> <td> 0.000</td> <td>   -0.028</td> <td>   -0.020</td>\n",
       "</tr>\n",
       "<tr>\n",
       "  <th>Premium_category</th> <td>    0.1019</td> <td>    0.021</td> <td>    4.879</td> <td> 0.000</td> <td>    0.061</td> <td>    0.143</td>\n",
       "</tr>\n",
       "<tr>\n",
       "  <th>Tenure*Category</th>  <td>    0.0015</td> <td>    0.000</td> <td>    5.404</td> <td> 0.000</td> <td>    0.001</td> <td>    0.002</td>\n",
       "</tr>\n",
       "</table>"
      ],
      "text/plain": [
       "<class 'statsmodels.iolib.summary.Summary'>\n",
       "\"\"\"\n",
       "                 Generalized Linear Model Regression Results                  \n",
       "==============================================================================\n",
       "Dep. Variable:                 Lapses   No. Observations:                 5000\n",
       "Model:                            GLM   Df Residuals:                     4996\n",
       "Model Family:                Binomial   Df Model:                            3\n",
       "Link Function:                  logit   Scale:                          1.0000\n",
       "Method:                          IRLS   Log-Likelihood:                -2905.7\n",
       "Date:                Thu, 13 Jun 2019   Deviance:                       5811.4\n",
       "Time:                        16:36:20   Pearson chi2:                 4.72e+03\n",
       "No. Iterations:                     5   Covariance Type:             nonrobust\n",
       "====================================================================================\n",
       "                       coef    std err          z      P>|z|      [0.025      0.975]\n",
       "------------------------------------------------------------------------------------\n",
       "const               -0.1776      0.134     -1.328      0.184      -0.440       0.084\n",
       "Tenure              -0.0242      0.002    -12.336      0.000      -0.028      -0.020\n",
       "Premium_category     0.1019      0.021      4.879      0.000       0.061       0.143\n",
       "Tenure*Category      0.0015      0.000      5.404      0.000       0.001       0.002\n",
       "====================================================================================\n",
       "\"\"\""
      ]
     },
     "execution_count": 258,
     "metadata": {},
     "output_type": "execute_result"
    }
   ],
   "source": [
    "X_sm = sm.add_constant(X)\n",
    "\n",
    "binom_model = sm.GLM(y, X_sm, family=sm.families.Binomial())\n",
    "binom_results = binom_model.fit()\n",
    "binom_results.summary()"
   ]
  },
  {
   "cell_type": "code",
   "execution_count": 259,
   "metadata": {},
   "outputs": [
    {
     "data": {
      "text/plain": [
       "0    0.138875\n",
       "1    0.570694\n",
       "2    0.040782\n",
       "3    0.387250\n",
       "4    0.393636\n",
       "dtype: float64"
      ]
     },
     "execution_count": 259,
     "metadata": {},
     "output_type": "execute_result"
    }
   ],
   "source": [
    "binom_results.predict(X_sm)[:5]"
   ]
  },
  {
   "cell_type": "code",
   "execution_count": 264,
   "metadata": {},
   "outputs": [
    {
     "data": {
      "text/plain": [
       "5819.435292731287"
      ]
     },
     "execution_count": 264,
     "metadata": {},
     "output_type": "execute_result"
    }
   ],
   "source": [
    "binom_results.aic"
   ]
  },
  {
   "cell_type": "markdown",
   "metadata": {},
   "source": [
    "<h2>Sklearn</h2>"
   ]
  },
  {
   "cell_type": "code",
   "execution_count": 260,
   "metadata": {},
   "outputs": [
    {
     "name": "stdout",
     "output_type": "stream",
     "text": [
      "[-0.17716191] [[-0.02421478  0.10187181  0.00154698]]\n"
     ]
    }
   ],
   "source": [
    "model = LogisticRegression(C = 1e2, solver = 'liblinear', random_state = 57, max_iter = 1e5, tol=1e-6)\n",
    "model.fit(X, y)\n",
    "print(model.intercept_, model.coef_)"
   ]
  },
  {
   "cell_type": "code",
   "execution_count": 263,
   "metadata": {},
   "outputs": [
    {
     "data": {
      "text/plain": [
       "0    0.138866\n",
       "1    0.570708\n",
       "2    0.040773\n",
       "3    0.387262\n",
       "4    0.393639\n",
       "dtype: float64"
      ]
     },
     "execution_count": 263,
     "metadata": {},
     "output_type": "execute_result"
    }
   ],
   "source": [
    "pd.Series(model.predict_proba(X)[:5, 1])"
   ]
  },
  {
   "cell_type": "code",
   "execution_count": null,
   "metadata": {},
   "outputs": [],
   "source": []
  }
 ],
 "metadata": {
  "kernelspec": {
   "display_name": "Python 3",
   "language": "python",
   "name": "python3"
  },
  "language_info": {
   "codemirror_mode": {
    "name": "ipython",
    "version": 3
   },
   "file_extension": ".py",
   "mimetype": "text/x-python",
   "name": "python",
   "nbconvert_exporter": "python",
   "pygments_lexer": "ipython3",
   "version": "3.7.2"
  }
 },
 "nbformat": 4,
 "nbformat_minor": 2
}
