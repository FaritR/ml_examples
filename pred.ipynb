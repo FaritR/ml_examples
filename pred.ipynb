{
 "cells": [
  {
   "cell_type": "markdown",
   "metadata": {},
   "source": [
    "Это baseline решение для задачи. План в том, чтобы поработать с признками(категориальными), разделить тренировочную выборку на 2 части - на одной из частей мы будем искать гиперпараметры для нашиъ моделей, а на второй сравнивать эти модели."
   ]
  },
  {
   "cell_type": "code",
   "execution_count": 42,
   "metadata": {},
   "outputs": [],
   "source": [
    "import pandas as pd\n",
    "import numpy as np\n",
    "import scipy\n",
    "%matplotlib inline\n",
    "from  matplotlib import pyplot as plt\n",
    "import seaborn as sns\n",
    "from sklearn.preprocessing import OneHotEncoder\n",
    "from sklearn.feature_extraction import DictVectorizer\n",
    "from sklearn.preprocessing import StandardScaler\n",
    "from sklearn.preprocessing import MaxAbsScaler\n",
    "from sklearn.preprocessing import LabelEncoder\n",
    "from sklearn.preprocessing import LabelBinarizer\n",
    "from sklearn.model_selection import train_test_split\n",
    "from sklearn.model_selection import cross_val_score\n",
    "from tqdm import tqdm\n",
    "from sklearn.model_selection import GridSearchCV\n",
    "from sklearn.model_selection import StratifiedKFold\n",
    "from sklearn.linear_model import LogisticRegression\n",
    "from sklearn.neighbors import KNeighborsClassifier\n",
    "from sklearn.metrics import make_scorer\n",
    "from sklearn.metrics import accuracy_score\n",
    "from sklearn.ensemble import BaggingClassifier\n",
    "from sklearn.ensemble import RandomForestClassifier\n",
    "from sklearn.ensemble import GradientBoostingClassifier\n",
    "from sklearn.model_selection import RandomizedSearchCV"
   ]
  },
  {
   "cell_type": "markdown",
   "metadata": {},
   "source": [
    "Первым делом надо загрузить наши данные и отделить тренировочную выборку от тестовой"
   ]
  },
  {
   "cell_type": "code",
   "execution_count": 2,
   "metadata": {},
   "outputs": [
    {
     "data": {
      "text/html": [
       "<div>\n",
       "<style>\n",
       "    .dataframe thead tr:only-child th {\n",
       "        text-align: right;\n",
       "    }\n",
       "\n",
       "    .dataframe thead th {\n",
       "        text-align: left;\n",
       "    }\n",
       "\n",
       "    .dataframe tbody tr th {\n",
       "        vertical-align: top;\n",
       "    }\n",
       "</style>\n",
       "<table border=\"1\" class=\"dataframe\">\n",
       "  <thead>\n",
       "    <tr style=\"text-align: right;\">\n",
       "      <th></th>\n",
       "      <th>DATA_TYPE</th>\n",
       "      <th>POLICY_BEGIN_MONTH</th>\n",
       "      <th>POLICY_END_MONTH</th>\n",
       "      <th>POLICY_IS_RENEWED</th>\n",
       "      <th>POLICY_SALES_CHANNEL</th>\n",
       "      <th>POLICY_SALES_CHANNEL_GROUP</th>\n",
       "      <th>POLICY_BRANCH</th>\n",
       "      <th>POLICY_MIN_AGE</th>\n",
       "      <th>POLICY_MIN_DRIVING_EXPERIENCE</th>\n",
       "      <th>VEHICLE_MAKE</th>\n",
       "      <th>...</th>\n",
       "      <th>POLICY_PRV_CLM_GLT_N</th>\n",
       "      <th>CLIENT_HAS_DAGO</th>\n",
       "      <th>CLIENT_HAS_OSAGO</th>\n",
       "      <th>POLICY_COURT_SIGN</th>\n",
       "      <th>CLAIM_AVG_ACC_ST_PRD</th>\n",
       "      <th>POLICY_HAS_COMPLAINTS</th>\n",
       "      <th>POLICY_YEARS_RENEWED_N</th>\n",
       "      <th>POLICY_DEDUCT_VALUE</th>\n",
       "      <th>CLIENT_REGISTRATION_REGION</th>\n",
       "      <th>POLICY_PRICE_CHANGE</th>\n",
       "    </tr>\n",
       "    <tr>\n",
       "      <th>POLICY_ID</th>\n",
       "      <th></th>\n",
       "      <th></th>\n",
       "      <th></th>\n",
       "      <th></th>\n",
       "      <th></th>\n",
       "      <th></th>\n",
       "      <th></th>\n",
       "      <th></th>\n",
       "      <th></th>\n",
       "      <th></th>\n",
       "      <th></th>\n",
       "      <th></th>\n",
       "      <th></th>\n",
       "      <th></th>\n",
       "      <th></th>\n",
       "      <th></th>\n",
       "      <th></th>\n",
       "      <th></th>\n",
       "      <th></th>\n",
       "      <th></th>\n",
       "      <th></th>\n",
       "    </tr>\n",
       "  </thead>\n",
       "  <tbody>\n",
       "    <tr>\n",
       "      <th>1</th>\n",
       "      <td>TRAIN</td>\n",
       "      <td>1</td>\n",
       "      <td>1</td>\n",
       "      <td>1</td>\n",
       "      <td>39</td>\n",
       "      <td>1</td>\n",
       "      <td>Москва</td>\n",
       "      <td>51</td>\n",
       "      <td>12</td>\n",
       "      <td>Land Rover</td>\n",
       "      <td>...</td>\n",
       "      <td>N</td>\n",
       "      <td>1</td>\n",
       "      <td>0</td>\n",
       "      <td>0</td>\n",
       "      <td>0.0</td>\n",
       "      <td>0</td>\n",
       "      <td>0</td>\n",
       "      <td>0.0</td>\n",
       "      <td>Тульская</td>\n",
       "      <td>-1.00</td>\n",
       "    </tr>\n",
       "    <tr>\n",
       "      <th>2</th>\n",
       "      <td>TRAIN</td>\n",
       "      <td>1</td>\n",
       "      <td>1</td>\n",
       "      <td>1</td>\n",
       "      <td>50</td>\n",
       "      <td>5</td>\n",
       "      <td>Москва</td>\n",
       "      <td>35</td>\n",
       "      <td>7</td>\n",
       "      <td>Opel</td>\n",
       "      <td>...</td>\n",
       "      <td>0</td>\n",
       "      <td>1</td>\n",
       "      <td>1</td>\n",
       "      <td>0</td>\n",
       "      <td>0.0</td>\n",
       "      <td>0</td>\n",
       "      <td>4</td>\n",
       "      <td>0.0</td>\n",
       "      <td>Москва</td>\n",
       "      <td>-0.05</td>\n",
       "    </tr>\n",
       "    <tr>\n",
       "      <th>3</th>\n",
       "      <td>TRAIN</td>\n",
       "      <td>1</td>\n",
       "      <td>1</td>\n",
       "      <td>1</td>\n",
       "      <td>52</td>\n",
       "      <td>6</td>\n",
       "      <td>Москва</td>\n",
       "      <td>41</td>\n",
       "      <td>6</td>\n",
       "      <td>Kia</td>\n",
       "      <td>...</td>\n",
       "      <td>1L</td>\n",
       "      <td>0</td>\n",
       "      <td>0</td>\n",
       "      <td>0</td>\n",
       "      <td>0.0</td>\n",
       "      <td>0</td>\n",
       "      <td>1</td>\n",
       "      <td>12518.0</td>\n",
       "      <td>Московская</td>\n",
       "      <td>-0.07</td>\n",
       "    </tr>\n",
       "    <tr>\n",
       "      <th>4</th>\n",
       "      <td>TRAIN</td>\n",
       "      <td>1</td>\n",
       "      <td>1</td>\n",
       "      <td>1</td>\n",
       "      <td>50</td>\n",
       "      <td>5</td>\n",
       "      <td>Москва</td>\n",
       "      <td>36</td>\n",
       "      <td>12</td>\n",
       "      <td>Citroen</td>\n",
       "      <td>...</td>\n",
       "      <td>0</td>\n",
       "      <td>1</td>\n",
       "      <td>1</td>\n",
       "      <td>0</td>\n",
       "      <td>0.0</td>\n",
       "      <td>0</td>\n",
       "      <td>6</td>\n",
       "      <td>15000.0</td>\n",
       "      <td>Москва</td>\n",
       "      <td>0.05</td>\n",
       "    </tr>\n",
       "    <tr>\n",
       "      <th>5</th>\n",
       "      <td>TRAIN</td>\n",
       "      <td>1</td>\n",
       "      <td>1</td>\n",
       "      <td>0</td>\n",
       "      <td>52</td>\n",
       "      <td>6</td>\n",
       "      <td>Санкт-Петербург</td>\n",
       "      <td>42</td>\n",
       "      <td>5</td>\n",
       "      <td>Renault</td>\n",
       "      <td>...</td>\n",
       "      <td>N</td>\n",
       "      <td>0</td>\n",
       "      <td>0</td>\n",
       "      <td>0</td>\n",
       "      <td>0.0</td>\n",
       "      <td>0</td>\n",
       "      <td>0</td>\n",
       "      <td>50000.0</td>\n",
       "      <td>Ленинградская</td>\n",
       "      <td>0.17</td>\n",
       "    </tr>\n",
       "  </tbody>\n",
       "</table>\n",
       "<p>5 rows × 29 columns</p>\n",
       "</div>"
      ],
      "text/plain": [
       "          DATA_TYPE  POLICY_BEGIN_MONTH  POLICY_END_MONTH  POLICY_IS_RENEWED  \\\n",
       "POLICY_ID                                                                      \n",
       "1             TRAIN                   1                 1                  1   \n",
       "2             TRAIN                   1                 1                  1   \n",
       "3             TRAIN                   1                 1                  1   \n",
       "4             TRAIN                   1                 1                  1   \n",
       "5             TRAIN                   1                 1                  0   \n",
       "\n",
       "           POLICY_SALES_CHANNEL  POLICY_SALES_CHANNEL_GROUP    POLICY_BRANCH  \\\n",
       "POLICY_ID                                                                      \n",
       "1                            39                           1           Москва   \n",
       "2                            50                           5           Москва   \n",
       "3                            52                           6           Москва   \n",
       "4                            50                           5           Москва   \n",
       "5                            52                           6  Санкт-Петербург   \n",
       "\n",
       "           POLICY_MIN_AGE  POLICY_MIN_DRIVING_EXPERIENCE VEHICLE_MAKE  \\\n",
       "POLICY_ID                                                               \n",
       "1                      51                             12   Land Rover   \n",
       "2                      35                              7         Opel   \n",
       "3                      41                              6          Kia   \n",
       "4                      36                             12      Citroen   \n",
       "5                      42                              5      Renault   \n",
       "\n",
       "                  ...         POLICY_PRV_CLM_GLT_N  CLIENT_HAS_DAGO  \\\n",
       "POLICY_ID         ...                                                 \n",
       "1                 ...                            N                1   \n",
       "2                 ...                            0                1   \n",
       "3                 ...                           1L                0   \n",
       "4                 ...                            0                1   \n",
       "5                 ...                            N                0   \n",
       "\n",
       "           CLIENT_HAS_OSAGO  POLICY_COURT_SIGN CLAIM_AVG_ACC_ST_PRD  \\\n",
       "POLICY_ID                                                             \n",
       "1                         0                  0                  0.0   \n",
       "2                         1                  0                  0.0   \n",
       "3                         0                  0                  0.0   \n",
       "4                         1                  0                  0.0   \n",
       "5                         0                  0                  0.0   \n",
       "\n",
       "          POLICY_HAS_COMPLAINTS POLICY_YEARS_RENEWED_N POLICY_DEDUCT_VALUE  \\\n",
       "POLICY_ID                                                                    \n",
       "1                             0                      0                 0.0   \n",
       "2                             0                      4                 0.0   \n",
       "3                             0                      1             12518.0   \n",
       "4                             0                      6             15000.0   \n",
       "5                             0                      0             50000.0   \n",
       "\n",
       "          CLIENT_REGISTRATION_REGION POLICY_PRICE_CHANGE  \n",
       "POLICY_ID                                                 \n",
       "1                           Тульская               -1.00  \n",
       "2                             Москва               -0.05  \n",
       "3                         Московская               -0.07  \n",
       "4                             Москва                0.05  \n",
       "5                      Ленинградская                0.17  \n",
       "\n",
       "[5 rows x 29 columns]"
      ]
     },
     "execution_count": 2,
     "metadata": {},
     "output_type": "execute_result"
    }
   ],
   "source": [
    "data = pd.read_csv(\"data.txt\", delimiter=';', index_col='POLICY_ID')\n",
    "train_df = data[data['DATA_TYPE']=='TRAIN'].drop('DATA_TYPE', axis=1)\n",
    "X_train = train_df.drop('POLICY_IS_RENEWED', axis=1)\n",
    "y_train = train_df['POLICY_IS_RENEWED']\n",
    "test_df = data[data['DATA_TYPE']=='TEST '].drop('DATA_TYPE', axis=1)\n",
    "X_test = test_df.drop('POLICY_IS_RENEWED', axis=1)\n",
    "data.head()"
   ]
  },
  {
   "cell_type": "markdown",
   "metadata": {},
   "source": [
    "Затем посмотрим какие признаки у нас имеются и попробуем что-то с ними сделать"
   ]
  },
  {
   "cell_type": "code",
   "execution_count": 3,
   "metadata": {},
   "outputs": [
    {
     "data": {
      "text/plain": [
       "array(['POLICY_BEGIN_MONTH', 'POLICY_END_MONTH', 'POLICY_SALES_CHANNEL',\n",
       "       'POLICY_SALES_CHANNEL_GROUP', 'POLICY_BRANCH', 'POLICY_MIN_AGE',\n",
       "       'POLICY_MIN_DRIVING_EXPERIENCE', 'VEHICLE_MAKE', 'VEHICLE_MODEL',\n",
       "       'VEHICLE_ENGINE_POWER', 'VEHICLE_IN_CREDIT', 'VEHICLE_SUM_INSURED',\n",
       "       'POLICY_INTERMEDIARY', 'INSURER_GENDER', 'POLICY_CLM_N',\n",
       "       'POLICY_CLM_GLT_N', 'POLICY_PRV_CLM_N', 'POLICY_PRV_CLM_GLT_N',\n",
       "       'CLIENT_HAS_DAGO', 'CLIENT_HAS_OSAGO', 'POLICY_COURT_SIGN',\n",
       "       'CLAIM_AVG_ACC_ST_PRD', 'POLICY_HAS_COMPLAINTS',\n",
       "       'POLICY_YEARS_RENEWED_N', 'POLICY_DEDUCT_VALUE',\n",
       "       'CLIENT_REGISTRATION_REGION', 'POLICY_PRICE_CHANGE'], dtype=object)"
      ]
     },
     "execution_count": 3,
     "metadata": {},
     "output_type": "execute_result"
    }
   ],
   "source": [
    "X_train.columns.values"
   ]
  },
  {
   "cell_type": "markdown",
   "metadata": {},
   "source": [
    "Первые 2 признака - это месяца. Так и хочется узнать, на какой срок заключена страховка. Введём новый признак <i>'POLICY_LEN_MONTHS'</i> и посмотрим на его значения"
   ]
  },
  {
   "cell_type": "code",
   "execution_count": 4,
   "metadata": {},
   "outputs": [
    {
     "name": "stdout",
     "output_type": "stream",
     "text": [
      "77407\n",
      " 0     75524\n",
      "-1      1847\n",
      " 6        13\n",
      "-6         6\n",
      " 7         6\n",
      " 11        4\n",
      " 8         3\n",
      "-3         1\n",
      "-4         1\n",
      "-5         1\n",
      " 5         1\n",
      "Name: POLICY_LEN_MONTHS, dtype: int64\n"
     ]
    },
    {
     "data": {
      "image/png": "[encoded data removed]",
      "text/plain": [
       "<matplotlib.figure.Figure at 0x7fdb3f0dedd8>"
      ]
     },
     "metadata": {},
     "output_type": "display_data"
    }
   ],
   "source": [
    "X_train['POLICY_LEN_MONTHS'] = X_train['POLICY_END_MONTH'] - X_train['POLICY_BEGIN_MONTH']\n",
    "print(len(X_train['POLICY_LEN_MONTHS']))\n",
    "sns.set(style=\"darkgrid\")\n",
    "ax = sns.countplot(x=X_train['POLICY_LEN_MONTHS'], data=X_train)\n",
    "lens = X_train['POLICY_LEN_MONTHS'].value_counts()\n",
    "print(lens)"
   ]
  },
  {
   "cell_type": "markdown",
   "metadata": {},
   "source": [
    "Как видно из графика, практически всегда это ровно год, бывает, что на 11 месяцев и ещё редкие исключения. Поэтому признак <i>'POLICY_LEN_MONTHS'</i> имеет смысл перевести из класса числовых в категориальный. Вопрос в том, сколько должно быть категорий - мне кажется, что 3: ровно год, 11 месяцев и объединённый класс исключений."
   ]
  },
  {
   "cell_type": "code",
   "execution_count": 5,
   "metadata": {},
   "outputs": [
    {
     "data": {
      "text/plain": [
       "0    75524\n",
       "2     1847\n",
       "1       36\n",
       "Name: POLICY_LEN_MONTHS, dtype: int64"
      ]
     },
     "execution_count": 5,
     "metadata": {},
     "output_type": "execute_result"
    }
   ],
   "source": [
    "X_train['POLICY_LEN_MONTHS'] = [2 if (x == -1) else \n",
    "                                0 if (x == 0) else\n",
    "                                1 for x in X_train['POLICY_LEN_MONTHS'].values]\n",
    "X_train['POLICY_LEN_MONTHS'].value_counts()"
   ]
  },
  {
   "cell_type": "markdown",
   "metadata": {},
   "source": [
    "Теперь вопрос состоит в том, что же делать дальше с этими двумя признаками, отвечающими за месяца. Ввиду появления <i>'POLICY_LEN_MONTHS'</i>, я считаю, что месяц заключения нам теперь не особо важен, к тому же он будет весьма сильно коррелировать с месяцем окончания, поэтому его выкинем. Однако месяц окончания сам по себе остаётся категориальным признаком. Чтобы не плодить из него потом кучу малоинформативных признаков(12), я считаю довольно логичным объединить месяца в группы по временам года. Чисто логически я слабо понимаю, как вообще месяц может повлиять на выбор человека, однако мало ли как погода может влиять на выбор людей, поэтому не буду совсем от них отказываться."
   ]
  },
  {
   "cell_type": "code",
   "execution_count": 6,
   "metadata": {},
   "outputs": [
    {
     "data": {
      "text/plain": [
       "summer    21079\n",
       "spring    20131\n",
       "autumn    18490\n",
       "winter    17707\n",
       "Name: POLICY_END_SEASON, dtype: int64"
      ]
     },
     "execution_count": 6,
     "metadata": {},
     "output_type": "execute_result"
    }
   ],
   "source": [
    "X_train['POLICY_END_SEASON'] = ['summer' if (x >= 6) & (x <= 8)\n",
    "                                else 'autumn' if (x >= 9) & (x <= 11)\n",
    "                                else 'spring' if (x >= 3) & (x <= 5)\n",
    "                                else 'winter' for x in X_train['POLICY_END_MONTH'].values]\n",
    "X_train['POLICY_END_SEASON'].value_counts()"
   ]
  },
  {
   "cell_type": "markdown",
   "metadata": {},
   "source": [
    "Теперь стоит обсудить <i>'POLICY_SALES_CHANNEL'</i>, <i>'POLICY_SALES_CHANNEL_GROUP'</i>"
   ]
  },
  {
   "cell_type": "code",
   "execution_count": 7,
   "metadata": {},
   "outputs": [
    {
     "name": "stdout",
     "output_type": "stream",
     "text": [
      "[39 50 52  2 10 53  1  6 55 17 54 20 23 59 15 40  8 41 14 11 62 60 46  5 22\n",
      " 31 51  3 25 27 16 45  4 13 18 26 44  7 29 28  9 47 49 38 35 12 57 21 63 19\n",
      " 43 24 30 34 32 33 61 42 36 48 37 58 56]\n",
      "[1 5 6 4 3 8 7 2]\n"
     ]
    }
   ],
   "source": [
    "print(X_train['POLICY_SALES_CHANNEL'].unique())\n",
    "print(X_train['POLICY_SALES_CHANNEL_GROUP'].unique())"
   ]
  },
  {
   "cell_type": "markdown",
   "metadata": {},
   "source": [
    "Эти два признака снова являются категориальными. Ввиду того, что это baseline решение, каналов продаж довольно много, и у нас уже изначально имеется группировка каналов, то признак <i>'POLICY_SALES_CHANNEL'</i> предлагаю опустить, хотя он и может оказаться важным, в частности совсем не обязательно создавать все 63 признака, можно взять лишь самые популярные из них."
   ]
  },
  {
   "cell_type": "markdown",
   "metadata": {},
   "source": [
    "Теперь на очереди <i>'POLICY_BRANCH'</i>, он принимает всего 2 значения - Москва и Питер, т.е. он бинарный, просто переименуем его значения в 0 и 1 соответственно."
   ]
  },
  {
   "cell_type": "code",
   "execution_count": 8,
   "metadata": {},
   "outputs": [
    {
     "name": "stdout",
     "output_type": "stream",
     "text": [
      "['Москва' 'Санкт-Петербург']\n"
     ]
    }
   ],
   "source": [
    "print(X_train['POLICY_BRANCH'].unique())\n",
    "X_train['POLICY_BRANCH'] = [0 if (x == 'Москва') else 1 for x in X_train['POLICY_BRANCH'].values]"
   ]
  },
  {
   "cell_type": "markdown",
   "metadata": {},
   "source": [
    "<i>'POLICY_MIN_AGE'</i>, <i>'POLICY_MIN_DRIVING_EXPERIENCE'</i> - числовые признаки, с ними можно ничего не придумывать, разве что в заполнении <i>'POLICY_MIN_DRIVING_EXPERIENCE'</i> есть явные ошибки, когда вместо стажа вождения, введён год начала. Насколько я понимаю это данные 2016 года. При этом число логически возраст клиентов далжен очень сильно влиять на их желание продлять полис или нет. Скорее всего в алгоритмах, основанных на деревьях они будут иметь большое значение, однако регрессия не способна до конца на них настроиться ввиду того, что она монотонна, поэтому предлагаю наплодить из этих числовых признаков несколько категориальных"
   ]
  },
  {
   "cell_type": "code",
   "execution_count": 9,
   "metadata": {},
   "outputs": [
    {
     "name": "stdout",
     "output_type": "stream",
     "text": [
      "[51 35 41 36 42 60 48 27 38 39 64 56 47 44 40 49 50 53 31 32 30 33 62 28 58\n",
      " 26 63 34 25 29 24 45 66 54 37 61 23 52 55 57 46 43 67 59 69 68 75 22 78 18\n",
      " 76 74 65 80 72 19 73 77 71 20 79 70 21 86 82 81 83 84]\n",
      "[  12    7    6    5   40   19   18   16    8   11   45   20   17   13   15\n",
      "   28   29    2   42    3   36    9   10   44   23   14   43   21   25   26\n",
      "    4   32   34    1   22   31   24   27   48   30    0   35 1986   33   37\n",
      " 1988   52   41 2008 2002   39 1996 1995 1991   38 1979   47   46 1994 2014\n",
      " 1968 2004 1998 1999 1980   49   58 1984 1992 1990 1976 2000 1989 2006 1974\n",
      " 2003 1997 1993 1981 1973 2005 2010 2011   50 2013 2007   51   53 1987 1969\n",
      " 2009 2001   54 1982   60 1975 1985   55 1978 2015 1977 2012 1962 1983 1972\n",
      "   56   57 1970 1958 1963]\n"
     ]
    }
   ],
   "source": [
    "print(X_train['POLICY_MIN_AGE'].unique())\n",
    "print(X_train['POLICY_MIN_DRIVING_EXPERIENCE'].unique())\n",
    "X_train['POLICY_MIN_DRIVING_EXPERIENCE'] = [x if (x < 100) else (2016-x) for x in X_train['POLICY_MIN_DRIVING_EXPERIENCE'].values]\n",
    "X_train['AGE_70+'] = [1 if (x >= 70) else 0 for x in X_train['POLICY_MIN_AGE'].values]\n",
    "X_train['AGE_60+'] = [1 if (x >= 60) & (x < 70) else 0 for x in X_train['POLICY_MIN_AGE'].values]\n",
    "X_train['AGE_50+'] = [1 if (x >= 50) & (x < 60) else 0 for x in X_train['POLICY_MIN_AGE'].values]\n",
    "X_train['AGE_38+'] = [1 if (x >= 38) & (x < 50) else 0 for x in X_train['POLICY_MIN_AGE'].values]\n",
    "X_train['AGE_25+'] = [1 if (x >= 25) & (x < 38) else 0 for x in X_train['POLICY_MIN_AGE'].values]\n",
    "X_train['AGE_18+'] = [1 if (x < 25) else 0 for x in X_train['POLICY_MIN_AGE'].values]\n",
    "X_train['EXP_20+'] = [1 if (x >= 20) else 0 for x in X_train['POLICY_MIN_DRIVING_EXPERIENCE'].values]\n",
    "X_train['EXP_10+'] = [1 if (x >= 10) & (x < 20) else 0 for x in X_train['POLICY_MIN_DRIVING_EXPERIENCE'].values]\n",
    "X_train['EXP_5+'] = [1 if (x >= 5) & (x < 10) else 0 for x in X_train['POLICY_MIN_DRIVING_EXPERIENCE'].values]\n",
    "X_train['EXP_LOW'] = [1 if (x < 5) else 0 for x in X_train['POLICY_MIN_DRIVING_EXPERIENCE'].values]"
   ]
  },
  {
   "cell_type": "markdown",
   "metadata": {},
   "source": [
    "Признаки <i>'VEHICLE_MAKE'</i>, <i>'VEHICLE_MODEL'</i> - снова категориальные, причём на самом деле это один и тот же признак. Подход к таким признакам довольно просто - использовать <b>DictVectorizer</b>, получить из этого довольно разряженную матрицу... и за счёт этого можно выиграть пару процентов. В простейшем случае нам важно знать лишь категорию машины(насколько она дорогая), что как правило коррелирует с её мощностью, но для чистоты эксперимента всё-таки попробуем это сделать."
   ]
  },
  {
   "cell_type": "code",
   "execution_count": 10,
   "metadata": {},
   "outputs": [
    {
     "name": "stdout",
     "output_type": "stream",
     "text": [
      "CPU times: user 6.65 s, sys: 52 ms, total: 6.7 s\n",
      "Wall time: 6.71 s\n"
     ]
    }
   ],
   "source": [
    "%%time\n",
    "vehicle = ['VEHICLE_MAKE', 'VEHICLE_MODEL']\n",
    "dict_vect = DictVectorizer()\n",
    "X_train_vehicle = dict_vect.fit_transform(X_train[vehicle].fillna('-').T.to_dict().values())"
   ]
  },
  {
   "cell_type": "markdown",
   "metadata": {},
   "source": [
    "<i>'VEHICLE_ENGINE_POWER'</i> - числовой признак, достаточно будет просто нормализовать, среднее вычитать не нужно.\n",
    "<br><i>'VEHICLE_IN_CREDIT'</i> - бинарный признак, ничего делать не надо\n",
    "<br><i>'VEHICLE_SUM_INSURED'</i> - признак, схожий с мощностью двигателя\n",
    "<br><i>'POLICY_INTERMEDIARY'</i> - категориальный признак с кучей категорий, может оказаться важным, но я предлагаю его пропустить, чтобы упростить обучение модели и не переобучиться.\n",
    "<br><i>'INSURER_GENDER'</i> - бинарный признак, который надо будет переделать LabelEncoderом\n",
    "<br><i>'POLICY_CLM_N'</i> - немного странный признак, видимо он категориальный \n",
    "<br><i>'POLICY_CLM_GLT_N'</i> - аналогично\n",
    "<br><i>'POLICY_PRV_CLM_N'</i> - аналогично\n",
    "<br><i>'POLICY_PRV_CLM_GLT_N'</i> - аналогично\n",
    "<br><i>'CLIENT_HAS_DAGO'</i> - бинарный\n",
    "<br><i>'CLIENT_HAS_OSAGO'</i> - бинарный\n",
    "<br><i>'POLICY_COURT_SIGN'</i> - бинарный\n",
    "<br><i>'CLAIM_AVG_ACC_ST_PRD'</i> - числовой\n",
    "<br><i>'POLICY_HAS_COMPLAINTS'</i> - бинарный\n",
    "<br><i>'POLICY_YEARS_RENEWED_N'</i> - числовой, есть пропуски\n",
    "<br><i>'POLICY_DEDUCT_VALUE'</i> - числовой\n",
    "<br><i>'CLIENT_REGISTRATION_REGION'</i> - похож на модели машин\n",
    "<br><i>'POLICY_PRICE_CHANGE'</i> - числовой"
   ]
  },
  {
   "cell_type": "code",
   "execution_count": 11,
   "metadata": {},
   "outputs": [
    {
     "name": "stdout",
     "output_type": "stream",
     "text": [
      "2\n",
      "0      54481\n",
      "1S      8073\n",
      "1L      8000\n",
      "2       4972\n",
      "3       1377\n",
      "4+       458\n",
      "n/d       46\n",
      "Name: POLICY_CLM_N, dtype: int64\n",
      "CPU times: user 6.68 s, sys: 32 ms, total: 6.71 s\n",
      "Wall time: 6.71 s\n"
     ]
    }
   ],
   "source": [
    "%%time\n",
    "print(X_train['INSURER_GENDER'].nunique())\n",
    "print(X_train['POLICY_CLM_N'].value_counts())\n",
    "X_train['POLICY_YEARS_RENEWED_N'] = [1 if x=='N' else x for x in X_train['POLICY_YEARS_RENEWED_N'].values]\n",
    "region = ['POLICY_INTERMEDIARY', 'CLIENT_REGISTRATION_REGION']\n",
    "reg_vect = DictVectorizer()\n",
    "X_train_region = reg_vect.fit_transform(X_train[region].fillna('-').T.to_dict().values())"
   ]
  },
  {
   "cell_type": "markdown",
   "metadata": {},
   "source": [
    "Теперь надо сгруппировать признаки одного порядка и преобразовать их"
   ]
  },
  {
   "cell_type": "code",
   "execution_count": 12,
   "metadata": {},
   "outputs": [],
   "source": [
    "standard = StandardScaler()\n",
    "maxabs = MaxAbsScaler()\n",
    "label = LabelEncoder()\n",
    "onehot = OneHotEncoder()\n",
    "season = LabelBinarizer()\n",
    "labelbin = LabelBinarizer()\n",
    "absfeature = ['VEHICLE_ENGINE_POWER', 'VEHICLE_SUM_INSURED']\n",
    "scalefeature = ['POLICY_MIN_AGE', 'POLICY_MIN_DRIVING_EXPERIENCE', 'CLAIM_AVG_ACC_ST_PRD', 'POLICY_YEARS_RENEWED_N', \n",
    "                'POLICY_DEDUCT_VALUE', 'POLICY_PRICE_CHANGE']\n",
    "binaryfeature = ['POLICY_BRANCH', 'AGE_70+', 'AGE_60+', 'AGE_50+', 'AGE_38+', 'AGE_25+', 'AGE_18+',\n",
    "                 'EXP_20+', 'EXP_10+', 'EXP_5+', 'EXP_LOW', 'VEHICLE_IN_CREDIT', 'CLIENT_HAS_DAGO', 'CLIENT_HAS_OSAGO',\n",
    "                 'POLICY_COURT_SIGN', 'POLICY_HAS_COMPLAINTS', 'INSURER_GENDER']\n",
    "onehotfeature = ['POLICY_LEN_MONTHS', 'POLICY_SALES_CHANNEL', 'POLICY_SALES_CHANNEL_GROUP']\n",
    "#labelfeature = ['POLICY_END_SEASON', 'POLICY_CLM_N', 'POLICY_CLM_GLT_N', 'POLICY_PRV_CLM_N', 'POLICY_PRV_CLM_GLT_N']\n",
    "X_train_abs = maxabs.fit_transform(X_train[absfeature])\n",
    "X_train_scaled = standard.fit_transform(X_train[scalefeature])\n",
    "X_train['INSURER_GENDER'] = label.fit_transform(X_train['INSURER_GENDER'])\n",
    "X_train_bool = X_train[binaryfeature]\n",
    "X_train_one_hot = onehot.fit_transform(X_train[onehotfeature])\n",
    "X_train_season = season.fit_transform(X_train['POLICY_END_SEASON'])\n",
    "X_train_N = labelbin.fit_transform(X_train['POLICY_CLM_N'])\n",
    "X_train_GLT_N = labelbin.transform(X_train['POLICY_CLM_GLT_N'])\n",
    "X_train_PRV_N = labelbin.transform(X_train['POLICY_PRV_CLM_N'])\n",
    "X_train_PRV_GLT_N = labelbin.transform(X_train['POLICY_PRV_CLM_GLT_N'])"
   ]
  },
  {
   "cell_type": "markdown",
   "metadata": {},
   "source": [
    "Теперь соединим все признаки воедино и разобьём тренировочную выборку на тренировочную и валидационную"
   ]
  },
  {
   "cell_type": "code",
   "execution_count": 13,
   "metadata": {},
   "outputs": [],
   "source": [
    "X_train_new = scipy.sparse.hstack([X_train_abs, X_train_scaled, X_train_bool, X_train_season, X_train_N,\n",
    "                                   X_train_one_hot, X_train_GLT_N, X_train_PRV_N, X_train_PRV_GLT_N,\n",
    "                                   X_train_region, X_train_vehicle])\n",
    "X_train_2, X_valid, y_train_2, y_valid = train_test_split(X_train_new, y_train,  test_size = 0.2, random_state = 1)"
   ]
  },
  {
   "cell_type": "markdown",
   "metadata": {},
   "source": [
    "После разделения выборки на тренировочную и валидационную части, можно начинать обучение моделей. Это будет проходить примерно по такому сценарию: берётся произвольный алгоритм, при помощи кросс валидации подбираем нужные гиперпараметры. А затем на валидационной выборке сравниваем качество алгоритмов и строим некую модель второго порядка, например, взвешенную сумму."
   ]
  },
  {
   "cell_type": "markdown",
   "metadata": {},
   "source": [
    "Также стоит обсудить и метрику качества. В условия задачи мы хотим максимизировать TP+TN. Данное число прямо пропорционально метрике <i>accuracy</i>, которая представляется как (TP+TN)/TP+TN+FP+FN, поскольку знаменатель зависит только количества элементов в выборке, про которую нам необходимо получить резуьльтат."
   ]
  },
  {
   "cell_type": "code",
   "execution_count": 13,
   "metadata": {},
   "outputs": [],
   "source": [
    "skf = StratifiedKFold(n_splits = 5, random_state = 1, shuffle = True)"
   ]
  },
  {
   "cell_type": "markdown",
   "metadata": {},
   "source": [
    "Поскольку это задача классификации, то первым алгоритмом будет обычная логистическая регрессия. Во многом из-за неё пришлось столько времени потратить на признаки, ведь она не умеет работать с категориальными признаками - только числовыми или бинарными."
   ]
  },
  {
   "cell_type": "code",
   "execution_count": 15,
   "metadata": {},
   "outputs": [
    {
     "name": "stderr",
     "output_type": "stream",
     "text": [
      " 17%|█▋        | 1/6 [00:01<00:08,  1.76s/it]"
     ]
    },
    {
     "name": "stdout",
     "output_type": "stream",
     "text": [
      "0.001 0.663189342372\n"
     ]
    },
    {
     "name": "stderr",
     "output_type": "stream",
     "text": [
      "\r",
      " 33%|███▎      | 2/6 [00:05<00:10,  2.52s/it]"
     ]
    },
    {
     "name": "stdout",
     "output_type": "stream",
     "text": [
      "0.01 0.673992686664\n"
     ]
    },
    {
     "name": "stderr",
     "output_type": "stream",
     "text": [
      "\r",
      " 50%|█████     | 3/6 [00:12<00:12,  4.04s/it]"
     ]
    },
    {
     "name": "stdout",
     "output_type": "stream",
     "text": [
      "0.1 0.676059735818\n"
     ]
    },
    {
     "name": "stderr",
     "output_type": "stream",
     "text": [
      "\r",
      " 67%|██████▋   | 4/6 [00:27<00:13,  6.94s/it]"
     ]
    },
    {
     "name": "stdout",
     "output_type": "stream",
     "text": [
      "1.0 0.673992751853\n"
     ]
    },
    {
     "name": "stderr",
     "output_type": "stream",
     "text": [
      "\r",
      " 83%|████████▎ | 5/6 [01:02<00:12, 12.58s/it]"
     ]
    },
    {
     "name": "stdout",
     "output_type": "stream",
     "text": [
      "10.0 0.670892210067\n"
     ]
    },
    {
     "name": "stderr",
     "output_type": "stream",
     "text": [
      "\r",
      "100%|██████████| 6/6 [02:16<00:00, 22.83s/it]"
     ]
    },
    {
     "name": "stdout",
     "output_type": "stream",
     "text": [
      "100.0 0.669697220031\n"
     ]
    },
    {
     "name": "stderr",
     "output_type": "stream",
     "text": [
      "\n"
     ]
    }
   ],
   "source": [
    "C_space = np.logspace(-3, 2, 6)\n",
    "for c in tqdm(C_space):\n",
    "    lr = LogisticRegression(C = c, random_state = 1)\n",
    "    print(c, cross_val_score(lr, X_train_2, y_train_2, scoring='accuracy', cv=skf).mean())"
   ]
  },
  {
   "cell_type": "markdown",
   "metadata": {},
   "source": [
    "Как видно из обучения, оптимальный парамерт С для нашей первой логистической регресии равен 0.1. Однако возможно на неполном множестве признаков результат окажется лучше? Попробуем выкинуть некоторые группы"
   ]
  },
  {
   "cell_type": "code",
   "execution_count": 16,
   "metadata": {},
   "outputs": [
    {
     "name": "stdout",
     "output_type": "stream",
     "text": [
      "0.668502194792\n"
     ]
    }
   ],
   "source": [
    "X_train_new = scipy.sparse.hstack([X_train_abs, X_train_scaled, X_train_bool, X_train_season, X_train_N,\n",
    "                                   X_train_one_hot, X_train_GLT_N, X_train_PRV_N, X_train_PRV_GLT_N,\n",
    "                                   X_train_region])\n",
    "X_train_2, X_valid, y_train_2, y_valid = train_test_split(X_train_new, y_train,  test_size = 0.2, random_state = 1)\n",
    "lr = LogisticRegression(C = c, random_state = 1)\n",
    "print(cross_val_score(lr, X_train_2, y_train_2, scoring='accuracy', cv=skf).mean())"
   ]
  },
  {
   "cell_type": "code",
   "execution_count": 17,
   "metadata": {},
   "outputs": [
    {
     "name": "stdout",
     "output_type": "stream",
     "text": [
      "0.672135597562\n"
     ]
    }
   ],
   "source": [
    "X_train_new = scipy.sparse.hstack([X_train_abs, X_train_scaled, X_train_bool, X_train_season, X_train_N,\n",
    "                                   X_train_one_hot, X_train_GLT_N, X_train_PRV_N, X_train_PRV_GLT_N,\n",
    "                                   X_train_vehicle])\n",
    "X_train_2, X_valid, y_train_2, y_valid = train_test_split(X_train_new, y_train,  test_size = 0.2, random_state = 1)\n",
    "lr = LogisticRegression(C = 0.1, random_state = 1)\n",
    "print(cross_val_score(lr, X_train_2, y_train_2, scoring='accuracy', cv=skf).mean())"
   ]
  },
  {
   "cell_type": "code",
   "execution_count": 18,
   "metadata": {},
   "outputs": [
    {
     "name": "stdout",
     "output_type": "stream",
     "text": [
      "0.662107473142\n"
     ]
    }
   ],
   "source": [
    "X_train_new = scipy.sparse.hstack([X_train_abs, X_train_scaled, X_train_bool, X_train_season,\n",
    "                                   X_train_one_hot,\n",
    "                                   X_train_region, X_train_vehicle])\n",
    "X_train_2, X_valid, y_train_2, y_valid = train_test_split(X_train_new, y_train,  test_size = 0.2, random_state = 1)\n",
    "lr = LogisticRegression(C = 0.1, random_state = 1)\n",
    "print(cross_val_score(lr, X_train_2, y_train_2, scoring='accuracy', cv=skf).mean())"
   ]
  },
  {
   "cell_type": "code",
   "execution_count": 19,
   "metadata": {},
   "outputs": [
    {
     "name": "stdout",
     "output_type": "stream",
     "text": [
      "0.674897012928\n"
     ]
    }
   ],
   "source": [
    "X_train_new = scipy.sparse.hstack([X_train_abs, X_train_scaled, X_train_bool, X_train_season, X_train_N,\n",
    "                                   X_train_GLT_N, X_train_PRV_N, X_train_PRV_GLT_N,\n",
    "                                   X_train_region, X_train_vehicle])\n",
    "X_train_2, X_valid, y_train_2, y_valid = train_test_split(X_train_new, y_train,  test_size = 0.2, random_state = 1)\n",
    "lr = LogisticRegression(C = 0.1, random_state = 1)\n",
    "print(cross_val_score(lr, X_train_2, y_train_2, scoring='accuracy', cv=skf).mean())"
   ]
  },
  {
   "cell_type": "code",
   "execution_count": 20,
   "metadata": {},
   "outputs": [
    {
     "name": "stdout",
     "output_type": "stream",
     "text": [
      "0.673330613675\n"
     ]
    }
   ],
   "source": [
    "X_train_new = scipy.sparse.hstack([X_train_abs, X_train_scaled, X_train_season, X_train_N,\n",
    "                                   X_train_one_hot, X_train_GLT_N, X_train_PRV_N, X_train_PRV_GLT_N,\n",
    "                                   X_train_region, X_train_vehicle])\n",
    "X_train_2, X_valid, y_train_2, y_valid = train_test_split(X_train_new, y_train,  test_size = 0.2, random_state = 1)\n",
    "C_space = np.logspace(-3, 2, 6)\n",
    "lr = LogisticRegression(C = 0.1, random_state = 1)\n",
    "print(cross_val_score(lr, X_train_2, y_train_2, scoring='accuracy', cv=skf).mean())"
   ]
  },
  {
   "cell_type": "code",
   "execution_count": 21,
   "metadata": {},
   "outputs": [
    {
     "name": "stdout",
     "output_type": "stream",
     "text": [
      "0.675995119382\n"
     ]
    }
   ],
   "source": [
    "X_train_new = scipy.sparse.hstack([X_train_abs, X_train_scaled, X_train_bool, X_train_N,\n",
    "                                   X_train_one_hot, X_train_GLT_N, X_train_PRV_N, X_train_PRV_GLT_N,\n",
    "                                   X_train_region, X_train_vehicle])\n",
    "X_train_2, X_valid, y_train_2, y_valid = train_test_split(X_train_new, y_train,  test_size = 0.2, random_state = 1)\n",
    "lr = LogisticRegression(C = 0.1, random_state = 1)\n",
    "print(cross_val_score(lr, X_train_2, y_train_2, scoring='accuracy', cv=skf).mean())"
   ]
  },
  {
   "cell_type": "code",
   "execution_count": 22,
   "metadata": {},
   "outputs": [
    {
     "name": "stdout",
     "output_type": "stream",
     "text": [
      "0.670294693537\n"
     ]
    }
   ],
   "source": [
    "X_train_new = scipy.sparse.hstack([X_train_abs, X_train_bool, X_train_N,  X_train_season,\n",
    "                                   X_train_one_hot, X_train_GLT_N, X_train_PRV_N, X_train_PRV_GLT_N,\n",
    "                                   X_train_region, X_train_vehicle])\n",
    "X_train_2, X_valid, y_train_2, y_valid = train_test_split(X_train_new, y_train,  test_size = 0.2, random_state = 1)\n",
    "lr = LogisticRegression(C = 0.1, random_state = 1)\n",
    "print(cross_val_score(lr, X_train_2, y_train_2, scoring='accuracy', cv=skf).mean())"
   ]
  },
  {
   "cell_type": "code",
   "execution_count": 23,
   "metadata": {},
   "outputs": [
    {
     "name": "stdout",
     "output_type": "stream",
     "text": [
      "0.676205050755\n"
     ]
    }
   ],
   "source": [
    "X_train_new = scipy.sparse.hstack([X_train_scaled, X_train_bool, X_train_N, X_train_season,\n",
    "                                   X_train_one_hot, X_train_GLT_N, X_train_PRV_N, X_train_PRV_GLT_N,\n",
    "                                   X_train_region, X_train_vehicle])\n",
    "X_train_2, X_valid, y_train_2, y_valid = train_test_split(X_train_new, y_train,  test_size = 0.2, random_state = 1)\n",
    "lr = LogisticRegression(C = 0.1, random_state = 1)\n",
    "print(cross_val_score(lr, X_train_2, y_train_2, scoring='accuracy', cv=skf).mean())"
   ]
  },
  {
   "cell_type": "markdown",
   "metadata": {},
   "source": [
    "Как видно из нашего исследования признак season оказался и правда не слишком полезным, а единственная модель, которая показал результаты лучше, чем исходная - без признаков, которые мы нормализовали <i>MaxAbsScalerом</i>."
   ]
  },
  {
   "cell_type": "markdown",
   "metadata": {},
   "source": [
    "Вторым алгоритмом, который мы собираемся использовать будет KNN. Маловероятно, что он отработает лучше всех, но тем не менее он может быть полезным. Будем пользоваться им на исходном мн-ве признаков(за исключением категорильных с кучей категорий). У метода ближайших соседей достаточно много параметров, поэтому нам понадобится <i>GridSearchCV</i>\n",
    "<p style=\"color:#148814\">update</p>\n",
    "Учить KNN на всей выборке было плохой идеей. Даже учитывая то, что я убрал все категориальные признаки. Поэтому придётся постпуить по-другому. Сначала найдём нужный размер выборки и на нём гиперпараметры, чтобы время обучения было терпимым, а потом воспользуемся беггингом для охвата большего числа элементов."
   ]
  },
  {
   "cell_type": "code",
   "execution_count": 39,
   "metadata": {},
   "outputs": [],
   "source": [
    "X_train_new = scipy.sparse.hstack([X_train_abs, X_train_scaled, X_train_bool])\n",
    "X_train_2, X_valid, y_train_2, y_valid = train_test_split(X_train_new, y_train,  test_size = 0.2, random_state = 1)\n",
    "X_train_2_short = X_train_2[:10000,:]\n",
    "y_train_2_short = y_train_2[:10000]"
   ]
  },
  {
   "cell_type": "code",
   "execution_count": 44,
   "metadata": {},
   "outputs": [
    {
     "name": "stdout",
     "output_type": "stream",
     "text": [
      "Fitting 5 folds for each of 12 candidates, totalling 60 fits\n"
     ]
    },
    {
     "name": "stderr",
     "output_type": "stream",
     "text": [
      "[Parallel(n_jobs=1)]: Done  60 out of  60 | elapsed:  4.1min finished\n"
     ]
    },
    {
     "name": "stdout",
     "output_type": "stream",
     "text": [
      "CPU times: user 3min 55s, sys: 11.7 s, total: 4min 7s\n",
      "Wall time: 4min 7s\n"
     ]
    }
   ],
   "source": [
    "%%time\n",
    "knn = KNeighborsClassifier()\n",
    "clf = GridSearchCV(estimator = knn, n_jobs = 1, cv = skf, return_train_score = True, verbose = 1,\n",
    "                   param_grid = {\"n_neighbors\": [1,3,5,10,20,50], \"weights\": ['uniform', 'distance']})\n",
    "clf.fit(X_train_2_short, y_train_2_short)"
   ]
  },
  {
   "cell_type": "code",
   "execution_count": 48,
   "metadata": {},
   "outputs": [
    {
     "data": {
      "text/plain": [
       "array([ 0.5742,  0.5742,  0.5976,  0.5938,  0.6065,  0.6036,  0.6117,\n",
       "        0.6227,  0.6304,  0.6343,  0.638 ,  0.6408])"
      ]
     },
     "execution_count": 48,
     "metadata": {},
     "output_type": "execute_result"
    }
   ],
   "source": [
    "clf.cv_results_['mean_test_score']"
   ]
  },
  {
   "cell_type": "markdown",
   "metadata": {},
   "source": [
    "Отсюда можно сделать вывод, что оптимальных гиперпараметров мы не нашли, продолжим поиск"
   ]
  },
  {
   "cell_type": "code",
   "execution_count": 51,
   "metadata": {},
   "outputs": [
    {
     "name": "stdout",
     "output_type": "stream",
     "text": [
      "CPU times: user 2min 44s, sys: 7.69 s, total: 2min 52s\n",
      "Wall time: 2min 52s\n"
     ]
    }
   ],
   "source": [
    "%%time\n",
    "clf = GridSearchCV(estimator = knn, n_jobs = 1, cv = skf, return_train_score = True, verbose = 0,\n",
    "                   param_grid = {\"n_neighbors\": [30,70,100,150], \"weights\": ['uniform', 'distance']})\n",
    "clf.fit(X_train_2_short, y_train_2_short)"
   ]
  },
  {
   "cell_type": "code",
   "execution_count": 50,
   "metadata": {},
   "outputs": [
    {
     "data": {
      "text/plain": [
       "array([ 0.6345,  0.6406,  0.639 ,  0.6395,  0.6401,  0.6394,  0.636 ,\n",
       "        0.6385])"
      ]
     },
     "execution_count": 50,
     "metadata": {},
     "output_type": "execute_result"
    }
   ],
   "source": [
    "clf.cv_results_['mean_test_score']"
   ]
  },
  {
   "cell_type": "markdown",
   "metadata": {},
   "source": [
    "Как видно наилучший результат показал KNN с 50 соседями и весами 'distance'. Впоследствие и будем использовать эти параметры в нашм будущем bagging классификаторе. Однако перед этим стоит проверить текущую модель на большем подмн-ве признаков"
   ]
  },
  {
   "cell_type": "code",
   "execution_count": 14,
   "metadata": {},
   "outputs": [],
   "source": [
    "knn = KNeighborsClassifier(n_neighbors = 50, weights = 'distance')\n",
    "X_train_new = scipy.sparse.hstack([X_train_abs, X_train_scaled, X_train_bool, X_train_season, X_train_N,\n",
    "                                   X_train_one_hot, X_train_GLT_N, X_train_PRV_N, X_train_PRV_GLT_N])\n",
    "X_train_2, X_valid, y_train_2, y_valid = train_test_split(X_train_new, y_train,  test_size = 0.2, random_state = 1)\n",
    "X_train_2_short = X_train_2[:10000,:]\n",
    "y_train_2_short = y_train_2[:10000]"
   ]
  },
  {
   "cell_type": "code",
   "execution_count": 16,
   "metadata": {},
   "outputs": [
    {
     "name": "stdout",
     "output_type": "stream",
     "text": [
      "0.6489\n",
      "CPU times: user 4.95 s, sys: 184 ms, total: 5.14 s\n",
      "Wall time: 5.13 s\n"
     ]
    }
   ],
   "source": [
    "%%time\n",
    "print(cross_val_score(knn, X_train_2_short, y_train_2_short, scoring='accuracy', cv=skf).mean())"
   ]
  },
  {
   "cell_type": "markdown",
   "metadata": {},
   "source": [
    "Точность выросла, видимо вся проблема была в размере выборки. поэтому можно смело пробовать полный набор признаков"
   ]
  },
  {
   "cell_type": "code",
   "execution_count": 17,
   "metadata": {},
   "outputs": [],
   "source": [
    "X_train_new = scipy.sparse.hstack([X_train_abs, X_train_scaled, X_train_bool, X_train_season, X_train_N,\n",
    "                                   X_train_one_hot, X_train_GLT_N, X_train_PRV_N, X_train_PRV_GLT_N,\n",
    "                                   X_train_region, X_train_vehicle])\n",
    "X_train_2, X_valid, y_train_2, y_valid = train_test_split(X_train_new, y_train,  test_size = 0.2, random_state = 1)\n",
    "X_train_2_short = X_train_2[:10000,:]\n",
    "y_train_2_short = y_train_2[:10000]"
   ]
  },
  {
   "cell_type": "code",
   "execution_count": 18,
   "metadata": {},
   "outputs": [
    {
     "name": "stdout",
     "output_type": "stream",
     "text": [
      "0.6514\n",
      "CPU times: user 4.88 s, sys: 296 ms, total: 5.17 s\n",
      "Wall time: 5.18 s\n"
     ]
    }
   ],
   "source": [
    "%%time\n",
    "print(cross_val_score(knn, X_train_2_short, y_train_2_short, scoring='accuracy', cv=skf).mean())"
   ]
  },
  {
   "cell_type": "code",
   "execution_count": 25,
   "metadata": {},
   "outputs": [
    {
     "name": "stdout",
     "output_type": "stream",
     "text": [
      "(61925, 2152)\n"
     ]
    },
    {
     "name": "stderr",
     "output_type": "stream",
     "text": [
      "[Parallel(n_jobs=1)]: Done   1 out of   1 | elapsed:    0.1s finished\n",
      "[Parallel(n_jobs=1)]: Done   1 out of   1 | elapsed:  1.3min finished\n",
      "[Parallel(n_jobs=1)]: Done   1 out of   1 | elapsed:    0.1s finished\n",
      "[Parallel(n_jobs=1)]: Done   1 out of   1 | elapsed:  1.3min finished\n",
      "[Parallel(n_jobs=1)]: Done   1 out of   1 | elapsed:    0.1s finished\n",
      "[Parallel(n_jobs=1)]: Done   1 out of   1 | elapsed:  1.3min finished\n",
      "[Parallel(n_jobs=1)]: Done   1 out of   1 | elapsed:    0.1s finished\n",
      "[Parallel(n_jobs=1)]: Done   1 out of   1 | elapsed:  1.4min finished\n",
      "[Parallel(n_jobs=1)]: Done   1 out of   1 | elapsed:    0.1s finished\n"
     ]
    },
    {
     "name": "stdout",
     "output_type": "stream",
     "text": [
      "0.655712544188\n",
      "CPU times: user 6min 18s, sys: 30.5 s, total: 6min 48s\n",
      "Wall time: 6min 48s\n"
     ]
    },
    {
     "name": "stderr",
     "output_type": "stream",
     "text": [
      "[Parallel(n_jobs=1)]: Done   1 out of   1 | elapsed:  1.4min finished\n"
     ]
    }
   ],
   "source": [
    "%%time\n",
    "print(X_train_2.shape)\n",
    "bg = BaggingClassifier(base_estimator = knn, max_samples = 10000, random_state = 1, verbose = 1)\n",
    "print(cross_val_score(bg, X_train_2, y_train_2, scoring='accuracy', cv=skf).mean())"
   ]
  },
  {
   "cell_type": "markdown",
   "metadata": {},
   "source": [
    "Отлично, беггинг над соседями оказался полезен, поэтому запомним этот алгоритм и перейдём к следующему алгоритму - беггингу над решающими деревьями, он же является случайным лесом. Особенность этих алгоритмов заключается в том, что decision trees устойчивы к размеру выборки, т.е. их можно обучать на небольшои под множестве.\n",
    "<br>Что касается гиперпараметров случайного леса, то в качестве критерия разибения стоит выбрать gini(обоснование: \n",
    "<a href=\"https://www.quora.com/Machine-Learning/Are-gini-index-entropy-or-classification-error-measures-causing-any-difference-on-Decision-Tree-classification\">ответ с quora</a>)"
   ]
  },
  {
   "cell_type": "code",
   "execution_count": 41,
   "metadata": {},
   "outputs": [
    {
     "name": "stdout",
     "output_type": "stream",
     "text": [
      "0.69416229752\n",
      "CPU times: user 8min 8s, sys: 584 ms, total: 8min 8s\n",
      "Wall time: 8min 8s\n"
     ]
    }
   ],
   "source": [
    "%%time\n",
    "rf = RandomForestClassifier(random_state = 1, n_estimators=100, max_depth=1000, oob_score=True, class_weight='balanced')\n",
    "print(cross_val_score(rf, X_train_2, y_train_2, scoring='accuracy', cv=skf).mean())"
   ]
  },
  {
   "cell_type": "markdown",
   "metadata": {},
   "source": [
    "ОБычный случайный лес без подбора гиперпараметров уже дал неплохой прирост в качестве предсказания, даже по сравнению с логистической регрессией. Соотвественно дальше есть 2 пути - тюнить RF или вернуться к LR и использовать на ней <i>BaggingClassifier<i>. Начну с RF"
   ]
  },
  {
   "cell_type": "code",
   "execution_count": 45,
   "metadata": {},
   "outputs": [
    {
     "name": "stdout",
     "output_type": "stream",
     "text": [
      "Fitting 5 folds for each of 20 candidates, totalling 100 fits\n",
      "[CV] min_samples_leaf=3, max_depth=30, max_features=2 ................\n",
      "[CV] min_samples_leaf=3, max_depth=30, max_features=2 ................\n",
      "[CV] . min_samples_leaf=3, max_depth=30, max_features=2, total=   1.9s\n",
      "[CV] min_samples_leaf=3, max_depth=30, max_features=2 ................\n",
      "[CV] . min_samples_leaf=3, max_depth=30, max_features=2, total=   2.0s\n",
      "[CV] min_samples_leaf=3, max_depth=30, max_features=2 ................\n",
      "[CV] . min_samples_leaf=3, max_depth=30, max_features=2, total=   1.9s\n",
      "[CV] min_samples_leaf=3, max_depth=30, max_features=2 ................\n",
      "[CV] . min_samples_leaf=3, max_depth=30, max_features=2, total=   1.9s\n",
      "[CV] min_samples_leaf=8, max_depth=800, max_features=100 .............\n",
      "[CV] . min_samples_leaf=3, max_depth=30, max_features=2, total=   1.9s\n",
      "[CV] min_samples_leaf=8, max_depth=800, max_features=100 .............\n",
      "[CV]  min_samples_leaf=8, max_depth=800, max_features=100, total=  32.4s\n",
      "[CV] min_samples_leaf=8, max_depth=800, max_features=100 .............\n",
      "[CV]  min_samples_leaf=8, max_depth=800, max_features=100, total=  32.4s\n",
      "[CV] min_samples_leaf=8, max_depth=800, max_features=100 .............\n",
      "[CV]  min_samples_leaf=8, max_depth=800, max_features=100, total=  32.8s\n",
      "[CV] min_samples_leaf=8, max_depth=800, max_features=100 .............\n",
      "[CV]  min_samples_leaf=8, max_depth=800, max_features=100, total=  32.8s\n",
      "[CV] min_samples_leaf=1, max_depth=30, max_features=15 ...............\n",
      "[CV]  min_samples_leaf=1, max_depth=30, max_features=15, total=  17.6s\n",
      "[CV] min_samples_leaf=1, max_depth=30, max_features=15 ...............\n",
      "[CV]  min_samples_leaf=8, max_depth=800, max_features=100, total=  32.5s\n",
      "[CV] min_samples_leaf=1, max_depth=30, max_features=15 ...............\n",
      "[CV]  min_samples_leaf=1, max_depth=30, max_features=15, total=  18.0s\n",
      "[CV] min_samples_leaf=1, max_depth=30, max_features=15 ...............\n",
      "[CV]  min_samples_leaf=1, max_depth=30, max_features=15, total=  17.6s\n",
      "[CV] min_samples_leaf=1, max_depth=30, max_features=15 ...............\n",
      "[CV]  min_samples_leaf=1, max_depth=30, max_features=15, total=  18.1s\n",
      "[CV] min_samples_leaf=8, max_depth=2000, max_features=5 ..............\n",
      "[CV]  min_samples_leaf=8, max_depth=2000, max_features=5, total=   2.4s\n",
      "[CV] min_samples_leaf=8, max_depth=2000, max_features=5 ..............\n",
      "[CV]  min_samples_leaf=8, max_depth=2000, max_features=5, total=   2.4s\n",
      "[CV] min_samples_leaf=8, max_depth=2000, max_features=5 ..............\n",
      "[CV]  min_samples_leaf=8, max_depth=2000, max_features=5, total=   2.3s\n",
      "[CV] min_samples_leaf=8, max_depth=2000, max_features=5 ..............\n",
      "[CV]  min_samples_leaf=8, max_depth=2000, max_features=5, total=   2.4s\n",
      "[CV] min_samples_leaf=8, max_depth=2000, max_features=5 ..............\n",
      "[CV]  min_samples_leaf=1, max_depth=30, max_features=15, total=  18.8s\n",
      "[CV] min_samples_leaf=5, max_depth=300, max_features=15 ..............\n",
      "[CV]  min_samples_leaf=8, max_depth=2000, max_features=5, total=   2.5s\n",
      "[CV] min_samples_leaf=5, max_depth=300, max_features=15 ..............\n",
      "[CV]  min_samples_leaf=5, max_depth=300, max_features=15, total=   8.0s\n",
      "[CV] min_samples_leaf=5, max_depth=300, max_features=15 ..............\n",
      "[CV]  min_samples_leaf=5, max_depth=300, max_features=15, total=   7.8s\n",
      "[CV] min_samples_leaf=5, max_depth=300, max_features=15 ..............\n",
      "[CV]  min_samples_leaf=5, max_depth=300, max_features=15, total=   7.9s\n",
      "[CV] min_samples_leaf=5, max_depth=300, max_features=15 ..............\n",
      "[CV]  min_samples_leaf=5, max_depth=300, max_features=15, total=   7.8s\n",
      "[CV] min_samples_leaf=1, max_depth=30, max_features=5 ................\n",
      "[CV]  min_samples_leaf=5, max_depth=300, max_features=15, total=   7.8s\n",
      "[CV] min_samples_leaf=1, max_depth=30, max_features=5 ................\n",
      "[CV] . min_samples_leaf=1, max_depth=30, max_features=5, total=   8.6s\n",
      "[CV] min_samples_leaf=1, max_depth=30, max_features=5 ................\n",
      "[CV] . min_samples_leaf=1, max_depth=30, max_features=5, total=   9.1s\n",
      "[CV] min_samples_leaf=1, max_depth=30, max_features=5 ................\n",
      "[CV] . min_samples_leaf=1, max_depth=30, max_features=5, total=   8.7s\n",
      "[CV] min_samples_leaf=1, max_depth=30, max_features=5 ................\n",
      "[CV] . min_samples_leaf=1, max_depth=30, max_features=5, total=   8.8s\n",
      "[CV] min_samples_leaf=5, max_depth=30, max_features=15 ...............\n",
      "[CV] . min_samples_leaf=1, max_depth=30, max_features=5, total=   9.1s\n",
      "[CV] min_samples_leaf=5, max_depth=30, max_features=15 ...............\n",
      "[CV]  min_samples_leaf=5, max_depth=30, max_features=15, total=   6.8s\n",
      "[CV] min_samples_leaf=5, max_depth=30, max_features=15 ...............\n",
      "[CV]  min_samples_leaf=5, max_depth=30, max_features=15, total=   7.1s\n",
      "[CV] min_samples_leaf=5, max_depth=30, max_features=15 ...............\n",
      "[CV]  min_samples_leaf=5, max_depth=30, max_features=15, total=   7.0s\n",
      "[CV] min_samples_leaf=5, max_depth=30, max_features=15 ...............\n",
      "[CV]  min_samples_leaf=5, max_depth=30, max_features=15, total=   6.9s\n",
      "[CV] min_samples_leaf=8, max_depth=100, max_features=40 ..............\n",
      "[CV]  min_samples_leaf=5, max_depth=30, max_features=15, total=   6.9s\n",
      "[CV] min_samples_leaf=8, max_depth=100, max_features=40 ..............\n",
      "[CV]  min_samples_leaf=8, max_depth=100, max_features=40, total=  13.6s\n",
      "[CV] min_samples_leaf=8, max_depth=100, max_features=40 ..............\n",
      "[CV]  min_samples_leaf=8, max_depth=100, max_features=40, total=  13.6s\n",
      "[CV] min_samples_leaf=8, max_depth=100, max_features=40 ..............\n"
     ]
    },
    {
     "name": "stderr",
     "output_type": "stream",
     "text": [
      "[Parallel(n_jobs=2)]: Done  37 tasks      | elapsed:  3.8min\n"
     ]
    },
    {
     "name": "stdout",
     "output_type": "stream",
     "text": [
      "[CV]  min_samples_leaf=8, max_depth=100, max_features=40, total=  13.5s\n",
      "[CV] min_samples_leaf=8, max_depth=100, max_features=40 ..............\n",
      "[CV]  min_samples_leaf=8, max_depth=100, max_features=40, total=  13.6s\n",
      "[CV] min_samples_leaf=8, max_depth=100, max_features=15 ..............\n",
      "[CV]  min_samples_leaf=8, max_depth=100, max_features=15, total=   6.4s\n",
      "[CV] min_samples_leaf=8, max_depth=100, max_features=15 ..............\n",
      "[CV]  min_samples_leaf=8, max_depth=100, max_features=40, total=  13.6s\n",
      "[CV] min_samples_leaf=8, max_depth=100, max_features=15 ..............\n",
      "[CV]  min_samples_leaf=8, max_depth=100, max_features=15, total=   6.6s\n",
      "[CV] min_samples_leaf=8, max_depth=100, max_features=15 ..............\n",
      "[CV]  min_samples_leaf=8, max_depth=100, max_features=15, total=   6.5s\n",
      "[CV] min_samples_leaf=8, max_depth=100, max_features=15 ..............\n",
      "[CV]  min_samples_leaf=8, max_depth=100, max_features=15, total=   6.3s\n",
      "[CV] min_samples_leaf=5, max_depth=30, max_features=2 ................\n",
      "[CV]  min_samples_leaf=8, max_depth=100, max_features=15, total=   6.4s\n",
      "[CV] min_samples_leaf=5, max_depth=30, max_features=2 ................\n",
      "[CV] . min_samples_leaf=5, max_depth=30, max_features=2, total=   1.8s\n",
      "[CV] min_samples_leaf=5, max_depth=30, max_features=2 ................\n",
      "[CV] . min_samples_leaf=5, max_depth=30, max_features=2, total=   1.9s\n",
      "[CV] min_samples_leaf=5, max_depth=30, max_features=2 ................\n",
      "[CV] . min_samples_leaf=5, max_depth=30, max_features=2, total=   1.9s\n",
      "[CV] min_samples_leaf=5, max_depth=30, max_features=2 ................\n",
      "[CV] . min_samples_leaf=5, max_depth=30, max_features=2, total=   1.9s\n",
      "[CV] min_samples_leaf=3, max_depth=300, max_features=40 ..............\n",
      "[CV] . min_samples_leaf=5, max_depth=30, max_features=2, total=   1.9s\n",
      "[CV] min_samples_leaf=3, max_depth=300, max_features=40 ..............\n",
      "[CV]  min_samples_leaf=3, max_depth=300, max_features=40, total=  22.5s\n",
      "[CV] min_samples_leaf=3, max_depth=300, max_features=40 ..............\n",
      "[CV]  min_samples_leaf=3, max_depth=300, max_features=40, total=  22.7s\n",
      "[CV] min_samples_leaf=3, max_depth=300, max_features=40 ..............\n",
      "[CV]  min_samples_leaf=3, max_depth=300, max_features=40, total=  22.1s\n",
      "[CV] min_samples_leaf=3, max_depth=300, max_features=40 ..............\n",
      "[CV]  min_samples_leaf=3, max_depth=300, max_features=40, total=  22.7s\n",
      "[CV] min_samples_leaf=1, max_depth=100, max_features=100 .............\n",
      "[CV]  min_samples_leaf=3, max_depth=300, max_features=40, total=  22.5s\n",
      "[CV] min_samples_leaf=1, max_depth=100, max_features=100 .............\n",
      "[CV]  min_samples_leaf=1, max_depth=100, max_features=100, total= 1.9min\n",
      "[CV] min_samples_leaf=1, max_depth=100, max_features=100 .............\n",
      "[CV]  min_samples_leaf=1, max_depth=100, max_features=100, total= 2.0min\n",
      "[CV] min_samples_leaf=1, max_depth=100, max_features=100 .............\n",
      "[CV]  min_samples_leaf=1, max_depth=100, max_features=100, total= 1.9min\n",
      "[CV] min_samples_leaf=1, max_depth=100, max_features=100 .............\n",
      "[CV]  min_samples_leaf=1, max_depth=100, max_features=100, total= 2.0min\n",
      "[CV] min_samples_leaf=8, max_depth=300, max_features=100 .............\n",
      "[CV]  min_samples_leaf=8, max_depth=300, max_features=100, total=  33.7s\n",
      "[CV] min_samples_leaf=8, max_depth=300, max_features=100 .............\n",
      "[CV]  min_samples_leaf=8, max_depth=300, max_features=100, total=  32.9s\n",
      "[CV] min_samples_leaf=8, max_depth=300, max_features=100 .............\n",
      "[CV]  min_samples_leaf=1, max_depth=100, max_features=100, total= 1.9min\n",
      "[CV] min_samples_leaf=8, max_depth=300, max_features=100 .............\n",
      "[CV]  min_samples_leaf=8, max_depth=300, max_features=100, total=  33.1s\n",
      "[CV] min_samples_leaf=8, max_depth=300, max_features=100 .............\n",
      "[CV]  min_samples_leaf=8, max_depth=300, max_features=100, total=  33.1s\n",
      "[CV] min_samples_leaf=1, max_depth=30, max_features=100 ..............\n",
      "[CV]  min_samples_leaf=8, max_depth=300, max_features=100, total=  32.9s\n",
      "[CV] min_samples_leaf=1, max_depth=30, max_features=100 ..............\n",
      "[CV]  min_samples_leaf=1, max_depth=30, max_features=100, total= 1.2min\n",
      "[CV] min_samples_leaf=1, max_depth=30, max_features=100 ..............\n",
      "[CV]  min_samples_leaf=1, max_depth=30, max_features=100, total= 1.2min\n",
      "[CV] min_samples_leaf=1, max_depth=30, max_features=100 ..............\n",
      "[CV]  min_samples_leaf=1, max_depth=30, max_features=100, total= 1.2min\n",
      "[CV] min_samples_leaf=1, max_depth=30, max_features=100 ..............\n",
      "[CV]  min_samples_leaf=1, max_depth=30, max_features=100, total= 1.2min\n",
      "[CV] min_samples_leaf=3, max_depth=30, max_features=40 ...............\n",
      "[CV]  min_samples_leaf=3, max_depth=30, max_features=40, total=  17.0s\n",
      "[CV] min_samples_leaf=3, max_depth=30, max_features=40 ...............\n",
      "[CV]  min_samples_leaf=3, max_depth=30, max_features=40, total=  17.2s\n",
      "[CV] min_samples_leaf=3, max_depth=30, max_features=40 ...............\n",
      "[CV]  min_samples_leaf=3, max_depth=30, max_features=40, total=  17.1s\n",
      "[CV] min_samples_leaf=3, max_depth=30, max_features=40 ...............\n",
      "[CV]  min_samples_leaf=1, max_depth=30, max_features=100, total= 1.2min\n",
      "[CV] min_samples_leaf=3, max_depth=30, max_features=40 ...............\n",
      "[CV]  min_samples_leaf=3, max_depth=30, max_features=40, total=  17.1s\n",
      "[CV] min_samples_leaf=1, max_depth=100, max_features=15 ..............\n",
      "[CV]  min_samples_leaf=3, max_depth=30, max_features=40, total=  17.6s\n",
      "[CV] min_samples_leaf=1, max_depth=100, max_features=15 ..............\n",
      "[CV]  min_samples_leaf=1, max_depth=100, max_features=15, total= 1.6min\n",
      "[CV] min_samples_leaf=1, max_depth=100, max_features=15 ..............\n",
      "[CV]  min_samples_leaf=1, max_depth=100, max_features=15, total= 1.6min\n",
      "[CV] min_samples_leaf=1, max_depth=100, max_features=15 ..............\n",
      "[CV]  min_samples_leaf=1, max_depth=100, max_features=15, total= 1.6min\n",
      "[CV] min_samples_leaf=1, max_depth=100, max_features=15 ..............\n",
      "[CV]  min_samples_leaf=1, max_depth=100, max_features=15, total= 1.6min\n",
      "[CV] min_samples_leaf=8, max_depth=2000, max_features=40 .............\n",
      "[CV]  min_samples_leaf=8, max_depth=2000, max_features=40, total=  13.7s\n",
      "[CV] min_samples_leaf=8, max_depth=2000, max_features=40 .............\n",
      "[CV]  min_samples_leaf=8, max_depth=2000, max_features=40, total=  13.5s\n",
      "[CV] min_samples_leaf=8, max_depth=2000, max_features=40 .............\n",
      "[CV]  min_samples_leaf=8, max_depth=2000, max_features=40, total=  13.4s\n",
      "[CV] min_samples_leaf=8, max_depth=2000, max_features=40 .............\n",
      "[CV]  min_samples_leaf=8, max_depth=2000, max_features=40, total=  13.7s\n",
      "[CV] min_samples_leaf=8, max_depth=2000, max_features=40 .............\n",
      "[CV]  min_samples_leaf=8, max_depth=2000, max_features=40, total=  13.8s\n",
      "[CV] min_samples_leaf=3, max_depth=800, max_features=15 ..............\n",
      "[CV]  min_samples_leaf=3, max_depth=800, max_features=15, total=   9.8s\n",
      "[CV] min_samples_leaf=3, max_depth=800, max_features=15 ..............\n",
      "[CV]  min_samples_leaf=1, max_depth=100, max_features=15, total= 1.6min\n",
      "[CV] min_samples_leaf=3, max_depth=800, max_features=15 ..............\n",
      "[CV]  min_samples_leaf=3, max_depth=800, max_features=15, total=  10.1s\n",
      "[CV] min_samples_leaf=3, max_depth=800, max_features=15 ..............\n",
      "[CV]  min_samples_leaf=3, max_depth=800, max_features=15, total=  10.3s\n",
      "[CV] min_samples_leaf=3, max_depth=800, max_features=15 ..............\n",
      "[CV]  min_samples_leaf=3, max_depth=800, max_features=15, total=   9.7s\n",
      "[CV] min_samples_leaf=3, max_depth=2000, max_features=15 .............\n",
      "[CV]  min_samples_leaf=3, max_depth=800, max_features=15, total=   9.6s\n",
      "[CV] min_samples_leaf=3, max_depth=2000, max_features=15 .............\n",
      "[CV]  min_samples_leaf=3, max_depth=2000, max_features=15, total=   9.7s\n",
      "[CV] min_samples_leaf=3, max_depth=2000, max_features=15 .............\n",
      "[CV]  min_samples_leaf=3, max_depth=2000, max_features=15, total=  10.0s\n",
      "[CV] min_samples_leaf=3, max_depth=2000, max_features=15 .............\n",
      "[CV]  min_samples_leaf=3, max_depth=2000, max_features=15, total=  10.2s\n",
      "[CV] min_samples_leaf=3, max_depth=2000, max_features=15 .............\n",
      "[CV]  min_samples_leaf=3, max_depth=2000, max_features=15, total=   9.7s\n",
      "[CV] min_samples_leaf=8, max_depth=800, max_features=2 ...............\n",
      "[CV]  min_samples_leaf=8, max_depth=800, max_features=2, total=   1.8s\n"
     ]
    },
    {
     "name": "stdout",
     "output_type": "stream",
     "text": [
      "[CV] min_samples_leaf=8, max_depth=800, max_features=2 ...............\n",
      "[CV]  min_samples_leaf=8, max_depth=800, max_features=2, total=   1.8s\n",
      "[CV] min_samples_leaf=8, max_depth=800, max_features=2 ...............\n",
      "[CV]  min_samples_leaf=8, max_depth=800, max_features=2, total=   1.8s\n",
      "[CV] min_samples_leaf=8, max_depth=800, max_features=2 ...............\n",
      "[CV]  min_samples_leaf=3, max_depth=2000, max_features=15, total=   9.7s\n",
      "[CV] min_samples_leaf=8, max_depth=800, max_features=2 ...............\n",
      "[CV]  min_samples_leaf=8, max_depth=800, max_features=2, total=   1.8s\n",
      "[CV]  min_samples_leaf=8, max_depth=800, max_features=2, total=   1.8s\n"
     ]
    },
    {
     "name": "stderr",
     "output_type": "stream",
     "text": [
      "[Parallel(n_jobs=2)]: Done 100 out of 100 | elapsed: 21.3min finished\n"
     ]
    },
    {
     "name": "stdout",
     "output_type": "stream",
     "text": [
      "0.704093661688 {'min_samples_leaf': 1, 'max_depth': 30, 'max_features': 100}\n",
      "CPU times: user 1min 44s, sys: 328 ms, total: 1min 44s\n",
      "Wall time: 23min\n"
     ]
    }
   ],
   "source": [
    "%%time\n",
    "params = {\"max_depth\": [30, 100, 300, 800, 2000],\n",
    "          \"min_samples_leaf\": [1, 3, 5, 8],\n",
    "          \"max_features\": [2, 5, 15, 40, 100]}\n",
    "rs = RandomizedSearchCV(estimator = rf, n_jobs = 2, cv = skf, verbose = 2, param_distributions = params, \n",
    "                        scoring = 'accuracy', n_iter = 20)\n",
    "rs.fit(X_train_2, y_train_2)\n",
    "print(rs.best_score_, rs.best_params_)"
   ]
  },
  {
   "cell_type": "code",
   "execution_count": null,
   "metadata": {},
   "outputs": [],
   "source": [
    "bg_lr = (base_estimator = lr, max_samples = 10000, random_state = 1, verbose = 1)"
   ]
  }
 ],
 "metadata": {
  "kernelspec": {
   "display_name": "Python 3",
   "language": "python",
   "name": "python3"
  },
  "language_info": {
   "codemirror_mode": {
    "name": "ipython",
    "version": 3
   },
   "file_extension": ".py",
   "mimetype": "text/x-python",
   "name": "python",
   "nbconvert_exporter": "python",
   "pygments_lexer": "ipython3",
   "version": "3.5.2"
  }
 },
 "nbformat": 4,
 "nbformat_minor": 2
}
